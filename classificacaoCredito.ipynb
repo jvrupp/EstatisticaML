{
  "nbformat": 4,
  "nbformat_minor": 0,
  "metadata": {
    "colab": {
      "name": "classificacaoCredito.ipynb",
      "provenance": [],
      "authorship_tag": "ABX9TyM9jtxf+9lQCWzsIWKN9oAE",
      "include_colab_link": true
    },
    "kernelspec": {
      "name": "python3",
      "display_name": "Python 3"
    },
    "language_info": {
      "name": "python"
    }
  },
  "cells": [
    {
      "cell_type": "markdown",
      "metadata": {
        "id": "view-in-github",
        "colab_type": "text"
      },
      "source": [
        "<a href=\"https://colab.research.google.com/github/jvrupp/EstatisticaML/blob/main/classificacaoCredito.ipynb\" target=\"_parent\"><img src=\"https://colab.research.google.com/assets/colab-badge.svg\" alt=\"Open In Colab\"/></a>"
      ]
    },
    {
      "cell_type": "code",
      "source": [
        "import pandas as pd\n",
        "import numpy as np\n",
        "import seaborn as sns\n",
        "import matplotlib.pyplot as plt\n",
        "import plotly.express as px"
      ],
      "metadata": {
        "id": "E_VqOjxNW7Ov"
      },
      "execution_count": 1,
      "outputs": []
    },
    {
      "cell_type": "code",
      "source": [
        "from google.colab import drive\n",
        "drive.mount('/content/drive')"
      ],
      "metadata": {
        "id": "ri4ePObsXE4i",
        "outputId": "2f793cad-a63f-4888-950b-321da8e4fc1c",
        "colab": {
          "base_uri": "https://localhost:8080/"
        }
      },
      "execution_count": 2,
      "outputs": [
        {
          "output_type": "stream",
          "name": "stdout",
          "text": [
            "Mounted at /content/drive\n"
          ]
        }
      ]
    },
    {
      "cell_type": "code",
      "source": [
        "dados=pd.read_csv('/content/drive/MyDrive/DadosML/credit_data.csv')#\n",
        "dados.head()\n",
        "dados.describe()\n",
        "nan"
      ],
      "metadata": {
        "colab": {
          "base_uri": "https://localhost:8080/",
          "height": 300
        },
        "id": "RDaTddYSSrW2",
        "outputId": "fc1dd365-9c7c-4f2c-c01b-0c9d17e18598"
      },
      "execution_count": 7,
      "outputs": [
        {
          "output_type": "execute_result",
          "data": {
            "text/plain": [
              "          clientid        income          age          loan      default\n",
              "count  2000.000000   2000.000000  1997.000000   2000.000000  2000.000000\n",
              "mean   1000.500000  45331.600018    40.807559   4444.369695     0.141500\n",
              "std     577.494589  14326.327119    13.624469   3045.410024     0.348624\n",
              "min       1.000000  20014.489470   -52.423280      1.377630     0.000000\n",
              "25%     500.750000  32796.459717    28.990415   1939.708847     0.000000\n",
              "50%    1000.500000  45789.117313    41.317159   3974.719419     0.000000\n",
              "75%    1500.250000  57791.281668    52.587040   6432.410625     0.000000\n",
              "max    2000.000000  69995.685578    63.971796  13766.051239     1.000000"
            ],
            "text/html": [
              "\n",
              "  <div id=\"df-1baf6a27-5cfe-4142-87ad-78fc05ed16a0\">\n",
              "    <div class=\"colab-df-container\">\n",
              "      <div>\n",
              "<style scoped>\n",
              "    .dataframe tbody tr th:only-of-type {\n",
              "        vertical-align: middle;\n",
              "    }\n",
              "\n",
              "    .dataframe tbody tr th {\n",
              "        vertical-align: top;\n",
              "    }\n",
              "\n",
              "    .dataframe thead th {\n",
              "        text-align: right;\n",
              "    }\n",
              "</style>\n",
              "<table border=\"1\" class=\"dataframe\">\n",
              "  <thead>\n",
              "    <tr style=\"text-align: right;\">\n",
              "      <th></th>\n",
              "      <th>clientid</th>\n",
              "      <th>income</th>\n",
              "      <th>age</th>\n",
              "      <th>loan</th>\n",
              "      <th>default</th>\n",
              "    </tr>\n",
              "  </thead>\n",
              "  <tbody>\n",
              "    <tr>\n",
              "      <th>count</th>\n",
              "      <td>2000.000000</td>\n",
              "      <td>2000.000000</td>\n",
              "      <td>1997.000000</td>\n",
              "      <td>2000.000000</td>\n",
              "      <td>2000.000000</td>\n",
              "    </tr>\n",
              "    <tr>\n",
              "      <th>mean</th>\n",
              "      <td>1000.500000</td>\n",
              "      <td>45331.600018</td>\n",
              "      <td>40.807559</td>\n",
              "      <td>4444.369695</td>\n",
              "      <td>0.141500</td>\n",
              "    </tr>\n",
              "    <tr>\n",
              "      <th>std</th>\n",
              "      <td>577.494589</td>\n",
              "      <td>14326.327119</td>\n",
              "      <td>13.624469</td>\n",
              "      <td>3045.410024</td>\n",
              "      <td>0.348624</td>\n",
              "    </tr>\n",
              "    <tr>\n",
              "      <th>min</th>\n",
              "      <td>1.000000</td>\n",
              "      <td>20014.489470</td>\n",
              "      <td>-52.423280</td>\n",
              "      <td>1.377630</td>\n",
              "      <td>0.000000</td>\n",
              "    </tr>\n",
              "    <tr>\n",
              "      <th>25%</th>\n",
              "      <td>500.750000</td>\n",
              "      <td>32796.459717</td>\n",
              "      <td>28.990415</td>\n",
              "      <td>1939.708847</td>\n",
              "      <td>0.000000</td>\n",
              "    </tr>\n",
              "    <tr>\n",
              "      <th>50%</th>\n",
              "      <td>1000.500000</td>\n",
              "      <td>45789.117313</td>\n",
              "      <td>41.317159</td>\n",
              "      <td>3974.719419</td>\n",
              "      <td>0.000000</td>\n",
              "    </tr>\n",
              "    <tr>\n",
              "      <th>75%</th>\n",
              "      <td>1500.250000</td>\n",
              "      <td>57791.281668</td>\n",
              "      <td>52.587040</td>\n",
              "      <td>6432.410625</td>\n",
              "      <td>0.000000</td>\n",
              "    </tr>\n",
              "    <tr>\n",
              "      <th>max</th>\n",
              "      <td>2000.000000</td>\n",
              "      <td>69995.685578</td>\n",
              "      <td>63.971796</td>\n",
              "      <td>13766.051239</td>\n",
              "      <td>1.000000</td>\n",
              "    </tr>\n",
              "  </tbody>\n",
              "</table>\n",
              "</div>\n",
              "      <button class=\"colab-df-convert\" onclick=\"convertToInteractive('df-1baf6a27-5cfe-4142-87ad-78fc05ed16a0')\"\n",
              "              title=\"Convert this dataframe to an interactive table.\"\n",
              "              style=\"display:none;\">\n",
              "        \n",
              "  <svg xmlns=\"http://www.w3.org/2000/svg\" height=\"24px\"viewBox=\"0 0 24 24\"\n",
              "       width=\"24px\">\n",
              "    <path d=\"M0 0h24v24H0V0z\" fill=\"none\"/>\n",
              "    <path d=\"M18.56 5.44l.94 2.06.94-2.06 2.06-.94-2.06-.94-.94-2.06-.94 2.06-2.06.94zm-11 1L8.5 8.5l.94-2.06 2.06-.94-2.06-.94L8.5 2.5l-.94 2.06-2.06.94zm10 10l.94 2.06.94-2.06 2.06-.94-2.06-.94-.94-2.06-.94 2.06-2.06.94z\"/><path d=\"M17.41 7.96l-1.37-1.37c-.4-.4-.92-.59-1.43-.59-.52 0-1.04.2-1.43.59L10.3 9.45l-7.72 7.72c-.78.78-.78 2.05 0 2.83L4 21.41c.39.39.9.59 1.41.59.51 0 1.02-.2 1.41-.59l7.78-7.78 2.81-2.81c.8-.78.8-2.07 0-2.86zM5.41 20L4 18.59l7.72-7.72 1.47 1.35L5.41 20z\"/>\n",
              "  </svg>\n",
              "      </button>\n",
              "      \n",
              "  <style>\n",
              "    .colab-df-container {\n",
              "      display:flex;\n",
              "      flex-wrap:wrap;\n",
              "      gap: 12px;\n",
              "    }\n",
              "\n",
              "    .colab-df-convert {\n",
              "      background-color: #E8F0FE;\n",
              "      border: none;\n",
              "      border-radius: 50%;\n",
              "      cursor: pointer;\n",
              "      display: none;\n",
              "      fill: #1967D2;\n",
              "      height: 32px;\n",
              "      padding: 0 0 0 0;\n",
              "      width: 32px;\n",
              "    }\n",
              "\n",
              "    .colab-df-convert:hover {\n",
              "      background-color: #E2EBFA;\n",
              "      box-shadow: 0px 1px 2px rgba(60, 64, 67, 0.3), 0px 1px 3px 1px rgba(60, 64, 67, 0.15);\n",
              "      fill: #174EA6;\n",
              "    }\n",
              "\n",
              "    [theme=dark] .colab-df-convert {\n",
              "      background-color: #3B4455;\n",
              "      fill: #D2E3FC;\n",
              "    }\n",
              "\n",
              "    [theme=dark] .colab-df-convert:hover {\n",
              "      background-color: #434B5C;\n",
              "      box-shadow: 0px 1px 3px 1px rgba(0, 0, 0, 0.15);\n",
              "      filter: drop-shadow(0px 1px 2px rgba(0, 0, 0, 0.3));\n",
              "      fill: #FFFFFF;\n",
              "    }\n",
              "  </style>\n",
              "\n",
              "      <script>\n",
              "        const buttonEl =\n",
              "          document.querySelector('#df-1baf6a27-5cfe-4142-87ad-78fc05ed16a0 button.colab-df-convert');\n",
              "        buttonEl.style.display =\n",
              "          google.colab.kernel.accessAllowed ? 'block' : 'none';\n",
              "\n",
              "        async function convertToInteractive(key) {\n",
              "          const element = document.querySelector('#df-1baf6a27-5cfe-4142-87ad-78fc05ed16a0');\n",
              "          const dataTable =\n",
              "            await google.colab.kernel.invokeFunction('convertToInteractive',\n",
              "                                                     [key], {});\n",
              "          if (!dataTable) return;\n",
              "\n",
              "          const docLinkHtml = 'Like what you see? Visit the ' +\n",
              "            '<a target=\"_blank\" href=https://colab.research.google.com/notebooks/data_table.ipynb>data table notebook</a>'\n",
              "            + ' to learn more about interactive tables.';\n",
              "          element.innerHTML = '';\n",
              "          dataTable['output_type'] = 'display_data';\n",
              "          await google.colab.output.renderOutput(dataTable, element);\n",
              "          const docLink = document.createElement('div');\n",
              "          docLink.innerHTML = docLinkHtml;\n",
              "          element.appendChild(docLink);\n",
              "        }\n",
              "      </script>\n",
              "    </div>\n",
              "  </div>\n",
              "  "
            ]
          },
          "metadata": {},
          "execution_count": 7
        }
      ]
    },
    {
      "cell_type": "code",
      "source": [
        "\n",
        "data_age_payment=dados\n",
        "data_age_payment.loc[data_age_payment['age'] < 0,['age']] = 40.92#EXTREMAMENTE PERFORMATICO\n",
        "#Excluindo idades negativas\n",
        "data_age_payment.describe()"
      ],
      "metadata": {
        "colab": {
          "base_uri": "https://localhost:8080/",
          "height": 300
        },
        "id": "Wu1kxGFpX-aM",
        "outputId": "2bd954fa-b527-4cb6-90cb-ac8183f9838a"
      },
      "execution_count": 8,
      "outputs": [
        {
          "output_type": "execute_result",
          "data": {
            "text/plain": [
              "          clientid        income          age          loan      default\n",
              "count  2000.000000   2000.000000  1997.000000   2000.000000  2000.000000\n",
              "mean   1000.500000  45331.600018    40.927689   4444.369695     0.141500\n",
              "std     577.494589  14326.327119    13.261825   3045.410024     0.348624\n",
              "min       1.000000  20014.489470    18.055189      1.377630     0.000000\n",
              "25%     500.750000  32796.459717    29.072097   1939.708847     0.000000\n",
              "50%    1000.500000  45789.117313    41.317159   3974.719419     0.000000\n",
              "75%    1500.250000  57791.281668    52.587040   6432.410625     0.000000\n",
              "max    2000.000000  69995.685578    63.971796  13766.051239     1.000000"
            ],
            "text/html": [
              "\n",
              "  <div id=\"df-fba16257-2ab1-4573-af0a-036d76bd306c\">\n",
              "    <div class=\"colab-df-container\">\n",
              "      <div>\n",
              "<style scoped>\n",
              "    .dataframe tbody tr th:only-of-type {\n",
              "        vertical-align: middle;\n",
              "    }\n",
              "\n",
              "    .dataframe tbody tr th {\n",
              "        vertical-align: top;\n",
              "    }\n",
              "\n",
              "    .dataframe thead th {\n",
              "        text-align: right;\n",
              "    }\n",
              "</style>\n",
              "<table border=\"1\" class=\"dataframe\">\n",
              "  <thead>\n",
              "    <tr style=\"text-align: right;\">\n",
              "      <th></th>\n",
              "      <th>clientid</th>\n",
              "      <th>income</th>\n",
              "      <th>age</th>\n",
              "      <th>loan</th>\n",
              "      <th>default</th>\n",
              "    </tr>\n",
              "  </thead>\n",
              "  <tbody>\n",
              "    <tr>\n",
              "      <th>count</th>\n",
              "      <td>2000.000000</td>\n",
              "      <td>2000.000000</td>\n",
              "      <td>1997.000000</td>\n",
              "      <td>2000.000000</td>\n",
              "      <td>2000.000000</td>\n",
              "    </tr>\n",
              "    <tr>\n",
              "      <th>mean</th>\n",
              "      <td>1000.500000</td>\n",
              "      <td>45331.600018</td>\n",
              "      <td>40.927689</td>\n",
              "      <td>4444.369695</td>\n",
              "      <td>0.141500</td>\n",
              "    </tr>\n",
              "    <tr>\n",
              "      <th>std</th>\n",
              "      <td>577.494589</td>\n",
              "      <td>14326.327119</td>\n",
              "      <td>13.261825</td>\n",
              "      <td>3045.410024</td>\n",
              "      <td>0.348624</td>\n",
              "    </tr>\n",
              "    <tr>\n",
              "      <th>min</th>\n",
              "      <td>1.000000</td>\n",
              "      <td>20014.489470</td>\n",
              "      <td>18.055189</td>\n",
              "      <td>1.377630</td>\n",
              "      <td>0.000000</td>\n",
              "    </tr>\n",
              "    <tr>\n",
              "      <th>25%</th>\n",
              "      <td>500.750000</td>\n",
              "      <td>32796.459717</td>\n",
              "      <td>29.072097</td>\n",
              "      <td>1939.708847</td>\n",
              "      <td>0.000000</td>\n",
              "    </tr>\n",
              "    <tr>\n",
              "      <th>50%</th>\n",
              "      <td>1000.500000</td>\n",
              "      <td>45789.117313</td>\n",
              "      <td>41.317159</td>\n",
              "      <td>3974.719419</td>\n",
              "      <td>0.000000</td>\n",
              "    </tr>\n",
              "    <tr>\n",
              "      <th>75%</th>\n",
              "      <td>1500.250000</td>\n",
              "      <td>57791.281668</td>\n",
              "      <td>52.587040</td>\n",
              "      <td>6432.410625</td>\n",
              "      <td>0.000000</td>\n",
              "    </tr>\n",
              "    <tr>\n",
              "      <th>max</th>\n",
              "      <td>2000.000000</td>\n",
              "      <td>69995.685578</td>\n",
              "      <td>63.971796</td>\n",
              "      <td>13766.051239</td>\n",
              "      <td>1.000000</td>\n",
              "    </tr>\n",
              "  </tbody>\n",
              "</table>\n",
              "</div>\n",
              "      <button class=\"colab-df-convert\" onclick=\"convertToInteractive('df-fba16257-2ab1-4573-af0a-036d76bd306c')\"\n",
              "              title=\"Convert this dataframe to an interactive table.\"\n",
              "              style=\"display:none;\">\n",
              "        \n",
              "  <svg xmlns=\"http://www.w3.org/2000/svg\" height=\"24px\"viewBox=\"0 0 24 24\"\n",
              "       width=\"24px\">\n",
              "    <path d=\"M0 0h24v24H0V0z\" fill=\"none\"/>\n",
              "    <path d=\"M18.56 5.44l.94 2.06.94-2.06 2.06-.94-2.06-.94-.94-2.06-.94 2.06-2.06.94zm-11 1L8.5 8.5l.94-2.06 2.06-.94-2.06-.94L8.5 2.5l-.94 2.06-2.06.94zm10 10l.94 2.06.94-2.06 2.06-.94-2.06-.94-.94-2.06-.94 2.06-2.06.94z\"/><path d=\"M17.41 7.96l-1.37-1.37c-.4-.4-.92-.59-1.43-.59-.52 0-1.04.2-1.43.59L10.3 9.45l-7.72 7.72c-.78.78-.78 2.05 0 2.83L4 21.41c.39.39.9.59 1.41.59.51 0 1.02-.2 1.41-.59l7.78-7.78 2.81-2.81c.8-.78.8-2.07 0-2.86zM5.41 20L4 18.59l7.72-7.72 1.47 1.35L5.41 20z\"/>\n",
              "  </svg>\n",
              "      </button>\n",
              "      \n",
              "  <style>\n",
              "    .colab-df-container {\n",
              "      display:flex;\n",
              "      flex-wrap:wrap;\n",
              "      gap: 12px;\n",
              "    }\n",
              "\n",
              "    .colab-df-convert {\n",
              "      background-color: #E8F0FE;\n",
              "      border: none;\n",
              "      border-radius: 50%;\n",
              "      cursor: pointer;\n",
              "      display: none;\n",
              "      fill: #1967D2;\n",
              "      height: 32px;\n",
              "      padding: 0 0 0 0;\n",
              "      width: 32px;\n",
              "    }\n",
              "\n",
              "    .colab-df-convert:hover {\n",
              "      background-color: #E2EBFA;\n",
              "      box-shadow: 0px 1px 2px rgba(60, 64, 67, 0.3), 0px 1px 3px 1px rgba(60, 64, 67, 0.15);\n",
              "      fill: #174EA6;\n",
              "    }\n",
              "\n",
              "    [theme=dark] .colab-df-convert {\n",
              "      background-color: #3B4455;\n",
              "      fill: #D2E3FC;\n",
              "    }\n",
              "\n",
              "    [theme=dark] .colab-df-convert:hover {\n",
              "      background-color: #434B5C;\n",
              "      box-shadow: 0px 1px 3px 1px rgba(0, 0, 0, 0.15);\n",
              "      filter: drop-shadow(0px 1px 2px rgba(0, 0, 0, 0.3));\n",
              "      fill: #FFFFFF;\n",
              "    }\n",
              "  </style>\n",
              "\n",
              "      <script>\n",
              "        const buttonEl =\n",
              "          document.querySelector('#df-fba16257-2ab1-4573-af0a-036d76bd306c button.colab-df-convert');\n",
              "        buttonEl.style.display =\n",
              "          google.colab.kernel.accessAllowed ? 'block' : 'none';\n",
              "\n",
              "        async function convertToInteractive(key) {\n",
              "          const element = document.querySelector('#df-fba16257-2ab1-4573-af0a-036d76bd306c');\n",
              "          const dataTable =\n",
              "            await google.colab.kernel.invokeFunction('convertToInteractive',\n",
              "                                                     [key], {});\n",
              "          if (!dataTable) return;\n",
              "\n",
              "          const docLinkHtml = 'Like what you see? Visit the ' +\n",
              "            '<a target=\"_blank\" href=https://colab.research.google.com/notebooks/data_table.ipynb>data table notebook</a>'\n",
              "            + ' to learn more about interactive tables.';\n",
              "          element.innerHTML = '';\n",
              "          dataTable['output_type'] = 'display_data';\n",
              "          await google.colab.output.renderOutput(dataTable, element);\n",
              "          const docLink = document.createElement('div');\n",
              "          docLink.innerHTML = docLinkHtml;\n",
              "          element.appendChild(docLink);\n",
              "        }\n",
              "      </script>\n",
              "    </div>\n",
              "  </div>\n",
              "  "
            ]
          },
          "metadata": {},
          "execution_count": 8
        }
      ]
    },
    {
      "cell_type": "markdown",
      "source": [
        ""
      ],
      "metadata": {
        "id": "SRiY6sLK2kuj"
      }
    },
    {
      "cell_type": "code",
      "source": [
        "np.unique(data_age_payment['default'],return_counts=True)\n",
        "#oversampling---SMOTE TOMEK LINKS\n",
        "#undersampling"
      ],
      "metadata": {
        "id": "uiLu9v6oZKmy",
        "colab": {
          "base_uri": "https://localhost:8080/"
        },
        "outputId": "01073538-f464-4fe6-e48d-36171f629687"
      },
      "execution_count": null,
      "outputs": [
        {
          "output_type": "execute_result",
          "data": {
            "text/plain": [
              "(array([0, 1]), array([1717,  283]))"
            ]
          },
          "metadata": {},
          "execution_count": 9
        }
      ]
    },
    {
      "cell_type": "markdown",
      "source": [
        "Visualizacao dos dados"
      ],
      "metadata": {
        "id": "CG3B6dK9rkjp"
      }
    },
    {
      "cell_type": "code",
      "source": [
        "sns.countplot(x=data_age_payment['default']);"
      ],
      "metadata": {
        "id": "Ngsrwak4dzlI",
        "colab": {
          "base_uri": "https://localhost:8080/",
          "height": 225
        },
        "outputId": "7bd3f596-a89f-4cba-8749-370fabc0c2ce"
      },
      "execution_count": null,
      "outputs": [
        {
          "output_type": "display_data",
          "data": {
            "text/plain": [
              "<Figure size 1440x216 with 1 Axes>"
            ],
            "image/png": "[encoded data removed]"
          },
          "metadata": {
            "needs_background": "light"
          }
        }
      ]
    },
    {
      "cell_type": "code",
      "source": [
        "plt.hist(x=data_age_payment['income'],bins=50);"
      ],
      "metadata": {
        "colab": {
          "base_uri": "https://localhost:8080/",
          "height": 211
        },
        "id": "ohVf2cLhr19U",
        "outputId": "bef12885-d560-47a6-b549-c88ad8b83b50"
      },
      "execution_count": null,
      "outputs": [
        {
          "output_type": "display_data",
          "data": {
            "text/plain": [
              "<Figure size 1440x216 with 1 Axes>"
            ],
            "image/png": "[encoded data removed]"
          },
          "metadata": {
            "needs_background": "light"
          }
        }
      ]
    },
    {
      "cell_type": "code",
      "source": [
        "plt.hist(x=data_age_payment['loan']);"
      ],
      "metadata": {
        "colab": {
          "base_uri": "https://localhost:8080/",
          "height": 211
        },
        "id": "nM-h80I3tts-",
        "outputId": "fabb2a64-1af8-4d63-8408-cdfbb356ebce"
      },
      "execution_count": null,
      "outputs": [
        {
          "output_type": "display_data",
          "data": {
            "text/plain": [
              "<Figure size 1440x216 with 1 Axes>"
            ],
            "image/png": "[encoded data removed]"
          },
          "metadata": {
            "needs_background": "light"
          }
        }
      ]
    },
    {
      "cell_type": "code",
      "source": [
        "grafico=px.scatter_matrix(data_age_payment,dimensions=['age','income','loan'],color='default')\n",
        "grafico.show()"
      ],
      "metadata": {
        "colab": {
          "base_uri": "https://localhost:8080/",
          "height": 542
        },
        "id": "Y9am3Omhunf8",
        "outputId": "68a6b012-c8ce-40f9-f3f1-03aa9ec53aef"
      },
      "execution_count": null,
      "outputs": [
        {
          "output_type": "display_data",
          "data": {
            "text/html": [
              "<html>\n",
              "<head><meta charset=\"utf-8\" /></head>\n",
              "<body>\n",
              "    <div>            <script src=\"https://cdnjs.cloudflare.com/ajax/libs/mathjax/2.7.5/MathJax.js?config=TeX-AMS-MML_SVG\"></script><script type=\"text/javascript\">if (window.MathJax) {MathJax.Hub.Config({SVG: {font: \"STIX-Web\"}});}</script>                <script type=\"text/javascript\">window.PlotlyConfig = {MathJaxConfig: 'local'};</script>\n",
              "        <script src=\"https://cdn.plot.ly/plotly-2.8.3.min.js\"></script>                <div id=\"c062f8d2-f018-4ca8-96b1-b83c925a7204\" class=\"plotly-graph-div\" style=\"height:525px; width:100%;\"></div>            <script type=\"text/javascript\">                                    window.PLOTLYENV=window.PLOTLYENV || {};                                    if (document.getElementById(\"c062f8d2-f018-4ca8-96b1-b83c925a7204\")) {                    Plotly.newPlot(                        \"c062f8d2-f018-4ca8-96b1-b83c925a7204\",                        [{\"dimensions\":[{\"axis\":{\"matches\":true},\"label\":\"age\",\"values\":[59.0170150669292,48.11715310486029,63.10804949188599,45.7519723521546,18.5843359269202,57.4716071025468,26.809132419060894,32.8975483207032,55.4968525394797,39.7763780555688,25.679575353860898,60.4719358547591,26.3550438545644,61.576775823254096,39.2015528911725,40.92,39.5745303500444,60.84831793932239,61.6905707078986,26.076093018055,31.761354170739697,40.92,48.5769745339639,51.9706241027452,48.84092176985,27.031741308979697,40.92,55.83992184512321,null,54.51094756368551,null,null,38.1319074640051,38.6615042379126,36.672020919621,20.666778734419506,58.185017302632296,50.2250059167854,18.840525757987105,32.6760442531668,32.8966930676252,62.641302851960106,49.0404332359321,25.252330708783106,47.3218990601599,18.1300383633934,47.25073103467,50.088671288918704,57.9287192984484,46.308240193408,35.7086517671123,29.2460566032678,54.9592871875502,47.7150637004524,49.3663711971603,50.09815906733271,23.4436241723597,31.9685264034197,20.8376339208335,36.847800681833206,53.7450604746118,47.94412170024589,62.0238024718128,34.4748710067943,25.1075240480714,41.5271887867711,60.541077433619606,22.242097743786896,21.598676353693,49.56597727723421,52.3838734384626,21.2164916703478,33.1831062319688,44.825715307612,28.6063759573735,51.0129371876828,60.28875682642679,56.851330957375495,61.22928542876621,50.07492427434771,43.8309230962768,53.839520003646605,43.0279434239492,24.038265345152503,33.656441235914805,19.7773858457804,25.5850369762629,19.2124481862411,27.561712404713003,25.063367417547894,61.440913001541006,59.3338370760903,56.49441040540111,63.3794076466002,55.3661880465224,28.839542468544103,63.16991394385701,63.735710240900495,20.240621272008894,24.1794703230262,36.6515586250462,47.9763081613928,49.9226037161425,25.7084823274054,45.6552049978636,44.2948713297956,29.9100334881805,34.7392676644959,44.3150380225852,35.5140173663385,19.5157164894044,53.0476547656581,20.9912433563732,29.2350565218367,38.6606185785495,47.4687409927137,59.6751149813645,26.585778484121,38.5877833911218,29.9045216715895,35.341948841698496,23.8219211781397,29.325901472941,21.375033318065103,18.477425018791106,22.5358841912821,22.8269377253018,59.5229867356829,53.410862499848,46.7538959244266,45.0769692314789,24.3771287729032,29.4230185477063,53.3095358414575,32.4756210590713,48.3449929575436,53.582279865164296,24.7831077934243,38.1160166831687,21.2076896023937,22.569568357430395,37.3097529392689,26.1922096619383,50.2377849854529,39.048409874551,26.101500419899804,58.8569274861366,49.1538267019205,60.525006453506606,40.8329182346351,57.756243164651096,44.0485165128484,51.1677144751884,29.1121819927357,32.4718877156265,46.154191521462096,55.2345850714482,27.9096519639716,47.1057667518035,41.4163357610814,58.3484551762231,31.081884507089896,60.5296831950545,33.1156532461755,27.873486188706003,43.8394727888517,29.297398745548,21.1087735658512,42.8286152952351,28.9702452290803,53.898080206010505,60.4021064555272,49.3904022299685,50.5067522143945,43.725447806064,63.37623301194979,57.5810503219254,33.0152727491222,23.611053848173498,19.6300378022715,26.723162444774104,44.9388158493675,51.460875617805904,60.5169084747322,20.5836314358748,26.042092686519,54.0104153105058,56.72462562192229,55.59654947882521,45.5540205067955,29.0720967198722,52.5870399242267,44.2215166972019,53.868651077617,44.774380587507,23.7774331844412,53.6956359203905,28.6532836551778,33.4312054850161,53.6699082404375,52.42442217422651,26.2068803249858,37.2764920084737,62.44209669111301,28.4456774769351,37.9454801897518,61.5248488285579,46.6789695257321,48.6236102138646,42.0493419757113,42.7752558849752,56.151418384630205,31.9281536792405,25.4631600710563,37.0277528418228,53.40508336713541,20.1618777224794,50.979134705849,61.260144198779,36.2151896632276,60.93758158152921,55.1925993468612,41.2619462260045,50.9284318452701,41.3531710146926,27.3018002295867,31.9096907987259,48.07852007215839,20.2281011762097,22.9182122629136,52.3005040958524,47.2954547600821,48.9632109752856,25.5143896490335,58.6383316046558,22.4861360387877,54.964873311575495,45.424993005115496,57.9306961889379,63.4214554904029,53.5338888033293,27.8029975118116,40.4461679388769,18.396969827823305,21.8976978017017,37.399069886189,50.4129322776571,44.7227962231264,26.310194327030302,60.6666585183702,24.7795283021405,58.4878998775966,51.29419703828171,39.7397662643343,45.01979642966759,53.6151803117245,43.5143038420938,55.2220663037151,29.9207484745421,36.6687041711994,60.104818883352,57.3796501425095,54.53017240064221,29.421412573196,47.0052601420321,62.02213807310911,53.082214448601,52.339376373216496,39.0091894618236,55.547629611100994,40.8445077631623,25.1596109354869,50.108486676123,23.2381696002558,56.6005673469044,25.6021726368926,45.1232806812041,19.8196311858483,30.4140330967493,49.0278497678228,57.6437090644613,33.2456503002904,55.5872108615004,61.9842032282613,40.4054552190937,50.0046984688379,41.9700667927973,46.4470364344306,48.120799149386606,45.1209932160564,40.8056031088345,43.5972086614929,53.362340441439294,37.778664294630296,19.7161760875024,22.6446692147292,47.704288747627295,21.4955053329468,51.69305562227961,21.0219965986907,55.171019956003896,32.553030352108195,57.9016834627837,55.3668996649794,50.3134648902342,27.080390626099,21.1448488398455,33.006359541323,20.3008601283655,62.0016749538481,53.576940739993,51.932268046774,37.2856837031431,47.9696752321906,52.4367397828028,54.6232338510454,46.5799600426108,25.8665337795392,20.0109276962467,58.5191334835254,34.2942604152486,21.282783722970603,43.1939415303059,61.9533737506717,62.04980097012589,30.5360198994167,45.519977238029206,33.8955782176927,39.415470788721,42.09009227762,20.1054587159306,48.9125574673526,49.75058566872029,50.2041390226223,26.563716534059505,44.8726078076288,62.42846685694529,59.4365005721338,58.840656749904205,52.4860697872937,54.6319151935168,47.191410086117706,27.8844150044024,26.6664690533653,56.9579610438086,30.2678123456426,52.967087706551,51.3580610542558,51.01624041982,19.9466844960116,60.7300558583811,52.3828332629055,32.4029204347171,18.8303362894803,28.155320470687,43.0130229773931,42.7513535995968,62.9096049447544,32.2862543463707,40.039270239416496,53.28803373547271,24.2041407017969,27.0641977209598,54.948061559815,52.8992132418789,61.8106158780865,22.492923848331,50.52642975049089,28.6317861331627,53.03869686415421,37.737854486797,55.73920069914311,52.8386391988024,55.42913449741901,59.245984996668994,29.7744096326642,31.596858642529696,56.84083063574511,38.98900888860229,35.5919052129611,33.4840662707575,56.311668782029294,45.7314004921354,56.5173067129217,53.550199660006896,29.115531621500804,42.307918459177,62.065251282881896,49.363881094846896,49.0651086377911,51.0198048097081,40.8477560305037,23.5107674831524,23.513042524457003,31.1392572042532,57.6342398361303,28.2175287632272,49.6584056043066,54.83645980479201,23.3115743244998,44.808841190300896,53.2058221558109,18.6630267929286,46.0507889031433,63.9249755814672,22.9843944823369,47.5405059303157,28.5899873124436,47.7617399827577,51.0563588943332,44.206686655525104,50.4029816468246,18.075335860718,63.0159466909245,30.249871416483103,27.0216773641296,37.7780147739686,53.7525228345767,36.5013708979823,43.9410412409343,40.9114946299233,28.1885305172764,52.719673210755,45.3058510269038,48.1095946743153,34.393706864211694,35.0154038900509,18.8429928976111,25.8393941298127,25.2598693897016,46.7659284593537,50.043820101302096,24.4183572856709,25.4163910276257,24.8499603327364,32.4554232852533,39.955194065813,44.409974959213294,44.9651258219965,56.62695133779199,28.8182737701572,60.0587776736356,47.0027460702695,57.44221935840321,20.1403118157759,47.151148673147,20.709892833139698,53.9356266343966,55.1507588205859,24.8449592967518,39.96390620013701,35.7756003877148,27.515368877910102,18.326122155413,30.888892731163697,47.839100137352894,52.3358155498281,33.2805235567503,26.382710393052506,63.800670907367,42.9319930765778,47.33139712037521,39.7047263034619,38.2274417518638,27.9331710166298,56.6321662031114,32.4135985886678,42.73457771632821,21.2967032683082,44.2378814583644,58.56887606671079,40.3611400881782,32.1632712800056,21.9063058434986,49.4130304073915,19.3715205355547,36.0744793792255,58.74748469516629,55.1259217481129,53.3427248103544,29.3157673976384,62.369888597168,30.6282073752955,18.5286279926077,60.7552497629076,20.0963994744234,28.758801679126897,55.2648774106055,32.5332560278475,28.7354316161945,28.625819175504105,46.9182215244509,21.274210639298,49.004692913033104,47.1836194796488,26.6518377717584,54.3089268133044,31.7322647487745,61.481522549875095,21.3731215777807,23.9513885802589,41.553842225112,40.9803287507966,34.6683487799019,42.3945969995111,36.563092165160896,47.308286137413205,41.8198233190924,61.6451227366924,60.5821975269355,36.9707166915759,27.3041244307533,27.6310877874494,49.7740637762472,55.9030230478384,47.1787848910317,33.0735146761872,25.5179991396144,57.5200941171497,26.766311223153,62.2943905089051,26.494169670157103,38.2525118570775,23.973829543218,25.618240618147,55.717134432867205,59.8524872446433,54.3039126144722,20.5874274233356,45.573993484024,54.1812955695204,45.8902827994898,51.944008814171,28.5319973430596,19.497102680616106,25.0643792431802,58.527180749457294,55.51892666704951,37.3942870064639,51.146827210206496,50.3192126206122,41.45419508824121,35.7711543226615,52.089202798903,18.4162362311035,38.04052822338421,42.8901015482843,27.5303214336745,53.54481968609621,25.3018771880306,32.1782629601657,58.9949772898108,21.874746390152698,56.8378381496295,22.3484194725752,42.2750075273216,62.319164680317,59.3625124734826,47.0350984968245,49.7294325656258,27.9384801317938,38.457559687551104,53.543408808764106,54.1049066702835,59.6337369862013,43.8106586406939,45.9289716216736,32.5093102375977,62.8294148314744,33.6821509548463,28.155084246303897,47.068105542101,58.907327611930704,46.43822313146671,34.058644853998,55.542362715583295,27.4332205634564,63.4005892067216,60.9125613430515,53.403433673549394,19.8870530799031,21.6623410205357,34.0100260181352,19.304691826459,50.3030429887585,20.2576053403318,54.8174662012607,27.1962682502344,35.6521986378357,48.058599114418,33.945671624504,44.3560899454169,56.1940032062121,27.465280933305603,57.0969364880584,18.6478525786661,36.4082663068548,24.3935543466359,41.875001901295,47.2234288896434,39.28143316879871,41.9411697583273,61.3126543858089,51.1412676903419,32.2450079689734,62.1307554603554,62.9481293545105,53.6743410034105,31.7648890004493,23.986563928891,22.2630956131034,37.5427567730658,55.3610418764874,57.5421556280926,49.31063445238401,42.765559321735104,41.0849091280252,46.59851354220879,38.6837404002436,41.994010291062295,40.3030153843574,63.5151151381433,49.5150355361402,38.491628350224296,22.5428407723084,48.9172136238776,54.44842475513,34.4429727895185,23.076034987811,33.8505223579705,50.4237628807314,21.721358859445896,36.350075381808,53.9306910806336,55.8490920122713,49.3399269720539,30.9835570501164,32.5968318535015,19.3291078913026,53.63820349238811,50.8955430407077,62.6893636430614,51.647062854841394,47.2466262932867,25.529610356316,42.6711944923736,23.0814173929393,26.6271984525956,27.1315302061848,23.9729682495818,35.7160736531951,53.4286878337152,44.1091034938581,31.696455666329697,55.2125356951728,21.420160175766803,58.0816884133965,44.453362821601296,57.21959191840139,55.158467172645,62.2016585152596,60.5445980723016,42.404940330889104,23.181443628389395,53.3677544631064,48.9774480354972,35.0865972880274,26.3497418938205,52.5336985392496,48.6514598648064,51.38821886247021,38.92128903651611,27.8079414837994,41.7177590057254,29.421142429579,38.8767124265432,34.5964918844402,24.686733096838,44.6286484147422,33.929424236528604,48.3197407145053,28.818521979264897,62.770110633689896,63.6253054803237,41.4688852438703,43.88730905111879,43.905429022852296,51.4895268101245,41.8526130542159,59.4719182071276,57.705559293273794,53.37901060422879,61.388971141073895,36.9204115439206,21.2391576226801,22.9836358460598,25.925025629345303,18.3097456344403,34.2207668605261,42.624393875245,61.3719132794067,30.651823387481297,26.5513867693953,43.5236232024617,33.8001351165585,42.3772462992929,63.312275260221206,24.264855359215304,45.886541584041005,40.8733375482261,27.3703380203806,43.956171318423,29.7081892956048,35.2983984411694,24.3516025198624,46.5357845406979,54.6203531795181,35.8306517112069,48.1859072847292,59.00376830482861,53.4446602477692,56.9954393552616,57.278290571644895,37.217654004693,40.296722322236704,59.6770221912302,32.3617921588011,25.3025307892822,41.8136523533612,46.3294121143408,59.1448074136861,25.5482243257575,45.6444349931553,40.5488618090749,42.0974981090985,26.561012302525302,44.41273214202371,56.0316035267897,32.3916598488577,55.5812039119191,25.5955243813805,39.7149895974435,48.2406478086486,40.2791402386501,25.8566775699146,44.4978791652247,41.6325453221798,29.0336793586612,47.0737268491648,29.2626339835115,22.1682629082352,60.6552104717121,44.5296706766821,22.300125380978,51.1797121162526,34.405086162034394,54.0833714376204,58.4260793160647,22.1093805856071,56.5669315373525,61.83684471016751,37.664198640268296,38.3059819466434,25.656281858217,30.7523156455718,43.20724464952949,47.7751709497534,45.4156241421588,31.125332410913,34.5148812653497,40.388842944987104,54.940118664875605,53.1073599536903,44.3926223418675,53.7002732376568,49.7139043789357,60.27638934040439,42.3012538384646,47.4181083911099,60.5793527024798,33.804503521882,49.674219635780894,35.0941635370255,52.6406244202517,22.344923628028496,39.0386727838777,34.7009895360097,31.6031620721333,41.2409060192294,19.9594523082487,25.3291227403097,40.5675955507904,29.636369307525506,59.486848228611095,30.2809275542386,45.8294265209697,59.6917192977853,32.2145080873743,56.4096822156571,51.9397291215137,25.9064452042803,40.7743055843748,32.4735058033839,53.2281321543269,46.4791532470845,47.1273699835874,35.8507148684002,36.0585051872768,59.70451917639,53.19827894447371,41.9440537178889,49.5572698125616,44.557108595036,60.5802186657675,58.79376695957029,28.948204752989103,30.676849837880603,57.5763008045033,55.8568540653214,31.000768078491102,45.038576235994704,20.118845096323604,46.16901477286589,52.246678448747794,47.4213283620775,41.2400346901268,33.403173910453894,62.136373864952496,47.7529402710497,56.7655671010725,22.9615335506387,57.48695513280111,58.7940956773236,29.1899978881702,42.1331095667556,54.66582085750999,48.09680230356749,34.7233597366139,20.560396471526506,29.5495097753592,25.1471019247547,32.072008041665,40.1948889852501,54.663929305970704,60.1660164748318,57.868060216307605,25.976458594203,54.91097151488071,34.3504997366108,23.125877250917306,35.979010198731,54.3924881364219,59.0226465594023,28.733358708676,42.9149115667678,47.1495458045974,58.1365677523427,32.4746129391715,61.9599347501062,24.7884375578724,18.695798727683695,24.3714581453241,30.4852303182706,28.616509240120603,47.7227678541094,54.142548226751394,35.4718469656073,35.2682511825114,41.1508777858689,21.699699527584,21.8542913463898,53.8968184147961,22.7386025083251,53.5978628238663,36.3746234392747,45.471049905289,48.2885851110332,42.7969214715995,22.1462626061402,46.8319495972246,26.3031469769776,40.6168506052345,60.970944559201605,42.7828555498272,48.285030242521294,20.5852316911332,29.3008653833531,22.4840485332534,34.4796788198873,22.7896366892383,36.5523909307085,44.9091980499215,39.94416068634021,32.3969839904457,63.4878736236133,36.6745834872127,46.01234315987679,20.9326715869829,63.3739421730861,41.5310972742736,52.08290527062489,19.1351382303983,18.621307099238,58.9409142830409,27.8009201702662,37.7403956875205,33.5597739792429,35.7043567909859,25.5863821250387,25.853856789879497,19.2075996422209,37.6196372602135,25.0547269559465,44.44565129932021,55.0097213611007,55.1564379627816,48.8987582297996,29.36146192858,55.2882977472618,45.0321259801276,60.3773854388855,51.3064918876626,29.3964444613084,51.373417267110206,62.6251084581017,38.9527395456098,46.47670398280021,42.88355929171671,63.189986590296,20.4049915121868,28.1087074321695,54.0686636208557,54.2647477448918,18.874357114546,63.8850437430665,42.8418413973413,52.0858715916984,19.0816236077808,35.3614920396358,36.2980512883514,50.24148795474321,60.8070176681504,63.9307346860878,49.6374590154737,28.9600249473006,36.3568546553142,18.6712893769145,27.291971609462102,55.4090137514286,35.5224991776049,27.993409112561498,34.9126990740187,31.054548121523105,39.1573059842922,28.3068615505472,31.390791157260495,62.3285863017663,33.6895613595843,23.282966454979,57.2635917728767,50.6512996880338,19.2277783197351,61.1649569645524,20.8043047981337,55.69652934977779,20.9909665295854,23.4877088945359,27.5284397248179,54.3172402922064,33.0913530015387,43.8954665251076,53.495394564233706,43.8804593579844,55.3661617422476,32.6511982483789,29.350288588088,18.2999803973362,20.1268885387108,58.5713950437494,62.19707881892101,45.6872204705141,26.854012909811,20.039864229969695,26.6331468173303,30.3998898901045,35.602517284918605,24.707618969492604,22.9110705880448,21.603231470100603,24.2437830967829,44.0273743555881,58.1195471086539,48.3510828255676,45.7291535651311,27.2101574214175,51.5489227836952,35.538517334964105,39.7981913359836,21.402402616106,19.6025430983864,41.6018864475191,32.1452214065939,56.5100399320945,49.325769520830406,21.3804285540245,19.1324464869685,52.6268528900109,26.4493368398398,35.134836907498496,40.8246740507893,33.0311115211807,60.9422627035528,22.939635145478,32.812187960837,23.4413330657408,22.8642844832502,23.1808664123528,62.3589558079839,22.583609924186,45.0493739051744,31.5493175000884,29.9771178071387,48.3584494683892,51.046781289391205,51.029204678721705,24.2270476552658,63.384797013364704,53.6232994752936,40.368115155026295,49.45591010246429,56.6310642831959,42.5880697602406,30.999616120476304,25.568741328083,51.4329729834571,53.7629200383089,57.6864224728197,51.9394795414992,54.7213634261861,18.306216438300897,21.4227129220963,38.5789446192794,40.901724176947,23.5900381784886,52.17576008895411,47.6355769587681,30.330982693471,54.6567751751281,34.669146894011604,36.3117125998251,48.05355677986521,39.6313519426621,56.3852515849285,49.499960873276,38.24401685083279,54.62546357745301,59.9902563230135,51.39444844517861,56.9097073297016,49.29612193629151,32.8389940196648,60.064201827161,39.2296556243673,28.2461758642457,38.2803032551892,26.629377369768896,58.579258533194704,23.9534352584742,18.3938295515254,25.405445643235,42.608860772568704,48.6518424763344,58.0985400285572,49.19242269871761,25.3775038844906,61.0133191822097,19.0578916789964,31.013961953576697,50.611599714960896,28.5471422006376,38.6421196153387,19.6645014896058,18.8336203182116,39.8353766053915,43.7330526653677,19.7837881306186,24.4703706367873,22.364457368850697,33.3579469015822,50.0155520881526,21.1852940614335,38.9109068377875,34.5792021681555,20.6656169872731,39.1940755369142,48.3993084896356,46.3105889745057,33.359457094688004,34.9257164876908,51.5582860666327,59.1146443360485,18.9473467003554,32.5243454012088,34.645415822044,44.13723421283071,52.6403490179218,36.2273041848093,23.9998828670941,61.188782650511705,37.691731847357,38.82036029454321,34.260301864240304,46.9718112898991,35.716812186408795,24.4157260977663,54.2687055743299,62.9069223371334,40.495646783150704,28.0293198991567,53.31978979613629,35.918783873319605,40.7079118597321,34.2933534532785,62.7825701418333,62.232158921659,46.5175069789402,21.6304703606293,31.7951883119531,52.3746292958967,31.4007989270613,57.3202461791225,43.3134618895128,48.3220556084998,57.991085652262,19.0065262741409,42.1971366778016,34.7514377613552,30.132575557101497,52.20588011154899,30.9311519302428,42.1106091835536,40.0412224857137,53.798252495005705,52.9778436059132,22.0062600099482,54.55607190448789,57.833364835009,36.6181475799531,48.0214726761915,24.6534822979011,45.35669021774079,54.1529471762478,59.55992484558371,50.1174370483495,47.9328826097772,26.909398734569503,57.7825545510277,19.3611887819134,37.8746449518949,23.816679108887897,37.31044758204371,41.6010754276067,29.380949851125497,32.1142866155133,53.8555630729534,52.2326373639517,42.6429535117932,57.5066961911507,41.92236195551229,49.692794545088,52.8210372370668,38.6849202262238,37.802182244136894,52.401542617473794,20.6262163859792,44.6922360216267,49.4034802741371,36.1928164209239,57.5202533886768,36.5730408038944,47.893444801215104,56.67372097028421,25.971044015605003,38.2513631763868,24.9149514483288,32.0903953830712,28.990415092092,40.3313677939586,62.32723010005429,27.050294155255,54.15061886236071,45.8616615743376,57.1412841030397,56.0537720862776,52.88850155426189,31.8024259502999,45.4162291726097,36.339533804450205,62.0411404804327,34.4963862220757,33.0618317760527,18.8531892849132,19.4274257733487,32.270279629621704,49.428864156361705,24.0740541960113,54.7285039871931,44.2115239324048,47.95231119776141,53.856206981465206,33.471181642264106,27.346331781707697,46.79353807307779,59.798669480253,32.622299618087695,59.7523865732364,49.93586833216251,18.813098603393897,47.79338271869351,34.3825240558945,55.2906857491471,58.8616898772307,60.7597446986474,32.516422502230895,44.126585404854296,31.8068806584924,20.1184142031707,41.7040518331341,49.32442036643621,47.3888703114353,20.287295401562,34.8313612546772,32.1432149559259,36.99394877487789,56.2570123546757,28.1551284473389,27.9032980892807,20.9865613454022,60.3747715908103,34.567089017480605,45.1165599925444,35.7456523925066,29.6657959511504,27.075747632421603,27.441609795671,43.8172283153981,51.5822805562057,34.851817262359,33.2614089385606,37.8379998626187,35.7657792968675,27.147057728841897,20.254605967551505,43.8322064899839,53.0562619292177,33.6267267125659,59.8920270679519,63.2171484744176,60.4551652302034,29.3425137042068,60.4467903710902,26.9233536557294,61.6792429047637,22.656479598488698,52.7144841141999,23.3509872639552,38.2901748446748,34.6964232595637,30.9688468878157,41.0516049601138,55.0915878899395,19.613058435730604,59.1216496378183,61.73937930725511,37.1631140722893,55.6415401669219,54.7489202921279,51.1416294490919,23.4981649937108,57.83494209544729,22.5268648453057,23.7231658161618,20.6097641224042,23.2542530363426,47.7453528800979,35.0276599256322,61.0521709173918,29.7553181806579,31.2778618824668,53.762358619831495,27.866907121148,39.236582591664,26.7145613217726,19.534981993027,42.63495588768271,57.1206602877937,28.4618167453445,53.76303351297971,26.159438316244604,63.1713196481578,41.9223259263672,29.5288083860651,22.851220672950102,47.4598436788656,31.4930495396256,22.3344876104966,49.6160042271949,43.3650562143885,56.940966158174,21.9897674438544,19.9765913961455,26.928214998450105,37.070500629954,48.450839356519296,41.0178787028417,29.5509403808974,31.0870394702069,21.0858676405624,60.9443494593725,57.666153101250494,61.1350629273802,33.7045991150662,20.826679904013897,61.6142461770214,23.7205218081363,18.446023380383803,62.648786257486805,27.313371989876,19.2439025938511,63.0543971573934,21.2805633465759,45.190938007086494,29.2741105407476,45.6285682567395,45.544928309973294,41.9363810308278,56.167668717913294,47.4495290615596,31.5454680258408,35.4157032864168,43.1167432819493,42.0474876314402,43.7008667183109,55.1945837023668,59.0291022560559,63.5581642580219,30.0367608438246,45.5363250342198,53.111927493941,52.73927400819961,63.2386250044219,31.077654027845696,48.414803271181896,50.0691045392305,22.2880102167837,28.1742570637725,35.8519781911746,57.0178458099253,41.85424767853689,31.6172848115675,18.812804243993,34.511520112399,34.4063696628436,44.88061703089621,43.6035659527406,29.732926420401803,51.806886471808006,34.6052206088789,60.277962766587706,19.8465041620657,51.3497994663194,21.042197778355305,34.5598100377247,34.9966813726351,53.5404433552176,25.4830486518331,39.8577877297066,55.6376212476753,44.5436822762713,22.6563397445716,27.9972893036902,50.7146625304595,56.6356326374225,19.2896285057068,24.4328114953823,50.2829601247795,21.014208402019,41.6103968122043,37.2548939283006,53.6906332350336,57.08784007141371,53.2772130607627,60.2912226915359,54.628140348009794,35.6298775435425,63.330431796610405,23.3420981327072,59.318140267860095,21.210909305606,24.278338806238,55.8614724469371,47.7825802192092,49.409900434315205,47.984505509492,61.671458660159296,50.4185268948786,55.7820571959019,60.2551426086575,58.1846541729756,35.1387838018127,22.291961919982,19.8195440261625,62.8707484649494,61.5062966248952,34.4421687847935,26.917833163868604,45.4752244236879,55.6615202557296,44.1412975378335,62.5851672696881,63.07950736163179,43.12014146009461,35.5881441300735,59.206105916760905,62.72826527711,56.771530738566106,52.075268419925095,63.2965331692249,57.385184686165296,32.6733948793262,48.5161607107148,54.3271856321953,60.6873638918623,41.48682721192021,36.157751087565,29.545486581511803,58.890320238191606,18.2502651894465,54.0021256082691,24.597573836334,21.5834590201266,35.9191078357399,52.530102157965295,23.915705407038303,50.132754800841205,62.8858099970967,52.905079930555104,36.4609444406815,56.7899114075117,38.4789186194539,22.3991097807884,38.93593926448371,43.2022035038099,27.291530027519897,48.0852702674456,43.6187472892925,47.8863935419358,43.28767313994471,42.95419475203379,28.9432969815098,43.6860980782658,56.490556250792,36.2045733071864,33.7556324498728,30.142012033611497,21.8403608766384,37.47767832642421,63.2944037974812,33.5187431662343,51.0514509300701,25.54630783014,27.8468346674927,35.654033693019294,36.7371304794215,32.816768867429296,59.264770790003205,24.174516219180106,59.4297951455228,37.2917711720802,29.209119285922498,23.1489815721288,54.8293015290983,41.2806041608565,44.1414116015658,42.6630315240473,61.0876121469773,41.834137139376296,21.4743404272012,48.972523716744,29.3780835419893,63.113496308215,43.6411619479768,33.628850525710696,37.5065867779776,42.7569737927988,24.6631496008486,30.1014204891399,27.294051585719,49.1308748191223,62.585855379235,43.6283751251176,47.7818413753994,43.93942570220679,49.12415229901671,60.8484243666753,54.6984751406126,26.0328495185822,39.174613640178,21.8256042641588,42.0537312338129,21.355885541066502,49.840941323898704,33.8635710026138,32.0986736253835,28.4107764703222,62.2347470652312,18.605122473090898,43.372344576288,39.3930971822701,43.4194350652397,46.099209739361,53.2545798174106,18.713332561776,36.1980030969717,32.4015455972403,24.6401438564062,45.146788359619705,41.412175883539,19.009670652449103,19.0216423212551,44.3638080758974,52.1849490096793,23.8768151258118,32.3065359489992,31.3281223042868,34.7410444347188,38.037175831385,40.6219201330096,49.6576160262339,35.260340718086795,29.13702617678789,49.9117071810178,54.5151493181475,56.2984954169951,39.961768785025896,36.4170332560316,21.054199264384803,28.0218697916716,28.476944413036104,41.1717944289558,49.0557731799781,30.5151092219166,22.1605025473982,28.4226720966399,30.8335623210296,54.7025232999586,26.4306427794509,46.0273932213895,36.286159678362296,35.764108172152206,27.4809546503238,27.398472916334896,45.19554598908871,18.9570020614192,36.9153439118527,51.7472122898325,22.540735562797604,39.1758576631546,32.704374910332305,43.277520182542496,56.325616270303705,25.805651593022,28.379293691366897,19.2805354306474,30.1578542543575,39.30174824083221,62.6558653847314,31.8223280687816,39.9287241469137,38.4758883691393,21.0349717177451,54.548703772947206,58.612272090278594,25.6901291194372,26.7274004640058,31.9483236707747,45.78271791525189,23.6371360039338,60.9173057088628,24.6220297645777,24.5644754115492,51.73379038367421,46.7550721517764,23.7183924899437,45.697216598317006,36.3704711874016,58.3921971502714,50.963954247534296,35.8824849808589,59.0371277481318,51.528140125330495,30.0824641142972,34.5552007704973,34.9015168333426,18.229629389476,59.4368922766298,56.4190945834853,26.991351277101803,20.1755322436802,26.7719294563867,26.4244834128767,27.9570272588171,24.8086569984443,42.7518386649899,36.6096224458888,25.9131900230423,34.3344714795239,41.515260858461296,58.0628085201606,42.343177925795295,51.1457220236771,24.6941230664961,18.413736339658502,26.8519875449128,37.185845421161495,33.5510297357105,48.61068103089929,29.823620389681302,34.2960922359489,39.227083160542,18.1760434475727,51.912932369858,22.6691616862081,18.4508251422085,20.1080088275485,29.5248576789163,57.21906913165,18.4288676595315,23.974000670947103,41.153689483646296,30.076033597346395,43.91195050161329,62.43771619396279,32.8272838406265,53.4156972491182,19.2978535289876,48.1487081670202,27.4822348952293,41.2967821788043,19.5239827041514,51.6550989500247,25.9961206219159,32.893709717318394,38.979567678179606,58.7095565763302,61.0508843427524,52.961987729650005,61.6453948724084,43.912746462971,56.8136033872142,52.168664039578296,58.4405072429217,35.4146975870244,53.1107936897315,44.1555712055415,21.953589855227605,47.4324110299349,22.7890518046916,60.9394103498198,48.36229289136829,37.441050716210206,19.877511996775898,39.0771388872527,19.3824147786945,62.2749227751046,22.1949903434142,19.179906499572105,47.8461147677153,55.5069526312873,44.2769501931034,40.7064615902491,45.188193826470496,33.9493660898879,18.055874488782106,52.1840196205303,57.2866714606062,20.4952215258963,56.83890066668391,56.4301745630801,51.522295596078,27.1762848948129,46.99845732748511,52.15906047308821,58.932584867347,32.102719482034395,46.0562726054341,28.354908418376,25.669949863571706,54.6583339176141,45.3162111518905,36.6900290553458,60.15632703388111,53.26011154428121,26.7789781559259,33.6592989233322,19.673241277691,22.403576805722,44.3261667871848,23.4349054512568,52.4298810074106,50.17342698248101,50.065782949794105,49.17618969455361,57.9326121918857,58.363808711525095,40.2325591379777,19.372464833315497,37.9000043827109,37.459188552573295,41.9621296385303,25.0234321518801,47.19519398175179,23.456651375163304,53.3503221618012,50.6494070976041,27.3684103004634,33.8957485635765,30.230243618600102,27.471521140541896,51.1302135973237,47.6798677346669,28.797041818499604,21.4095960748382,29.9109835587442,23.47849796433,48.86906317761171,38.40550486650321,58.6236949465238,22.0975798517466,32.3002068898641,34.3790548262186,19.617209166754,61.7265654839575,27.838848117739,35.9414662765339,55.127708339598,19.084409590344897,57.6264127613977,62.2650460018776,37.8717561941594,56.3502777488902,36.4777576490305,18.055188510566897,56.6535365092568,27.828579597175104,30.749477461446094,46.0343616371974,36.70069066202271,41.9360565221868,40.5589190921746,26.6529626757838,34.2069418113679,34.4308087760583,49.9913307242095,41.75835441658271,55.1760833254084,19.5034356811084,59.7626620447263,35.5975403040648,57.6274173790589,24.597318194340897,63.2516524642706,56.7387455981225,32.5319016040303,30.5573441837914,54.6462766956538,60.248191382736,36.327199691440896,42.8456656918861,63.4341880124994,22.8258572579361,55.81275256024671,28.8766067125835,62.7794266203418,46.5050383456983,43.06626362213861,50.0954817184247,62.2207088721916,19.8994022835977,61.5984211568721,18.7455757549033,61.1675705555826,29.8748918231577,58.00352913793179,31.792708855588003,54.7452039136551,31.5268535530195,53.411577749066105,34.1997820041142,41.3046374535188,44.7433101194911,49.0379870776087,43.3228068151511,55.05304128862921,51.7988581843674,61.84653541492301,23.4309808127582,34.795262857340305,63.640651529189206,21.127010439522603,57.9731614631601,35.8244426706806,61.8922501667403,48.7978129191324,20.3216455606744,36.827119524125,25.2988648773171,46.473081822041394,50.07041653990751,41.571390764322096,43.91861469391729,45.5832650125958,35.1091779656708,59.7079242304899,27.9200100218877,39.0781830362976,40.6872983798385,35.9713375223801,62.1212498066016,27.3626951933838,44.9191522900946,45.5444554327987,37.5969303091988,54.700845524203,19.487914884463,28.5721331895329,60.8050912762992,63.8639845149592,31.6079666293226,61.3012934881262,25.8950840602629,36.7296103164554,32.718134177383,30.544511467684103,55.048935229890006,42.5163445896469,22.926914404612003,57.8824586365372,30.763360913377294,30.5854479665868,46.45279703848061,63.8871408342384,58.0165700819343,45.8798310379498,59.506367242895095,29.0203788527288,23.788303747307506,18.746455994900305,43.0559086166322,40.7735017831437,26.9590053195134,33.0920195085928,45.883906444069005,33.932393310125896,25.212564835790506,50.2212005364709,27.4044806477614,22.223386954050497,42.3725129328668,62.1931477542967,50.78811185201629,59.9558734656312,18.5080935861915,41.5761699704453,29.417216334492,62.840849126223496,24.1914257979952,60.1881995359436,52.0275973733515,54.224563381169006,28.0602953033522,37.9053184995428,25.684226048179003,26.94071725104,24.314280502498104,45.859827140346205,48.8180328309536,39.6707891300321,61.6792393168435,63.2186164692976,52.15536584705111,36.425610730890206,23.3653235542588,20.6223270054907,43.041728856042006,39.4359148116782,53.9390205498785,33.6877787308767,56.889189159963294,46.5478702839464,39.6432714527473,52.05179370753471,62.202313144691296,21.3656869572587,43.6701637604274,61.1583992317319,41.0034003201872,55.8271972807124,24.9919104841538,59.2044248851016,44.3864208948798,27.4762682910077,36.9184383805841,41.771231430117,32.1715747234412,28.241796202492,35.7616833699867,54.8654459267855,56.6414742642082,58.10209089145061,59.8584348168224,52.390862160828,52.2415141249076,27.217440214008104,33.306685289368,45.157120659481706,60.2613593284041,56.0323648834601,24.9290873506106,36.2786843804643,19.9825388290919,41.2224626955576,32.3261754103005,38.09981235023589,51.89382022572679,59.91764355450871,28.845958323217896,28.4463765965775,36.0016917237081,55.5330095859244,18.6590213244781,44.7719354680739,45.5427551227622,24.187499135267,41.0729347174056,27.1292334017344,51.077324590180105,36.9842769200914,33.0994235407561,43.7188643151894,60.7262946041301,40.1050568986684,41.3171591130085,18.701733683235897,42.9807849037461,61.304800246376494,48.5166189149022,52.314565026667005,28.5496045635082,56.3554266071878,57.40525788953529,37.165156937670005,40.74341282015671,23.694589723832895,28.198256640695,39.230477804318106,34.915516287554105,38.6710497550666,51.757359795738,43.20699110673739,47.69451985834171,30.3081837417558,54.9693128112704,47.466485101264,31.344047871884,54.2359153465368,47.6044022589922,31.1926267999224,40.5189625560306,48.14840359007941,52.5807728450745,43.9994611074217,45.9931990671903,33.3271440174431,60.8869659984484,39.142225323710605,38.6222593844868,20.542408631648897,24.2706115185283,25.252609259914603,34.1016539284028,45.53938521957021,23.250084119383203,26.8219283991493,37.7516222363338,48.5181794138625,23.162104470655304,28.0171668957919,63.971795841120205,56.1526170284487]},{\"axis\":{\"matches\":true},\"label\":\"income\",\"values\":[66155.9250950813,34415.1539658196,57317.1700630337,42709.534200839706,66952.68884534019,24904.0641402826,48430.3596126847,24500.1419843175,40654.8925372772,25075.872770976297,64131.4153722487,59436.8471228518,61050.3460792825,27267.9954580963,63061.9601742364,50501.7266888171,43548.6547113396,43378.1751943752,20542.365072760706,58887.3575488105,23000.7840017788,32197.6207010448,23329.3194137514,27845.8008938469,65301.9840293564,47451.6301229596,63287.038907874405,45727.4598698132,59417.805406265,58842.8913080133,48528.8527957164,23526.3025551103,67252.9006074183,58886.8512935005,57584.9737902172,26289.9723066948,25952.3814707063,32464.091880247,60921.0631041788,26578.5366925411,66260.1215578616,58787.455239798895,62545.7087112591,24381.9534475915,67852.1058685146,41725.6128555164,41896.9715991989,44379.7296541743,28416.899375151803,68427.163111046,35975.7949295454,57596.3540980592,29681.8830934353,51656.938674859695,24912.8426820971,47761.8240681477,22248.1792024337,29724.4768752716,52143.8236744143,56577.7228609659,37660.770716611296,37403.7953955121,31652.6937345043,32727.7007326484,69078.6048118025,40622.1948727034,37521.0171728395,30735.808499157403,24857.6948815025,33180.2015937865,66628.2600886188,38564.932129811496,33704.5084964484,57018.4848317876,40526.9027850591,50827.9805234633,40775.8115953766,55467.15141274031,38789.0293891542,58074.8401279561,57814.1063381918,45190.72918221349,36801.9071803428,68811.7794157006,30483.2955286838,44930.3941731341,43671.4565544389,27612.9148015752,53607.326925266505,33036.6831202991,64275.834888685495,30673.8375034183,58793.6143088154,21053.4906177782,42095.4222022556,50360.6787929311,41970.7244774327,51663.410179317005,53601.81243624541,43439.98872675,51461.0531670041,41285.1723073982,62895.7497701049,57296.1608227342,60844.092494808094,47634.5495483838,23998.3236929402,63391.6159672663,21534.5512190834,28255.6525128894,36496.1339323781,41631.6662961617,68762.4166649766,30075.264924671497,41302.6741752401,39703.759427648,63161.0920350067,63062.1420964599,34507.5279055163,27954.7077650204,37369.3820601329,43912.062740419104,22766.7745016515,21603.3057007007,61952.906688675306,36116.3650918752,26157.7772721648,26458.3832048811,69156.3037736341,39441.4447643794,60119.0658099949,55613.4854606353,37049.3862358853,23122.0649252646,48790.1324336417,59132.6851560734,55305.5748273619,26037.4636435881,64899.8050298542,27089.124317280897,45341.4746373892,24865.7980747521,28239.5432051271,52730.0805016421,28982.0581488311,36221.2660070509,33551.1243715882,43891.3559704088,45148.885720409504,58481.012161355495,69579.9292111769,52743.3085651137,65635.6615293771,34559.907035436496,60218.53152662519,51689.548538997806,47541.61433549599,62905.79302469269,65632.6045794412,31847.8537187912,27947.440282441697,62246.7272495851,40154.6885655262,58627.5548837148,33441.0510654561,55603.7867954001,31046.3789664209,44708.09987280519,23340.2706962079,24830.181971192404,31422.7473852225,60477.23384574059,26039.0214901417,36186.8480732664,39772.1187258139,34730.1640710793,23118.4833147563,50072.8476257063,67465.06238589059,38625.6320099346,45227.482826449006,64901.8977349624,40543.9135432243,27793.2667220011,61167.774819769,64619.6646196768,37593.7578664161,35032.6495990157,58364.4649758935,56945.8104134537,27204.8485511914,21648.261025548,31077.8568894602,42522.9224073701,31769.247718621,35556.779911276004,52908.8242375292,35045.1314053498,44488.1644845009,41679.9371177331,54619.9471969157,38053.6231258884,64718.66177627821,43159.0849696659,29445.510501973306,25817.389884032295,66356.8567414768,56676.15799931809,61000.0427742489,58906.2516856939,49589.1537214629,40141.6035415605,31659.7282118164,62658.221628516905,39264.4834984094,46643.1264812127,30515.372117515697,65077.322027646,60871.86900433151,25011.103895958506,68407.1855084039,43727.439343929305,45788.747100159504,65705.0108234398,32434.7025062889,58121.668575331605,62498.5072459094,26090.725876856603,64780.93853686,65588.4034163319,65743.7036675401,37164.521582890295,65176.5297795646,34615.542173851296,59079.4650535099,56267.1716371551,34862.8212860785,60521.3641002774,42276.7829080112,38451.1777129956,45985.10865354911,51000.4224418662,31523.1077652425,28648.676751181494,27514.4279631786,27441.0003842786,67709.2415909283,38600.7071868517,30950.295405928,27083.822868298703,21512.7452672459,34796.0035596043,27089.3928408623,25259.4016306102,47007.3135849088,20358.665024396,67900.2265259624,54418.470994569405,51288.5546940379,28199.601632077203,22199.6151423082,50514.4696263596,34414.2403383739,37633.0874324776,55235.5040726252,45587.5518429093,52757.7949385159,41174.8081259429,25685.535201337203,28145.302999764703,52094.21837236731,33552.3859760724,37400.9337672032,21605.7250904851,57562.89173616099,62288.53960521519,22767.2642027028,20943.0433274247,20622.860097792,48436.6646315902,27574.634184129503,62889.362142887,37683.2004915923,54974.4554958306,56326.0866724886,65670.8834390156,50730.7333918288,64184.9157912657,66179.3241091073,24969.5268040523,54925.518266391,67879.2480193079,67787.526762113,31657.6193016954,36559.1350290924,57787.565658800304,42521.7260071076,51935.1806305349,45677.8761278838,51363.5958125815,27218.561030458703,43677.6292207651,21533.5955074988,28010.190934874103,51589.2827464268,50480.952688958496,43957.35058235,61878.346551675306,60153.3369673416,33388.5833434761,41310.4017777368,25576.9539321773,51455.0984534435,48134.1569265351,51348.5273043625,20532.8237311915,33297.2140214406,55858.5492358543,43777.5184796192,27789.5190566778,36132.423875387794,20145.9885970689,63108.7073870003,26581.6145273857,62040.8896286972,69958.7055412121,38082.5195158832,45183.0541761592,36242.447961121805,44527.2589032538,40496.2558229454,24698.6693050712,60560.3055260144,48018.211456947,30216.2519586273,61742.2399506904,47288.4266683832,24658.8993165642,64644.3481021561,57517.7241396159,52945.5477884039,36366.9904111885,62113.7295663357,62279.5195016079,61799.0849586204,50139.7400093265,69566.6843489744,44897.4883696064,22572.3027647473,37123.0796375312,68744.788649492,21081.1941814609,58828.2921165228,46706.4588610083,32312.8533829004,60778.7650241517,30948.0415470898,60122.011571656905,43321.6811204329,47904.3412418105,58597.3832453601,66091.9059114531,47316.7013772763,40872.6397715509,35154.4934837148,32222.8188090958,40447.67296174541,48463.2045542821,42843.0991293862,50310.4224381968,57565.1999609545,55066.1829696037,46065.948209725306,38309.585656970696,54472.144756000496,58695.0943968259,54748.9123116247,46328.171917703,49633.327468764,66339.78387573731,62650.719662196905,27646.780053619303,21437.6157545485,50648.1984443963,29670.6718439236,20258.538662456,34475.2179738134,28926.432463340498,20660.6689537875,24987.934092059702,29672.5608105771,23241.5998866782,24217.2287590802,65574.0933422931,55994.4587922655,67369.3321226165,23305.7714928873,35195.4663451761,27135.072618257294,24037.1651411988,51625.3132303245,50705.7662634179,58079.1569012217,62192.4670692533,62553.6684109829,68147.9573179968,27619.6614070795,65330.1928355359,26680.1458364353,46104.5989114791,44904.597643762805,52934.5944337547,43509.7577562556,22118.3573291637,56275.4100235179,48630.9795337729,64272.6999986917,24349.002952221803,34332.3152558878,64940.241088625,30595.7480147481,53422.2162491642,69995.6855783239,48270.796244032696,27028.1555876136,23519.866091664902,37302.0833986811,55601.2718519196,62678.6454510875,41602.4339781143,27533.0013292842,30594.1765592434,47846.9459037296,55273.2750005089,23086.2554092892,29621.2748787366,47533.92094746231,62519.184178672695,50878.95903736349,58580.9595114551,69445.64944598821,60929.172351025,35496.6654954478,33572.423497680604,55306.9143486209,34141.9276362285,40453.8909485564,69088.7774154544,30885.6922015548,58683.2263204269,60675.8121564053,68460.68002516401,63653.8399080746,42522.5757574663,54140.429133549296,47548.362617380895,24114.012257196,20686.2390902825,21412.3086119071,69391.1465979181,32319.262220989905,52862.9471361637,48383.2761459053,36430.5384038016,44268.8940139487,63806.3292531297,46195.7771726884,23743.1607721373,22089.8374845274,54707.2885138914,23203.647187911,25342.2506782226,31645.6328192726,32306.8084008992,61262.81632343309,26388.7272961438,53009.4254342839,58163.54067530481,38665.0339281186,25289.047223050096,66049.9340319075,56282.982525881394,35778.6152325571,29174.240310676403,55934.432561043606,32256.8615246564,68052.8069194406,26957.0538704284,48685.04201760519,38288.0710810423,42468.0208251812,55377.7730255388,54231.7027854733,53283.25870679691,52534.78547558191,47847.51562867309,59998.253271915,58684.5130124129,49114.787932485306,57179.40200585871,69395.1164768077,43963.7380116619,66326.4724705368,35886.7268357426,35578.2341142185,48689.0004295856,56510.8353551477,50275.8999634534,56665.4940880835,42912.09053946661,22169.7292220779,35919.8073204607,61987.6852654852,30044.6835160255,61528.2724192366,31196.4917741716,66003.95999150349,56960.67384444179,41315.1078904048,64913.343840744295,32804.904486984,25789.2097975127,31908.354307524904,56050.3025818616,66505.7756868191,57504.07174229621,44619.1114885733,21158.935285639,22765.1909156702,25052.8202555142,61006.1073023826,62321.242473553895,49604.544211179,48433.3734889515,57590.283283498095,62691.7013712227,51121.6568690725,22516.5403494611,60857.2350512259,62908.35747960951,49665.63383815809,65322.8010679595,20598.9265628159,55476.6569798812,26218.4948474169,40794.8702271096,53719.6511100046,20715.535634663,57163.8523996808,33751.205313019505,44832.564720418304,51035.6334550306,53493.4860118665,58205.679995007806,47439.9407557212,47586.2277136184,26100.8512624539,45326.4036728069,24391.7562346905,53741.37101927769,40053.7222670391,53033.864130266,25176.502012182,31210.8470173553,23532.276302576098,63776.77078591661,52278.76500459389,56015.8132156357,56110.9399353154,57856.8082349375,30187.0918646455,30786.8719263934,22279.2997653596,42476.2655328959,58147.7998569608,36266.2118673325,39045.4971627332,64467.803684528895,36594.8066744022,58797.762861941,66653.2709309831,48271.4983797632,30991.4319240488,45446.5183359571,37142.7388908342,58320.80889260401,24825.5406785756,20511.4294355735,48326.3208926655,55441.35879492389,60496.907918714,25296.1542271078,50414.3203189597,67984.0403771959,50382.3997732252,49413.2985407487,61464.8206438869,53784.0495747514,35993.2879265398,63402.0046843216,40484.9713249132,26168.0122744292,60044.2815152928,23984.5509454608,40359.7011859529,33583.8910820894,68038.7920164503,45652.0592723973,34399.2097815499,57628.438917454296,24294.6768924594,52218.88251136991,50061.7677392438,49352.274222765096,21087.3555438593,23812.252683565,49395.1664934866,33338.9439899474,29668.320720084,45936.5972015075,55948.0677172542,53239.5007135347,43694.0344446339,24078.0724957585,50258.5530211218,41816.6568316519,36892.7162187174,23886.5676149726,48757.7650509775,34601.6826620325,52986.00454581901,50740.9510249272,53096.9913979061,38500.000645872205,41004.2623570189,63585.36459039901,31823.6810551025,26242.6336226054,63531.2459943816,64751.1465405114,31091.276304796294,66871.2673638947,25098.6528280191,33720.5892242491,28182.5232948177,27334.5697135665,68694.8431818746,46195.62166510151,34488.2098538801,57827.6631003246,20346.4690526016,60480.9757950716,51915.6797835603,54625.506983138606,48305.4270897992,28577.964513097,53400.8270059712,43414.4878922962,47526.234125252806,46082.072162535,32195.5925249495,49067.0912945643,21293.4771250002,52100.91738728809,48334.3877759762,58507.6235514134,27521.040341816803,63914.2253715545,28598.8326463848,23298.466745764,35697.5541380234,40376.1635813862,56534.966842737005,36088.938608299904,34158.6339683272,29732.057619839903,41736.20153917,42236.4560933784,28796.850836370097,55097.38848079,40916.564145591095,20908.335100393702,57999.7723852284,57746.5815865435,55116.23451486231,57765.521160326905,45200.992799364,42435.1894925348,46365.573517978206,57187.7008932643,66539.9275999516,25244.726699311297,54780.3456126712,59253.1214631163,48540.3415444307,30415.105079300694,48768.6992436647,52299.2180823348,42242.489119526,28218.9652719535,40208.1318595447,61419.6728379466,51282.5052416883,36017.9027472623,57575.0097911805,53330.7671360672,39834.5198412426,62469.428374897696,40334.6167341806,47542.8027031012,55883.6228610016,29163.015882950294,47786.14106355231,29736.3105043769,50831.427534576505,62030.0459954888,54049.0127447993,34336.0175890848,31895.7153055817,51894.5400998928,37616.7108584195,22076.9480033778,56252.95370584349,26316.758494358503,23120.8796077408,39033.0327139236,32420.818151440497,68827.24432973191,58092.2048934735,43538.85611519221,64040.484179277,34395.2292157337,57405.5149266496,22581.1339728534,27952.945982106,54022.9128370993,63546.1647575721,60713.4303008206,44519.32947151361,40997.7989899926,63661.38332989071,34429.1467382573,29181.8614280783,52510.4382354766,37536.3472430035,35683.7449525483,45622.2907104529,67385.40317630401,69411.7925292812,48322.5140650757,40836.588810198,38035.9513266012,42696.9713694416,24181.69478653,33194.4026448764,32541.4615264162,38381.4130607061,25921.9125309028,58810.97172852611,63025.7440777496,29954.0045135655,40641.523017548,43940.91070164,65166.97287326679,58820.3820562921,50719.7630754672,46766.595919616506,67520.759596955,28386.2535539083,68276.0307611898,30731.7262794822,30012.251092121,38075.3187742084,55932.3965734802,27966.2444535643,53825.5367358215,65451.496518217005,39473.995862063,42344.8087112047,36112.8744133748,32720.5047989264,27973.826560191803,21306.0331228189,36029.301576782,48457.963548135,46038.510655053,34247.1590195782,64247.6149997674,62109.7670914605,21481.8037860096,20762.4744670466,33756.5272278152,54325.80727385361,33197.807804681404,56846.4742321521,26542.9310896434,53200.5481468514,38073.4068970196,43937.219043728,49284.819413442194,22869.3234547973,60113.3425417356,23613.255685195298,68755.0944206305,26449.3282930925,42855.4161149077,25686.778936069502,67125.64924266191,27427.7894455008,37145.5730567686,41702.6007710956,20710.7759593055,39124.164362438,32834.6467390656,26267.2214000486,41254.2281951755,38268.6966028996,37087.268759496495,38458.1330395304,40185.7756706886,65481.9455510005,57426.680477801696,47903.31424912441,34222.1877467819,28481.265604496,43069.6521466598,33093.9618567936,61363.856056705095,68100.73561966419,50551.4803389087,54421.054006088496,32152.4597401731,40230.9757121839,53483.3740023896,65137.937762774505,29496.5941272676,45181.9337136112,24994.7781953961,54820.9740128368,62955.6082934141,52956.246077083095,40366.2032377906,60005.0101336092,37598.3850844204,61323.0009027757,21243.9323007129,62111.4344149828,56524.8788148165,51718.13696390019,43205.6317501701,26934.1974449344,68966.82256367059,31527.3472038098,46839.061093050994,32151.296855881803,40831.801916938304,30868.8048203476,62988.8264276087,65496.7674799263,63032.6262721792,27287.0745440014,44299.3717431091,44091.3492278196,26617.0303151011,21856.2335288152,28072.604355402294,35950.4884504713,28982.1123634465,51790.726445615306,65000.8196174167,29761.046012863502,23081.4507394098,60016.7409912683,54619.1553631797,66274.2081028409,49380.658629816,46283.0674648285,25554.698524065298,36680.1819228567,30383.6763300933,67730.44369649139,36446.7241382226,33648.7389914691,53852.799539454296,61298.218665178894,69465.7469564117,39102.041714359104,29366.582334041603,67949.73806710911,29468.859178014103,56839.40189657731,38277.9368711635,49664.2707195133,49972.0108276233,27356.8009538576,36840.6036566012,51438.8140686788,40614.7220451385,56738.63732256,68004.6862154268,44458.6372864433,66801.197505556,48991.85367859901,69430.936621502,27989.111100323506,67675.80477055161,47985.7224668376,43388.209473341696,63182.45566682889,20568.8913050108,25833.7172260508,23087.3014009558,36124.7178330086,57330.619408749,47240.2531234547,55730.6292280555,61660.40131822231,49746.8874370679,23973.6875914969,28085.479598958,33585.4747379199,44179.3851018883,56025.419726502194,49369.7041459382,26889.3647403456,30873.217636253703,30608.943237457403,54878.0896514654,32423.8068470731,46608.3690221421,65689.1897018068,49054.86027011651,20310.5775569566,66423.3993319795,45783.15475257111,62887.76266621429,51088.2107820362,66217.9448455572,62799.7506107204,45789.4875248894,59727.4059941992,35513.5895474814,29178.977587726,67501.69224571441,66255.02952840179,63558.8640859351,63441.7123557068,64983.1542442553,56946.64593786,52349.8724610545,31473.458784166694,59267.3391965218,66809.1732473113,48083.311545196906,20629.3472950347,25363.331059925295,28873.674168717094,41430.8552560396,53612.1312342584,51555.7402558625,46564.3788967282,61200.4274781793,29307.3207652196,67687.1830760501,52565.0657410733,52920.148014091,34981.3678348437,65210.83709551019,60016.07961254191,23066.964680329,52603.878644295,20111.3632577471,32759.7002778202,30578.0201614834,21211.5893885493,53746.3265750557,45214.109220542,58465.0496998802,54422.9734851979,62842.0643904246,53005.13229332861,40749.0281783976,49804.4108320028,37277.2461199202,46883.2065397874,31763.3691988885,61013.1815820932,41285.358897876,39133.8918637484,62171.8025580049,53638.6459530331,49264.5848938264,63114.49698871,58165.506219957,43029.8032634892,21593.6226584017,49104.7682403587,65776.2324134819,36192.1494523995,62165.8611856401,50793.355719652005,62422.2037894651,63166.99495539071,23717.567853163902,66797.6646730676,30272.2036186606,55741.1956880242,30742.5797148608,20491.564325057,35620.4186263494,50206.1337162741,67935.45387219639,59223.3966034837,32657.2686829604,55931.6545771435,23694.7788670659,44324.28636820991,34735.4917484336,67064.3447362818,42761.492675636,49517.7223277278,54372.1826560795,29941.9683683664,68414.1207765788,23891.244565602403,47187.571546528496,39819.920940790296,50632.2792428546,39970.2112469822,55176.139604300304,50533.571948763,52983.874459750994,31187.6699258573,34909.9822272547,53810.847660060994,55478.9673699997,60394.094865769104,36845.7386782393,60264.9406460114,52981.508597731605,50222.7624226362,59256.55595958231,43203.414224553904,46288.7564138509,58176.1549273506,25631.4347311854,58977.9976452701,25048.015993088506,33436.4890051074,23787.3670458794,69456.5677712671,65447.6116108708,68743.3531787246,36052.5775980204,24820.7924701273,26046.3841655292,60850.8024411276,69929.01099612941,53298.496145289406,48818.3823227882,38042.0841556042,42119.8227140121,62247.87973798809,62252.088163513705,36973.0856898241,54217.2367847525,44218.7663214281,33274.0502711385,54656.5490355715,67593.5170776211,39472.7072492242,30572.446859441698,50447.699630167306,49198.6526572146,53768.2282086462,52809.54628717151,38011.7266485468,58910.2917746641,57914.7310741246,39494.766916614,45918.875250499696,55649.05588282269,27136.6288000718,62724.6361155994,32921.8485788442,28482.6495498419,44170.221737586,60664.3716036342,64501.93042866889,28237.5173922628,67420.59544660151,55642.9933919571,56086.0580927692,57676.739180460594,62535.6328487396,60686.7685727775,25032.300937455097,22228.3452912234,41435.1537520997,43955.4094034247,60063.693094998605,34635.7447491027,63944.3237264641,35403.427334968,53654.0793650784,23508.2307294942,61869.46603003889,20674.897083081298,22127.9241074808,27408.729614689903,60720.7960961387,34760.0193158723,23057.3639203794,42380.9950635768,37887.5493933447,39988.740736153,25026.5056430362,43588.0814259872,20897.4266937003,24904.6246684156,66068.6350357719,36126.231092494,23626.726788934306,30200.243256986098,65569.7852419689,20617.261009756498,25817.4546225928,21448.8279935904,69370.17763732,34145.7995516248,52651.25686302781,40069.3383812904,39246.544886846095,56233.7895436212,49264.2683256418,30451.6361607239,28726.996299810697,20113.2534933276,43434.7754274495,59208.716084249296,69310.9572678804,60567.4244393595,22048.8950423896,66733.7102512829,22209.0095095336,49032.6624060981,26558.361055795096,49255.45796751981,30218.1512280367,56317.08282046019,53825.43057668951,34927.9936100356,53287.385024596,32032.5567433611,48405.726805795,46132.9140514135,29049.071487970697,68550.6878583692,47474.819601047806,50021.65540819991,64089.1319070943,28451.7055656761,58132.4712652713,30961.1661406234,64162.6496147364,67470.11702274901,68263.7662440538,42889.3341613002,20155.792362056694,58178.614573553205,45735.4556932114,30037.203133106203,64392.5122148357,26291.3757981732,36008.3809983917,54953.9796588942,28753.325487487004,41993.9843169414,56696.458596270495,51906.0461595654,30939.3933787942,38520.7239701413,33489.0398592688,52836.0064304434,51733.28750999639,41273.771498818,68223.6843090504,28222.8789106011,21921.3610794395,38852.933018934,59621.3676431216,41377.745596692,54405.62497125941,60103.0115666799,67528.6542088725,61156.937379855706,42955.6945967488,46923.0467732996,24951.257491484303,26267.5294233486,64603.9208793081,34667.0204005204,66008.3970683627,45840.2076200582,32188.016239088,50289.66474812481,36837.5308508985,28852.0338060334,68127.1668104455,41349.1225149482,69132.4625792913,38477.3255954497,68291.1536470056,58074.6065406129,26867.1082612127,32348.450149875094,31044.3917568773,29279.7497869469,35145.100187510296,44405.28066363191,42059.6369006671,28612.203062512,46546.7045479454,22832.3239297606,21565.9215394408,26078.2135813497,60503.547852858894,31233.307758811898,34505.8009307832,35485.1182713173,45986.3534010947,43308.1789803691,53284.1196795925,68398.2874779031,64743.7070659362,68412.6098453999,59695.1071452349,32406.5707321279,33184.1959781013,47688.2505742833,42591.5952352807,34051.5280421823,61800.0343837775,45360.716274008206,20252.123456448306,30134.7096031532,56217.326496262096,31722.7309499867,60178.4461922944,51144.2430480383,22449.077391065697,44932.875111699104,40929.4839412905,31092.2677209601,44743.551632855095,60770.22902201861,43528.4843132831,25008.9495256543,47433.4154208191,50064.346373546905,60348.413563333495,67471.1271002889,30492.875671479906,25640.0788831525,55040.75816599651,34476.7063786276,23345.8664547652,24426.0298716836,65849.8896681704,60454.5256518759,22680.318430066098,44471.873731818094,46572.320004925095,24369.8412482627,56830.2728631534,46942.9965177551,42521.7907107435,63188.3285287768,29410.1775204763,46668.628468178205,62693.26957874,65307.1274794638,59589.0642888844,41019.5487947203,48058.8713823818,50208.5300209001,62526.88792767,48192.1856105328,30884.0567292646,36965.7424790785,43536.0389109701,69181.6640598699,64233.0406978726,52593.5150613077,32282.251752913,54077.843278646505,51595.3574841842,23097.3764834926,27407.056202646298,64395.298068411605,60432.2166577913,42990.9828281961,41581.8899217993,53289.0652935021,22372.5052364171,57119.7396889329,31112.059419974703,68936.32135353981,20436.3312851638,20583.6121737957,58988.305802922696,45311.831838917,60856.830985285305,45818.2832505554,20904.5554790646,49908.2918674685,55988.295276183606,62125.258105807,48822.7209588513,29976.8290994689,41944.268187508,36970.3604420647,39992.7191133611,42450.5430436693,42146.93762362,52841.5164374746,66418.9563062973,44047.6665552706,24821.214126423,35583.6185440421,25289.6072389558,39770.128664095,59511.1387013458,51211.6540386342,56530.4972743616,42604.4629816897,66642.0077485964,35527.8344871476,66896.7653112486,51980.3595426492,40081.4205571078,50167.67174704,39545.9595881402,43372.3976067267,33084.1698497534,53187.9796460271,48290.8804598264,66078.76935042441,51547.166663222,39393.1405781768,69592.0108282007,54588.5011949576,44964.0105990693,46081.6455469467,45564.015354029805,62657.602543477005,67921.63211386651,59514.012378640495,48422.5361072458,22001.3174507767,52529.6987663023,24061.463160906,23450.872132089,32866.578239481896,30958.9079627767,27550.8952722885,36024.9378881417,46801.274286117405,27082.7189832926,65435.0353800692,59295.7410775125,45435.2672374807,61742.6095809788,31396.8660123646,35916.7041536421,43969.6041564457,60624.8153652996,69939.3296777271,69755.3201625124,69478.3987640403,34192.1605216339,57457.857944537005,63910.3346550837,26643.808993976603,23985.075419768706,63660.6488074176,44102.33009140941,29409.8058994859,49294.65931374581,39553.6473765969,68583.0410500057,31060.6062575243,29190.324624069,63437.70014820621,35243.0632268079,36475.3535296768,63271.6088253073,45540.325522888495,68565.3855022974,20063.0995840766,44222.2622036934,67839.2444550991,54009.6922824159,52234.0753511526,28423.1314714998,52623.4375941567,25636.3335694186,60842.9411589168,36727.7459986508,63830.7474367321,43108.4145605564,25285.261129029102,57646.2429063395,51027.5676078163,37389.7723783739,65017.5934936851,20595.934584271203,56445.473914500304,60864.3217524514,51231.01042583581,41103.1369166449,56267.0508213341,20774.8458185233,46424.2212288082,29909.5540004782,62808.5050662048,41243.8051356003,46089.1478857957,69191.2333760411,60846.6650056653,66558.9343686588,27428.2818706706,60912.7989551052,28127.5094533339,64029.5434789732,61836.7356178351,37005.0718472339,56003.57340183111,58038.926245644696,29237.2562037781,33265.7905458473,66236.9271554053,41978.7125010043,63453.223130200095,24985.590663272906,53593.113196548096,54179.721865803,20126.4137681574,51180.839706212304,36455.7015057653,39188.9452864416,47852.92690387,20014.4894700497,28630.0095077604,66688.91312321651,53226.1944073252,35609.4783451408,64065.682857763,54935.658378526605,67800.5813318305,46893.336710054406,54648.9669755101,31410.5072920211,36989.5895407535,33198.1282844208,47704.38082516191,30569.5727048442,61398.687066976,67750.8259937167,47637.8620299511,38357.5175236911,43156.3052744605,41101.5429464169,59475.4971843213,40708.9194096625,30391.473304480296,46024.1445619613,66529.4852154329,68115.9803341143,38423.0842860416,33227.2801827639,61674.4572343305,26931.0682476498,60040.9938418306,26181.242410093502,61552.2175142542,29705.074725206898,53934.8122710362,23007.3878820986,48552.843409124805,66370.88875751941,49140.2698610909,39684.9817992188,32025.4044537432,55568.1794579141,45898.5135238618,39217.909919098,34070.603996515296,66768.361213617,31400.8584292606,49335.7572634704,51774.0525119007,43064.6473472007,41226.1346750893,43044.5177759975,33546.2920414284,69209.3308712356,32291.5445477702,66274.0728980862,34102.7912031859,21144.5628711954,41049.9745910056,36351.2777304277,63144.4592075422,32086.9135367684,28873.167319688902,65359.29615376519,49064.2884676345,23763.0605627783,51845.9425587207,67035.32642452049,49240.762500558,36132.3275882751,67006.8064867519,39453.6456139758,52205.6070552208,46319.4167986512,29398.7274216488,31135.6077133678,65603.8167583756,41362.5083677471,60302.558999974295,54468.27920852231,47683.715778403,38160.1164978929,22925.8120805025,64087.858812417806,65824.5156565681,53451.931539457306,36455.4847055115,39573.3414380811,41052.365784999,37895.1817331836,44827.23377179349,28341.086772270497,56887.2027960606,25146.5956843458,54739.1645191237,30497.2045053728,25358.897941187,29993.5633013956,64675.77948234981,56256.0388748534,31702.3342987522,34113.113284111,44666.0128468648,39421.366835013,21683.1937246025,65697.592839133,68657.7893025242,66981.4129988663,45971.133494749694,42965.9927543253,50895.8103414625,46175.0319390558,44984.89911668,66941.86486303809,31022.1448470838,46583.1995988265,56201.841430738605,31587.0648645796,40716.1908852868,64966.0656391643,68503.2058903016,33867.5022637472,54195.0151720084,50565.3370916843,57216.1010163836,29849.967143964,29072.15179177,29775.1422203146,46672.7131442167,66393.71115481481,29338.256448973,67289.5856830291,45980.3343447857,34163.6256477796,52216.815801803,62313.2776282728,49205.6370992213,65688.7315027416,43489.8284543306,40966.6745271534,37261.4471171983,58775.4038907588,39395.8304123953,21144.1621463746,33126.1327187531,30931.5060195513,31936.9420106523,38157.029675785496,21032.8186908737,50238.5324728675,67346.6624622233,33261.6460206918,53113.03609516469,42749.9903179705,42108.1999246962,61344.5322075859,54738.6822919361,69695.1504494064,62507.3547754437,61922.7746431716,58023.7237666734,27010.8837680891,21194.6161743253,68338.0974037573,67772.7936813608,67131.8026888184,33159.2172780074,66087.0884708129,60362.344274763,54609.46518462151,63637.281830888205,40918.5702959076,51486.1303195357,44896.2564859539,24877.6844050735,52263.355504255705,42775.5255065858,67064.0136743896,50307.944677770094,37432.680958882,30084.15883407,61427.4146431126,54718.852792866506,47923.5755093396,22880.7276044972,46118.5501003638,35082.3856936768,38387.322279159,57413.572240620895,28198.0973365717,50117.8570371121,34876.3329256326,64126.4916793443,41916.692680679305,50052.292929031,39158.9175141416,62219.037539325705,67151.3186115772,46166.16312880071,23881.7865075544,48445.1131243259,32441.6520120576,33820.186513476096,61812.90135020389,25347.5726628676,33965.5237086117,23641.7026771232,50660.9042454511,44037.2439846396,51657.1239614859,46573.244377505,26922.462221700694,48414.2515389249,43974.840529263,65913.8320060447,64715.9989736974,25481.9879122078,54170.5326107331,51653.7047387101,66054.5062320307,60019.4471352734,31523.9528589882,65660.9485438094,61893.4836401604,49230.0982051529,38337.8294692375,64016.4333907887,46308.645156677805,66209.1442663223,47770.71142336349,29856.4863204956,21451.4972921461,59673.17044734951,47481.4296397381,36219.7729106992,59458.704343996906,67010.8409761451,58693.419424817,43041.0413932987,31920.412722975,32771.1254055612,55487.14712960651,68406.8071702495,37277.1230572835,39762.5265805982,41674.2431395687,25789.742025081097,24575.0598888844,58082.3601037264,67881.8804956973,50115.05489703269,40443.2036262006,65824.83738195151,51199.8698394746,67032.2894630954,42205.6829021312,37730.3621079773,47398.3110440895,48933.209693059296,53078.8558349013,53236.9929994456,58121.954689268,57261.15139434111,52102.5909041055,45165.9259549342,58809.2924724333,36598.3404731378,62096.28261160111,68114.0709831379,67978.4668539651,26615.5242966488,51254.37000999231,34428.9726391435,60974.5871438645,63330.7345490903,58168.4740656056,59579.6092110686,52219.895499292805,28700.872585177403,27193.743053358,67417.5709998235,57341.4327739738,64056.536117568605,66370.6935057417,45045.431649778,58609.13148382679,53289.0679710545,60309.3288303353,45139.4863938913,22815.640612971,45215.0146872737,40568.075182382,43721.2518113665,38129.754869733,22547.9616364464,57468.0594424717,25534.6735171042,26325.503392145,65913.8308418915,67119.1359567456,62020.468134433,37965.8493376337,62114.856024272696,36871.0617581382,65030.909345950895,23193.6045968905,59568.6243195087,50527.5841732509,60776.110207662,61632.2827106342,45930.4526494816,25857.7655931003,55093.92122505231,42301.3344802894,51903.5342545249,64398.146157618605,41089.5108291879,36727.5508982129,38163.394543808,35949.8964087106,44979.8021861352,48211.5818350576,28267.0899457298,33816.223340109,33078.995980322405,36019.8171972297,34238.5302926414,62064.5206817426,44867.61524342,37162.8882177174,65680.9480208904,58772.8574802168,32435.2481099777,58028.2131955028,60595.275326632,36565.8038924448,20742.6969707012,46666.6380106471,32203.56693957,36535.3153948672,28163.2950692438,39019.357743673,24709.083249326803,43052.968562115,25003.916111309103,46696.8926647678,50112.4621997587,43265.9003231674,67802.6944561861,55408.705950249,67048.8930004649,40262.597640976295,46427.499181591,46911.197102163,57359.55243464559,34569.3046390079,52797.4010375328,56630.39526436481,45245.7397524267,20803.6145358346,57717.606790829406,20647.887645755,59046.457153745,62662.2588303871,33614.4946096465,48765.128867235,57240.7569433562,49973.6664630473,41255.9396866709,61129.7231563367,48938.5834359564,68648.2413951308,41250.828541815295,22415.654761716694,24112.4993935227,41692.60517694061,23516.727697569902,53812.2264831327,29750.294801779102,22633.676922414503,28713.8305185363,63321.909266524,35276.5879873186,35914.6093064919,31568.144324701298,39934.0674909763,48614.8496787064,29838.1248069927,57745.3588764183,44447.529297322,51768.0053412914,34891.1404423416,45382.8078974038,40719.4903166965,55145.78500762581,48752.4240789935,55763.4274172597,36431.1614120379,40522.8282837197,42465.6697479077,38561.9440395385,54957.449673675,24822.069837246097,25252.4877362885,25671.742581762403,60672.1455859952,60729.9492391758,40240.7275559381,57513.8174626045,64287.3976309784,48428.033646196105,55313.832247629805,27045.3995722346,58216.0719833337,34722.9648311622,58503.7710075267,55299.7872396372,49501.905920915306,61765.7090350986,48430.993668735,66366.9574237429,55320.7800071687,48774.2881570011,61679.9531551078,61485.179599840194,24402.4401693605,21258.9027755894,48763.6805442162,24406.89381212,61693.5863089748,22748.0330434628,21479.9467171542,51286.6564025171,27153.6639239639,36370.493976865,32400.5449586548,60434.1644258238,57303.4797608852,42994.6822393686,68339.807940647,49292.3031374812,57802.429695148,50779.3807936832,35993.9897595905,21771.129341796,61414.8012641817,35784.6634858288,24791.186703369,49048.7573598512,69852.0587221719,21217.7474563941,48031.06741048401,64072.3132225685,56689.4638980739,45769.2595245317,35020.4887730069,56751.9285064191,27363.6317974888,48455.7174076326,21424.0913325921,69992.33271228151,68110.2399528027,48015.5547428876,23102.2177892737,46134.8541360348,48547.961381264,26095.0269107707,64057.844788767405,24454.1906216182,40506.9440067746,43421.0457419977,55881.5417974256,45917.6006889902,52901.9095399417,41183.8246555999,25379.9154818989,27514.0884728171,44241.28300044691,29076.3377142139,60536.9128682651,47881.9559956901,49144.371056463606,33707.801036071,46442.282786592805,25602.957250084703,61236.396075692,48187.347878702,29933.2019337453,41027.9073566198,49990.6601081602,59792.5085853785,35879.519993905,29102.221718058,30047.8194071911,59299.162721727,64484.0147974901,36352.4222909473,66034.75430049,51650.2713714726,31898.159910924704,58780.233496800094,67754.1046682745,48500.2681543119,55704.7981582582,50458.9582025073,48263.00342567269,38755.1627052017,68131.66429521519,28991.423936095096,35108.5579534993,28858.5988734849,22800.796774681698,29572.9758962989,21982.0173736662,45576.8383620307,55068.6689373106,56441.016243770704,68047.9253106751,36275.7358630188,52389.366847928606,23678.3761112019,37707.6429477893,57753.5689622164,30529.963287990497,44022.268736735,58533.8846826926,33702.531834133,40236.8720667437,62619.1559876315,50738.36219264191,64466.7601375841,64636.4021860063,22371.522190515,67994.9884698726,49640.00470237809,42067.246446386,43662.0926880278,34237.5754192472,26300.4465540871,30803.8061647676,54421.4101554826,24254.7007906251,59221.0448742844,69516.1275728606,44311.44926231349,43756.0566049069,69436.57955154781]},{\"axis\":{\"matches\":true},\"label\":\"loan\",\"values\":[8106.53213128514,6564.745017677379,8020.953296386469,6103.642260140699,8770.09923520439,15.498598437827198,5722.58198121271,2971.00330971188,4755.8252798016,1409.23037111453,4351.0289707232505,9254.24453803174,5893.26465933928,4759.7875810455,1850.36937703064,3977.28743247384,3935.5444533423497,3277.7375531263,3157.442289970661,4965.51606626419,1148.11805715996,4244.057136123401,222.622298697307,4959.92122589578,5465.26788565462,5361.28271628474,9595.28628892989,6376.82294883561,2082.62593812344,10871.1867897838,6155.78467025544,2862.0101387461,4221.30315714475,7271.552032470579,1728.4237547148,341.146965986397,2109.2007717368697,4326.70507344396,968.836382674606,3489.84313638823,7035.58910734261,4167.78672391926,4362.90581198044,4227.0189863608,5730.588251384711,1185.21469984619,4892.209733649001,1814.33508159906,1788.97373591901,1658.07023321236,6610.36617887751,3344.38440143163,1745.87167418898,7158.13906028943,267.696298601759,5549.799127875761,4364.9752805952,3075.34572793243,2393.0996785886,5947.42172129888,2129.59716481131,2044.04704534067,5151.07044539045,1087.91936375134,4076.58391416475,4949.90233344449,8.01207624713557,5946.822296779959,2692.1634585589,4621.99774242203,5992.885092439251,5604.16999048292,5898.0008931423,3507.25216607221,2119.98491147902,1765.98333716344,1922.61002232725,9226.90204089804,7650.65520988095,7388.02443997422,7252.120003970849,7893.55988850644,5406.34492649729,4211.30261071966,4514.0097801128495,7708.31562497011,8066.69786524019,1513.62419967009,2378.7661730363297,958.979822122802,7520.032053087841,383.107569352407,4391.981053651471,754.601882142809,1183.70456825763,4217.166823074771,1622.31739232604,4147.8885848744,9601.3754821711,6879.30600704276,7292.264176862579,2313.8250047974,2001.28151391029,10601.0827828556,12072.2557579712,141.703817946414,3928.3039085182704,190.889274816911,228.33538696889,2109.2427976728,165.506090118747,106.09074717935,2796.75230312401,2628.57792284269,1379.91312425834,2403.4782156904503,804.092441476811,56.16616438732,1793.75025542512,1627.0414050731,3783.6011509907503,7757.136788699259,1429.4017623047,178.333870986952,3635.6005890215,1494.9845683242902,2295.81165641849,552.398166405428,7364.735577645109,1034.75883833309,1810.96045966416,4255.2521372008505,6056.81721377313,4263.49303076889,5519.09603957038,4575.52763542752,8176.70716548325,3293.25087871026,4654.249217083549,5029.48878154619,6525.21842259918,4439.11615420807,4189.83256804479,5706.32532253577,2898.7618238762298,5094.6700842702,4333.360862430611,5792.906333268111,6455.3917717800905,5380.56059607515,10868.2414720072,2684.70067065167,12701.603475,3317.52987409072,3157.9610817063103,9881.97600620667,1611.21659719418,11423.936295348798,12498.040454376298,2913.7699313302696,5514.11742142548,406.720769305791,6013.15287400369,1215.65255980478,5282.728560308379,1411.13008049743,4907.67408446776,2390.8505965863,2707.7609389629897,2046.6850503447895,1686.83590183974,10711.700895547,2056.75238228244,1130.73526530684,5492.89368937988,818.5084418876919,1746.93655902557,8088.568018568091,1802.61699404161,5836.56338145928,5521.5074051112,9589.83352507197,6507.8501914892895,382.24890411041497,10396.6181477631,9704.7824094498,7274.32562822359,135.931684494729,5809.8990004485,6388.369826233511,3827.8939146126,3558.52726155765,4452.330679191939,6790.85026335851,1148.22143592675,6361.97343810153,9841.080552709607,2382.46677216556,2751.08884293104,395.000775087053,10780.2718821749,6110.57279243647,1485.07993541129,4350.01989674202,1758.88186466259,4115.4847193336,10725.4847277828,2278.55434854177,2160.78490802133,9290.575344923873,2627.4054884209,845.3663712741251,858.511387999185,3343.36716094004,5255.78828313976,6440.861434225771,415.240434973958,11061.8118946308,4844.1722236387,3834.0427822767,597.9440655279531,1170.55633399312,5894.04131672805,1969.7941341928895,2738.44049607766,7531.10124850389,3312.8776215380394,4255.62639181993,8402.415585756991,7879.738136012421,7724.57141377445,1445.80218914379,2365.28749039987,6476.760852061379,10326.0897733222,7329.243163822591,6040.77206183173,8035.88317278016,8055.305084123921,3441.26141621257,7382.056426137521,778.732695554933,5174.57056869183,1870.9252528540696,3400.91074388565,1455.0476020381195,5136.81930751016,2749.08019063432,5043.14863656084,3286.21288155866,2453.3761214986803,443.666538113212,1851.31156299008,4341.00808194247,4069.40264613646,1064.68691788658,7902.74296522359,5630.7412209842605,6536.96636294544,3871.688901934071,1498.39091851883,2003.65357036953,617.538752197269,868.1624732744141,4910.54765823574,8366.61426770219,2321.20631423091,2888.44470996322,490.742921135624,4805.97154908401,495.021199154345,6054.24412635839,1693.13737803293,2828.30861825601,8508.83539912434,10657.1061233567,1205.78601273801,4098.11578954984,3518.4526294613,5851.4097886154,1017.39615953411,6525.15179253791,7414.5528532260305,8922.19971681344,4816.77607411979,3950.870172149721,1879.05966237435,1854.23961318048,3646.93785979368,3595.50194172919,554.4883448103379,10433.4743453989,9607.49884661811,1448.07198358459,3030.26724082269,6339.85084448677,2661.61251596017,5649.452468489761,2966.246125205,761.422404184785,4145.00358705858,6739.8585984927895,1971.554219965,3971.15547880774,56.9909740698165,8831.18436544789,5416.3577980789005,567.6687734239409,6472.34700724504,4551.876888607671,4481.162212528449,1922.6566258695495,9447.117157424407,2075.59611242181,1507.89134084423,1897.78082087204,3674.741340143471,5630.44497235335,3601.29968528693,186.828073932876,99.4495914003405,839.8390632084551,5757.84899502697,5090.39277440685,7643.631046107171,8755.6919767255,4213.46525948758,5953.45352370895,5688.994849119101,4588.472285879389,4834.60379766491,2427.65078779499,1994.6211339084696,6120.090021073979,2116.53731014055,8068.319703512409,4004.9888524873695,590.598081194187,9848.171448939893,4536.85720940257,6262.00794529651,371.040895011703,11928.5098562393,6801.4058925032805,5619.21760364769,7758.79982277807,9875.03718259757,5732.39903226614,724.193188479234,5659.509277874139,5207.88311679924,2395.1653496083604,5947.64546828592,7084.263509070559,228.330803623653,10021.0492234587,3995.80729495872,7189.3507350953405,743.86714101317,6183.514146370021,2588.49026590007,8743.509701223791,1940.67404392486,5312.49170624282,4037.719603747871,934.477133128546,1072.1926587434698,8120.2580899123295,839.8690240153251,8361.7191002815,5353.56165390711,9332.70266633384,4947.308727595901,3545.72397128405,10836.3830881501,1826.51630229436,5438.09369329612,7879.67620843062,7915.31344330937,2350.89150808837,6425.36536372003,3132.14869181144,2563.96087298893,7110.755833314191,2928.98408763734,2767.8372998142,3162.1338373512704,750.0671069984869,1756.03762496614,3946.89824562224,607.909484188127,457.19661720842697,2104.38432287864,3031.24632606192,680.619696071219,2299.4181716088,4521.00431151248,2836.98817845671,1387.2488010579998,2469.36442601101,4592.245550450871,1096.96707536899,11540.045811650702,1863.89100271298,4641.704784522371,12307.5623225278,2774.83278110032,4030.80369209214,1671.18492391845,2342.47292088101,4953.77359939866,3248.62771841795,7363.03763852006,3928.1218464785497,2224.8841598973604,5862.83302915672,4929.87881849349,3890.4710496591,1225.72022331307,8196.93072552584,3495.0698810157105,7441.75961676144,2084.37086090284,6232.28039861045,331.364308695631,2368.3812306499804,2366.17424012737,10533.4551622879,333.441398145797,7005.0792919714,1551.4202880312,118.342142143385,3713.26268829211,10282.9974457346,1256.4011595099698,5575.2536907666,6637.770870559039,2324.5477054729,3257.0126292117498,4317.71547822747,10643.404179057,11146.0744599728,168.054785283069,3369.37702306496,5272.53501398802,3371.6643103609003,890.93953525642,11246.488154757,5216.354091171161,271.734468486729,11617.7489093447,949.9566246969208,8866.527185298779,5036.25528047363,7896.22376609728,6153.9365638338295,3900.82960084791,3052.576690614569,2639.7101263171,2550.26514748866,2733.42055865967,9754.15223893674,2763.26395484522,5855.18559413532,6043.14310633161,114.499967406218,927.0675938508432,3254.74895032068,2584.02203777874,10255.1901115656,749.145368410122,871.530091132259,5193.83819663771,3603.3640781354297,5564.163603137889,1191.33213785363,3589.25350629665,2237.92776424099,6152.00483311834,3701.53760172254,13172.6812981319,8215.55838399949,5544.654683502529,665.577000121256,5643.179899328969,2809.32218484219,1415.71826260479,4172.98823810663,9698.582169129,1723.3993728988098,1902.26561035478,6882.87341589713,10156.1423121761,4065.2187953051503,3810.1318418453498,8494.01643069754,4659.53597585937,5415.81741673557,6388.85036020661,2991.96735071436,11047.6843350607,4481.43686080601,5602.16002178427,843.74909202058,3640.84888556012,3859.471822981629,9255.43964893025,5541.821255211639,11159.7931652015,4550.12285317107,947.19963838056,1227.10948383375,2618.2430369954,1428.43962505335,10897.9054797653,987.261536638484,11207.4952297971,4856.48345389872,1378.90905711849,9781.3267216691,4961.25568000026,2410.2774142149,1857.46157804557,6870.83901013046,6571.19702062939,8107.26764489386,2474.97715917028,3562.30829594435,540.617724673382,3367.7019234673803,5850.77069132097,10649.0720502131,7045.91920223369,789.63336134554,7676.310662575241,8244.74889955889,6471.62820239922,4267.45190233138,10486.7443460306,3213.89814552844,2713.88507461967,2739.71998955614,3872.40246823472,4733.50582969986,3343.81635769923,6519.437059856079,1670.73789259357,369.527739366732,577.530782393529,6494.1843356626405,1256.25353818891,2889.8801946867497,5030.82879986161,10035.603020993,7896.356942317059,3343.05627581805,960.137251358102,5142.11083711624,2198.1448889683497,6513.1501245071495,44.5272460985999,10427.4705030759,3064.718487716289,3853.08804154651,1077.8404003017,6697.971583270711,4269.13603478981,2275.76342522213,9351.00613114576,8824.16474742706,4462.82325767409,3563.31978870471,3141.3385363147,8334.18200780114,3951.18974682111,3206.9276653834304,1165.49215757251,521.5757013705901,3492.3340219336305,8892.963302602671,5180.71186017515,6077.680286835239,4589.26726538164,8474.98246363903,161.237551122297,10033.491680429,3650.19635167761,931.790074364881,7168.70700152735,10768.7478385081,1115.15458691793,1320.46244258164,2468.17199888535,1642.96947053086,9183.84229457753,2554.0443515729003,5099.08745959981,2761.8513804366603,901.9277106596428,7530.76763344307,1093.67920279022,3040.9813501286403,6823.434442500439,4622.27519842492,1783.69732612708,1251.8673663810198,10108.7958488382,5408.21212921339,6019.83442285853,5021.63968348642,4360.05300945404,9792.09153131215,6145.131816878149,3362.77448557159,3353.6935708995097,2716.6558194475,5927.57467616725,2929.85142379499,2042.43646281071,8525.231909003141,8569.220572619399,4606.156805288821,5049.635508890789,3276.13994797231,1086.2461646268598,4534.57597308744,6463.64775060681,4440.41961655389,1833.58105081134,2430.10161848915,4928.60703383372,784.5773121318381,2663.05260942853,7571.68231798672,1016.1410075047,1594.9726819505,2290.43034182208,1801.22819471633,6917.50843520967,2289.85125057492,4071.08303444266,3614.26818549068,2611.8480917835,1365.95220859435,2285.95653758834,2963.7944322157,12731.894637403,2888.6337275749297,2156.314406342,10816.7590093935,656.03318788707,3216.094541183369,2282.91102164954,8619.74517744195,4833.47746990896,1639.22563884266,10418.1929763283,7170.946724121321,8957.33054393952,2921.2353791526803,4980.01358501464,7258.968491635759,1368.69192225734,4767.2771918935405,2234.44313665993,694.1351678029421,2699.85134586163,139.31457194860002,524.201092096584,1741.1839190889002,2907.95827229594,3901.93798361853,2161.08375159161,6222.41527252187,2911.40806707675,3485.01802587388,7602.61305507845,4749.06867530672,706.2289942236,9342.47942698609,5219.80402778761,3133.6244473393394,859.589294215437,727.194664952067,10284.6067864395,5445.22266010925,7335.96256840597,2766.28091438528,5443.27630749977,9390.67226092499,12129.0822259617,1278.99950423557,8134.220407851591,7327.28357684415,1012.93499290592,4362.0831523754205,500.599105646756,7880.68580712225,2070.3793805860896,1305.08243308288,459.034688796151,9921.67238715704,8445.38534278682,1526.3924759160502,9857.229949587008,2343.49755586202,699.9557764042171,7286.550390859979,6808.86995498301,9448.20972109913,974.563067419013,1469.12970417187,7181.47855257926,657.0484089194509,9572.58688405588,7572.567589234591,4569.64791088147,3441.64452422469,3423.34617207901,6579.534006664229,5732.2401076494,3948.14334405049,7327.070282101679,923.028441324114,1417.84652200166,5757.89047926275,1494.21297427116,1049.1754772678098,5277.740419709729,8523.90111590581,5408.72776719187,2089.73250000687,6914.75153975136,34.2851058172658,3965.25197444964,10641.4514434212,6170.23911645177,396.233677598603,1446.46810321108,7908.3318430222,6095.308748994189,2240.2774038697,2529.6129690448497,1858.30823957284,2634.3585848472,4337.82555851561,528.181250121176,6747.232379118979,12176.782438093798,7732.69639567081,6994.48780081424,4298.705027677411,222.196438639024,1529.0188684850198,6615.38785751688,780.832856751006,322.724155555729,5104.74678854711,9099.72433792209,2956.97774567302,5774.07427035938,5042.326368067929,2855.3791874510603,8859.08746877633,530.657824121697,4770.937668011939,2383.40775653766,13041.7794518553,1718.9437817568698,4842.077960288339,1129.5624120295,3972.151405211429,6928.943621162839,4876.366908841,4445.20317812007,5272.80479170349,8129.0489314653405,6034.153227563571,6800.24680592278,3737.2121871986296,4367.26495019919,403.40213537013295,3791.02352838761,2928.10043864962,8108.172683405841,6868.98780501089,6458.79058513878,4513.20369417302,2816.4301578897102,1137.65789054619,2385.2248369160297,1169.83592466577,6978.52505744359,3993.146866004861,5268.22747487761,4233.08958563064,3090.47311929628,2284.00567663756,3213.5419628300897,493.589997017378,527.551568398424,8253.38456880542,2469.23458468339,10990.5337530187,2952.12315164984,4923.81484576435,3728.39703071966,7482.06736878698,719.946664588216,1510.73550672394,6105.7279291327,3960.71087317317,401.32673340017,4184.57820320039,1136.11727060881,6993.04944148178,2522.05718465992,6391.153194203221,3644.30607009879,1002.34057376253,10614.2484928222,2461.97440578532,4283.2269736806,3582.151363963449,5302.17994342883,4091.56129167425,3852.9924436463502,9636.80473053473,8124.598979910799,5262.616087997471,6229.83601904736,3550.58488878171,745.19474910364,1459.66859888829,10352.181768904,2216.9753341908604,2243.15399221322,51.640260239487,10070.9490549973,207.543817763712,959.097214811603,7410.792024329541,10677.6680182666,3641.8084108437,8699.94668231535,3438.97927728268,499.208578202042,5296.94027257637,1036.61680359844,4835.27465661614,4113.299166910279,6690.63533769203,2062.7191576926803,1498.20031600578,4601.94008647427,6429.59368808933,4618.39218432669,6924.90156914655,11805.55576878,390.335860866272,4509.88142162832,5154.909842680399,1664.10492654064,2727.24168062816,1500.6537452812197,1.37762959325451,2664.92567484772,1440.49916760651,1281.0357291798,1114.91482428033,3748.25812413245,257.661201491859,1522.64676811391,901.277776817105,10257.9183922935,5425.280945064939,2166.1230995161,4229.914353055779,4849.33378471958,2153.60772508337,8881.58363601412,2927.67544441237,1498.1612553260998,2089.9094635253896,9399.50460218589,7983.705373244459,4200.697505155999,4049.25386522537,1790.3486165291397,3703.95304740702,9004.80171434867,7405.8032096322595,5571.456364476229,763.9541158786079,2983.58332216516,6557.94033087167,6898.78371916522,2649.69535606017,3210.80704797276,2698.04778142586,1456.23494449525,288.64676925315604,7453.26426764463,2648.22045208716,1770.81827895977,4396.0768773955,8801.61012677399,7007.1542526718,3493.22456741209,2257.06478222562,3716.2546852118,423.418399504824,6485.05748033896,1058.0392021630498,4286.345614412679,9286.3575449382,1684.52656398846,7354.129522959979,95.46072237503591,4431.280471397489,3933.88301194765,5888.3757812673,4341.62669876515,109.379622752269,675.712031078049,4076.8767501185,2632.5518109756,1504.47346177984,2961.95236821591,1521.8684050771,255.072655958066,1102.24036140034,1279.11309760756,1066.21460111103,7492.90982010653,6849.48422314614,9097.112036065171,745.076094530662,6752.58607130953,4545.15745895782,5203.32518145625,6983.36074103902,1664.3860619101802,7589.759990371129,7475.21228234162,9282.92773534658,3119.4126781587297,9109.774341958058,11175.8410699241,5181.84850071794,797.34597206237,5085.311918671479,1316.18712771605,9193.09526352272,3310.41011772524,3946.0014470861206,2224.46976521287,5719.2781159757205,5976.89656826076,9217.6886691734,599.8303239514551,406.8518611561721,481.842697119885,10506.3280331645,372.974253343653,9521.769942117133,5502.73603087282,12607.951664106298,2857.00741354764,1933.35356770978,2043.08955289918,1745.3719220870998,5211.32562979067,3010.3502403137395,931.781052200198,9534.660206225592,1779.72773531897,11417.0600895208,444.613776925989,107.597231536379,2539.33674893338,6207.18616502598,7235.19471689825,6289.25607587104,6342.56790924236,3489.40412162135,1791.54296221375,532.100255807783,433.458417926463,1035.46249645863,109.478853603893,3051.57426672854,11890.7571906353,4155.72376708707,6894.16538143413,458.093724368234,9452.2179473418,2805.86374471748,7236.173930254241,4739.94895405831,421.640379591623,2841.63342276648,4058.78953380435,1530.09024242426,11921.1995369591,1440.07254888392,3181.78051934063,5685.65364147975,1579.1682486472598,3611.29590336632,5826.46289826698,8267.32605257876,3901.40208532883,1796.27050255779,4053.51993761002,764.297190003271,2672.69202602406,1402.21785398327,1091.6248164287802,610.65784710333,7337.95043106519,839.1250811884869,3170.045653648689,6154.052456547579,3475.9054232585304,7933.4694490862,3577.44768965771,1262.35606612176,7867.616835630941,7822.936090935409,117.712586947864,5567.941087462329,593.1247798263599,2852.37179495901,9154.47701536417,6227.54177432686,8293.576747493142,1790.01356619936,2241.3881435993103,3759.93723425993,8734.74061739229,9812.97871741119,7730.72757527023,6053.79158149127,9852.1411102884,4778.700542847971,9442.011609849642,2341.36785790557,5473.98555060076,3041.55290815678,13190.3658861707,3269.5343268133897,2290.20428885451,2830.17986246731,51.949242778070094,4669.45735259152,7206.852592751371,12427.8357034718,2106.70979061764,2312.4217766474,3495.85630614459,1930.56653214215,1870.71508930953,1699.68097183874,4144.44814361402,8836.775689365999,1693.92017886189,2244.8831092986,9911.134962918291,9864.07802710305,596.481179541814,1847.09424972443,2443.76891476886,483.620167720885,3696.95324417008,6276.830736703339,4625.19337762744,3671.92309443706,6715.85790769023,3544.1560393991604,1910.32953084278,7660.34617051509,2253.19025276782,9255.13775534296,2553.21277794851,329.450042227758,2168.75173497275,5873.410979425699,12147.3142194935,2728.1899444629503,3668.9947836488,2841.69798234271,3990.85075975194,10504.6681673838,9490.26419041115,10614.130949683,680.9047821836081,2187.21333714559,3702.1714277833794,7833.47776141374,6766.29418079942,4859.2352866332,12213.9493398984,2929.3597040424297,6587.77555584342,4622.84106541178,1040.49367322611,299.825137750899,1777.82855129135,2591.02894660536,3278.1797272838203,28.8825344418559,2487.16518212314,6832.6848165415895,5061.77783089573,357.088124203472,3845.74184934565,6453.05797893021,2940.4239697461103,3376.90746524937,5626.86933989185,3805.8027214255,2173.7676901031896,4871.67757618979,12494.2672598523,2224.06813417899,3682.861931412271,1989.18297633362,4605.91877302795,4074.95259111004,6529.019522377729,3646.05161791101,919.114640024036,9642.09253829297,801.779606017874,475.42059173565497,3675.83341454456,2507.64970973955,3672.10982821562,11479.4378054928,1590.32580358526,571.9329349300431,4199.0243561842,5366.64079316339,4096.783714405129,1777.9531313067498,22.327933177844,4951.91577108814,5914.516662335041,8045.4409532236705,431.4501612013101,1957.0579294027696,4432.66544443383,4582.93827444975,3766.6144347919103,3216.4912546542305,2562.69555387066,3879.6726518436094,5083.72827173068,1054.26808471871,6272.78844958014,1042.8503755962402,5491.03560172096,162.79559613813998,6938.012519684549,12715.2947207366,4124.33040419948,6340.708854775439,3489.95714756947,10948.4994895604,2944.5373541645,1247.01279101851,4513.24371213783,1094.17752939053,3709.3044307035298,365.646185165774,4990.3690908292,6644.34421410885,9686.63030666495,10235.2726101919,6115.82233293271,4176.9499552691605,3581.6550468118603,5671.64432790405,7906.14117885321,3299.88507211045,7364.001944720329,613.240620104445,1901.14392165499,7513.18286435755,7014.62270759084,5324.04818485217,6253.20667662182,2632.26561303191,7877.415131351679,3250.00608359258,2962.8251862479497,3107.8837824180296,2544.35600305062,59.469163350624704,11264.6911597501,2827.28940194175,9189.61151437781,5299.2397193039005,4659.9533251724,6127.38168790854,1598.18356896296,5705.98616300577,12099.9702958367,8083.23220068418,7621.410218952421,289.57658198580503,9577.95514323174,8551.25989324198,1730.1519065694,3229.82006262472,4465.872768882849,2291.98811856518,510.739968904777,3917.8760982038793,5310.271528649289,4948.488069855121,254.843578632033,3318.4077865437102,4136.76112621072,3665.88089899456,6766.53302048682,1662.45361648808,2151.6965921599804,2482.0422504401604,7112.926157135659,6777.1982462325295,849.545184282307,8106.859292919659,4304.92910889776,551.84308108532,8889.92840808923,3394.65824024028,4580.097830766021,1377.01840698314,4602.24584082719,6224.15288632328,9143.611708737571,4569.99498661641,3360.0594135198903,958.998081921469,2866.5858997555,2877.7561038956,3203.61543829573,3411.65642431526,1187.4269503018,622.912810540852,2352.28711613826,5617.993125845799,2574.70775577185,2242.8257603424104,2264.72515178074,2941.02815492764,9139.14371046925,417.633105841677,3037.9681472571,4448.41232274551,4834.73864381419,3105.4430213977303,8352.061533316,898.133906760723,4548.11028864043,823.8351619830189,5051.30238814197,7875.070925940841,1743.7746848123402,5883.660557890999,721.3416051022009,1366.53602502689,10462.7404495644,2187.0654844887,6745.81770760811,3960.8556473890703,812.3235343063901,1833.48584968453,5321.71255785555,1906.7955301891895,4191.7158557146,3005.82686432775,6527.99022211544,729.6044302940429,5835.54239114684,5026.47455722886,4099.90204534619,6333.39158836421,6427.726092600339,1173.7409424047,12104.5342079885,811.907862473912,3345.94195799976,7149.066896488221,385.4033625116001,4517.5798007499,2949.93167350781,10054.634638852,6300.86893870814,4665.58102065705,7895.112865175709,8047.14075406577,1118.92606413711,10211.7219327373,424.352131596398,11073.1585048799,2356.18197012062,53.1862073427052,4728.25954236021,3103.8122277069,10238.4962972866,8137.1644030735,2606.0237760494,2903.03612840759,7745.75480897024,5700.45719520566,599.347887026431,3796.03274043959,1203.70052925741,1268.50638260119,4999.2020148962,6210.280586951011,7367.25824696371,5957.386323536291,9340.54446223252,2096.9175014220605,874.324255506621,27.2524822472804,2130.79353472588,280.878547416661,2520.51445210598,4093.360006036261,5957.993317069289,7942.16814459979,4958.0677755079405,325.119591532296,387.394420295952,6243.04502975119,770.7775495685299,5592.65180728153,5787.6580446965,474.525326666737,5762.46995805143,4879.84613933048,4902.97522079205,3664.6214515027514,6563.41157975832,5415.05466726812,13025.0565706657,2847.8191727088,693.2147137703861,1487.7860414097595,715.836604414868,5771.08825374589,1399.8754718255402,2504.7226488012,3520.5659009445294,2155.8121729811,9808.190939503142,3980.57878313095,1419.80552276132,6037.007732557621,1558.9307648094,3944.21931770088,4155.44929016665,5315.97382040511,4990.55712316988,12727.9975513072,493.714429947331,2143.38697161442,326.98956762450297,3719.23013486841,6401.18948620131,7455.92015661369,6740.71613617934,2225.2245333151,13766.0512393337,10229.4078769501,5233.66322803221,3608.80520160367,8986.718948176229,1413.7832242580898,2284.20912920209,7832.57241133557,842.569077270774,3388.56092327455,4574.85478041434,7063.8980358062,2922.2886852381,3729.9746499427,5239.59477294428,11963.3642158544,748.9407178924,413.311163077388,11298.172191103702,1490.47025130926,1231.5373682641,2495.13299137587,7443.48670694591,5609.326602439561,884.735504669608,9255.842933769847,5282.8491817832,1156.31970334277,1239.6882584746902,6608.96879522724,7287.540764449741,5271.62698185449,647.879378621526,1027.57779209235,1452.4933777984195,3313.3004103866497,7365.93891557773,1017.16654456031,1330.06763791175,6875.57968295662,3704.032126276261,813.0279886810209,3644.301903482829,8238.11502092605,1347.33161169418,4087.1807070511104,4495.27875332798,6465.750589588941,4161.57314849677,1618.21835749227,6270.5740351263,8974.49202107934,3090.99245474831,1287.6320807617,3870.33389343645,3279.55782415037,1644.33917692447,10971.9746358776,1068.8873978829902,3639.90003844081,538.230522684501,23.916427866718895,5968.4420381087,2756.97230030986,1603.92486156568,10668.3635123802,2017.13994839746,1428.18921413846,10028.0158575977,1432.3558619028302,2875.44522980166,3437.0768952533504,3545.1622485755497,3295.3200609455102,2426.30622270591,4406.99505612761,9690.30879814676,5686.64311580018,2574.09343236607,771.71749424679,7921.83050973712,5035.13937788411,9131.86441883589,10674.7702051663,5797.292398100711,556.55594070128,4285.38691174949,2717.0794847261104,4752.5575717228,9008.154521284408,6855.986311283559,6708.67359111538,2548.41391592928,2413.01190680546,5240.1143734774205,2628.2621240183803,5532.3438431879,2072.63406602468,4318.37772179352,6337.6749385873,7458.559482000691,3676.56835427872,6470.410380719821,4054.5517710623208,3668.6467729337,2659.69454058204,2618.9734974882103,4042.53973374386,1912.20509104439,2085.81763906667,2296.79532725441,5650.88968761866,5176.36116095836,8832.65170692964,2590.92817525105,217.48852796721,6114.867545566911,5617.178645345511,864.624052947255,1401.6850611281195,4255.36763560122,4464.40426807541,2549.62047351317,1508.76177567629,787.047189746112,2155.66005854711,1661.71345972499,5347.29550689902,6284.83357255315,277.387568479942,11576.5422365979,1269.25457474922,703.363922990578,5890.11364359475,6619.83268303124,812.572549581062,6362.39035410808,992.5777176640448,7707.240563210759,5636.353440223261,2950.31486311935,8750.83208800708,11276.6225405751,8004.35984024104,3009.39733978784,3692.1691720194,436.935246909842,1135.1522255492,1523.07205829741,4673.766197510329,2457.9136896619,11775.3545787462,607.9656119507911,6509.698608005079,68.6254562680885,4752.28787681676,3429.9015786975897,2547.27974185242,722.519589232964,2643.10643205609,10529.7234876203,2464.16232121798,5785.88427485782,4652.95174811759,6071.34020471132,2639.91684550513,2248.24291357626,10969.5966863322,2890.65279259851,7218.968224057919,4573.59408976341,2220.22559978896,2749.5856968328803,4628.60300266554,5452.24453174869,3587.7223890690298,6360.15489740922,7548.44437291303,6111.961017092231,339.592268926788,5644.653158554979,2427.94988726108,6678.56280037054,4776.49048616368,8109.05140901618,5556.83987007072,1064.08187542437,4584.611815906,12380.624706792,6144.939435945949,6241.27050834808,8346.32092177162,2677.8257134135,2389.7007594319502,11495.731101963702,3580.46367722387,5714.026373679871,6649.801458944879,693.196416870457,3554.3893651037897,3678.89967602364,1589.43843220617,3327.23623483166,1408.49771708358,9540.41662588762,5120.40679717739,13376.7977060636,5929.09802983651,6617.40017195646,6803.33339273416,925.795592135596,3393.85658908614,3673.8704148985703,6501.041225662329,2393.52414875071,2075.5198219004,5673.599822075799,7557.8733378587,987.7941458290892,4169.992872455129,1074.78790405487,4087.9950476953695,5628.01200410865,4024.0893667788896,2567.61515437351,6752.12245843297,586.6510961630651,10080.5243838632,4626.53863737325,1020.97816418314,7172.65433235279,6210.728279474511,8418.25315995041,6590.777229734051,1933.08292037314,2785.7795625491303,2373.17525529916,1102.84809429723,12840.6967096981,5037.9338614917,2271.4045367837102,2135.5321373166003,11039.2887187921,10306.7053645722,5618.20456988315,9955.225361701909,3813.6992679593104,3955.11335056197,3787.63914107534,1546.42288551626,10161.9466747561,6145.98775686718,8945.28946874109,7207.9411733377,4445.502385401021,737.253724397632,2163.31248732975,2883.28410681555,6931.716435305071,1909.21513932129,2728.31148575531,2918.47772058734,6453.507839377479,9421.29841256448,4370.79361949515,3599.0688208868105,3102.34705911763,4956.94156453161,6106.10958603407,5589.328271244829,6887.738420899979,5831.52142854804,3941.69867338911,901.753117654396,1190.63010538961,8733.44221481746,840.714206590161,4342.17811096838,3124.31240923735,2188.50308566908,3123.89873794984,4203.50355956808,7511.0034944948,5269.518402890621,609.350885818378,5533.29218872027,3950.0007899560496,2105.7095047383104,8371.493105428,12972.4183627744,11173.808451968202,4005.81614803106,1048.93237153118,1853.41915551256,10321.0987007481,6978.34712803046,5697.0214691969295,93.1526418784096,6038.16266197042,8375.729867077429,5691.09348958924,10048.3942099748,6815.48514146401,7134.65611853662,5366.868792741489,4731.81686363074,1719.03804390983,7533.679838739879,9402.87611781971,4280.79419881294,1513.3276370025303,11646.9106059041,4033.15351918701,2245.50527811304,217.18796207658,1853.68197037988,178.692471563294,2491.46086135764,4242.64064753559,3809.347155149461,3203.20465616956,4442.3317798669705,1667.7487671760098,9175.66731776003,10503.5712534477,3447.00215249966,1857.25232688308,154.945616250235,4064.8180932401897,5487.820265810829,2444.73719560844,5273.55935226625,9041.87883545742,5071.3718912882205,10566.3538692233,703.602197848316,5161.10740861136,2527.7559225466603,8799.819841916751,5534.5507976726,5470.58784591839,6849.2948103027,8034.74777409028,4325.09926791081,7382.502551328309,3458.19361435323,8747.20862916447,6016.61509078929,6165.65881962793,5170.89985156585,2935.36765668552,2319.36285651329,6560.469542035439,5090.31049085575,4518.85835090904,6478.40253245573,784.894856825166,5982.80503901825,5906.0343086742605,8489.40598539328,4270.5329956158,7395.513416308141,2343.07383332144,1743.69146395254,2749.0798436118102,383.8501673264991,5990.3186079527695,5923.392464496321,3964.7292778686,2957.295712230089,8452.955623884442,1084.96694239575,3336.13147168388,11738.9157053453,2725.24031319632,114.209888099343,299.054705855901,12115.892310922,792.71105443821,2231.97616645921,548.596116253349,7685.3267435919,5639.24568873359,10382.439679089,3028.59132830438,7765.25282732809,1810.23233886952,6485.3015902704,1480.61489018621,8807.867970998092,1674.90563293026,997.184168539689,794.5568182373869,454.30767679965993,3680.17702845819,6045.0894869837,2606.12469797143,965.373227218518,5265.743252438289,6278.31627900097,2987.96212327688,6002.935110435239,2972.38102277662,366.101104406139,3110.53114737451,8838.23130454766,7048.005343392671,5685.405228108671,5753.89502717095,4534.490221631359,1888.3347360569896,2295.81809350674,7677.82385557827,838.0214411221621,271.725187722127,2121.1519558446303,3196.5597688723497,1915.3855935111897,488.93727346723296,2183.71342628562,4732.4981439056,5067.03292510384,6194.072050483471,13443.4731764345,10300.28124769,10839.9137599877,6535.851950033779,5671.45055982651,4263.85358792053,10011.410682346,6254.52761697167,1080.42349008036,8442.89137257217,1974.0099040035504,758.43484908373,3153.22282858557,725.456868595806,8237.046828605171,1965.9213566813896,4837.78751067317,5183.859126382,313.627941832336,363.89991696954,5296.90777315783,11302.7676868696,3028.83461924592,9425.70730928511,7651.577271506509,4371.71544106113,3285.4999476636103,1708.71250339329,559.905322890733,3245.0416673940003,3627.98707739863,553.520858639322,1936.81325684877,8092.982779946221,6820.315403719871,520.996033494828,5067.4100131801,184.744302350952,5984.95078361862,5913.64955570739,5540.4640473639,2714.4031075508897,6632.036202597321,6152.31449154773,2742.45497541323,6415.0862444378,8968.67887727982,8934.78576079228,7913.83773387785,6783.361362639921,7720.7804890635,7314.97632170726,4831.11117052535,6976.4632747324,2361.16680223744,434.86745161344703,2272.14762045204,6279.6870072868005,5006.850087456421,7498.630446855849,6921.4910285276,6301.594778224129,7718.479795185201,9733.11318882571,2503.7883995275,9581.83330584003,4073.41190141951,7050.43252621121,8052.38128314598,2226.81958036494,3649.6431030705103,6069.64909380359,465.011565756224,5990.716973188271,3728.48334170117,3060.03016771304,3211.67028085464,101.218538140203,706.619738681604,8172.05250385158,1733.40311054441,1568.8636891672,108.629911344562,1098.07336472188,1134.23438387685,3177.5173724981896,2855.2160995866902,3591.7975053486207,2474.24811229965,10491.6321514839,4453.824616990561,2505.86839812077,967.134588168133,6796.59093473349,6859.836595599039,93.89580488374207,350.44554839511903,9743.60925907749,110.202890548355,4844.68098269435,6363.11366818686,9246.26505750173,2690.76813397945,7826.32590939549,2426.0086222937603,5740.591697530911,8236.47651886542,6832.803041888821,7877.33004149761,3215.26309296887,1780.5073342770602,1795.2239577898397,52.872190279850905,11029.6677096989,54.0082423765092,1779.57452843508,8716.61125941204,1940.87069929917,5143.49041556889,5774.281958129571,864.9687379108341,5961.53181600807,4705.75708282464,8383.07416484486,8253.273858040659,729.3773771563091,7606.993238559659,4693.11169707689,192.144610510401,8733.179295151309,286.264434196967,3132.55183069445,5575.63564838086,1633.03577963806,321.578931158535,1484.56154845106,2214.92249276823,6562.9038372817295,2003.41184966425,5953.52187129338,4369.21887593705,1896.75499382091,660.241452576494,5335.40349911225,1890.4474777119,5768.742734990649,4944.05626409444,1391.6018015385198,6239.24752554114,3913.782123938161,3743.00343686135,2015.18296932815,5029.70763593419,2989.95099658697,7054.60614935761,5594.332971007149,9852.889427216229,7798.793462982109,4244.49803308998,7813.23982954838,1249.34756391816,4002.99127617087,3764.8151742023297,3740.9009356876704,5006.25382336323,4265.17370408717,4952.65334579666,4852.7665976795,9043.75604444505,4023.06476529586,644.384194795452,10398.8205918487,1779.8145966117602,268.29097076779595,5067.44996385047,6046.84084474272,1707.6728696492498,7832.44332069255,922.036589731527,4354.314411943979,3959.61177187414,9719.56279821605,8537.36966588191,2583.1064251157,2291.85642755991,7289.014109090091,5760.858733716,4601.60618266029,7269.59689733384,2658.0906316048604,2317.39367782209,623.024152762279,3273.63182294932,2225.28464348945,1926.7293969037696,3503.1761563262603,5522.786693255141,1622.72259832146,7378.833598730591]}],\"hovertemplate\":\"%{xaxis.title.text}=%{x}<br>%{yaxis.title.text}=%{y}<br>default=%{marker.color}<extra></extra>\",\"legendgroup\":\"\",\"marker\":{\"color\":[0,0,0,0,1,0,0,1,0,0,0,0,0,0,0,0,0,0,0,0,0,0,0,0,0,0,0,0,0,0,0,0,0,0,0,0,0,0,0,1,0,0,0,1,0,0,0,0,0,0,0,0,0,0,0,0,1,0,0,0,0,0,0,0,0,0,0,1,0,0,0,1,1,0,0,0,0,0,0,0,0,0,0,0,1,1,1,0,0,0,0,0,0,0,0,0,0,0,1,1,0,0,0,1,0,0,1,0,0,0,0,0,0,0,0,0,0,0,0,0,0,1,0,0,0,0,0,0,0,0,0,0,1,0,0,0,0,1,0,1,1,0,1,0,0,1,0,0,0,0,0,0,0,0,0,0,0,1,0,0,0,0,0,0,1,0,1,0,0,0,0,0,0,0,0,0,0,1,0,1,1,0,0,0,1,1,0,0,0,0,1,0,0,0,0,1,0,0,0,0,0,1,0,0,0,0,0,0,0,0,0,0,0,0,0,0,0,0,0,0,0,0,0,0,0,1,0,0,1,1,0,0,0,1,0,1,0,0,0,0,0,0,0,0,1,0,0,0,1,0,0,0,0,0,0,0,0,0,1,0,0,0,0,0,0,0,0,0,0,0,0,1,0,1,0,1,0,1,1,0,0,0,0,0,0,0,0,0,0,0,0,0,0,0,0,0,0,0,0,0,0,1,0,0,0,1,1,0,0,0,0,0,0,0,0,0,0,0,0,0,0,0,0,0,0,1,0,1,0,0,0,0,0,0,0,0,0,0,0,0,0,0,1,0,0,1,0,0,0,1,0,0,0,1,0,0,0,0,0,0,0,1,0,0,0,0,0,0,0,0,0,0,0,0,0,0,0,0,0,0,0,0,0,0,0,1,0,0,0,0,0,0,0,0,0,0,1,0,0,0,0,0,1,0,0,1,0,0,0,0,0,0,1,0,0,1,0,0,0,0,0,1,0,0,0,0,0,1,0,1,0,0,0,1,0,1,0,0,0,0,1,0,0,0,0,0,0,0,0,0,0,0,1,0,1,0,0,1,1,0,0,0,0,0,1,0,0,0,0,0,0,0,1,0,0,0,0,0,0,0,1,0,1,0,0,0,0,0,1,0,0,0,1,0,0,1,0,0,0,0,1,0,0,0,0,0,0,0,0,0,0,0,0,0,0,0,1,0,0,1,0,0,0,1,0,0,0,0,0,0,0,0,0,0,1,1,0,0,0,0,0,0,0,0,1,0,0,0,0,1,0,0,0,0,1,0,0,0,0,0,0,0,0,0,0,0,0,0,0,1,1,0,0,0,0,0,0,0,0,0,0,1,1,1,0,1,0,0,0,0,0,0,0,0,0,0,0,0,0,0,0,0,0,0,0,0,0,0,1,0,1,0,0,0,0,0,0,0,0,0,0,0,0,0,0,0,0,1,0,0,0,0,0,0,0,0,0,0,0,0,0,0,0,0,0,0,1,0,0,1,0,0,0,1,0,0,0,0,0,0,0,0,0,0,0,0,0,0,0,0,0,0,0,0,0,0,1,0,0,1,0,1,0,0,0,0,0,0,0,0,0,0,0,0,0,1,0,1,0,0,0,1,1,0,1,0,0,0,0,0,0,0,1,0,1,0,0,0,0,0,0,0,0,0,0,0,0,0,0,0,0,0,0,0,0,1,0,0,0,0,0,0,0,0,0,0,0,0,0,1,1,0,0,0,0,0,0,0,1,0,0,0,0,1,0,0,0,0,0,0,0,0,0,0,0,0,0,0,0,0,1,0,0,0,1,0,1,0,0,0,0,0,1,0,0,0,0,0,0,0,0,0,0,0,0,0,0,0,0,0,0,0,0,0,0,1,0,0,0,0,0,0,0,0,0,0,0,0,0,0,0,0,0,0,0,0,0,0,1,0,0,1,0,0,0,0,0,0,0,0,0,0,0,0,0,0,0,0,0,0,1,0,0,0,0,0,0,0,0,0,1,0,0,0,0,0,0,0,1,0,1,0,0,0,0,0,0,1,0,1,0,0,0,0,0,0,0,0,0,0,0,0,1,0,0,0,1,0,0,0,1,0,1,0,0,0,0,1,0,0,0,0,0,0,0,0,0,0,0,0,0,0,0,0,0,0,0,0,0,0,0,0,0,0,0,0,0,1,0,0,0,0,0,0,1,1,0,1,0,0,0,0,0,1,0,1,1,1,0,0,0,0,0,0,0,1,0,1,0,0,0,1,1,1,1,0,0,0,0,0,0,0,0,0,1,0,0,0,1,0,0,0,0,0,1,0,0,1,0,0,0,0,0,0,0,0,0,0,0,0,1,0,0,0,0,1,0,0,0,0,0,0,0,0,0,0,0,0,0,0,1,0,0,1,0,0,1,0,1,0,0,0,0,0,0,0,0,0,0,0,0,0,0,0,0,1,0,0,1,1,0,0,0,0,0,0,1,0,0,0,0,1,0,0,0,0,0,0,1,0,0,0,0,1,0,0,0,0,0,0,0,1,1,0,0,0,0,0,0,0,0,0,0,0,1,0,0,0,1,0,0,0,0,0,0,0,1,0,0,0,0,0,0,0,0,0,1,1,0,1,0,0,0,0,1,0,0,0,0,1,0,0,0,0,0,0,0,0,0,0,0,0,0,0,0,0,0,0,0,0,0,0,0,0,0,0,0,0,0,0,0,0,0,0,1,0,0,0,0,1,0,0,0,0,0,0,0,0,0,0,1,0,1,0,0,1,0,0,0,0,0,0,0,0,0,0,0,0,0,0,0,0,0,1,0,1,0,0,0,0,1,1,0,0,0,0,1,0,0,0,0,0,1,0,1,0,0,0,0,0,0,0,0,0,0,0,0,0,0,0,0,0,0,1,0,0,0,0,0,0,0,1,0,0,0,0,0,0,0,0,0,0,0,0,0,0,0,0,1,0,1,0,1,0,0,0,0,0,0,0,0,0,1,0,0,1,0,0,0,0,0,0,0,0,0,0,1,0,0,0,0,0,1,0,1,0,0,0,0,0,0,0,0,0,0,0,0,0,0,0,0,0,0,0,0,0,0,0,0,0,0,0,0,0,0,0,0,0,0,0,1,1,0,0,0,1,0,0,0,1,0,0,0,0,0,1,0,0,0,1,1,0,0,0,0,0,0,0,0,0,0,0,0,0,0,0,1,0,0,1,0,0,0,0,0,0,0,0,0,0,0,0,0,0,1,0,0,0,0,0,0,0,0,0,0,0,0,0,0,1,0,0,0,0,0,1,0,0,0,0,1,0,0,1,0,0,0,0,0,0,0,0,0,1,0,0,0,0,0,0,0,0,0,0,1,0,0,0,0,0,0,0,0,0,1,0,0,0,0,0,1,0,0,0,0,0,0,0,0,0,0,0,0,0,0,1,0,0,0,0,0,0,0,0,0,0,0,0,1,0,0,0,1,0,1,0,0,0,0,0,0,0,0,0,0,0,0,0,0,1,0,0,0,0,0,0,0,0,0,0,1,0,0,0,0,0,0,1,1,0,0,0,0,0,1,0,1,0,0,0,0,0,0,0,0,0,1,0,1,0,0,0,1,0,1,0,0,0,0,0,0,0,0,1,1,1,0,1,0,0,0,0,0,0,0,0,0,0,0,0,0,1,0,0,0,0,0,0,0,0,1,0,0,0,0,0,1,0,0,0,0,1,0,1,0,0,0,0,1,0,1,0,0,0,0,0,0,0,0,0,1,0,0,0,0,0,0,0,0,0,0,0,0,0,0,0,0,0,0,0,0,0,0,0,0,0,0,1,0,0,0,0,0,0,0,0,0,0,0,0,0,0,0,1,0,0,1,0,0,0,0,0,0,0,0,0,0,0,0,0,0,0,0,0,0,0,0,0,0,0,0,0,0,0,0,0,1,0,0,0,1,0,0,0,0,1,0,0,0,0,0,1,1,0,0,0,0,0,0,1,0,0,0,0,0,0,0,0,0,0,0,0,0,0,0,1,0,0,0,0,0,1,0,0,0,0,0,0,0,0,0,0,0,1,0,0,0,0,0,0,0,0,0,0,0,0,0,0,0,0,1,0,0,0,0,0,0,0,0,0,0,0,0,0,0,0,0,1,0,0,0,0,0,0,0,0,0,0,0,0,0,0,0,0,1,0,0,0,0,0,0,0,0,0,1,1,0,0,0,0,1,0,0,1,0,0,1,0,1,1,0,0,0,0,0,0,0,0,0,0,1,1,0,1,1,0,1,0,0,0,0,0,1,0,0,0,0,0,0,0,1,0,0,0,0,0,0,0,0,0,0,0,0,0,0,0,0,0,0,0,0,0,0,1,0,0,0,0,1,0,0,0,0,0,1,0,0,0,0,0,0,0,0,0,1,0,0,0,1,0,1,0,0,0,0,0,0,0,0,0,1,0,0,0,0,0,0,0,0,0,0,0,0,0,0,0,0,0,1,0,0,0,0,1,1,0,1,0,0,0,0,0,0,0,0,0,0,0,0,0,0,0,0,1,0,0,0,0,0,1,0,0,0,0,0,0,0,1,0,0],\"coloraxis\":\"coloraxis\",\"symbol\":\"circle\"},\"name\":\"\",\"showlegend\":false,\"type\":\"splom\"}],                        {\"template\":{\"data\":{\"bar\":[{\"error_x\":{\"color\":\"#2a3f5f\"},\"error_y\":{\"color\":\"#2a3f5f\"},\"marker\":{\"line\":{\"color\":\"#E5ECF6\",\"width\":0.5},\"pattern\":{\"fillmode\":\"overlay\",\"size\":10,\"solidity\":0.2}},\"type\":\"bar\"}],\"barpolar\":[{\"marker\":{\"line\":{\"color\":\"#E5ECF6\",\"width\":0.5},\"pattern\":{\"fillmode\":\"overlay\",\"size\":10,\"solidity\":0.2}},\"type\":\"barpolar\"}],\"carpet\":[{\"aaxis\":{\"endlinecolor\":\"#2a3f5f\",\"gridcolor\":\"white\",\"linecolor\":\"white\",\"minorgridcolor\":\"white\",\"startlinecolor\":\"#2a3f5f\"},\"baxis\":{\"endlinecolor\":\"#2a3f5f\",\"gridcolor\":\"white\",\"linecolor\":\"white\",\"minorgridcolor\":\"white\",\"startlinecolor\":\"#2a3f5f\"},\"type\":\"carpet\"}],\"choropleth\":[{\"colorbar\":{\"outlinewidth\":0,\"ticks\":\"\"},\"type\":\"choropleth\"}],\"contour\":[{\"colorbar\":{\"outlinewidth\":0,\"ticks\":\"\"},\"colorscale\":[[0.0,\"#0d0887\"],[0.1111111111111111,\"#46039f\"],[0.2222222222222222,\"#7201a8\"],[0.3333333333333333,\"#9c179e\"],[0.4444444444444444,\"#bd3786\"],[0.5555555555555556,\"#d8576b\"],[0.6666666666666666,\"#ed7953\"],[0.7777777777777778,\"#fb9f3a\"],[0.8888888888888888,\"#fdca26\"],[1.0,\"#f0f921\"]],\"type\":\"contour\"}],\"contourcarpet\":[{\"colorbar\":{\"outlinewidth\":0,\"ticks\":\"\"},\"type\":\"contourcarpet\"}],\"heatmap\":[{\"colorbar\":{\"outlinewidth\":0,\"ticks\":\"\"},\"colorscale\":[[0.0,\"#0d0887\"],[0.1111111111111111,\"#46039f\"],[0.2222222222222222,\"#7201a8\"],[0.3333333333333333,\"#9c179e\"],[0.4444444444444444,\"#bd3786\"],[0.5555555555555556,\"#d8576b\"],[0.6666666666666666,\"#ed7953\"],[0.7777777777777778,\"#fb9f3a\"],[0.8888888888888888,\"#fdca26\"],[1.0,\"#f0f921\"]],\"type\":\"heatmap\"}],\"heatmapgl\":[{\"colorbar\":{\"outlinewidth\":0,\"ticks\":\"\"},\"colorscale\":[[0.0,\"#0d0887\"],[0.1111111111111111,\"#46039f\"],[0.2222222222222222,\"#7201a8\"],[0.3333333333333333,\"#9c179e\"],[0.4444444444444444,\"#bd3786\"],[0.5555555555555556,\"#d8576b\"],[0.6666666666666666,\"#ed7953\"],[0.7777777777777778,\"#fb9f3a\"],[0.8888888888888888,\"#fdca26\"],[1.0,\"#f0f921\"]],\"type\":\"heatmapgl\"}],\"histogram\":[{\"marker\":{\"pattern\":{\"fillmode\":\"overlay\",\"size\":10,\"solidity\":0.2}},\"type\":\"histogram\"}],\"histogram2d\":[{\"colorbar\":{\"outlinewidth\":0,\"ticks\":\"\"},\"colorscale\":[[0.0,\"#0d0887\"],[0.1111111111111111,\"#46039f\"],[0.2222222222222222,\"#7201a8\"],[0.3333333333333333,\"#9c179e\"],[0.4444444444444444,\"#bd3786\"],[0.5555555555555556,\"#d8576b\"],[0.6666666666666666,\"#ed7953\"],[0.7777777777777778,\"#fb9f3a\"],[0.8888888888888888,\"#fdca26\"],[1.0,\"#f0f921\"]],\"type\":\"histogram2d\"}],\"histogram2dcontour\":[{\"colorbar\":{\"outlinewidth\":0,\"ticks\":\"\"},\"colorscale\":[[0.0,\"#0d0887\"],[0.1111111111111111,\"#46039f\"],[0.2222222222222222,\"#7201a8\"],[0.3333333333333333,\"#9c179e\"],[0.4444444444444444,\"#bd3786\"],[0.5555555555555556,\"#d8576b\"],[0.6666666666666666,\"#ed7953\"],[0.7777777777777778,\"#fb9f3a\"],[0.8888888888888888,\"#fdca26\"],[1.0,\"#f0f921\"]],\"type\":\"histogram2dcontour\"}],\"mesh3d\":[{\"colorbar\":{\"outlinewidth\":0,\"ticks\":\"\"},\"type\":\"mesh3d\"}],\"parcoords\":[{\"line\":{\"colorbar\":{\"outlinewidth\":0,\"ticks\":\"\"}},\"type\":\"parcoords\"}],\"pie\":[{\"automargin\":true,\"type\":\"pie\"}],\"scatter\":[{\"marker\":{\"colorbar\":{\"outlinewidth\":0,\"ticks\":\"\"}},\"type\":\"scatter\"}],\"scatter3d\":[{\"line\":{\"colorbar\":{\"outlinewidth\":0,\"ticks\":\"\"}},\"marker\":{\"colorbar\":{\"outlinewidth\":0,\"ticks\":\"\"}},\"type\":\"scatter3d\"}],\"scattercarpet\":[{\"marker\":{\"colorbar\":{\"outlinewidth\":0,\"ticks\":\"\"}},\"type\":\"scattercarpet\"}],\"scattergeo\":[{\"marker\":{\"colorbar\":{\"outlinewidth\":0,\"ticks\":\"\"}},\"type\":\"scattergeo\"}],\"scattergl\":[{\"marker\":{\"colorbar\":{\"outlinewidth\":0,\"ticks\":\"\"}},\"type\":\"scattergl\"}],\"scattermapbox\":[{\"marker\":{\"colorbar\":{\"outlinewidth\":0,\"ticks\":\"\"}},\"type\":\"scattermapbox\"}],\"scatterpolar\":[{\"marker\":{\"colorbar\":{\"outlinewidth\":0,\"ticks\":\"\"}},\"type\":\"scatterpolar\"}],\"scatterpolargl\":[{\"marker\":{\"colorbar\":{\"outlinewidth\":0,\"ticks\":\"\"}},\"type\":\"scatterpolargl\"}],\"scatterternary\":[{\"marker\":{\"colorbar\":{\"outlinewidth\":0,\"ticks\":\"\"}},\"type\":\"scatterternary\"}],\"surface\":[{\"colorbar\":{\"outlinewidth\":0,\"ticks\":\"\"},\"colorscale\":[[0.0,\"#0d0887\"],[0.1111111111111111,\"#46039f\"],[0.2222222222222222,\"#7201a8\"],[0.3333333333333333,\"#9c179e\"],[0.4444444444444444,\"#bd3786\"],[0.5555555555555556,\"#d8576b\"],[0.6666666666666666,\"#ed7953\"],[0.7777777777777778,\"#fb9f3a\"],[0.8888888888888888,\"#fdca26\"],[1.0,\"#f0f921\"]],\"type\":\"surface\"}],\"table\":[{\"cells\":{\"fill\":{\"color\":\"#EBF0F8\"},\"line\":{\"color\":\"white\"}},\"header\":{\"fill\":{\"color\":\"#C8D4E3\"},\"line\":{\"color\":\"white\"}},\"type\":\"table\"}]},\"layout\":{\"annotationdefaults\":{\"arrowcolor\":\"#2a3f5f\",\"arrowhead\":0,\"arrowwidth\":1},\"autotypenumbers\":\"strict\",\"coloraxis\":{\"colorbar\":{\"outlinewidth\":0,\"ticks\":\"\"}},\"colorscale\":{\"diverging\":[[0,\"#8e0152\"],[0.1,\"#c51b7d\"],[0.2,\"#de77ae\"],[0.3,\"#f1b6da\"],[0.4,\"#fde0ef\"],[0.5,\"#f7f7f7\"],[0.6,\"#e6f5d0\"],[0.7,\"#b8e186\"],[0.8,\"#7fbc41\"],[0.9,\"#4d9221\"],[1,\"#276419\"]],\"sequential\":[[0.0,\"#0d0887\"],[0.1111111111111111,\"#46039f\"],[0.2222222222222222,\"#7201a8\"],[0.3333333333333333,\"#9c179e\"],[0.4444444444444444,\"#bd3786\"],[0.5555555555555556,\"#d8576b\"],[0.6666666666666666,\"#ed7953\"],[0.7777777777777778,\"#fb9f3a\"],[0.8888888888888888,\"#fdca26\"],[1.0,\"#f0f921\"]],\"sequentialminus\":[[0.0,\"#0d0887\"],[0.1111111111111111,\"#46039f\"],[0.2222222222222222,\"#7201a8\"],[0.3333333333333333,\"#9c179e\"],[0.4444444444444444,\"#bd3786\"],[0.5555555555555556,\"#d8576b\"],[0.6666666666666666,\"#ed7953\"],[0.7777777777777778,\"#fb9f3a\"],[0.8888888888888888,\"#fdca26\"],[1.0,\"#f0f921\"]]},\"colorway\":[\"#636efa\",\"#EF553B\",\"#00cc96\",\"#ab63fa\",\"#FFA15A\",\"#19d3f3\",\"#FF6692\",\"#B6E880\",\"#FF97FF\",\"#FECB52\"],\"font\":{\"color\":\"#2a3f5f\"},\"geo\":{\"bgcolor\":\"white\",\"lakecolor\":\"white\",\"landcolor\":\"#E5ECF6\",\"showlakes\":true,\"showland\":true,\"subunitcolor\":\"white\"},\"hoverlabel\":{\"align\":\"left\"},\"hovermode\":\"closest\",\"mapbox\":{\"style\":\"light\"},\"paper_bgcolor\":\"white\",\"plot_bgcolor\":\"#E5ECF6\",\"polar\":{\"angularaxis\":{\"gridcolor\":\"white\",\"linecolor\":\"white\",\"ticks\":\"\"},\"bgcolor\":\"#E5ECF6\",\"radialaxis\":{\"gridcolor\":\"white\",\"linecolor\":\"white\",\"ticks\":\"\"}},\"scene\":{\"xaxis\":{\"backgroundcolor\":\"#E5ECF6\",\"gridcolor\":\"white\",\"gridwidth\":2,\"linecolor\":\"white\",\"showbackground\":true,\"ticks\":\"\",\"zerolinecolor\":\"white\"},\"yaxis\":{\"backgroundcolor\":\"#E5ECF6\",\"gridcolor\":\"white\",\"gridwidth\":2,\"linecolor\":\"white\",\"showbackground\":true,\"ticks\":\"\",\"zerolinecolor\":\"white\"},\"zaxis\":{\"backgroundcolor\":\"#E5ECF6\",\"gridcolor\":\"white\",\"gridwidth\":2,\"linecolor\":\"white\",\"showbackground\":true,\"ticks\":\"\",\"zerolinecolor\":\"white\"}},\"shapedefaults\":{\"line\":{\"color\":\"#2a3f5f\"}},\"ternary\":{\"aaxis\":{\"gridcolor\":\"white\",\"linecolor\":\"white\",\"ticks\":\"\"},\"baxis\":{\"gridcolor\":\"white\",\"linecolor\":\"white\",\"ticks\":\"\"},\"bgcolor\":\"#E5ECF6\",\"caxis\":{\"gridcolor\":\"white\",\"linecolor\":\"white\",\"ticks\":\"\"}},\"title\":{\"x\":0.05},\"xaxis\":{\"automargin\":true,\"gridcolor\":\"white\",\"linecolor\":\"white\",\"ticks\":\"\",\"title\":{\"standoff\":15},\"zerolinecolor\":\"white\",\"zerolinewidth\":2},\"yaxis\":{\"automargin\":true,\"gridcolor\":\"white\",\"linecolor\":\"white\",\"ticks\":\"\",\"title\":{\"standoff\":15},\"zerolinecolor\":\"white\",\"zerolinewidth\":2}}},\"coloraxis\":{\"colorbar\":{\"title\":{\"text\":\"default\"}},\"colorscale\":[[0.0,\"#0d0887\"],[0.1111111111111111,\"#46039f\"],[0.2222222222222222,\"#7201a8\"],[0.3333333333333333,\"#9c179e\"],[0.4444444444444444,\"#bd3786\"],[0.5555555555555556,\"#d8576b\"],[0.6666666666666666,\"#ed7953\"],[0.7777777777777778,\"#fb9f3a\"],[0.8888888888888888,\"#fdca26\"],[1.0,\"#f0f921\"]]},\"legend\":{\"tracegroupgap\":0},\"margin\":{\"t\":60},\"dragmode\":\"select\"},                        {\"responsive\": true}                    ).then(function(){\n",
              "                            \n",
              "var gd = document.getElementById('c062f8d2-f018-4ca8-96b1-b83c925a7204');\n",
              "var x = new MutationObserver(function (mutations, observer) {{\n",
              "        var display = window.getComputedStyle(gd).display;\n",
              "        if (!display || display === 'none') {{\n",
              "            console.log([gd, 'removed!']);\n",
              "            Plotly.purge(gd);\n",
              "            observer.disconnect();\n",
              "        }}\n",
              "}});\n",
              "\n",
              "// Listen for the removal of the full notebook cells\n",
              "var notebookContainer = gd.closest('#notebook-container');\n",
              "if (notebookContainer) {{\n",
              "    x.observe(notebookContainer, {childList: true});\n",
              "}}\n",
              "\n",
              "// Listen for the clearing of the current output cell\n",
              "var outputEl = gd.closest('.output');\n",
              "if (outputEl) {{\n",
              "    x.observe(outputEl, {childList: true});\n",
              "}}\n",
              "\n",
              "                        })                };                            </script>        </div>\n",
              "</body>\n",
              "</html>"
            ]
          },
          "metadata": {}
        }
      ]
    },
    {
      "cell_type": "code",
      "source": [
        "data_age_payment.loc[data_age_payment['age']>0] #passar condicoes dentro do metodo loc"
      ],
      "metadata": {
        "colab": {
          "base_uri": "https://localhost:8080/",
          "height": 424
        },
        "id": "MkXhYlRs0h97",
        "outputId": "10b027ca-c745-4df5-fd25-8bfe9668fe70"
      },
      "execution_count": null,
      "outputs": [
        {
          "output_type": "execute_result",
          "data": {
            "text/plain": [
              "      clientid        income        age         loan  default\n",
              "0            1  66155.925095  59.017015  8106.532131        0\n",
              "1            2  34415.153966  48.117153  6564.745018        0\n",
              "2            3  57317.170063  63.108049  8020.953296        0\n",
              "3            4  42709.534201  45.751972  6103.642260        0\n",
              "4            5  66952.688845  18.584336  8770.099235        1\n",
              "...        ...           ...        ...          ...      ...\n",
              "1995      1996  59221.044874  48.518179  1926.729397        0\n",
              "1996      1997  69516.127573  23.162104  3503.176156        0\n",
              "1997      1998  44311.449262  28.017167  5522.786693        1\n",
              "1998      1999  43756.056605  63.971796  1622.722598        0\n",
              "1999      2000  69436.579552  56.152617  7378.833599        0\n",
              "\n",
              "[1997 rows x 5 columns]"
            ],
            "text/html": [
              "\n",
              "  <div id=\"df-55c6518e-b667-4102-aa25-37195244818d\">\n",
              "    <div class=\"colab-df-container\">\n",
              "      <div>\n",
              "<style scoped>\n",
              "    .dataframe tbody tr th:only-of-type {\n",
              "        vertical-align: middle;\n",
              "    }\n",
              "\n",
              "    .dataframe tbody tr th {\n",
              "        vertical-align: top;\n",
              "    }\n",
              "\n",
              "    .dataframe thead th {\n",
              "        text-align: right;\n",
              "    }\n",
              "</style>\n",
              "<table border=\"1\" class=\"dataframe\">\n",
              "  <thead>\n",
              "    <tr style=\"text-align: right;\">\n",
              "      <th></th>\n",
              "      <th>clientid</th>\n",
              "      <th>income</th>\n",
              "      <th>age</th>\n",
              "      <th>loan</th>\n",
              "      <th>default</th>\n",
              "    </tr>\n",
              "  </thead>\n",
              "  <tbody>\n",
              "    <tr>\n",
              "      <th>0</th>\n",
              "      <td>1</td>\n",
              "      <td>66155.925095</td>\n",
              "      <td>59.017015</td>\n",
              "      <td>8106.532131</td>\n",
              "      <td>0</td>\n",
              "    </tr>\n",
              "    <tr>\n",
              "      <th>1</th>\n",
              "      <td>2</td>\n",
              "      <td>34415.153966</td>\n",
              "      <td>48.117153</td>\n",
              "      <td>6564.745018</td>\n",
              "      <td>0</td>\n",
              "    </tr>\n",
              "    <tr>\n",
              "      <th>2</th>\n",
              "      <td>3</td>\n",
              "      <td>57317.170063</td>\n",
              "      <td>63.108049</td>\n",
              "      <td>8020.953296</td>\n",
              "      <td>0</td>\n",
              "    </tr>\n",
              "    <tr>\n",
              "      <th>3</th>\n",
              "      <td>4</td>\n",
              "      <td>42709.534201</td>\n",
              "      <td>45.751972</td>\n",
              "      <td>6103.642260</td>\n",
              "      <td>0</td>\n",
              "    </tr>\n",
              "    <tr>\n",
              "      <th>4</th>\n",
              "      <td>5</td>\n",
              "      <td>66952.688845</td>\n",
              "      <td>18.584336</td>\n",
              "      <td>8770.099235</td>\n",
              "      <td>1</td>\n",
              "    </tr>\n",
              "    <tr>\n",
              "      <th>...</th>\n",
              "      <td>...</td>\n",
              "      <td>...</td>\n",
              "      <td>...</td>\n",
              "      <td>...</td>\n",
              "      <td>...</td>\n",
              "    </tr>\n",
              "    <tr>\n",
              "      <th>1995</th>\n",
              "      <td>1996</td>\n",
              "      <td>59221.044874</td>\n",
              "      <td>48.518179</td>\n",
              "      <td>1926.729397</td>\n",
              "      <td>0</td>\n",
              "    </tr>\n",
              "    <tr>\n",
              "      <th>1996</th>\n",
              "      <td>1997</td>\n",
              "      <td>69516.127573</td>\n",
              "      <td>23.162104</td>\n",
              "      <td>3503.176156</td>\n",
              "      <td>0</td>\n",
              "    </tr>\n",
              "    <tr>\n",
              "      <th>1997</th>\n",
              "      <td>1998</td>\n",
              "      <td>44311.449262</td>\n",
              "      <td>28.017167</td>\n",
              "      <td>5522.786693</td>\n",
              "      <td>1</td>\n",
              "    </tr>\n",
              "    <tr>\n",
              "      <th>1998</th>\n",
              "      <td>1999</td>\n",
              "      <td>43756.056605</td>\n",
              "      <td>63.971796</td>\n",
              "      <td>1622.722598</td>\n",
              "      <td>0</td>\n",
              "    </tr>\n",
              "    <tr>\n",
              "      <th>1999</th>\n",
              "      <td>2000</td>\n",
              "      <td>69436.579552</td>\n",
              "      <td>56.152617</td>\n",
              "      <td>7378.833599</td>\n",
              "      <td>0</td>\n",
              "    </tr>\n",
              "  </tbody>\n",
              "</table>\n",
              "<p>1997 rows × 5 columns</p>\n",
              "</div>\n",
              "      <button class=\"colab-df-convert\" onclick=\"convertToInteractive('df-55c6518e-b667-4102-aa25-37195244818d')\"\n",
              "              title=\"Convert this dataframe to an interactive table.\"\n",
              "              style=\"display:none;\">\n",
              "        \n",
              "  <svg xmlns=\"http://www.w3.org/2000/svg\" height=\"24px\"viewBox=\"0 0 24 24\"\n",
              "       width=\"24px\">\n",
              "    <path d=\"M0 0h24v24H0V0z\" fill=\"none\"/>\n",
              "    <path d=\"M18.56 5.44l.94 2.06.94-2.06 2.06-.94-2.06-.94-.94-2.06-.94 2.06-2.06.94zm-11 1L8.5 8.5l.94-2.06 2.06-.94-2.06-.94L8.5 2.5l-.94 2.06-2.06.94zm10 10l.94 2.06.94-2.06 2.06-.94-2.06-.94-.94-2.06-.94 2.06-2.06.94z\"/><path d=\"M17.41 7.96l-1.37-1.37c-.4-.4-.92-.59-1.43-.59-.52 0-1.04.2-1.43.59L10.3 9.45l-7.72 7.72c-.78.78-.78 2.05 0 2.83L4 21.41c.39.39.9.59 1.41.59.51 0 1.02-.2 1.41-.59l7.78-7.78 2.81-2.81c.8-.78.8-2.07 0-2.86zM5.41 20L4 18.59l7.72-7.72 1.47 1.35L5.41 20z\"/>\n",
              "  </svg>\n",
              "      </button>\n",
              "      \n",
              "  <style>\n",
              "    .colab-df-container {\n",
              "      display:flex;\n",
              "      flex-wrap:wrap;\n",
              "      gap: 12px;\n",
              "    }\n",
              "\n",
              "    .colab-df-convert {\n",
              "      background-color: #E8F0FE;\n",
              "      border: none;\n",
              "      border-radius: 50%;\n",
              "      cursor: pointer;\n",
              "      display: none;\n",
              "      fill: #1967D2;\n",
              "      height: 32px;\n",
              "      padding: 0 0 0 0;\n",
              "      width: 32px;\n",
              "    }\n",
              "\n",
              "    .colab-df-convert:hover {\n",
              "      background-color: #E2EBFA;\n",
              "      box-shadow: 0px 1px 2px rgba(60, 64, 67, 0.3), 0px 1px 3px 1px rgba(60, 64, 67, 0.15);\n",
              "      fill: #174EA6;\n",
              "    }\n",
              "\n",
              "    [theme=dark] .colab-df-convert {\n",
              "      background-color: #3B4455;\n",
              "      fill: #D2E3FC;\n",
              "    }\n",
              "\n",
              "    [theme=dark] .colab-df-convert:hover {\n",
              "      background-color: #434B5C;\n",
              "      box-shadow: 0px 1px 3px 1px rgba(0, 0, 0, 0.15);\n",
              "      filter: drop-shadow(0px 1px 2px rgba(0, 0, 0, 0.3));\n",
              "      fill: #FFFFFF;\n",
              "    }\n",
              "  </style>\n",
              "\n",
              "      <script>\n",
              "        const buttonEl =\n",
              "          document.querySelector('#df-55c6518e-b667-4102-aa25-37195244818d button.colab-df-convert');\n",
              "        buttonEl.style.display =\n",
              "          google.colab.kernel.accessAllowed ? 'block' : 'none';\n",
              "\n",
              "        async function convertToInteractive(key) {\n",
              "          const element = document.querySelector('#df-55c6518e-b667-4102-aa25-37195244818d');\n",
              "          const dataTable =\n",
              "            await google.colab.kernel.invokeFunction('convertToInteractive',\n",
              "                                                     [key], {});\n",
              "          if (!dataTable) return;\n",
              "\n",
              "          const docLinkHtml = 'Like what you see? Visit the ' +\n",
              "            '<a target=\"_blank\" href=https://colab.research.google.com/notebooks/data_table.ipynb>data table notebook</a>'\n",
              "            + ' to learn more about interactive tables.';\n",
              "          element.innerHTML = '';\n",
              "          dataTable['output_type'] = 'display_data';\n",
              "          await google.colab.output.renderOutput(dataTable, element);\n",
              "          const docLink = document.createElement('div');\n",
              "          docLink.innerHTML = docLinkHtml;\n",
              "          element.appendChild(docLink);\n",
              "        }\n",
              "      </script>\n",
              "    </div>\n",
              "  </div>\n",
              "  "
            ]
          },
          "metadata": {},
          "execution_count": 201
        }
      ]
    },
    {
      "cell_type": "markdown",
      "source": [
        "Verificando Dados Faltantes\n"
      ],
      "metadata": {
        "id": "xGOxjBOR5s30"
      }
    },
    {
      "cell_type": "code",
      "source": [
        "for i  in data_age_payment.columns:\n",
        "    print(np.unique(data_age_payment.isnull()[i],return_counts=True),i)"
      ],
      "metadata": {
        "colab": {
          "base_uri": "https://localhost:8080/"
        },
        "id": "2hZYvkCB0vo1",
        "outputId": "01e6b540-fb53-4344-c280-23cbae81f7d9"
      },
      "execution_count": null,
      "outputs": [
        {
          "output_type": "stream",
          "name": "stdout",
          "text": [
            "(array([False]), array([2000])) clientid\n",
            "(array([False]), array([2000])) income\n",
            "(array([False,  True]), array([1997,    3])) age\n",
            "(array([False]), array([2000])) loan\n",
            "(array([False]), array([2000])) default\n"
          ]
        }
      ]
    },
    {
      "cell_type": "code",
      "source": [
        "data_age_payment.loc[pd.isnull(data_age_payment['age'])]"
      ],
      "metadata": {
        "colab": {
          "base_uri": "https://localhost:8080/",
          "height": 143
        },
        "id": "QiEhwuEZ5_ur",
        "outputId": "262a636c-9671-40bc-a564-024b5bbaa154"
      },
      "execution_count": null,
      "outputs": [
        {
          "output_type": "execute_result",
          "data": {
            "text/plain": [
              "    clientid        income  age         loan  default\n",
              "28        29  59417.805406  NaN  2082.625938        0\n",
              "30        31  48528.852796  NaN  6155.784670        0\n",
              "31        32  23526.302555  NaN  2862.010139        0"
            ],
            "text/html": [
              "\n",
              "  <div id=\"df-b32f29c4-7823-4699-bda2-f5459d54de4d\">\n",
              "    <div class=\"colab-df-container\">\n",
              "      <div>\n",
              "<style scoped>\n",
              "    .dataframe tbody tr th:only-of-type {\n",
              "        vertical-align: middle;\n",
              "    }\n",
              "\n",
              "    .dataframe tbody tr th {\n",
              "        vertical-align: top;\n",
              "    }\n",
              "\n",
              "    .dataframe thead th {\n",
              "        text-align: right;\n",
              "    }\n",
              "</style>\n",
              "<table border=\"1\" class=\"dataframe\">\n",
              "  <thead>\n",
              "    <tr style=\"text-align: right;\">\n",
              "      <th></th>\n",
              "      <th>clientid</th>\n",
              "      <th>income</th>\n",
              "      <th>age</th>\n",
              "      <th>loan</th>\n",
              "      <th>default</th>\n",
              "    </tr>\n",
              "  </thead>\n",
              "  <tbody>\n",
              "    <tr>\n",
              "      <th>28</th>\n",
              "      <td>29</td>\n",
              "      <td>59417.805406</td>\n",
              "      <td>NaN</td>\n",
              "      <td>2082.625938</td>\n",
              "      <td>0</td>\n",
              "    </tr>\n",
              "    <tr>\n",
              "      <th>30</th>\n",
              "      <td>31</td>\n",
              "      <td>48528.852796</td>\n",
              "      <td>NaN</td>\n",
              "      <td>6155.784670</td>\n",
              "      <td>0</td>\n",
              "    </tr>\n",
              "    <tr>\n",
              "      <th>31</th>\n",
              "      <td>32</td>\n",
              "      <td>23526.302555</td>\n",
              "      <td>NaN</td>\n",
              "      <td>2862.010139</td>\n",
              "      <td>0</td>\n",
              "    </tr>\n",
              "  </tbody>\n",
              "</table>\n",
              "</div>\n",
              "      <button class=\"colab-df-convert\" onclick=\"convertToInteractive('df-b32f29c4-7823-4699-bda2-f5459d54de4d')\"\n",
              "              title=\"Convert this dataframe to an interactive table.\"\n",
              "              style=\"display:none;\">\n",
              "        \n",
              "  <svg xmlns=\"http://www.w3.org/2000/svg\" height=\"24px\"viewBox=\"0 0 24 24\"\n",
              "       width=\"24px\">\n",
              "    <path d=\"M0 0h24v24H0V0z\" fill=\"none\"/>\n",
              "    <path d=\"M18.56 5.44l.94 2.06.94-2.06 2.06-.94-2.06-.94-.94-2.06-.94 2.06-2.06.94zm-11 1L8.5 8.5l.94-2.06 2.06-.94-2.06-.94L8.5 2.5l-.94 2.06-2.06.94zm10 10l.94 2.06.94-2.06 2.06-.94-2.06-.94-.94-2.06-.94 2.06-2.06.94z\"/><path d=\"M17.41 7.96l-1.37-1.37c-.4-.4-.92-.59-1.43-.59-.52 0-1.04.2-1.43.59L10.3 9.45l-7.72 7.72c-.78.78-.78 2.05 0 2.83L4 21.41c.39.39.9.59 1.41.59.51 0 1.02-.2 1.41-.59l7.78-7.78 2.81-2.81c.8-.78.8-2.07 0-2.86zM5.41 20L4 18.59l7.72-7.72 1.47 1.35L5.41 20z\"/>\n",
              "  </svg>\n",
              "      </button>\n",
              "      \n",
              "  <style>\n",
              "    .colab-df-container {\n",
              "      display:flex;\n",
              "      flex-wrap:wrap;\n",
              "      gap: 12px;\n",
              "    }\n",
              "\n",
              "    .colab-df-convert {\n",
              "      background-color: #E8F0FE;\n",
              "      border: none;\n",
              "      border-radius: 50%;\n",
              "      cursor: pointer;\n",
              "      display: none;\n",
              "      fill: #1967D2;\n",
              "      height: 32px;\n",
              "      padding: 0 0 0 0;\n",
              "      width: 32px;\n",
              "    }\n",
              "\n",
              "    .colab-df-convert:hover {\n",
              "      background-color: #E2EBFA;\n",
              "      box-shadow: 0px 1px 2px rgba(60, 64, 67, 0.3), 0px 1px 3px 1px rgba(60, 64, 67, 0.15);\n",
              "      fill: #174EA6;\n",
              "    }\n",
              "\n",
              "    [theme=dark] .colab-df-convert {\n",
              "      background-color: #3B4455;\n",
              "      fill: #D2E3FC;\n",
              "    }\n",
              "\n",
              "    [theme=dark] .colab-df-convert:hover {\n",
              "      background-color: #434B5C;\n",
              "      box-shadow: 0px 1px 3px 1px rgba(0, 0, 0, 0.15);\n",
              "      filter: drop-shadow(0px 1px 2px rgba(0, 0, 0, 0.3));\n",
              "      fill: #FFFFFF;\n",
              "    }\n",
              "  </style>\n",
              "\n",
              "      <script>\n",
              "        const buttonEl =\n",
              "          document.querySelector('#df-b32f29c4-7823-4699-bda2-f5459d54de4d button.colab-df-convert');\n",
              "        buttonEl.style.display =\n",
              "          google.colab.kernel.accessAllowed ? 'block' : 'none';\n",
              "\n",
              "        async function convertToInteractive(key) {\n",
              "          const element = document.querySelector('#df-b32f29c4-7823-4699-bda2-f5459d54de4d');\n",
              "          const dataTable =\n",
              "            await google.colab.kernel.invokeFunction('convertToInteractive',\n",
              "                                                     [key], {});\n",
              "          if (!dataTable) return;\n",
              "\n",
              "          const docLinkHtml = 'Like what you see? Visit the ' +\n",
              "            '<a target=\"_blank\" href=https://colab.research.google.com/notebooks/data_table.ipynb>data table notebook</a>'\n",
              "            + ' to learn more about interactive tables.';\n",
              "          element.innerHTML = '';\n",
              "          dataTable['output_type'] = 'display_data';\n",
              "          await google.colab.output.renderOutput(dataTable, element);\n",
              "          const docLink = document.createElement('div');\n",
              "          docLink.innerHTML = docLinkHtml;\n",
              "          element.appendChild(docLink);\n",
              "        }\n",
              "      </script>\n",
              "    </div>\n",
              "  </div>\n",
              "  "
            ]
          },
          "metadata": {},
          "execution_count": 203
        }
      ]
    },
    {
      "cell_type": "code",
      "source": [
        "data_age_payment[pd.isnull(data_age_payment['age'])]"
      ],
      "metadata": {
        "colab": {
          "base_uri": "https://localhost:8080/",
          "height": 143
        },
        "id": "mCLIDIll7Pyd",
        "outputId": "62bcfd3a-a797-4d3d-9e7d-2970d523139e"
      },
      "execution_count": null,
      "outputs": [
        {
          "output_type": "execute_result",
          "data": {
            "text/plain": [
              "    clientid        income  age         loan  default\n",
              "28        29  59417.805406  NaN  2082.625938        0\n",
              "30        31  48528.852796  NaN  6155.784670        0\n",
              "31        32  23526.302555  NaN  2862.010139        0"
            ],
            "text/html": [
              "\n",
              "  <div id=\"df-4cd019ef-8307-4fd4-ba57-887615e6635a\">\n",
              "    <div class=\"colab-df-container\">\n",
              "      <div>\n",
              "<style scoped>\n",
              "    .dataframe tbody tr th:only-of-type {\n",
              "        vertical-align: middle;\n",
              "    }\n",
              "\n",
              "    .dataframe tbody tr th {\n",
              "        vertical-align: top;\n",
              "    }\n",
              "\n",
              "    .dataframe thead th {\n",
              "        text-align: right;\n",
              "    }\n",
              "</style>\n",
              "<table border=\"1\" class=\"dataframe\">\n",
              "  <thead>\n",
              "    <tr style=\"text-align: right;\">\n",
              "      <th></th>\n",
              "      <th>clientid</th>\n",
              "      <th>income</th>\n",
              "      <th>age</th>\n",
              "      <th>loan</th>\n",
              "      <th>default</th>\n",
              "    </tr>\n",
              "  </thead>\n",
              "  <tbody>\n",
              "    <tr>\n",
              "      <th>28</th>\n",
              "      <td>29</td>\n",
              "      <td>59417.805406</td>\n",
              "      <td>NaN</td>\n",
              "      <td>2082.625938</td>\n",
              "      <td>0</td>\n",
              "    </tr>\n",
              "    <tr>\n",
              "      <th>30</th>\n",
              "      <td>31</td>\n",
              "      <td>48528.852796</td>\n",
              "      <td>NaN</td>\n",
              "      <td>6155.784670</td>\n",
              "      <td>0</td>\n",
              "    </tr>\n",
              "    <tr>\n",
              "      <th>31</th>\n",
              "      <td>32</td>\n",
              "      <td>23526.302555</td>\n",
              "      <td>NaN</td>\n",
              "      <td>2862.010139</td>\n",
              "      <td>0</td>\n",
              "    </tr>\n",
              "  </tbody>\n",
              "</table>\n",
              "</div>\n",
              "      <button class=\"colab-df-convert\" onclick=\"convertToInteractive('df-4cd019ef-8307-4fd4-ba57-887615e6635a')\"\n",
              "              title=\"Convert this dataframe to an interactive table.\"\n",
              "              style=\"display:none;\">\n",
              "        \n",
              "  <svg xmlns=\"http://www.w3.org/2000/svg\" height=\"24px\"viewBox=\"0 0 24 24\"\n",
              "       width=\"24px\">\n",
              "    <path d=\"M0 0h24v24H0V0z\" fill=\"none\"/>\n",
              "    <path d=\"M18.56 5.44l.94 2.06.94-2.06 2.06-.94-2.06-.94-.94-2.06-.94 2.06-2.06.94zm-11 1L8.5 8.5l.94-2.06 2.06-.94-2.06-.94L8.5 2.5l-.94 2.06-2.06.94zm10 10l.94 2.06.94-2.06 2.06-.94-2.06-.94-.94-2.06-.94 2.06-2.06.94z\"/><path d=\"M17.41 7.96l-1.37-1.37c-.4-.4-.92-.59-1.43-.59-.52 0-1.04.2-1.43.59L10.3 9.45l-7.72 7.72c-.78.78-.78 2.05 0 2.83L4 21.41c.39.39.9.59 1.41.59.51 0 1.02-.2 1.41-.59l7.78-7.78 2.81-2.81c.8-.78.8-2.07 0-2.86zM5.41 20L4 18.59l7.72-7.72 1.47 1.35L5.41 20z\"/>\n",
              "  </svg>\n",
              "      </button>\n",
              "      \n",
              "  <style>\n",
              "    .colab-df-container {\n",
              "      display:flex;\n",
              "      flex-wrap:wrap;\n",
              "      gap: 12px;\n",
              "    }\n",
              "\n",
              "    .colab-df-convert {\n",
              "      background-color: #E8F0FE;\n",
              "      border: none;\n",
              "      border-radius: 50%;\n",
              "      cursor: pointer;\n",
              "      display: none;\n",
              "      fill: #1967D2;\n",
              "      height: 32px;\n",
              "      padding: 0 0 0 0;\n",
              "      width: 32px;\n",
              "    }\n",
              "\n",
              "    .colab-df-convert:hover {\n",
              "      background-color: #E2EBFA;\n",
              "      box-shadow: 0px 1px 2px rgba(60, 64, 67, 0.3), 0px 1px 3px 1px rgba(60, 64, 67, 0.15);\n",
              "      fill: #174EA6;\n",
              "    }\n",
              "\n",
              "    [theme=dark] .colab-df-convert {\n",
              "      background-color: #3B4455;\n",
              "      fill: #D2E3FC;\n",
              "    }\n",
              "\n",
              "    [theme=dark] .colab-df-convert:hover {\n",
              "      background-color: #434B5C;\n",
              "      box-shadow: 0px 1px 3px 1px rgba(0, 0, 0, 0.15);\n",
              "      filter: drop-shadow(0px 1px 2px rgba(0, 0, 0, 0.3));\n",
              "      fill: #FFFFFF;\n",
              "    }\n",
              "  </style>\n",
              "\n",
              "      <script>\n",
              "        const buttonEl =\n",
              "          document.querySelector('#df-4cd019ef-8307-4fd4-ba57-887615e6635a button.colab-df-convert');\n",
              "        buttonEl.style.display =\n",
              "          google.colab.kernel.accessAllowed ? 'block' : 'none';\n",
              "\n",
              "        async function convertToInteractive(key) {\n",
              "          const element = document.querySelector('#df-4cd019ef-8307-4fd4-ba57-887615e6635a');\n",
              "          const dataTable =\n",
              "            await google.colab.kernel.invokeFunction('convertToInteractive',\n",
              "                                                     [key], {});\n",
              "          if (!dataTable) return;\n",
              "\n",
              "          const docLinkHtml = 'Like what you see? Visit the ' +\n",
              "            '<a target=\"_blank\" href=https://colab.research.google.com/notebooks/data_table.ipynb>data table notebook</a>'\n",
              "            + ' to learn more about interactive tables.';\n",
              "          element.innerHTML = '';\n",
              "          dataTable['output_type'] = 'display_data';\n",
              "          await google.colab.output.renderOutput(dataTable, element);\n",
              "          const docLink = document.createElement('div');\n",
              "          docLink.innerHTML = docLinkHtml;\n",
              "          element.appendChild(docLink);\n",
              "        }\n",
              "      </script>\n",
              "    </div>\n",
              "  </div>\n",
              "  "
            ]
          },
          "metadata": {},
          "execution_count": 204
        }
      ]
    },
    {
      "cell_type": "code",
      "source": [
        "#substituindo valores de idade pela media \n",
        "data_age_payment.loc[pd.isnull(data_age_payment['age']),['age']]=data_age_payment['age'].mean()"
      ],
      "metadata": {
        "id": "5PHUbIuu7jrY"
      },
      "execution_count": null,
      "outputs": []
    },
    {
      "cell_type": "code",
      "source": [
        "data_age_payment[pd.isnull(data_age_payment['age'])]"
      ],
      "metadata": {
        "colab": {
          "base_uri": "https://localhost:8080/",
          "height": 49
        },
        "id": "f4GXcCza8b9F",
        "outputId": "b9e3d84b-2bfe-48bb-bacc-de9cc79bb153"
      },
      "execution_count": null,
      "outputs": [
        {
          "output_type": "execute_result",
          "data": {
            "text/plain": [
              "Empty DataFrame\n",
              "Columns: [clientid, income, age, loan, default]\n",
              "Index: []"
            ],
            "text/html": [
              "\n",
              "  <div id=\"df-b545b295-9d8a-4e72-ade2-db0911da1b36\">\n",
              "    <div class=\"colab-df-container\">\n",
              "      <div>\n",
              "<style scoped>\n",
              "    .dataframe tbody tr th:only-of-type {\n",
              "        vertical-align: middle;\n",
              "    }\n",
              "\n",
              "    .dataframe tbody tr th {\n",
              "        vertical-align: top;\n",
              "    }\n",
              "\n",
              "    .dataframe thead th {\n",
              "        text-align: right;\n",
              "    }\n",
              "</style>\n",
              "<table border=\"1\" class=\"dataframe\">\n",
              "  <thead>\n",
              "    <tr style=\"text-align: right;\">\n",
              "      <th></th>\n",
              "      <th>clientid</th>\n",
              "      <th>income</th>\n",
              "      <th>age</th>\n",
              "      <th>loan</th>\n",
              "      <th>default</th>\n",
              "    </tr>\n",
              "  </thead>\n",
              "  <tbody>\n",
              "  </tbody>\n",
              "</table>\n",
              "</div>\n",
              "      <button class=\"colab-df-convert\" onclick=\"convertToInteractive('df-b545b295-9d8a-4e72-ade2-db0911da1b36')\"\n",
              "              title=\"Convert this dataframe to an interactive table.\"\n",
              "              style=\"display:none;\">\n",
              "        \n",
              "  <svg xmlns=\"http://www.w3.org/2000/svg\" height=\"24px\"viewBox=\"0 0 24 24\"\n",
              "       width=\"24px\">\n",
              "    <path d=\"M0 0h24v24H0V0z\" fill=\"none\"/>\n",
              "    <path d=\"M18.56 5.44l.94 2.06.94-2.06 2.06-.94-2.06-.94-.94-2.06-.94 2.06-2.06.94zm-11 1L8.5 8.5l.94-2.06 2.06-.94-2.06-.94L8.5 2.5l-.94 2.06-2.06.94zm10 10l.94 2.06.94-2.06 2.06-.94-2.06-.94-.94-2.06-.94 2.06-2.06.94z\"/><path d=\"M17.41 7.96l-1.37-1.37c-.4-.4-.92-.59-1.43-.59-.52 0-1.04.2-1.43.59L10.3 9.45l-7.72 7.72c-.78.78-.78 2.05 0 2.83L4 21.41c.39.39.9.59 1.41.59.51 0 1.02-.2 1.41-.59l7.78-7.78 2.81-2.81c.8-.78.8-2.07 0-2.86zM5.41 20L4 18.59l7.72-7.72 1.47 1.35L5.41 20z\"/>\n",
              "  </svg>\n",
              "      </button>\n",
              "      \n",
              "  <style>\n",
              "    .colab-df-container {\n",
              "      display:flex;\n",
              "      flex-wrap:wrap;\n",
              "      gap: 12px;\n",
              "    }\n",
              "\n",
              "    .colab-df-convert {\n",
              "      background-color: #E8F0FE;\n",
              "      border: none;\n",
              "      border-radius: 50%;\n",
              "      cursor: pointer;\n",
              "      display: none;\n",
              "      fill: #1967D2;\n",
              "      height: 32px;\n",
              "      padding: 0 0 0 0;\n",
              "      width: 32px;\n",
              "    }\n",
              "\n",
              "    .colab-df-convert:hover {\n",
              "      background-color: #E2EBFA;\n",
              "      box-shadow: 0px 1px 2px rgba(60, 64, 67, 0.3), 0px 1px 3px 1px rgba(60, 64, 67, 0.15);\n",
              "      fill: #174EA6;\n",
              "    }\n",
              "\n",
              "    [theme=dark] .colab-df-convert {\n",
              "      background-color: #3B4455;\n",
              "      fill: #D2E3FC;\n",
              "    }\n",
              "\n",
              "    [theme=dark] .colab-df-convert:hover {\n",
              "      background-color: #434B5C;\n",
              "      box-shadow: 0px 1px 3px 1px rgba(0, 0, 0, 0.15);\n",
              "      filter: drop-shadow(0px 1px 2px rgba(0, 0, 0, 0.3));\n",
              "      fill: #FFFFFF;\n",
              "    }\n",
              "  </style>\n",
              "\n",
              "      <script>\n",
              "        const buttonEl =\n",
              "          document.querySelector('#df-b545b295-9d8a-4e72-ade2-db0911da1b36 button.colab-df-convert');\n",
              "        buttonEl.style.display =\n",
              "          google.colab.kernel.accessAllowed ? 'block' : 'none';\n",
              "\n",
              "        async function convertToInteractive(key) {\n",
              "          const element = document.querySelector('#df-b545b295-9d8a-4e72-ade2-db0911da1b36');\n",
              "          const dataTable =\n",
              "            await google.colab.kernel.invokeFunction('convertToInteractive',\n",
              "                                                     [key], {});\n",
              "          if (!dataTable) return;\n",
              "\n",
              "          const docLinkHtml = 'Like what you see? Visit the ' +\n",
              "            '<a target=\"_blank\" href=https://colab.research.google.com/notebooks/data_table.ipynb>data table notebook</a>'\n",
              "            + ' to learn more about interactive tables.';\n",
              "          element.innerHTML = '';\n",
              "          dataTable['output_type'] = 'display_data';\n",
              "          await google.colab.output.renderOutput(dataTable, element);\n",
              "          const docLink = document.createElement('div');\n",
              "          docLink.innerHTML = docLinkHtml;\n",
              "          element.appendChild(docLink);\n",
              "        }\n",
              "      </script>\n",
              "    </div>\n",
              "  </div>\n",
              "  "
            ]
          },
          "metadata": {},
          "execution_count": 206
        }
      ]
    },
    {
      "cell_type": "code",
      "source": [
        "data_age_payment['age'].fillna(data_age_payment['age'].mean,inplace=True)"
      ],
      "metadata": {
        "id": "8L-q372c8vHe"
      },
      "execution_count": null,
      "outputs": []
    },
    {
      "cell_type": "code",
      "source": [
        "data_age_payment['age']= data_age_payment['age'].apply( lambda n : int(n))"
      ],
      "metadata": {
        "id": "EyGxpKee9TzF"
      },
      "execution_count": null,
      "outputs": []
    },
    {
      "cell_type": "code",
      "source": [
        "data_age_payment.describe()"
      ],
      "metadata": {
        "id": "M5raWRXi9VMe",
        "colab": {
          "base_uri": "https://localhost:8080/",
          "height": 300
        },
        "outputId": "d0861253-f4b2-4f92-807f-896d5aa5444f"
      },
      "execution_count": null,
      "outputs": [
        {
          "output_type": "execute_result",
          "data": {
            "text/plain": [
              "          clientid        income          age          loan      default\n",
              "count  2000.000000   2000.000000  2000.000000   2000.000000  2000.000000\n",
              "mean   1000.500000  45331.600018    40.427500   4444.369695     0.141500\n",
              "std     577.494589  14326.327119    13.256795   3045.410024     0.348624\n",
              "min       1.000000  20014.489470    18.000000      1.377630     0.000000\n",
              "25%     500.750000  32796.459717    29.000000   1939.708847     0.000000\n",
              "50%    1000.500000  45789.117313    41.000000   3974.719419     0.000000\n",
              "75%    1500.250000  57791.281668    52.000000   6432.410625     0.000000\n",
              "max    2000.000000  69995.685578    63.000000  13766.051239     1.000000"
            ],
            "text/html": [
              "\n",
              "  <div id=\"df-b5cb0497-f48c-4f2d-83f9-1854624ed0a7\">\n",
              "    <div class=\"colab-df-container\">\n",
              "      <div>\n",
              "<style scoped>\n",
              "    .dataframe tbody tr th:only-of-type {\n",
              "        vertical-align: middle;\n",
              "    }\n",
              "\n",
              "    .dataframe tbody tr th {\n",
              "        vertical-align: top;\n",
              "    }\n",
              "\n",
              "    .dataframe thead th {\n",
              "        text-align: right;\n",
              "    }\n",
              "</style>\n",
              "<table border=\"1\" class=\"dataframe\">\n",
              "  <thead>\n",
              "    <tr style=\"text-align: right;\">\n",
              "      <th></th>\n",
              "      <th>clientid</th>\n",
              "      <th>income</th>\n",
              "      <th>age</th>\n",
              "      <th>loan</th>\n",
              "      <th>default</th>\n",
              "    </tr>\n",
              "  </thead>\n",
              "  <tbody>\n",
              "    <tr>\n",
              "      <th>count</th>\n",
              "      <td>2000.000000</td>\n",
              "      <td>2000.000000</td>\n",
              "      <td>2000.000000</td>\n",
              "      <td>2000.000000</td>\n",
              "      <td>2000.000000</td>\n",
              "    </tr>\n",
              "    <tr>\n",
              "      <th>mean</th>\n",
              "      <td>1000.500000</td>\n",
              "      <td>45331.600018</td>\n",
              "      <td>40.427500</td>\n",
              "      <td>4444.369695</td>\n",
              "      <td>0.141500</td>\n",
              "    </tr>\n",
              "    <tr>\n",
              "      <th>std</th>\n",
              "      <td>577.494589</td>\n",
              "      <td>14326.327119</td>\n",
              "      <td>13.256795</td>\n",
              "      <td>3045.410024</td>\n",
              "      <td>0.348624</td>\n",
              "    </tr>\n",
              "    <tr>\n",
              "      <th>min</th>\n",
              "      <td>1.000000</td>\n",
              "      <td>20014.489470</td>\n",
              "      <td>18.000000</td>\n",
              "      <td>1.377630</td>\n",
              "      <td>0.000000</td>\n",
              "    </tr>\n",
              "    <tr>\n",
              "      <th>25%</th>\n",
              "      <td>500.750000</td>\n",
              "      <td>32796.459717</td>\n",
              "      <td>29.000000</td>\n",
              "      <td>1939.708847</td>\n",
              "      <td>0.000000</td>\n",
              "    </tr>\n",
              "    <tr>\n",
              "      <th>50%</th>\n",
              "      <td>1000.500000</td>\n",
              "      <td>45789.117313</td>\n",
              "      <td>41.000000</td>\n",
              "      <td>3974.719419</td>\n",
              "      <td>0.000000</td>\n",
              "    </tr>\n",
              "    <tr>\n",
              "      <th>75%</th>\n",
              "      <td>1500.250000</td>\n",
              "      <td>57791.281668</td>\n",
              "      <td>52.000000</td>\n",
              "      <td>6432.410625</td>\n",
              "      <td>0.000000</td>\n",
              "    </tr>\n",
              "    <tr>\n",
              "      <th>max</th>\n",
              "      <td>2000.000000</td>\n",
              "      <td>69995.685578</td>\n",
              "      <td>63.000000</td>\n",
              "      <td>13766.051239</td>\n",
              "      <td>1.000000</td>\n",
              "    </tr>\n",
              "  </tbody>\n",
              "</table>\n",
              "</div>\n",
              "      <button class=\"colab-df-convert\" onclick=\"convertToInteractive('df-b5cb0497-f48c-4f2d-83f9-1854624ed0a7')\"\n",
              "              title=\"Convert this dataframe to an interactive table.\"\n",
              "              style=\"display:none;\">\n",
              "        \n",
              "  <svg xmlns=\"http://www.w3.org/2000/svg\" height=\"24px\"viewBox=\"0 0 24 24\"\n",
              "       width=\"24px\">\n",
              "    <path d=\"M0 0h24v24H0V0z\" fill=\"none\"/>\n",
              "    <path d=\"M18.56 5.44l.94 2.06.94-2.06 2.06-.94-2.06-.94-.94-2.06-.94 2.06-2.06.94zm-11 1L8.5 8.5l.94-2.06 2.06-.94-2.06-.94L8.5 2.5l-.94 2.06-2.06.94zm10 10l.94 2.06.94-2.06 2.06-.94-2.06-.94-.94-2.06-.94 2.06-2.06.94z\"/><path d=\"M17.41 7.96l-1.37-1.37c-.4-.4-.92-.59-1.43-.59-.52 0-1.04.2-1.43.59L10.3 9.45l-7.72 7.72c-.78.78-.78 2.05 0 2.83L4 21.41c.39.39.9.59 1.41.59.51 0 1.02-.2 1.41-.59l7.78-7.78 2.81-2.81c.8-.78.8-2.07 0-2.86zM5.41 20L4 18.59l7.72-7.72 1.47 1.35L5.41 20z\"/>\n",
              "  </svg>\n",
              "      </button>\n",
              "      \n",
              "  <style>\n",
              "    .colab-df-container {\n",
              "      display:flex;\n",
              "      flex-wrap:wrap;\n",
              "      gap: 12px;\n",
              "    }\n",
              "\n",
              "    .colab-df-convert {\n",
              "      background-color: #E8F0FE;\n",
              "      border: none;\n",
              "      border-radius: 50%;\n",
              "      cursor: pointer;\n",
              "      display: none;\n",
              "      fill: #1967D2;\n",
              "      height: 32px;\n",
              "      padding: 0 0 0 0;\n",
              "      width: 32px;\n",
              "    }\n",
              "\n",
              "    .colab-df-convert:hover {\n",
              "      background-color: #E2EBFA;\n",
              "      box-shadow: 0px 1px 2px rgba(60, 64, 67, 0.3), 0px 1px 3px 1px rgba(60, 64, 67, 0.15);\n",
              "      fill: #174EA6;\n",
              "    }\n",
              "\n",
              "    [theme=dark] .colab-df-convert {\n",
              "      background-color: #3B4455;\n",
              "      fill: #D2E3FC;\n",
              "    }\n",
              "\n",
              "    [theme=dark] .colab-df-convert:hover {\n",
              "      background-color: #434B5C;\n",
              "      box-shadow: 0px 1px 3px 1px rgba(0, 0, 0, 0.15);\n",
              "      filter: drop-shadow(0px 1px 2px rgba(0, 0, 0, 0.3));\n",
              "      fill: #FFFFFF;\n",
              "    }\n",
              "  </style>\n",
              "\n",
              "      <script>\n",
              "        const buttonEl =\n",
              "          document.querySelector('#df-b5cb0497-f48c-4f2d-83f9-1854624ed0a7 button.colab-df-convert');\n",
              "        buttonEl.style.display =\n",
              "          google.colab.kernel.accessAllowed ? 'block' : 'none';\n",
              "\n",
              "        async function convertToInteractive(key) {\n",
              "          const element = document.querySelector('#df-b5cb0497-f48c-4f2d-83f9-1854624ed0a7');\n",
              "          const dataTable =\n",
              "            await google.colab.kernel.invokeFunction('convertToInteractive',\n",
              "                                                     [key], {});\n",
              "          if (!dataTable) return;\n",
              "\n",
              "          const docLinkHtml = 'Like what you see? Visit the ' +\n",
              "            '<a target=\"_blank\" href=https://colab.research.google.com/notebooks/data_table.ipynb>data table notebook</a>'\n",
              "            + ' to learn more about interactive tables.';\n",
              "          element.innerHTML = '';\n",
              "          dataTable['output_type'] = 'display_data';\n",
              "          await google.colab.output.renderOutput(dataTable, element);\n",
              "          const docLink = document.createElement('div');\n",
              "          docLink.innerHTML = docLinkHtml;\n",
              "          element.appendChild(docLink);\n",
              "        }\n",
              "      </script>\n",
              "    </div>\n",
              "  </div>\n",
              "  "
            ]
          },
          "metadata": {},
          "execution_count": 209
        }
      ]
    },
    {
      "cell_type": "code",
      "source": [
        "from sklearn import tree\n",
        "X = data_age_payment.iloc[:,1:-1].values\n",
        "Y = data_age_payment.iloc[:,-1].values\n",
        "clf = tree.DecisionTreeClassifier()\n",
        "\n",
        "clf = clf.fit(X, Y)"
      ],
      "metadata": {
        "id": "vNETvcxUHhco"
      },
      "execution_count": null,
      "outputs": []
    },
    {
      "cell_type": "code",
      "source": [
        "clf.predict([[150000,21,500000]])"
      ],
      "metadata": {
        "colab": {
          "base_uri": "https://localhost:8080/"
        },
        "id": "EH-iKZHBJe1_",
        "outputId": "592c9a37-9908-4096-b104-c9ddbf8cba6c"
      },
      "execution_count": null,
      "outputs": [
        {
          "output_type": "execute_result",
          "data": {
            "text/plain": [
              "array([1])"
            ]
          },
          "metadata": {},
          "execution_count": 211
        }
      ]
    },
    {
      "cell_type": "code",
      "source": [
        "data_age_payment[data_age_payment['default'] == 1].describe()\n"
      ],
      "metadata": {
        "colab": {
          "base_uri": "https://localhost:8080/",
          "height": 300
        },
        "id": "uvoac8V0Jxh2",
        "outputId": "5b885d43-880a-4fa5-c9b6-ec4d448a23ac"
      },
      "execution_count": null,
      "outputs": [
        {
          "output_type": "execute_result",
          "data": {
            "text/plain": [
              "          clientid        income         age          loan  default\n",
              "count   283.000000    283.000000  283.000000    283.000000    283.0\n",
              "mean    971.851590  45412.188607   25.897527   7272.856747      1.0\n",
              "std     578.110402  14398.556175    4.760218   2581.177563      0.0\n",
              "min       5.000000  20063.099584   18.000000   2495.132991      1.0\n",
              "25%     458.500000  33438.770035   22.000000   5445.171674      1.0\n",
              "50%     976.000000  45980.334345   26.000000   7181.478553      1.0\n",
              "75%    1470.000000  57544.413627   30.000000   9037.108180      1.0\n",
              "max    1998.000000  69958.705541   34.000000  13376.797706      1.0"
            ],
            "text/html": [
              "\n",
              "  <div id=\"df-b73601e5-c6f8-4270-a348-2bb6415edee6\">\n",
              "    <div class=\"colab-df-container\">\n",
              "      <div>\n",
              "<style scoped>\n",
              "    .dataframe tbody tr th:only-of-type {\n",
              "        vertical-align: middle;\n",
              "    }\n",
              "\n",
              "    .dataframe tbody tr th {\n",
              "        vertical-align: top;\n",
              "    }\n",
              "\n",
              "    .dataframe thead th {\n",
              "        text-align: right;\n",
              "    }\n",
              "</style>\n",
              "<table border=\"1\" class=\"dataframe\">\n",
              "  <thead>\n",
              "    <tr style=\"text-align: right;\">\n",
              "      <th></th>\n",
              "      <th>clientid</th>\n",
              "      <th>income</th>\n",
              "      <th>age</th>\n",
              "      <th>loan</th>\n",
              "      <th>default</th>\n",
              "    </tr>\n",
              "  </thead>\n",
              "  <tbody>\n",
              "    <tr>\n",
              "      <th>count</th>\n",
              "      <td>283.000000</td>\n",
              "      <td>283.000000</td>\n",
              "      <td>283.000000</td>\n",
              "      <td>283.000000</td>\n",
              "      <td>283.0</td>\n",
              "    </tr>\n",
              "    <tr>\n",
              "      <th>mean</th>\n",
              "      <td>971.851590</td>\n",
              "      <td>45412.188607</td>\n",
              "      <td>25.897527</td>\n",
              "      <td>7272.856747</td>\n",
              "      <td>1.0</td>\n",
              "    </tr>\n",
              "    <tr>\n",
              "      <th>std</th>\n",
              "      <td>578.110402</td>\n",
              "      <td>14398.556175</td>\n",
              "      <td>4.760218</td>\n",
              "      <td>2581.177563</td>\n",
              "      <td>0.0</td>\n",
              "    </tr>\n",
              "    <tr>\n",
              "      <th>min</th>\n",
              "      <td>5.000000</td>\n",
              "      <td>20063.099584</td>\n",
              "      <td>18.000000</td>\n",
              "      <td>2495.132991</td>\n",
              "      <td>1.0</td>\n",
              "    </tr>\n",
              "    <tr>\n",
              "      <th>25%</th>\n",
              "      <td>458.500000</td>\n",
              "      <td>33438.770035</td>\n",
              "      <td>22.000000</td>\n",
              "      <td>5445.171674</td>\n",
              "      <td>1.0</td>\n",
              "    </tr>\n",
              "    <tr>\n",
              "      <th>50%</th>\n",
              "      <td>976.000000</td>\n",
              "      <td>45980.334345</td>\n",
              "      <td>26.000000</td>\n",
              "      <td>7181.478553</td>\n",
              "      <td>1.0</td>\n",
              "    </tr>\n",
              "    <tr>\n",
              "      <th>75%</th>\n",
              "      <td>1470.000000</td>\n",
              "      <td>57544.413627</td>\n",
              "      <td>30.000000</td>\n",
              "      <td>9037.108180</td>\n",
              "      <td>1.0</td>\n",
              "    </tr>\n",
              "    <tr>\n",
              "      <th>max</th>\n",
              "      <td>1998.000000</td>\n",
              "      <td>69958.705541</td>\n",
              "      <td>34.000000</td>\n",
              "      <td>13376.797706</td>\n",
              "      <td>1.0</td>\n",
              "    </tr>\n",
              "  </tbody>\n",
              "</table>\n",
              "</div>\n",
              "      <button class=\"colab-df-convert\" onclick=\"convertToInteractive('df-b73601e5-c6f8-4270-a348-2bb6415edee6')\"\n",
              "              title=\"Convert this dataframe to an interactive table.\"\n",
              "              style=\"display:none;\">\n",
              "        \n",
              "  <svg xmlns=\"http://www.w3.org/2000/svg\" height=\"24px\"viewBox=\"0 0 24 24\"\n",
              "       width=\"24px\">\n",
              "    <path d=\"M0 0h24v24H0V0z\" fill=\"none\"/>\n",
              "    <path d=\"M18.56 5.44l.94 2.06.94-2.06 2.06-.94-2.06-.94-.94-2.06-.94 2.06-2.06.94zm-11 1L8.5 8.5l.94-2.06 2.06-.94-2.06-.94L8.5 2.5l-.94 2.06-2.06.94zm10 10l.94 2.06.94-2.06 2.06-.94-2.06-.94-.94-2.06-.94 2.06-2.06.94z\"/><path d=\"M17.41 7.96l-1.37-1.37c-.4-.4-.92-.59-1.43-.59-.52 0-1.04.2-1.43.59L10.3 9.45l-7.72 7.72c-.78.78-.78 2.05 0 2.83L4 21.41c.39.39.9.59 1.41.59.51 0 1.02-.2 1.41-.59l7.78-7.78 2.81-2.81c.8-.78.8-2.07 0-2.86zM5.41 20L4 18.59l7.72-7.72 1.47 1.35L5.41 20z\"/>\n",
              "  </svg>\n",
              "      </button>\n",
              "      \n",
              "  <style>\n",
              "    .colab-df-container {\n",
              "      display:flex;\n",
              "      flex-wrap:wrap;\n",
              "      gap: 12px;\n",
              "    }\n",
              "\n",
              "    .colab-df-convert {\n",
              "      background-color: #E8F0FE;\n",
              "      border: none;\n",
              "      border-radius: 50%;\n",
              "      cursor: pointer;\n",
              "      display: none;\n",
              "      fill: #1967D2;\n",
              "      height: 32px;\n",
              "      padding: 0 0 0 0;\n",
              "      width: 32px;\n",
              "    }\n",
              "\n",
              "    .colab-df-convert:hover {\n",
              "      background-color: #E2EBFA;\n",
              "      box-shadow: 0px 1px 2px rgba(60, 64, 67, 0.3), 0px 1px 3px 1px rgba(60, 64, 67, 0.15);\n",
              "      fill: #174EA6;\n",
              "    }\n",
              "\n",
              "    [theme=dark] .colab-df-convert {\n",
              "      background-color: #3B4455;\n",
              "      fill: #D2E3FC;\n",
              "    }\n",
              "\n",
              "    [theme=dark] .colab-df-convert:hover {\n",
              "      background-color: #434B5C;\n",
              "      box-shadow: 0px 1px 3px 1px rgba(0, 0, 0, 0.15);\n",
              "      filter: drop-shadow(0px 1px 2px rgba(0, 0, 0, 0.3));\n",
              "      fill: #FFFFFF;\n",
              "    }\n",
              "  </style>\n",
              "\n",
              "      <script>\n",
              "        const buttonEl =\n",
              "          document.querySelector('#df-b73601e5-c6f8-4270-a348-2bb6415edee6 button.colab-df-convert');\n",
              "        buttonEl.style.display =\n",
              "          google.colab.kernel.accessAllowed ? 'block' : 'none';\n",
              "\n",
              "        async function convertToInteractive(key) {\n",
              "          const element = document.querySelector('#df-b73601e5-c6f8-4270-a348-2bb6415edee6');\n",
              "          const dataTable =\n",
              "            await google.colab.kernel.invokeFunction('convertToInteractive',\n",
              "                                                     [key], {});\n",
              "          if (!dataTable) return;\n",
              "\n",
              "          const docLinkHtml = 'Like what you see? Visit the ' +\n",
              "            '<a target=\"_blank\" href=https://colab.research.google.com/notebooks/data_table.ipynb>data table notebook</a>'\n",
              "            + ' to learn more about interactive tables.';\n",
              "          element.innerHTML = '';\n",
              "          dataTable['output_type'] = 'display_data';\n",
              "          await google.colab.output.renderOutput(dataTable, element);\n",
              "          const docLink = document.createElement('div');\n",
              "          docLink.innerHTML = docLinkHtml;\n",
              "          element.appendChild(docLink);\n",
              "        }\n",
              "      </script>\n",
              "    </div>\n",
              "  </div>\n",
              "  "
            ]
          },
          "metadata": {},
          "execution_count": 212
        }
      ]
    },
    {
      "cell_type": "markdown",
      "source": [
        "Padronizacao , Stand"
      ],
      "metadata": {
        "id": "sJQ9jqNSYrC3"
      }
    },
    {
      "cell_type": "code",
      "source": [
        "print(X[:,0].min(),X[:,1].min(),X[:,2].min())\n",
        "print(X[:,0].max(),X[:,1].max(),X[:,2].max())"
      ],
      "metadata": {
        "id": "19C76AKAMMm_",
        "colab": {
          "base_uri": "https://localhost:8080/"
        },
        "outputId": "c8fd6bea-d38b-40bc-9ad4-6d966db54fa9"
      },
      "execution_count": null,
      "outputs": [
        {
          "output_type": "stream",
          "name": "stdout",
          "text": [
            "20014.4894700497 18.0 1.37762959325451\n",
            "69995.6855783239 63.0 13766.0512393337\n"
          ]
        }
      ]
    },
    {
      "cell_type": "code",
      "source": [
        "from sklearn.preprocessing import StandardScaler\n",
        "scalador=StandardScaler()\n",
        "X_s=scalador.fit_transform(X)"
      ],
      "metadata": {
        "id": "w4SNOrELXmbT"
      },
      "execution_count": null,
      "outputs": []
    },
    {
      "cell_type": "code",
      "source": [
        "X_s"
      ],
      "metadata": {
        "colab": {
          "base_uri": "https://localhost:8080/"
        },
        "id": "_IaToLyIYzs7",
        "outputId": "86c870aa-bf03-4ef3-e30f-cb355ae529dd"
      },
      "execution_count": null,
      "outputs": [
        {
          "output_type": "execute_result",
          "data": {
            "text/plain": [
              "array([[ 1.45393393,  1.40133002,  1.20281942],\n",
              "       [-0.76217555,  0.57135935,  0.69642695],\n",
              "       [ 0.83682073,  1.70313753,  1.17471147],\n",
              "       ...,\n",
              "       [-0.07122592, -0.93767822,  0.35420081],\n",
              "       [-0.11000289,  1.70313753, -0.92675625],\n",
              "       [ 1.682986  ,  1.17497438,  0.96381038]])"
            ]
          },
          "metadata": {},
          "execution_count": 215
        }
      ]
    },
    {
      "cell_type": "markdown",
      "source": [
        "Base de dados do censo"
      ],
      "metadata": {
        "id": "QCkqRwOhZiTX"
      }
    },
    {
      "cell_type": "code",
      "source": [
        "censu=pd.read_csv('/content/drive/MyDrive/census.csv')\n",
        "censu"
      ],
      "metadata": {
        "colab": {
          "base_uri": "https://localhost:8080/",
          "height": 676
        },
        "id": "ROvzBovHZQge",
        "outputId": "35d28727-6870-4a6b-e5e9-748cf48b06e5"
      },
      "execution_count": null,
      "outputs": [
        {
          "output_type": "execute_result",
          "data": {
            "text/plain": [
              "       age          workclass  final-weight    education  education-num  \\\n",
              "0       39          State-gov         77516    Bachelors             13   \n",
              "1       50   Self-emp-not-inc         83311    Bachelors             13   \n",
              "2       38            Private        215646      HS-grad              9   \n",
              "3       53            Private        234721         11th              7   \n",
              "4       28            Private        338409    Bachelors             13   \n",
              "...    ...                ...           ...          ...            ...   \n",
              "32556   27            Private        257302   Assoc-acdm             12   \n",
              "32557   40            Private        154374      HS-grad              9   \n",
              "32558   58            Private        151910      HS-grad              9   \n",
              "32559   22            Private        201490      HS-grad              9   \n",
              "32560   52       Self-emp-inc        287927      HS-grad              9   \n",
              "\n",
              "            marital-status          occupation    relationship    race  \\\n",
              "0            Never-married        Adm-clerical   Not-in-family   White   \n",
              "1       Married-civ-spouse     Exec-managerial         Husband   White   \n",
              "2                 Divorced   Handlers-cleaners   Not-in-family   White   \n",
              "3       Married-civ-spouse   Handlers-cleaners         Husband   Black   \n",
              "4       Married-civ-spouse      Prof-specialty            Wife   Black   \n",
              "...                    ...                 ...             ...     ...   \n",
              "32556   Married-civ-spouse        Tech-support            Wife   White   \n",
              "32557   Married-civ-spouse   Machine-op-inspct         Husband   White   \n",
              "32558              Widowed        Adm-clerical       Unmarried   White   \n",
              "32559        Never-married        Adm-clerical       Own-child   White   \n",
              "32560   Married-civ-spouse     Exec-managerial            Wife   White   \n",
              "\n",
              "           sex  capital-gain  capital-loos  hour-per-week  native-country  \\\n",
              "0         Male          2174             0             40   United-States   \n",
              "1         Male             0             0             13   United-States   \n",
              "2         Male             0             0             40   United-States   \n",
              "3         Male             0             0             40   United-States   \n",
              "4       Female             0             0             40            Cuba   \n",
              "...        ...           ...           ...            ...             ...   \n",
              "32556   Female             0             0             38   United-States   \n",
              "32557     Male             0             0             40   United-States   \n",
              "32558   Female             0             0             40   United-States   \n",
              "32559     Male             0             0             20   United-States   \n",
              "32560   Female         15024             0             40   United-States   \n",
              "\n",
              "       income  \n",
              "0       <=50K  \n",
              "1       <=50K  \n",
              "2       <=50K  \n",
              "3       <=50K  \n",
              "4       <=50K  \n",
              "...       ...  \n",
              "32556   <=50K  \n",
              "32557    >50K  \n",
              "32558   <=50K  \n",
              "32559   <=50K  \n",
              "32560    >50K  \n",
              "\n",
              "[32561 rows x 15 columns]"
            ],
            "text/html": [
              "\n",
              "  <div id=\"df-082ccc56-8874-45a0-b624-fe33f1c9c5ca\">\n",
              "    <div class=\"colab-df-container\">\n",
              "      <div>\n",
              "<style scoped>\n",
              "    .dataframe tbody tr th:only-of-type {\n",
              "        vertical-align: middle;\n",
              "    }\n",
              "\n",
              "    .dataframe tbody tr th {\n",
              "        vertical-align: top;\n",
              "    }\n",
              "\n",
              "    .dataframe thead th {\n",
              "        text-align: right;\n",
              "    }\n",
              "</style>\n",
              "<table border=\"1\" class=\"dataframe\">\n",
              "  <thead>\n",
              "    <tr style=\"text-align: right;\">\n",
              "      <th></th>\n",
              "      <th>age</th>\n",
              "      <th>workclass</th>\n",
              "      <th>final-weight</th>\n",
              "      <th>education</th>\n",
              "      <th>education-num</th>\n",
              "      <th>marital-status</th>\n",
              "      <th>occupation</th>\n",
              "      <th>relationship</th>\n",
              "      <th>race</th>\n",
              "      <th>sex</th>\n",
              "      <th>capital-gain</th>\n",
              "      <th>capital-loos</th>\n",
              "      <th>hour-per-week</th>\n",
              "      <th>native-country</th>\n",
              "      <th>income</th>\n",
              "    </tr>\n",
              "  </thead>\n",
              "  <tbody>\n",
              "    <tr>\n",
              "      <th>0</th>\n",
              "      <td>39</td>\n",
              "      <td>State-gov</td>\n",
              "      <td>77516</td>\n",
              "      <td>Bachelors</td>\n",
              "      <td>13</td>\n",
              "      <td>Never-married</td>\n",
              "      <td>Adm-clerical</td>\n",
              "      <td>Not-in-family</td>\n",
              "      <td>White</td>\n",
              "      <td>Male</td>\n",
              "      <td>2174</td>\n",
              "      <td>0</td>\n",
              "      <td>40</td>\n",
              "      <td>United-States</td>\n",
              "      <td>&lt;=50K</td>\n",
              "    </tr>\n",
              "    <tr>\n",
              "      <th>1</th>\n",
              "      <td>50</td>\n",
              "      <td>Self-emp-not-inc</td>\n",
              "      <td>83311</td>\n",
              "      <td>Bachelors</td>\n",
              "      <td>13</td>\n",
              "      <td>Married-civ-spouse</td>\n",
              "      <td>Exec-managerial</td>\n",
              "      <td>Husband</td>\n",
              "      <td>White</td>\n",
              "      <td>Male</td>\n",
              "      <td>0</td>\n",
              "      <td>0</td>\n",
              "      <td>13</td>\n",
              "      <td>United-States</td>\n",
              "      <td>&lt;=50K</td>\n",
              "    </tr>\n",
              "    <tr>\n",
              "      <th>2</th>\n",
              "      <td>38</td>\n",
              "      <td>Private</td>\n",
              "      <td>215646</td>\n",
              "      <td>HS-grad</td>\n",
              "      <td>9</td>\n",
              "      <td>Divorced</td>\n",
              "      <td>Handlers-cleaners</td>\n",
              "      <td>Not-in-family</td>\n",
              "      <td>White</td>\n",
              "      <td>Male</td>\n",
              "      <td>0</td>\n",
              "      <td>0</td>\n",
              "      <td>40</td>\n",
              "      <td>United-States</td>\n",
              "      <td>&lt;=50K</td>\n",
              "    </tr>\n",
              "    <tr>\n",
              "      <th>3</th>\n",
              "      <td>53</td>\n",
              "      <td>Private</td>\n",
              "      <td>234721</td>\n",
              "      <td>11th</td>\n",
              "      <td>7</td>\n",
              "      <td>Married-civ-spouse</td>\n",
              "      <td>Handlers-cleaners</td>\n",
              "      <td>Husband</td>\n",
              "      <td>Black</td>\n",
              "      <td>Male</td>\n",
              "      <td>0</td>\n",
              "      <td>0</td>\n",
              "      <td>40</td>\n",
              "      <td>United-States</td>\n",
              "      <td>&lt;=50K</td>\n",
              "    </tr>\n",
              "    <tr>\n",
              "      <th>4</th>\n",
              "      <td>28</td>\n",
              "      <td>Private</td>\n",
              "      <td>338409</td>\n",
              "      <td>Bachelors</td>\n",
              "      <td>13</td>\n",
              "      <td>Married-civ-spouse</td>\n",
              "      <td>Prof-specialty</td>\n",
              "      <td>Wife</td>\n",
              "      <td>Black</td>\n",
              "      <td>Female</td>\n",
              "      <td>0</td>\n",
              "      <td>0</td>\n",
              "      <td>40</td>\n",
              "      <td>Cuba</td>\n",
              "      <td>&lt;=50K</td>\n",
              "    </tr>\n",
              "    <tr>\n",
              "      <th>...</th>\n",
              "      <td>...</td>\n",
              "      <td>...</td>\n",
              "      <td>...</td>\n",
              "      <td>...</td>\n",
              "      <td>...</td>\n",
              "      <td>...</td>\n",
              "      <td>...</td>\n",
              "      <td>...</td>\n",
              "      <td>...</td>\n",
              "      <td>...</td>\n",
              "      <td>...</td>\n",
              "      <td>...</td>\n",
              "      <td>...</td>\n",
              "      <td>...</td>\n",
              "      <td>...</td>\n",
              "    </tr>\n",
              "    <tr>\n",
              "      <th>32556</th>\n",
              "      <td>27</td>\n",
              "      <td>Private</td>\n",
              "      <td>257302</td>\n",
              "      <td>Assoc-acdm</td>\n",
              "      <td>12</td>\n",
              "      <td>Married-civ-spouse</td>\n",
              "      <td>Tech-support</td>\n",
              "      <td>Wife</td>\n",
              "      <td>White</td>\n",
              "      <td>Female</td>\n",
              "      <td>0</td>\n",
              "      <td>0</td>\n",
              "      <td>38</td>\n",
              "      <td>United-States</td>\n",
              "      <td>&lt;=50K</td>\n",
              "    </tr>\n",
              "    <tr>\n",
              "      <th>32557</th>\n",
              "      <td>40</td>\n",
              "      <td>Private</td>\n",
              "      <td>154374</td>\n",
              "      <td>HS-grad</td>\n",
              "      <td>9</td>\n",
              "      <td>Married-civ-spouse</td>\n",
              "      <td>Machine-op-inspct</td>\n",
              "      <td>Husband</td>\n",
              "      <td>White</td>\n",
              "      <td>Male</td>\n",
              "      <td>0</td>\n",
              "      <td>0</td>\n",
              "      <td>40</td>\n",
              "      <td>United-States</td>\n",
              "      <td>&gt;50K</td>\n",
              "    </tr>\n",
              "    <tr>\n",
              "      <th>32558</th>\n",
              "      <td>58</td>\n",
              "      <td>Private</td>\n",
              "      <td>151910</td>\n",
              "      <td>HS-grad</td>\n",
              "      <td>9</td>\n",
              "      <td>Widowed</td>\n",
              "      <td>Adm-clerical</td>\n",
              "      <td>Unmarried</td>\n",
              "      <td>White</td>\n",
              "      <td>Female</td>\n",
              "      <td>0</td>\n",
              "      <td>0</td>\n",
              "      <td>40</td>\n",
              "      <td>United-States</td>\n",
              "      <td>&lt;=50K</td>\n",
              "    </tr>\n",
              "    <tr>\n",
              "      <th>32559</th>\n",
              "      <td>22</td>\n",
              "      <td>Private</td>\n",
              "      <td>201490</td>\n",
              "      <td>HS-grad</td>\n",
              "      <td>9</td>\n",
              "      <td>Never-married</td>\n",
              "      <td>Adm-clerical</td>\n",
              "      <td>Own-child</td>\n",
              "      <td>White</td>\n",
              "      <td>Male</td>\n",
              "      <td>0</td>\n",
              "      <td>0</td>\n",
              "      <td>20</td>\n",
              "      <td>United-States</td>\n",
              "      <td>&lt;=50K</td>\n",
              "    </tr>\n",
              "    <tr>\n",
              "      <th>32560</th>\n",
              "      <td>52</td>\n",
              "      <td>Self-emp-inc</td>\n",
              "      <td>287927</td>\n",
              "      <td>HS-grad</td>\n",
              "      <td>9</td>\n",
              "      <td>Married-civ-spouse</td>\n",
              "      <td>Exec-managerial</td>\n",
              "      <td>Wife</td>\n",
              "      <td>White</td>\n",
              "      <td>Female</td>\n",
              "      <td>15024</td>\n",
              "      <td>0</td>\n",
              "      <td>40</td>\n",
              "      <td>United-States</td>\n",
              "      <td>&gt;50K</td>\n",
              "    </tr>\n",
              "  </tbody>\n",
              "</table>\n",
              "<p>32561 rows × 15 columns</p>\n",
              "</div>\n",
              "      <button class=\"colab-df-convert\" onclick=\"convertToInteractive('df-082ccc56-8874-45a0-b624-fe33f1c9c5ca')\"\n",
              "              title=\"Convert this dataframe to an interactive table.\"\n",
              "              style=\"display:none;\">\n",
              "        \n",
              "  <svg xmlns=\"http://www.w3.org/2000/svg\" height=\"24px\"viewBox=\"0 0 24 24\"\n",
              "       width=\"24px\">\n",
              "    <path d=\"M0 0h24v24H0V0z\" fill=\"none\"/>\n",
              "    <path d=\"M18.56 5.44l.94 2.06.94-2.06 2.06-.94-2.06-.94-.94-2.06-.94 2.06-2.06.94zm-11 1L8.5 8.5l.94-2.06 2.06-.94-2.06-.94L8.5 2.5l-.94 2.06-2.06.94zm10 10l.94 2.06.94-2.06 2.06-.94-2.06-.94-.94-2.06-.94 2.06-2.06.94z\"/><path d=\"M17.41 7.96l-1.37-1.37c-.4-.4-.92-.59-1.43-.59-.52 0-1.04.2-1.43.59L10.3 9.45l-7.72 7.72c-.78.78-.78 2.05 0 2.83L4 21.41c.39.39.9.59 1.41.59.51 0 1.02-.2 1.41-.59l7.78-7.78 2.81-2.81c.8-.78.8-2.07 0-2.86zM5.41 20L4 18.59l7.72-7.72 1.47 1.35L5.41 20z\"/>\n",
              "  </svg>\n",
              "      </button>\n",
              "      \n",
              "  <style>\n",
              "    .colab-df-container {\n",
              "      display:flex;\n",
              "      flex-wrap:wrap;\n",
              "      gap: 12px;\n",
              "    }\n",
              "\n",
              "    .colab-df-convert {\n",
              "      background-color: #E8F0FE;\n",
              "      border: none;\n",
              "      border-radius: 50%;\n",
              "      cursor: pointer;\n",
              "      display: none;\n",
              "      fill: #1967D2;\n",
              "      height: 32px;\n",
              "      padding: 0 0 0 0;\n",
              "      width: 32px;\n",
              "    }\n",
              "\n",
              "    .colab-df-convert:hover {\n",
              "      background-color: #E2EBFA;\n",
              "      box-shadow: 0px 1px 2px rgba(60, 64, 67, 0.3), 0px 1px 3px 1px rgba(60, 64, 67, 0.15);\n",
              "      fill: #174EA6;\n",
              "    }\n",
              "\n",
              "    [theme=dark] .colab-df-convert {\n",
              "      background-color: #3B4455;\n",
              "      fill: #D2E3FC;\n",
              "    }\n",
              "\n",
              "    [theme=dark] .colab-df-convert:hover {\n",
              "      background-color: #434B5C;\n",
              "      box-shadow: 0px 1px 3px 1px rgba(0, 0, 0, 0.15);\n",
              "      filter: drop-shadow(0px 1px 2px rgba(0, 0, 0, 0.3));\n",
              "      fill: #FFFFFF;\n",
              "    }\n",
              "  </style>\n",
              "\n",
              "      <script>\n",
              "        const buttonEl =\n",
              "          document.querySelector('#df-082ccc56-8874-45a0-b624-fe33f1c9c5ca button.colab-df-convert');\n",
              "        buttonEl.style.display =\n",
              "          google.colab.kernel.accessAllowed ? 'block' : 'none';\n",
              "\n",
              "        async function convertToInteractive(key) {\n",
              "          const element = document.querySelector('#df-082ccc56-8874-45a0-b624-fe33f1c9c5ca');\n",
              "          const dataTable =\n",
              "            await google.colab.kernel.invokeFunction('convertToInteractive',\n",
              "                                                     [key], {});\n",
              "          if (!dataTable) return;\n",
              "\n",
              "          const docLinkHtml = 'Like what you see? Visit the ' +\n",
              "            '<a target=\"_blank\" href=https://colab.research.google.com/notebooks/data_table.ipynb>data table notebook</a>'\n",
              "            + ' to learn more about interactive tables.';\n",
              "          element.innerHTML = '';\n",
              "          dataTable['output_type'] = 'display_data';\n",
              "          await google.colab.output.renderOutput(dataTable, element);\n",
              "          const docLink = document.createElement('div');\n",
              "          docLink.innerHTML = docLinkHtml;\n",
              "          element.appendChild(docLink);\n",
              "        }\n",
              "      </script>\n",
              "    </div>\n",
              "  </div>\n",
              "  "
            ]
          },
          "metadata": {},
          "execution_count": 216
        }
      ]
    },
    {
      "cell_type": "code",
      "source": [
        "censu.describe()"
      ],
      "metadata": {
        "colab": {
          "base_uri": "https://localhost:8080/",
          "height": 300
        },
        "id": "3BLDLTKmZvhm",
        "outputId": "b322b96e-6179-4373-f5c2-d1efa123583b"
      },
      "execution_count": null,
      "outputs": [
        {
          "output_type": "execute_result",
          "data": {
            "text/plain": [
              "                age  final-weight  education-num  capital-gain  capital-loos  \\\n",
              "count  32561.000000  3.256100e+04   32561.000000  32561.000000  32561.000000   \n",
              "mean      38.581647  1.897784e+05      10.080679   1077.648844     87.303830   \n",
              "std       13.640433  1.055500e+05       2.572720   7385.292085    402.960219   \n",
              "min       17.000000  1.228500e+04       1.000000      0.000000      0.000000   \n",
              "25%       28.000000  1.178270e+05       9.000000      0.000000      0.000000   \n",
              "50%       37.000000  1.783560e+05      10.000000      0.000000      0.000000   \n",
              "75%       48.000000  2.370510e+05      12.000000      0.000000      0.000000   \n",
              "max       90.000000  1.484705e+06      16.000000  99999.000000   4356.000000   \n",
              "\n",
              "       hour-per-week  \n",
              "count   32561.000000  \n",
              "mean       40.437456  \n",
              "std        12.347429  \n",
              "min         1.000000  \n",
              "25%        40.000000  \n",
              "50%        40.000000  \n",
              "75%        45.000000  \n",
              "max        99.000000  "
            ],
            "text/html": [
              "\n",
              "  <div id=\"df-7ca0284d-1249-4e00-95c0-083a7c2f3c80\">\n",
              "    <div class=\"colab-df-container\">\n",
              "      <div>\n",
              "<style scoped>\n",
              "    .dataframe tbody tr th:only-of-type {\n",
              "        vertical-align: middle;\n",
              "    }\n",
              "\n",
              "    .dataframe tbody tr th {\n",
              "        vertical-align: top;\n",
              "    }\n",
              "\n",
              "    .dataframe thead th {\n",
              "        text-align: right;\n",
              "    }\n",
              "</style>\n",
              "<table border=\"1\" class=\"dataframe\">\n",
              "  <thead>\n",
              "    <tr style=\"text-align: right;\">\n",
              "      <th></th>\n",
              "      <th>age</th>\n",
              "      <th>final-weight</th>\n",
              "      <th>education-num</th>\n",
              "      <th>capital-gain</th>\n",
              "      <th>capital-loos</th>\n",
              "      <th>hour-per-week</th>\n",
              "    </tr>\n",
              "  </thead>\n",
              "  <tbody>\n",
              "    <tr>\n",
              "      <th>count</th>\n",
              "      <td>32561.000000</td>\n",
              "      <td>3.256100e+04</td>\n",
              "      <td>32561.000000</td>\n",
              "      <td>32561.000000</td>\n",
              "      <td>32561.000000</td>\n",
              "      <td>32561.000000</td>\n",
              "    </tr>\n",
              "    <tr>\n",
              "      <th>mean</th>\n",
              "      <td>38.581647</td>\n",
              "      <td>1.897784e+05</td>\n",
              "      <td>10.080679</td>\n",
              "      <td>1077.648844</td>\n",
              "      <td>87.303830</td>\n",
              "      <td>40.437456</td>\n",
              "    </tr>\n",
              "    <tr>\n",
              "      <th>std</th>\n",
              "      <td>13.640433</td>\n",
              "      <td>1.055500e+05</td>\n",
              "      <td>2.572720</td>\n",
              "      <td>7385.292085</td>\n",
              "      <td>402.960219</td>\n",
              "      <td>12.347429</td>\n",
              "    </tr>\n",
              "    <tr>\n",
              "      <th>min</th>\n",
              "      <td>17.000000</td>\n",
              "      <td>1.228500e+04</td>\n",
              "      <td>1.000000</td>\n",
              "      <td>0.000000</td>\n",
              "      <td>0.000000</td>\n",
              "      <td>1.000000</td>\n",
              "    </tr>\n",
              "    <tr>\n",
              "      <th>25%</th>\n",
              "      <td>28.000000</td>\n",
              "      <td>1.178270e+05</td>\n",
              "      <td>9.000000</td>\n",
              "      <td>0.000000</td>\n",
              "      <td>0.000000</td>\n",
              "      <td>40.000000</td>\n",
              "    </tr>\n",
              "    <tr>\n",
              "      <th>50%</th>\n",
              "      <td>37.000000</td>\n",
              "      <td>1.783560e+05</td>\n",
              "      <td>10.000000</td>\n",
              "      <td>0.000000</td>\n",
              "      <td>0.000000</td>\n",
              "      <td>40.000000</td>\n",
              "    </tr>\n",
              "    <tr>\n",
              "      <th>75%</th>\n",
              "      <td>48.000000</td>\n",
              "      <td>2.370510e+05</td>\n",
              "      <td>12.000000</td>\n",
              "      <td>0.000000</td>\n",
              "      <td>0.000000</td>\n",
              "      <td>45.000000</td>\n",
              "    </tr>\n",
              "    <tr>\n",
              "      <th>max</th>\n",
              "      <td>90.000000</td>\n",
              "      <td>1.484705e+06</td>\n",
              "      <td>16.000000</td>\n",
              "      <td>99999.000000</td>\n",
              "      <td>4356.000000</td>\n",
              "      <td>99.000000</td>\n",
              "    </tr>\n",
              "  </tbody>\n",
              "</table>\n",
              "</div>\n",
              "      <button class=\"colab-df-convert\" onclick=\"convertToInteractive('df-7ca0284d-1249-4e00-95c0-083a7c2f3c80')\"\n",
              "              title=\"Convert this dataframe to an interactive table.\"\n",
              "              style=\"display:none;\">\n",
              "        \n",
              "  <svg xmlns=\"http://www.w3.org/2000/svg\" height=\"24px\"viewBox=\"0 0 24 24\"\n",
              "       width=\"24px\">\n",
              "    <path d=\"M0 0h24v24H0V0z\" fill=\"none\"/>\n",
              "    <path d=\"M18.56 5.44l.94 2.06.94-2.06 2.06-.94-2.06-.94-.94-2.06-.94 2.06-2.06.94zm-11 1L8.5 8.5l.94-2.06 2.06-.94-2.06-.94L8.5 2.5l-.94 2.06-2.06.94zm10 10l.94 2.06.94-2.06 2.06-.94-2.06-.94-.94-2.06-.94 2.06-2.06.94z\"/><path d=\"M17.41 7.96l-1.37-1.37c-.4-.4-.92-.59-1.43-.59-.52 0-1.04.2-1.43.59L10.3 9.45l-7.72 7.72c-.78.78-.78 2.05 0 2.83L4 21.41c.39.39.9.59 1.41.59.51 0 1.02-.2 1.41-.59l7.78-7.78 2.81-2.81c.8-.78.8-2.07 0-2.86zM5.41 20L4 18.59l7.72-7.72 1.47 1.35L5.41 20z\"/>\n",
              "  </svg>\n",
              "      </button>\n",
              "      \n",
              "  <style>\n",
              "    .colab-df-container {\n",
              "      display:flex;\n",
              "      flex-wrap:wrap;\n",
              "      gap: 12px;\n",
              "    }\n",
              "\n",
              "    .colab-df-convert {\n",
              "      background-color: #E8F0FE;\n",
              "      border: none;\n",
              "      border-radius: 50%;\n",
              "      cursor: pointer;\n",
              "      display: none;\n",
              "      fill: #1967D2;\n",
              "      height: 32px;\n",
              "      padding: 0 0 0 0;\n",
              "      width: 32px;\n",
              "    }\n",
              "\n",
              "    .colab-df-convert:hover {\n",
              "      background-color: #E2EBFA;\n",
              "      box-shadow: 0px 1px 2px rgba(60, 64, 67, 0.3), 0px 1px 3px 1px rgba(60, 64, 67, 0.15);\n",
              "      fill: #174EA6;\n",
              "    }\n",
              "\n",
              "    [theme=dark] .colab-df-convert {\n",
              "      background-color: #3B4455;\n",
              "      fill: #D2E3FC;\n",
              "    }\n",
              "\n",
              "    [theme=dark] .colab-df-convert:hover {\n",
              "      background-color: #434B5C;\n",
              "      box-shadow: 0px 1px 3px 1px rgba(0, 0, 0, 0.15);\n",
              "      filter: drop-shadow(0px 1px 2px rgba(0, 0, 0, 0.3));\n",
              "      fill: #FFFFFF;\n",
              "    }\n",
              "  </style>\n",
              "\n",
              "      <script>\n",
              "        const buttonEl =\n",
              "          document.querySelector('#df-7ca0284d-1249-4e00-95c0-083a7c2f3c80 button.colab-df-convert');\n",
              "        buttonEl.style.display =\n",
              "          google.colab.kernel.accessAllowed ? 'block' : 'none';\n",
              "\n",
              "        async function convertToInteractive(key) {\n",
              "          const element = document.querySelector('#df-7ca0284d-1249-4e00-95c0-083a7c2f3c80');\n",
              "          const dataTable =\n",
              "            await google.colab.kernel.invokeFunction('convertToInteractive',\n",
              "                                                     [key], {});\n",
              "          if (!dataTable) return;\n",
              "\n",
              "          const docLinkHtml = 'Like what you see? Visit the ' +\n",
              "            '<a target=\"_blank\" href=https://colab.research.google.com/notebooks/data_table.ipynb>data table notebook</a>'\n",
              "            + ' to learn more about interactive tables.';\n",
              "          element.innerHTML = '';\n",
              "          dataTable['output_type'] = 'display_data';\n",
              "          await google.colab.output.renderOutput(dataTable, element);\n",
              "          const docLink = document.createElement('div');\n",
              "          docLink.innerHTML = docLinkHtml;\n",
              "          element.appendChild(docLink);\n",
              "        }\n",
              "      </script>\n",
              "    </div>\n",
              "  </div>\n",
              "  "
            ]
          },
          "metadata": {},
          "execution_count": 217
        }
      ]
    },
    {
      "cell_type": "code",
      "source": [
        "censu.isnull().sum()"
      ],
      "metadata": {
        "colab": {
          "base_uri": "https://localhost:8080/"
        },
        "id": "B8mA-FIOa8MG",
        "outputId": "d5e1a567-f747-44cb-c441-299b8b0c6337"
      },
      "execution_count": null,
      "outputs": [
        {
          "output_type": "execute_result",
          "data": {
            "text/plain": [
              "age               0\n",
              "workclass         0\n",
              "final-weight      0\n",
              "education         0\n",
              "education-num     0\n",
              "marital-status    0\n",
              "occupation        0\n",
              "relationship      0\n",
              "race              0\n",
              "sex               0\n",
              "capital-gain      0\n",
              "capital-loos      0\n",
              "hour-per-week     0\n",
              "native-country    0\n",
              "income            0\n",
              "dtype: int64"
            ]
          },
          "metadata": {},
          "execution_count": 218
        }
      ]
    },
    {
      "cell_type": "markdown",
      "source": [
        "Visualizacao dos dados"
      ],
      "metadata": {
        "id": "puWnImepcW_O"
      }
    },
    {
      "cell_type": "code",
      "source": [
        "np.unique(censu['income'],return_counts=True)"
      ],
      "metadata": {
        "colab": {
          "base_uri": "https://localhost:8080/"
        },
        "id": "uTLK5zDXcJGz",
        "outputId": "6e5e3621-9f1f-47e7-b625-429bef3a478e"
      },
      "execution_count": null,
      "outputs": [
        {
          "output_type": "execute_result",
          "data": {
            "text/plain": [
              "(array([' <=50K', ' >50K'], dtype=object), array([24720,  7841]))"
            ]
          },
          "metadata": {},
          "execution_count": 219
        }
      ]
    },
    {
      "cell_type": "code",
      "source": [
        "sns.countplot(x=censu['income'])"
      ],
      "metadata": {
        "colab": {
          "base_uri": "https://localhost:8080/",
          "height": 242
        },
        "id": "7eEDvcEKcl-9",
        "outputId": "3e967bbd-fad9-4e93-f033-1e2ee15bb3ce"
      },
      "execution_count": null,
      "outputs": [
        {
          "output_type": "execute_result",
          "data": {
            "text/plain": [
              "<matplotlib.axes._subplots.AxesSubplot at 0x7fdb1d6c3090>"
            ]
          },
          "metadata": {},
          "execution_count": 220
        },
        {
          "output_type": "display_data",
          "data": {
            "text/plain": [
              "<Figure size 1440x216 with 1 Axes>"
            ],
            "image/png": "[encoded data removed]"
          },
          "metadata": {
            "needs_background": "light"
          }
        }
      ]
    },
    {
      "cell_type": "code",
      "source": [
        "plt.hist(x=censu['age']);"
      ],
      "metadata": {
        "colab": {
          "base_uri": "https://localhost:8080/",
          "height": 211
        },
        "id": "fZbHUlyYc0rO",
        "outputId": "547a2b0f-5c1d-4d72-be19-57a71d4a2927"
      },
      "execution_count": null,
      "outputs": [
        {
          "output_type": "display_data",
          "data": {
            "text/plain": [
              "<Figure size 1440x216 with 1 Axes>"
            ],
            "image/png": "[encoded data removed]"
          },
          "metadata": {
            "needs_background": "light"
          }
        }
      ]
    },
    {
      "cell_type": "code",
      "source": [
        "plt.hist(x=censu['education-num']);"
      ],
      "metadata": {
        "colab": {
          "base_uri": "https://localhost:8080/",
          "height": 211
        },
        "id": "7qsQcNPvc9tV",
        "outputId": "2fb0f91c-864b-4e5c-e373-cf84aab24158"
      },
      "execution_count": null,
      "outputs": [
        {
          "output_type": "display_data",
          "data": {
            "text/plain": [
              "<Figure size 1440x216 with 1 Axes>"
            ],
            "image/png": "[encoded data removed]"
          },
          "metadata": {
            "needs_background": "light"
          }
        }
      ]
    },
    {
      "cell_type": "code",
      "source": [
        "sns.kdeplot(data=censu,x='education-num')"
      ],
      "metadata": {
        "colab": {
          "base_uri": "https://localhost:8080/",
          "height": 242
        },
        "id": "8nR9lyKddKhN",
        "outputId": "fe9f22b7-6777-4a29-8cf4-b35977358131"
      },
      "execution_count": null,
      "outputs": [
        {
          "output_type": "execute_result",
          "data": {
            "text/plain": [
              "<matplotlib.axes._subplots.AxesSubplot at 0x7fdb1dad9490>"
            ]
          },
          "metadata": {},
          "execution_count": 223
        },
        {
          "output_type": "display_data",
          "data": {
            "text/plain": [
              "<Figure size 1440x216 with 1 Axes>"
            ],
            "image/png": "[encoded data removed]"
          },
          "metadata": {
            "needs_background": "light"
          }
        }
      ]
    },
    {
      "cell_type": "code",
      "source": [
        "import matplotlib.pyplot as plt\n",
        "plt.rcParams[\"figure.figsize\"] = (20,3)\n",
        "plt.hist(x=censu['hour-per-week']);"
      ],
      "metadata": {
        "colab": {
          "base_uri": "https://localhost:8080/",
          "height": 211
        },
        "id": "pAz8DILWeFeI",
        "outputId": "a5294288-353b-4e08-fab8-7f6a2c95eee2"
      },
      "execution_count": null,
      "outputs": [
        {
          "output_type": "display_data",
          "data": {
            "text/plain": [
              "<Figure size 1440x216 with 1 Axes>"
            ],
            "image/png": "[encoded data removed]"
          },
          "metadata": {
            "needs_background": "light"
          }
        }
      ]
    },
    {
      "cell_type": "code",
      "source": [
        "px.treemap(censu,path=['occupation','relationship','age'])"
      ],
      "metadata": {
        "colab": {
          "base_uri": "https://localhost:8080/",
          "height": 542
        },
        "id": "PvXokLR6eN1j",
        "outputId": "d5d05ad4-3281-4fa3-b038-a7935e05d9bd"
      },
      "execution_count": null,
      "outputs": [
        {
          "output_type": "display_data",
          "data": {
            "text/html": [
              "<html>\n",
              "<head><meta charset=\"utf-8\" /></head>\n",
              "<body>\n",
              "    <div>            <script src=\"https://cdnjs.cloudflare.com/ajax/libs/mathjax/2.7.5/MathJax.js?config=TeX-AMS-MML_SVG\"></script><script type=\"text/javascript\">if (window.MathJax) {MathJax.Hub.Config({SVG: {font: \"STIX-Web\"}});}</script>                <script type=\"text/javascript\">window.PlotlyConfig = {MathJaxConfig: 'local'};</script>\n",
              "        <script src=\"https://cdn.plot.ly/plotly-2.8.3.min.js\"></script>                <div id=\"d649b495-f499-4027-ac01-0d7efdf219b6\" class=\"plotly-graph-div\" style=\"height:525px; width:100%;\"></div>            <script type=\"text/javascript\">                                    window.PLOTLYENV=window.PLOTLYENV || {};                                    if (document.getElementById(\"d649b495-f499-4027-ac01-0d7efdf219b6\")) {                    Plotly.newPlot(                        \"d649b495-f499-4027-ac01-0d7efdf219b6\",                        [{\"branchvalues\":\"total\",\"domain\":{\"x\":[0.0,1.0],\"y\":[0.0,1.0]},\"hovertemplate\":\"labels=%{label}<br>count=%{value}<br>parent=%{parent}<br>id=%{id}<extra></extra>\",\"ids\":[\" Other-service/ Husband/17\",\" ?/ Not-in-family/17\",\" Adm-clerical/ Not-in-family/17\",\" Craft-repair/ Not-in-family/17\",\" Handlers-cleaners/ Not-in-family/17\",\" Other-service/ Not-in-family/17\",\" Sales/ Not-in-family/17\",\" Transport-moving/ Not-in-family/17\",\" ?/ Other-relative/17\",\" Adm-clerical/ Other-relative/17\",\" Farming-fishing/ Other-relative/17\",\" Handlers-cleaners/ Other-relative/17\",\" Other-service/ Other-relative/17\",\" Priv-house-serv/ Other-relative/17\",\" Sales/ Other-relative/17\",\" ?/ Own-child/17\",\" Adm-clerical/ Own-child/17\",\" Craft-repair/ Own-child/17\",\" Exec-managerial/ Own-child/17\",\" Farming-fishing/ Own-child/17\",\" Handlers-cleaners/ Own-child/17\",\" Machine-op-inspct/ Own-child/17\",\" Other-service/ Own-child/17\",\" Priv-house-serv/ Own-child/17\",\" Prof-specialty/ Own-child/17\",\" Protective-serv/ Own-child/17\",\" Sales/ Own-child/17\",\" Tech-support/ Own-child/17\",\" Transport-moving/ Own-child/17\",\" Other-service/ Unmarried/17\",\" Sales/ Unmarried/17\",\" Craft-repair/ Husband/18\",\" ?/ Not-in-family/18\",\" Adm-clerical/ Not-in-family/18\",\" Craft-repair/ Not-in-family/18\",\" Exec-managerial/ Not-in-family/18\",\" Handlers-cleaners/ Not-in-family/18\",\" Machine-op-inspct/ Not-in-family/18\",\" Other-service/ Not-in-family/18\",\" Priv-house-serv/ Not-in-family/18\",\" Prof-specialty/ Not-in-family/18\",\" Sales/ Not-in-family/18\",\" Transport-moving/ Not-in-family/18\",\" ?/ Other-relative/18\",\" Adm-clerical/ Other-relative/18\",\" Farming-fishing/ Other-relative/18\",\" Handlers-cleaners/ Other-relative/18\",\" Machine-op-inspct/ Other-relative/18\",\" Other-service/ Other-relative/18\",\" Priv-house-serv/ Other-relative/18\",\" Prof-specialty/ Other-relative/18\",\" Sales/ Other-relative/18\",\" ?/ Own-child/18\",\" Adm-clerical/ Own-child/18\",\" Craft-repair/ Own-child/18\",\" Exec-managerial/ Own-child/18\",\" Farming-fishing/ Own-child/18\",\" Handlers-cleaners/ Own-child/18\",\" Machine-op-inspct/ Own-child/18\",\" Other-service/ Own-child/18\",\" Priv-house-serv/ Own-child/18\",\" Prof-specialty/ Own-child/18\",\" Protective-serv/ Own-child/18\",\" Sales/ Own-child/18\",\" Tech-support/ Own-child/18\",\" Transport-moving/ Own-child/18\",\" ?/ Unmarried/18\",\" Other-service/ Unmarried/18\",\" Sales/ Unmarried/18\",\" Adm-clerical/ Wife/18\",\" Exec-managerial/ Wife/18\",\" Other-service/ Wife/18\",\" Craft-repair/ Husband/19\",\" Handlers-cleaners/ Husband/19\",\" ?/ Not-in-family/19\",\" Adm-clerical/ Not-in-family/19\",\" Craft-repair/ Not-in-family/19\",\" Exec-managerial/ Not-in-family/19\",\" Farming-fishing/ Not-in-family/19\",\" Handlers-cleaners/ Not-in-family/19\",\" Machine-op-inspct/ Not-in-family/19\",\" Other-service/ Not-in-family/19\",\" Priv-house-serv/ Not-in-family/19\",\" Prof-specialty/ Not-in-family/19\",\" Protective-serv/ Not-in-family/19\",\" Sales/ Not-in-family/19\",\" Tech-support/ Not-in-family/19\",\" Transport-moving/ Not-in-family/19\",\" ?/ Other-relative/19\",\" Adm-clerical/ Other-relative/19\",\" Craft-repair/ Other-relative/19\",\" Farming-fishing/ Other-relative/19\",\" Handlers-cleaners/ Other-relative/19\",\" Machine-op-inspct/ Other-relative/19\",\" Other-service/ Other-relative/19\",\" Sales/ Other-relative/19\",\" Tech-support/ Other-relative/19\",\" Transport-moving/ Other-relative/19\",\" ?/ Own-child/19\",\" Adm-clerical/ Own-child/19\",\" Craft-repair/ Own-child/19\",\" Exec-managerial/ Own-child/19\",\" Farming-fishing/ Own-child/19\",\" Handlers-cleaners/ Own-child/19\",\" Machine-op-inspct/ Own-child/19\",\" Other-service/ Own-child/19\",\" Prof-specialty/ Own-child/19\",\" Protective-serv/ Own-child/19\",\" Sales/ Own-child/19\",\" Tech-support/ Own-child/19\",\" Transport-moving/ Own-child/19\",\" ?/ Unmarried/19\",\" Adm-clerical/ Unmarried/19\",\" Machine-op-inspct/ Unmarried/19\",\" Other-service/ Unmarried/19\",\" Sales/ Unmarried/19\",\" Transport-moving/ Unmarried/19\",\" ?/ Wife/19\",\" Adm-clerical/ Wife/19\",\" Craft-repair/ Wife/19\",\" Other-service/ Wife/19\",\" Sales/ Wife/19\",\" Adm-clerical/ Husband/20\",\" Craft-repair/ Husband/20\",\" Handlers-cleaners/ Husband/20\",\" Machine-op-inspct/ Husband/20\",\" Other-service/ Husband/20\",\" Protective-serv/ Husband/20\",\" Sales/ Husband/20\",\" ?/ Not-in-family/20\",\" Adm-clerical/ Not-in-family/20\",\" Craft-repair/ Not-in-family/20\",\" Exec-managerial/ Not-in-family/20\",\" Farming-fishing/ Not-in-family/20\",\" Handlers-cleaners/ Not-in-family/20\",\" Machine-op-inspct/ Not-in-family/20\",\" Other-service/ Not-in-family/20\",\" Priv-house-serv/ Not-in-family/20\",\" Prof-specialty/ Not-in-family/20\",\" Sales/ Not-in-family/20\",\" Tech-support/ Not-in-family/20\",\" Transport-moving/ Not-in-family/20\",\" ?/ Other-relative/20\",\" Adm-clerical/ Other-relative/20\",\" Craft-repair/ Other-relative/20\",\" Exec-managerial/ Other-relative/20\",\" Farming-fishing/ Other-relative/20\",\" Handlers-cleaners/ Other-relative/20\",\" Machine-op-inspct/ Other-relative/20\",\" Other-service/ Other-relative/20\",\" Prof-specialty/ Other-relative/20\",\" Sales/ Other-relative/20\",\" Tech-support/ Other-relative/20\",\" Transport-moving/ Other-relative/20\",\" ?/ Own-child/20\",\" Adm-clerical/ Own-child/20\",\" Craft-repair/ Own-child/20\",\" Exec-managerial/ Own-child/20\",\" Farming-fishing/ Own-child/20\",\" Handlers-cleaners/ Own-child/20\",\" Machine-op-inspct/ Own-child/20\",\" Other-service/ Own-child/20\",\" Priv-house-serv/ Own-child/20\",\" Prof-specialty/ Own-child/20\",\" Protective-serv/ Own-child/20\",\" Sales/ Own-child/20\",\" Tech-support/ Own-child/20\",\" Transport-moving/ Own-child/20\",\" ?/ Unmarried/20\",\" Adm-clerical/ Unmarried/20\",\" Craft-repair/ Unmarried/20\",\" Exec-managerial/ Unmarried/20\",\" Handlers-cleaners/ Unmarried/20\",\" Machine-op-inspct/ Unmarried/20\",\" Other-service/ Unmarried/20\",\" Prof-specialty/ Unmarried/20\",\" Sales/ Unmarried/20\",\" ?/ Wife/20\",\" Adm-clerical/ Wife/20\",\" Other-service/ Wife/20\",\" ?/ Husband/21\",\" Adm-clerical/ Husband/21\",\" Craft-repair/ Husband/21\",\" Exec-managerial/ Husband/21\",\" Farming-fishing/ Husband/21\",\" Handlers-cleaners/ Husband/21\",\" Machine-op-inspct/ Husband/21\",\" Other-service/ Husband/21\",\" Sales/ Husband/21\",\" ?/ Not-in-family/21\",\" Adm-clerical/ Not-in-family/21\",\" Craft-repair/ Not-in-family/21\",\" Exec-managerial/ Not-in-family/21\",\" Farming-fishing/ Not-in-family/21\",\" Handlers-cleaners/ Not-in-family/21\",\" Machine-op-inspct/ Not-in-family/21\",\" Other-service/ Not-in-family/21\",\" Priv-house-serv/ Not-in-family/21\",\" Prof-specialty/ Not-in-family/21\",\" Protective-serv/ Not-in-family/21\",\" Sales/ Not-in-family/21\",\" Tech-support/ Not-in-family/21\",\" Transport-moving/ Not-in-family/21\",\" ?/ Other-relative/21\",\" Adm-clerical/ Other-relative/21\",\" Craft-repair/ Other-relative/21\",\" Exec-managerial/ Other-relative/21\",\" Farming-fishing/ Other-relative/21\",\" Handlers-cleaners/ Other-relative/21\",\" Machine-op-inspct/ Other-relative/21\",\" Other-service/ Other-relative/21\",\" Priv-house-serv/ Other-relative/21\",\" Prof-specialty/ Other-relative/21\",\" Sales/ Other-relative/21\",\" ?/ Own-child/21\",\" Adm-clerical/ Own-child/21\",\" Craft-repair/ Own-child/21\",\" Exec-managerial/ Own-child/21\",\" Farming-fishing/ Own-child/21\",\" Handlers-cleaners/ Own-child/21\",\" Machine-op-inspct/ Own-child/21\",\" Other-service/ Own-child/21\",\" Priv-house-serv/ Own-child/21\",\" Prof-specialty/ Own-child/21\",\" Protective-serv/ Own-child/21\",\" Sales/ Own-child/21\",\" Tech-support/ Own-child/21\",\" Transport-moving/ Own-child/21\",\" ?/ Unmarried/21\",\" Adm-clerical/ Unmarried/21\",\" Craft-repair/ Unmarried/21\",\" Farming-fishing/ Unmarried/21\",\" Handlers-cleaners/ Unmarried/21\",\" Machine-op-inspct/ Unmarried/21\",\" Other-service/ Unmarried/21\",\" Prof-specialty/ Unmarried/21\",\" Sales/ Unmarried/21\",\" ?/ Wife/21\",\" Adm-clerical/ Wife/21\",\" Sales/ Wife/21\",\" ?/ Husband/22\",\" Craft-repair/ Husband/22\",\" Exec-managerial/ Husband/22\",\" Farming-fishing/ Husband/22\",\" Handlers-cleaners/ Husband/22\",\" Machine-op-inspct/ Husband/22\",\" Other-service/ Husband/22\",\" Sales/ Husband/22\",\" Tech-support/ Husband/22\",\" Transport-moving/ Husband/22\",\" ?/ Not-in-family/22\",\" Adm-clerical/ Not-in-family/22\",\" Craft-repair/ Not-in-family/22\",\" Exec-managerial/ Not-in-family/22\",\" Farming-fishing/ Not-in-family/22\",\" Handlers-cleaners/ Not-in-family/22\",\" Machine-op-inspct/ Not-in-family/22\",\" Other-service/ Not-in-family/22\",\" Priv-house-serv/ Not-in-family/22\",\" Prof-specialty/ Not-in-family/22\",\" Protective-serv/ Not-in-family/22\",\" Sales/ Not-in-family/22\",\" Tech-support/ Not-in-family/22\",\" Transport-moving/ Not-in-family/22\",\" ?/ Other-relative/22\",\" Adm-clerical/ Other-relative/22\",\" Craft-repair/ Other-relative/22\",\" Exec-managerial/ Other-relative/22\",\" Farming-fishing/ Other-relative/22\",\" Handlers-cleaners/ Other-relative/22\",\" Machine-op-inspct/ Other-relative/22\",\" Other-service/ Other-relative/22\",\" Priv-house-serv/ Other-relative/22\",\" Prof-specialty/ Other-relative/22\",\" Protective-serv/ Other-relative/22\",\" Sales/ Other-relative/22\",\" Tech-support/ Other-relative/22\",\" Transport-moving/ Other-relative/22\",\" ?/ Own-child/22\",\" Adm-clerical/ Own-child/22\",\" Craft-repair/ Own-child/22\",\" Exec-managerial/ Own-child/22\",\" Farming-fishing/ Own-child/22\",\" Handlers-cleaners/ Own-child/22\",\" Machine-op-inspct/ Own-child/22\",\" Other-service/ Own-child/22\",\" Priv-house-serv/ Own-child/22\",\" Prof-specialty/ Own-child/22\",\" Protective-serv/ Own-child/22\",\" Sales/ Own-child/22\",\" Tech-support/ Own-child/22\",\" Transport-moving/ Own-child/22\",\" ?/ Unmarried/22\",\" Adm-clerical/ Unmarried/22\",\" Craft-repair/ Unmarried/22\",\" Exec-managerial/ Unmarried/22\",\" Handlers-cleaners/ Unmarried/22\",\" Machine-op-inspct/ Unmarried/22\",\" Other-service/ Unmarried/22\",\" Prof-specialty/ Unmarried/22\",\" Protective-serv/ Unmarried/22\",\" Sales/ Unmarried/22\",\" Tech-support/ Unmarried/22\",\" Transport-moving/ Unmarried/22\",\" ?/ Wife/22\",\" Adm-clerical/ Wife/22\",\" Exec-managerial/ Wife/22\",\" Machine-op-inspct/ Wife/22\",\" Other-service/ Wife/22\",\" Priv-house-serv/ Wife/22\",\" Prof-specialty/ Wife/22\",\" Sales/ Wife/22\",\" ?/ Husband/23\",\" Adm-clerical/ Husband/23\",\" Craft-repair/ Husband/23\",\" Exec-managerial/ Husband/23\",\" Handlers-cleaners/ Husband/23\",\" Machine-op-inspct/ Husband/23\",\" Other-service/ Husband/23\",\" Prof-specialty/ Husband/23\",\" Protective-serv/ Husband/23\",\" Sales/ Husband/23\",\" Tech-support/ Husband/23\",\" Transport-moving/ Husband/23\",\" ?/ Not-in-family/23\",\" Adm-clerical/ Not-in-family/23\",\" Armed-Forces/ Not-in-family/23\",\" Craft-repair/ Not-in-family/23\",\" Exec-managerial/ Not-in-family/23\",\" Farming-fishing/ Not-in-family/23\",\" Handlers-cleaners/ Not-in-family/23\",\" Machine-op-inspct/ Not-in-family/23\",\" Other-service/ Not-in-family/23\",\" Priv-house-serv/ Not-in-family/23\",\" Prof-specialty/ Not-in-family/23\",\" Protective-serv/ Not-in-family/23\",\" Sales/ Not-in-family/23\",\" Tech-support/ Not-in-family/23\",\" Transport-moving/ Not-in-family/23\",\" ?/ Other-relative/23\",\" Adm-clerical/ Other-relative/23\",\" Armed-Forces/ Other-relative/23\",\" Craft-repair/ Other-relative/23\",\" Exec-managerial/ Other-relative/23\",\" Farming-fishing/ Other-relative/23\",\" Handlers-cleaners/ Other-relative/23\",\" Machine-op-inspct/ Other-relative/23\",\" Other-service/ Other-relative/23\",\" Prof-specialty/ Other-relative/23\",\" Sales/ Other-relative/23\",\" Tech-support/ Other-relative/23\",\" Transport-moving/ Other-relative/23\",\" ?/ Own-child/23\",\" Adm-clerical/ Own-child/23\",\" Craft-repair/ Own-child/23\",\" Exec-managerial/ Own-child/23\",\" Farming-fishing/ Own-child/23\",\" Handlers-cleaners/ Own-child/23\",\" Machine-op-inspct/ Own-child/23\",\" Other-service/ Own-child/23\",\" Priv-house-serv/ Own-child/23\",\" Prof-specialty/ Own-child/23\",\" Protective-serv/ Own-child/23\",\" Sales/ Own-child/23\",\" Tech-support/ Own-child/23\",\" Transport-moving/ Own-child/23\",\" ?/ Unmarried/23\",\" Adm-clerical/ Unmarried/23\",\" Craft-repair/ Unmarried/23\",\" Exec-managerial/ Unmarried/23\",\" Farming-fishing/ Unmarried/23\",\" Handlers-cleaners/ Unmarried/23\",\" Machine-op-inspct/ Unmarried/23\",\" Other-service/ Unmarried/23\",\" Priv-house-serv/ Unmarried/23\",\" Sales/ Unmarried/23\",\" Transport-moving/ Unmarried/23\",\" Adm-clerical/ Wife/23\",\" Exec-managerial/ Wife/23\",\" Machine-op-inspct/ Wife/23\",\" Other-service/ Wife/23\",\" Prof-specialty/ Wife/23\",\" Sales/ Wife/23\",\" ?/ Husband/24\",\" Adm-clerical/ Husband/24\",\" Craft-repair/ Husband/24\",\" Exec-managerial/ Husband/24\",\" Farming-fishing/ Husband/24\",\" Handlers-cleaners/ Husband/24\",\" Machine-op-inspct/ Husband/24\",\" Other-service/ Husband/24\",\" Prof-specialty/ Husband/24\",\" Protective-serv/ Husband/24\",\" Sales/ Husband/24\",\" Tech-support/ Husband/24\",\" Transport-moving/ Husband/24\",\" ?/ Not-in-family/24\",\" Adm-clerical/ Not-in-family/24\",\" Armed-Forces/ Not-in-family/24\",\" Craft-repair/ Not-in-family/24\",\" Exec-managerial/ Not-in-family/24\",\" Farming-fishing/ Not-in-family/24\",\" Handlers-cleaners/ Not-in-family/24\",\" Machine-op-inspct/ Not-in-family/24\",\" Other-service/ Not-in-family/24\",\" Priv-house-serv/ Not-in-family/24\",\" Prof-specialty/ Not-in-family/24\",\" Protective-serv/ Not-in-family/24\",\" Sales/ Not-in-family/24\",\" Tech-support/ Not-in-family/24\",\" Transport-moving/ Not-in-family/24\",\" ?/ Other-relative/24\",\" Adm-clerical/ Other-relative/24\",\" Craft-repair/ Other-relative/24\",\" Exec-managerial/ Other-relative/24\",\" Farming-fishing/ Other-relative/24\",\" Handlers-cleaners/ Other-relative/24\",\" Machine-op-inspct/ Other-relative/24\",\" Other-service/ Other-relative/24\",\" Prof-specialty/ Other-relative/24\",\" Protective-serv/ Other-relative/24\",\" Sales/ Other-relative/24\",\" ?/ Own-child/24\",\" Adm-clerical/ Own-child/24\",\" Armed-Forces/ Own-child/24\",\" Craft-repair/ Own-child/24\",\" Exec-managerial/ Own-child/24\",\" Farming-fishing/ Own-child/24\",\" Handlers-cleaners/ Own-child/24\",\" Machine-op-inspct/ Own-child/24\",\" Other-service/ Own-child/24\",\" Priv-house-serv/ Own-child/24\",\" Prof-specialty/ Own-child/24\",\" Protective-serv/ Own-child/24\",\" Sales/ Own-child/24\",\" Tech-support/ Own-child/24\",\" Transport-moving/ Own-child/24\",\" ?/ Unmarried/24\",\" Adm-clerical/ Unmarried/24\",\" Craft-repair/ Unmarried/24\",\" Exec-managerial/ Unmarried/24\",\" Farming-fishing/ Unmarried/24\",\" Handlers-cleaners/ Unmarried/24\",\" Machine-op-inspct/ Unmarried/24\",\" Other-service/ Unmarried/24\",\" Prof-specialty/ Unmarried/24\",\" Protective-serv/ Unmarried/24\",\" Sales/ Unmarried/24\",\" Tech-support/ Unmarried/24\",\" Transport-moving/ Unmarried/24\",\" ?/ Wife/24\",\" Adm-clerical/ Wife/24\",\" Craft-repair/ Wife/24\",\" Exec-managerial/ Wife/24\",\" Machine-op-inspct/ Wife/24\",\" Other-service/ Wife/24\",\" Priv-house-serv/ Wife/24\",\" Prof-specialty/ Wife/24\",\" Sales/ Wife/24\",\" ?/ Husband/25\",\" Adm-clerical/ Husband/25\",\" Craft-repair/ Husband/25\",\" Exec-managerial/ Husband/25\",\" Farming-fishing/ Husband/25\",\" Handlers-cleaners/ Husband/25\",\" Machine-op-inspct/ Husband/25\",\" Other-service/ Husband/25\",\" Prof-specialty/ Husband/25\",\" Protective-serv/ Husband/25\",\" Sales/ Husband/25\",\" Tech-support/ Husband/25\",\" Transport-moving/ Husband/25\",\" ?/ Not-in-family/25\",\" Adm-clerical/ Not-in-family/25\",\" Craft-repair/ Not-in-family/25\",\" Exec-managerial/ Not-in-family/25\",\" Farming-fishing/ Not-in-family/25\",\" Handlers-cleaners/ Not-in-family/25\",\" Machine-op-inspct/ Not-in-family/25\",\" Other-service/ Not-in-family/25\",\" Priv-house-serv/ Not-in-family/25\",\" Prof-specialty/ Not-in-family/25\",\" Protective-serv/ Not-in-family/25\",\" Sales/ Not-in-family/25\",\" Tech-support/ Not-in-family/25\",\" Transport-moving/ Not-in-family/25\",\" ?/ Other-relative/25\",\" Adm-clerical/ Other-relative/25\",\" Craft-repair/ Other-relative/25\",\" Exec-managerial/ Other-relative/25\",\" Farming-fishing/ Other-relative/25\",\" Handlers-cleaners/ Other-relative/25\",\" Machine-op-inspct/ Other-relative/25\",\" Other-service/ Other-relative/25\",\" Priv-house-serv/ Other-relative/25\",\" Prof-specialty/ Other-relative/25\",\" Protective-serv/ Other-relative/25\",\" Sales/ Other-relative/25\",\" Tech-support/ Other-relative/25\",\" Transport-moving/ Other-relative/25\",\" ?/ Own-child/25\",\" Adm-clerical/ Own-child/25\",\" Craft-repair/ Own-child/25\",\" Exec-managerial/ Own-child/25\",\" Farming-fishing/ Own-child/25\",\" Handlers-cleaners/ Own-child/25\",\" Machine-op-inspct/ Own-child/25\",\" Other-service/ Own-child/25\",\" Priv-house-serv/ Own-child/25\",\" Prof-specialty/ Own-child/25\",\" Protective-serv/ Own-child/25\",\" Sales/ Own-child/25\",\" Tech-support/ Own-child/25\",\" Transport-moving/ Own-child/25\",\" ?/ Unmarried/25\",\" Adm-clerical/ Unmarried/25\",\" Craft-repair/ Unmarried/25\",\" Exec-managerial/ Unmarried/25\",\" Farming-fishing/ Unmarried/25\",\" Handlers-cleaners/ Unmarried/25\",\" Machine-op-inspct/ Unmarried/25\",\" Other-service/ Unmarried/25\",\" Prof-specialty/ Unmarried/25\",\" Sales/ Unmarried/25\",\" Tech-support/ Unmarried/25\",\" Transport-moving/ Unmarried/25\",\" ?/ Wife/25\",\" Adm-clerical/ Wife/25\",\" Exec-managerial/ Wife/25\",\" Other-service/ Wife/25\",\" Prof-specialty/ Wife/25\",\" Protective-serv/ Wife/25\",\" Sales/ Wife/25\",\" ?/ Husband/26\",\" Adm-clerical/ Husband/26\",\" Craft-repair/ Husband/26\",\" Exec-managerial/ Husband/26\",\" Farming-fishing/ Husband/26\",\" Handlers-cleaners/ Husband/26\",\" Machine-op-inspct/ Husband/26\",\" Other-service/ Husband/26\",\" Prof-specialty/ Husband/26\",\" Protective-serv/ Husband/26\",\" Sales/ Husband/26\",\" Tech-support/ Husband/26\",\" Transport-moving/ Husband/26\",\" ?/ Not-in-family/26\",\" Adm-clerical/ Not-in-family/26\",\" Craft-repair/ Not-in-family/26\",\" Exec-managerial/ Not-in-family/26\",\" Farming-fishing/ Not-in-family/26\",\" Handlers-cleaners/ Not-in-family/26\",\" Machine-op-inspct/ Not-in-family/26\",\" Other-service/ Not-in-family/26\",\" Priv-house-serv/ Not-in-family/26\",\" Prof-specialty/ Not-in-family/26\",\" Protective-serv/ Not-in-family/26\",\" Sales/ Not-in-family/26\",\" Tech-support/ Not-in-family/26\",\" Transport-moving/ Not-in-family/26\",\" ?/ Other-relative/26\",\" Adm-clerical/ Other-relative/26\",\" Craft-repair/ Other-relative/26\",\" Farming-fishing/ Other-relative/26\",\" Handlers-cleaners/ Other-relative/26\",\" Machine-op-inspct/ Other-relative/26\",\" Other-service/ Other-relative/26\",\" Priv-house-serv/ Other-relative/26\",\" Sales/ Other-relative/26\",\" Tech-support/ Other-relative/26\",\" ?/ Own-child/26\",\" Adm-clerical/ Own-child/26\",\" Craft-repair/ Own-child/26\",\" Exec-managerial/ Own-child/26\",\" Farming-fishing/ Own-child/26\",\" Handlers-cleaners/ Own-child/26\",\" Machine-op-inspct/ Own-child/26\",\" Other-service/ Own-child/26\",\" Prof-specialty/ Own-child/26\",\" Protective-serv/ Own-child/26\",\" Sales/ Own-child/26\",\" Tech-support/ Own-child/26\",\" Transport-moving/ Own-child/26\",\" ?/ Unmarried/26\",\" Adm-clerical/ Unmarried/26\",\" Craft-repair/ Unmarried/26\",\" Exec-managerial/ Unmarried/26\",\" Farming-fishing/ Unmarried/26\",\" Handlers-cleaners/ Unmarried/26\",\" Machine-op-inspct/ Unmarried/26\",\" Other-service/ Unmarried/26\",\" Prof-specialty/ Unmarried/26\",\" Protective-serv/ Unmarried/26\",\" Sales/ Unmarried/26\",\" Transport-moving/ Unmarried/26\",\" ?/ Wife/26\",\" Adm-clerical/ Wife/26\",\" Exec-managerial/ Wife/26\",\" Handlers-cleaners/ Wife/26\",\" Machine-op-inspct/ Wife/26\",\" Other-service/ Wife/26\",\" Priv-house-serv/ Wife/26\",\" Prof-specialty/ Wife/26\",\" Sales/ Wife/26\",\" ?/ Husband/27\",\" Adm-clerical/ Husband/27\",\" Craft-repair/ Husband/27\",\" Exec-managerial/ Husband/27\",\" Farming-fishing/ Husband/27\",\" Handlers-cleaners/ Husband/27\",\" Machine-op-inspct/ Husband/27\",\" Other-service/ Husband/27\",\" Prof-specialty/ Husband/27\",\" Protective-serv/ Husband/27\",\" Sales/ Husband/27\",\" Tech-support/ Husband/27\",\" Transport-moving/ Husband/27\",\" ?/ Not-in-family/27\",\" Adm-clerical/ Not-in-family/27\",\" Craft-repair/ Not-in-family/27\",\" Exec-managerial/ Not-in-family/27\",\" Farming-fishing/ Not-in-family/27\",\" Handlers-cleaners/ Not-in-family/27\",\" Machine-op-inspct/ Not-in-family/27\",\" Other-service/ Not-in-family/27\",\" Priv-house-serv/ Not-in-family/27\",\" Prof-specialty/ Not-in-family/27\",\" Protective-serv/ Not-in-family/27\",\" Sales/ Not-in-family/27\",\" Tech-support/ Not-in-family/27\",\" Transport-moving/ Not-in-family/27\",\" ?/ Other-relative/27\",\" Adm-clerical/ Other-relative/27\",\" Craft-repair/ Other-relative/27\",\" Exec-managerial/ Other-relative/27\",\" Farming-fishing/ Other-relative/27\",\" Handlers-cleaners/ Other-relative/27\",\" Machine-op-inspct/ Other-relative/27\",\" Other-service/ Other-relative/27\",\" Priv-house-serv/ Other-relative/27\",\" Prof-specialty/ Other-relative/27\",\" Sales/ Other-relative/27\",\" Tech-support/ Other-relative/27\",\" Transport-moving/ Other-relative/27\",\" ?/ Own-child/27\",\" Adm-clerical/ Own-child/27\",\" Craft-repair/ Own-child/27\",\" Exec-managerial/ Own-child/27\",\" Farming-fishing/ Own-child/27\",\" Handlers-cleaners/ Own-child/27\",\" Machine-op-inspct/ Own-child/27\",\" Other-service/ Own-child/27\",\" Prof-specialty/ Own-child/27\",\" Protective-serv/ Own-child/27\",\" Sales/ Own-child/27\",\" Tech-support/ Own-child/27\",\" Transport-moving/ Own-child/27\",\" ?/ Unmarried/27\",\" Adm-clerical/ Unmarried/27\",\" Craft-repair/ Unmarried/27\",\" Exec-managerial/ Unmarried/27\",\" Farming-fishing/ Unmarried/27\",\" Handlers-cleaners/ Unmarried/27\",\" Machine-op-inspct/ Unmarried/27\",\" Other-service/ Unmarried/27\",\" Priv-house-serv/ Unmarried/27\",\" Prof-specialty/ Unmarried/27\",\" Protective-serv/ Unmarried/27\",\" Sales/ Unmarried/27\",\" Tech-support/ Unmarried/27\",\" ?/ Wife/27\",\" Adm-clerical/ Wife/27\",\" Exec-managerial/ Wife/27\",\" Handlers-cleaners/ Wife/27\",\" Machine-op-inspct/ Wife/27\",\" Other-service/ Wife/27\",\" Prof-specialty/ Wife/27\",\" Protective-serv/ Wife/27\",\" Sales/ Wife/27\",\" Tech-support/ Wife/27\",\" Adm-clerical/ Husband/28\",\" Craft-repair/ Husband/28\",\" Exec-managerial/ Husband/28\",\" Farming-fishing/ Husband/28\",\" Handlers-cleaners/ Husband/28\",\" Machine-op-inspct/ Husband/28\",\" Other-service/ Husband/28\",\" Prof-specialty/ Husband/28\",\" Protective-serv/ Husband/28\",\" Sales/ Husband/28\",\" Tech-support/ Husband/28\",\" Transport-moving/ Husband/28\",\" ?/ Not-in-family/28\",\" Adm-clerical/ Not-in-family/28\",\" Craft-repair/ Not-in-family/28\",\" Exec-managerial/ Not-in-family/28\",\" Farming-fishing/ Not-in-family/28\",\" Handlers-cleaners/ Not-in-family/28\",\" Machine-op-inspct/ Not-in-family/28\",\" Other-service/ Not-in-family/28\",\" Priv-house-serv/ Not-in-family/28\",\" Prof-specialty/ Not-in-family/28\",\" Protective-serv/ Not-in-family/28\",\" Sales/ Not-in-family/28\",\" Tech-support/ Not-in-family/28\",\" Transport-moving/ Not-in-family/28\",\" ?/ Other-relative/28\",\" Adm-clerical/ Other-relative/28\",\" Craft-repair/ Other-relative/28\",\" Farming-fishing/ Other-relative/28\",\" Handlers-cleaners/ Other-relative/28\",\" Machine-op-inspct/ Other-relative/28\",\" Other-service/ Other-relative/28\",\" Prof-specialty/ Other-relative/28\",\" Protective-serv/ Other-relative/28\",\" Sales/ Other-relative/28\",\" ?/ Own-child/28\",\" Adm-clerical/ Own-child/28\",\" Craft-repair/ Own-child/28\",\" Exec-managerial/ Own-child/28\",\" Handlers-cleaners/ Own-child/28\",\" Machine-op-inspct/ Own-child/28\",\" Other-service/ Own-child/28\",\" Prof-specialty/ Own-child/28\",\" Protective-serv/ Own-child/28\",\" Sales/ Own-child/28\",\" Tech-support/ Own-child/28\",\" Transport-moving/ Own-child/28\",\" ?/ Unmarried/28\",\" Adm-clerical/ Unmarried/28\",\" Craft-repair/ Unmarried/28\",\" Exec-managerial/ Unmarried/28\",\" Farming-fishing/ Unmarried/28\",\" Handlers-cleaners/ Unmarried/28\",\" Machine-op-inspct/ Unmarried/28\",\" Other-service/ Unmarried/28\",\" Prof-specialty/ Unmarried/28\",\" Protective-serv/ Unmarried/28\",\" Sales/ Unmarried/28\",\" Tech-support/ Unmarried/28\",\" Transport-moving/ Unmarried/28\",\" ?/ Wife/28\",\" Adm-clerical/ Wife/28\",\" Craft-repair/ Wife/28\",\" Exec-managerial/ Wife/28\",\" Handlers-cleaners/ Wife/28\",\" Machine-op-inspct/ Wife/28\",\" Other-service/ Wife/28\",\" Prof-specialty/ Wife/28\",\" Protective-serv/ Wife/28\",\" Sales/ Wife/28\",\" Tech-support/ Wife/28\",\" ?/ Husband/29\",\" Adm-clerical/ Husband/29\",\" Craft-repair/ Husband/29\",\" Exec-managerial/ Husband/29\",\" Farming-fishing/ Husband/29\",\" Handlers-cleaners/ Husband/29\",\" Machine-op-inspct/ Husband/29\",\" Other-service/ Husband/29\",\" Prof-specialty/ Husband/29\",\" Protective-serv/ Husband/29\",\" Sales/ Husband/29\",\" Tech-support/ Husband/29\",\" Transport-moving/ Husband/29\",\" ?/ Not-in-family/29\",\" Adm-clerical/ Not-in-family/29\",\" Armed-Forces/ Not-in-family/29\",\" Craft-repair/ Not-in-family/29\",\" Exec-managerial/ Not-in-family/29\",\" Farming-fishing/ Not-in-family/29\",\" Handlers-cleaners/ Not-in-family/29\",\" Machine-op-inspct/ Not-in-family/29\",\" Other-service/ Not-in-family/29\",\" Priv-house-serv/ Not-in-family/29\",\" Prof-specialty/ Not-in-family/29\",\" Protective-serv/ Not-in-family/29\",\" Sales/ Not-in-family/29\",\" Tech-support/ Not-in-family/29\",\" Transport-moving/ Not-in-family/29\",\" Adm-clerical/ Other-relative/29\",\" Craft-repair/ Other-relative/29\",\" Exec-managerial/ Other-relative/29\",\" Handlers-cleaners/ Other-relative/29\",\" Machine-op-inspct/ Other-relative/29\",\" Other-service/ Other-relative/29\",\" Prof-specialty/ Other-relative/29\",\" Protective-serv/ Other-relative/29\",\" Sales/ Other-relative/29\",\" Transport-moving/ Other-relative/29\",\" ?/ Own-child/29\",\" Adm-clerical/ Own-child/29\",\" Craft-repair/ Own-child/29\",\" Exec-managerial/ Own-child/29\",\" Farming-fishing/ Own-child/29\",\" Handlers-cleaners/ Own-child/29\",\" Machine-op-inspct/ Own-child/29\",\" Other-service/ Own-child/29\",\" Priv-house-serv/ Own-child/29\",\" Prof-specialty/ Own-child/29\",\" Protective-serv/ Own-child/29\",\" Sales/ Own-child/29\",\" Tech-support/ Own-child/29\",\" Transport-moving/ Own-child/29\",\" ?/ Unmarried/29\",\" Adm-clerical/ Unmarried/29\",\" Craft-repair/ Unmarried/29\",\" Exec-managerial/ Unmarried/29\",\" Farming-fishing/ Unmarried/29\",\" Handlers-cleaners/ Unmarried/29\",\" Machine-op-inspct/ Unmarried/29\",\" Other-service/ Unmarried/29\",\" Prof-specialty/ Unmarried/29\",\" Protective-serv/ Unmarried/29\",\" Sales/ Unmarried/29\",\" Tech-support/ Unmarried/29\",\" Transport-moving/ Unmarried/29\",\" ?/ Wife/29\",\" Adm-clerical/ Wife/29\",\" Exec-managerial/ Wife/29\",\" Farming-fishing/ Wife/29\",\" Handlers-cleaners/ Wife/29\",\" Machine-op-inspct/ Wife/29\",\" Other-service/ Wife/29\",\" Prof-specialty/ Wife/29\",\" Sales/ Wife/29\",\" Tech-support/ Wife/29\",\" ?/ Husband/30\",\" Adm-clerical/ Husband/30\",\" Craft-repair/ Husband/30\",\" Exec-managerial/ Husband/30\",\" Farming-fishing/ Husband/30\",\" Handlers-cleaners/ Husband/30\",\" Machine-op-inspct/ Husband/30\",\" Other-service/ Husband/30\",\" Prof-specialty/ Husband/30\",\" Protective-serv/ Husband/30\",\" Sales/ Husband/30\",\" Tech-support/ Husband/30\",\" Transport-moving/ Husband/30\",\" ?/ Not-in-family/30\",\" Adm-clerical/ Not-in-family/30\",\" Craft-repair/ Not-in-family/30\",\" Exec-managerial/ Not-in-family/30\",\" Farming-fishing/ Not-in-family/30\",\" Handlers-cleaners/ Not-in-family/30\",\" Machine-op-inspct/ Not-in-family/30\",\" Other-service/ Not-in-family/30\",\" Prof-specialty/ Not-in-family/30\",\" Protective-serv/ Not-in-family/30\",\" Sales/ Not-in-family/30\",\" Tech-support/ Not-in-family/30\",\" Transport-moving/ Not-in-family/30\",\" Adm-clerical/ Other-relative/30\",\" Armed-Forces/ Other-relative/30\",\" Craft-repair/ Other-relative/30\",\" Exec-managerial/ Other-relative/30\",\" Farming-fishing/ Other-relative/30\",\" Handlers-cleaners/ Other-relative/30\",\" Machine-op-inspct/ Other-relative/30\",\" Other-service/ Other-relative/30\",\" Prof-specialty/ Other-relative/30\",\" Sales/ Other-relative/30\",\" Tech-support/ Other-relative/30\",\" ?/ Own-child/30\",\" Adm-clerical/ Own-child/30\",\" Craft-repair/ Own-child/30\",\" Exec-managerial/ Own-child/30\",\" Farming-fishing/ Own-child/30\",\" Handlers-cleaners/ Own-child/30\",\" Machine-op-inspct/ Own-child/30\",\" Other-service/ Own-child/30\",\" Priv-house-serv/ Own-child/30\",\" Prof-specialty/ Own-child/30\",\" Protective-serv/ Own-child/30\",\" Sales/ Own-child/30\",\" Tech-support/ Own-child/30\",\" Transport-moving/ Own-child/30\",\" ?/ Unmarried/30\",\" Adm-clerical/ Unmarried/30\",\" Craft-repair/ Unmarried/30\",\" Exec-managerial/ Unmarried/30\",\" Farming-fishing/ Unmarried/30\",\" Handlers-cleaners/ Unmarried/30\",\" Machine-op-inspct/ Unmarried/30\",\" Other-service/ Unmarried/30\",\" Prof-specialty/ Unmarried/30\",\" Protective-serv/ Unmarried/30\",\" Sales/ Unmarried/30\",\" Tech-support/ Unmarried/30\",\" Transport-moving/ Unmarried/30\",\" ?/ Wife/30\",\" Adm-clerical/ Wife/30\",\" Exec-managerial/ Wife/30\",\" Machine-op-inspct/ Wife/30\",\" Other-service/ Wife/30\",\" Prof-specialty/ Wife/30\",\" Sales/ Wife/30\",\" Tech-support/ Wife/30\",\" Transport-moving/ Wife/30\",\" ?/ Husband/31\",\" Adm-clerical/ Husband/31\",\" Craft-repair/ Husband/31\",\" Exec-managerial/ Husband/31\",\" Farming-fishing/ Husband/31\",\" Handlers-cleaners/ Husband/31\",\" Machine-op-inspct/ Husband/31\",\" Other-service/ Husband/31\",\" Prof-specialty/ Husband/31\",\" Protective-serv/ Husband/31\",\" Sales/ Husband/31\",\" Tech-support/ Husband/31\",\" Transport-moving/ Husband/31\",\" ?/ Not-in-family/31\",\" Adm-clerical/ Not-in-family/31\",\" Craft-repair/ Not-in-family/31\",\" Exec-managerial/ Not-in-family/31\",\" Farming-fishing/ Not-in-family/31\",\" Handlers-cleaners/ Not-in-family/31\",\" Machine-op-inspct/ Not-in-family/31\",\" Other-service/ Not-in-family/31\",\" Prof-specialty/ Not-in-family/31\",\" Protective-serv/ Not-in-family/31\",\" Sales/ Not-in-family/31\",\" Tech-support/ Not-in-family/31\",\" Transport-moving/ Not-in-family/31\",\" Adm-clerical/ Other-relative/31\",\" Craft-repair/ Other-relative/31\",\" Handlers-cleaners/ Other-relative/31\",\" Machine-op-inspct/ Other-relative/31\",\" Other-service/ Other-relative/31\",\" Priv-house-serv/ Other-relative/31\",\" Prof-specialty/ Other-relative/31\",\" Protective-serv/ Other-relative/31\",\" Sales/ Other-relative/31\",\" Transport-moving/ Other-relative/31\",\" ?/ Own-child/31\",\" Adm-clerical/ Own-child/31\",\" Craft-repair/ Own-child/31\",\" Exec-managerial/ Own-child/31\",\" Farming-fishing/ Own-child/31\",\" Handlers-cleaners/ Own-child/31\",\" Machine-op-inspct/ Own-child/31\",\" Other-service/ Own-child/31\",\" Prof-specialty/ Own-child/31\",\" Protective-serv/ Own-child/31\",\" Sales/ Own-child/31\",\" Tech-support/ Own-child/31\",\" Transport-moving/ Own-child/31\",\" ?/ Unmarried/31\",\" Adm-clerical/ Unmarried/31\",\" Craft-repair/ Unmarried/31\",\" Exec-managerial/ Unmarried/31\",\" Farming-fishing/ Unmarried/31\",\" Handlers-cleaners/ Unmarried/31\",\" Machine-op-inspct/ Unmarried/31\",\" Other-service/ Unmarried/31\",\" Prof-specialty/ Unmarried/31\",\" Protective-serv/ Unmarried/31\",\" Sales/ Unmarried/31\",\" Tech-support/ Unmarried/31\",\" Transport-moving/ Unmarried/31\",\" ?/ Wife/31\",\" Adm-clerical/ Wife/31\",\" Craft-repair/ Wife/31\",\" Exec-managerial/ Wife/31\",\" Farming-fishing/ Wife/31\",\" Machine-op-inspct/ Wife/31\",\" Other-service/ Wife/31\",\" Prof-specialty/ Wife/31\",\" Sales/ Wife/31\",\" Tech-support/ Wife/31\",\" Transport-moving/ Wife/31\",\" ?/ Husband/32\",\" Adm-clerical/ Husband/32\",\" Craft-repair/ Husband/32\",\" Exec-managerial/ Husband/32\",\" Farming-fishing/ Husband/32\",\" Handlers-cleaners/ Husband/32\",\" Machine-op-inspct/ Husband/32\",\" Other-service/ Husband/32\",\" Prof-specialty/ Husband/32\",\" Protective-serv/ Husband/32\",\" Sales/ Husband/32\",\" Tech-support/ Husband/32\",\" Transport-moving/ Husband/32\",\" ?/ Not-in-family/32\",\" Adm-clerical/ Not-in-family/32\",\" Craft-repair/ Not-in-family/32\",\" Exec-managerial/ Not-in-family/32\",\" Farming-fishing/ Not-in-family/32\",\" Handlers-cleaners/ Not-in-family/32\",\" Machine-op-inspct/ Not-in-family/32\",\" Other-service/ Not-in-family/32\",\" Priv-house-serv/ Not-in-family/32\",\" Prof-specialty/ Not-in-family/32\",\" Protective-serv/ Not-in-family/32\",\" Sales/ Not-in-family/32\",\" Tech-support/ Not-in-family/32\",\" Transport-moving/ Not-in-family/32\",\" Adm-clerical/ Other-relative/32\",\" Craft-repair/ Other-relative/32\",\" Exec-managerial/ Other-relative/32\",\" Farming-fishing/ Other-relative/32\",\" Handlers-cleaners/ Other-relative/32\",\" Machine-op-inspct/ Other-relative/32\",\" Other-service/ Other-relative/32\",\" Prof-specialty/ Other-relative/32\",\" Sales/ Other-relative/32\",\" ?/ Own-child/32\",\" Adm-clerical/ Own-child/32\",\" Craft-repair/ Own-child/32\",\" Exec-managerial/ Own-child/32\",\" Farming-fishing/ Own-child/32\",\" Handlers-cleaners/ Own-child/32\",\" Machine-op-inspct/ Own-child/32\",\" Other-service/ Own-child/32\",\" Prof-specialty/ Own-child/32\",\" Protective-serv/ Own-child/32\",\" Sales/ Own-child/32\",\" Tech-support/ Own-child/32\",\" Transport-moving/ Own-child/32\",\" ?/ Unmarried/32\",\" Adm-clerical/ Unmarried/32\",\" Craft-repair/ Unmarried/32\",\" Exec-managerial/ Unmarried/32\",\" Handlers-cleaners/ Unmarried/32\",\" Machine-op-inspct/ Unmarried/32\",\" Other-service/ Unmarried/32\",\" Priv-house-serv/ Unmarried/32\",\" Prof-specialty/ Unmarried/32\",\" Protective-serv/ Unmarried/32\",\" Sales/ Unmarried/32\",\" Tech-support/ Unmarried/32\",\" Transport-moving/ Unmarried/32\",\" ?/ Wife/32\",\" Adm-clerical/ Wife/32\",\" Exec-managerial/ Wife/32\",\" Farming-fishing/ Wife/32\",\" Handlers-cleaners/ Wife/32\",\" Machine-op-inspct/ Wife/32\",\" Other-service/ Wife/32\",\" Prof-specialty/ Wife/32\",\" Protective-serv/ Wife/32\",\" Sales/ Wife/32\",\" Tech-support/ Wife/32\",\" Transport-moving/ Wife/32\",\" Adm-clerical/ Husband/33\",\" Craft-repair/ Husband/33\",\" Exec-managerial/ Husband/33\",\" Farming-fishing/ Husband/33\",\" Handlers-cleaners/ Husband/33\",\" Machine-op-inspct/ Husband/33\",\" Other-service/ Husband/33\",\" Prof-specialty/ Husband/33\",\" Protective-serv/ Husband/33\",\" Sales/ Husband/33\",\" Tech-support/ Husband/33\",\" Transport-moving/ Husband/33\",\" ?/ Not-in-family/33\",\" Adm-clerical/ Not-in-family/33\",\" Craft-repair/ Not-in-family/33\",\" Exec-managerial/ Not-in-family/33\",\" Farming-fishing/ Not-in-family/33\",\" Handlers-cleaners/ Not-in-family/33\",\" Machine-op-inspct/ Not-in-family/33\",\" Other-service/ Not-in-family/33\",\" Priv-house-serv/ Not-in-family/33\",\" Prof-specialty/ Not-in-family/33\",\" Protective-serv/ Not-in-family/33\",\" Sales/ Not-in-family/33\",\" Tech-support/ Not-in-family/33\",\" Transport-moving/ Not-in-family/33\",\" ?/ Other-relative/33\",\" Adm-clerical/ Other-relative/33\",\" Craft-repair/ Other-relative/33\",\" Exec-managerial/ Other-relative/33\",\" Machine-op-inspct/ Other-relative/33\",\" Other-service/ Other-relative/33\",\" Prof-specialty/ Other-relative/33\",\" Transport-moving/ Other-relative/33\",\" ?/ Own-child/33\",\" Adm-clerical/ Own-child/33\",\" Craft-repair/ Own-child/33\",\" Exec-managerial/ Own-child/33\",\" Farming-fishing/ Own-child/33\",\" Handlers-cleaners/ Own-child/33\",\" Machine-op-inspct/ Own-child/33\",\" Other-service/ Own-child/33\",\" Prof-specialty/ Own-child/33\",\" Protective-serv/ Own-child/33\",\" Sales/ Own-child/33\",\" Tech-support/ Own-child/33\",\" ?/ Unmarried/33\",\" Adm-clerical/ Unmarried/33\",\" Craft-repair/ Unmarried/33\",\" Exec-managerial/ Unmarried/33\",\" Handlers-cleaners/ Unmarried/33\",\" Machine-op-inspct/ Unmarried/33\",\" Other-service/ Unmarried/33\",\" Prof-specialty/ Unmarried/33\",\" Protective-serv/ Unmarried/33\",\" Sales/ Unmarried/33\",\" Tech-support/ Unmarried/33\",\" Transport-moving/ Unmarried/33\",\" ?/ Wife/33\",\" Adm-clerical/ Wife/33\",\" Craft-repair/ Wife/33\",\" Exec-managerial/ Wife/33\",\" Machine-op-inspct/ Wife/33\",\" Other-service/ Wife/33\",\" Prof-specialty/ Wife/33\",\" Sales/ Wife/33\",\" Tech-support/ Wife/33\",\" ?/ Husband/34\",\" Adm-clerical/ Husband/34\",\" Armed-Forces/ Husband/34\",\" Craft-repair/ Husband/34\",\" Exec-managerial/ Husband/34\",\" Farming-fishing/ Husband/34\",\" Handlers-cleaners/ Husband/34\",\" Machine-op-inspct/ Husband/34\",\" Other-service/ Husband/34\",\" Prof-specialty/ Husband/34\",\" Protective-serv/ Husband/34\",\" Sales/ Husband/34\",\" Tech-support/ Husband/34\",\" Transport-moving/ Husband/34\",\" ?/ Not-in-family/34\",\" Adm-clerical/ Not-in-family/34\",\" Craft-repair/ Not-in-family/34\",\" Exec-managerial/ Not-in-family/34\",\" Farming-fishing/ Not-in-family/34\",\" Handlers-cleaners/ Not-in-family/34\",\" Machine-op-inspct/ Not-in-family/34\",\" Other-service/ Not-in-family/34\",\" Priv-house-serv/ Not-in-family/34\",\" Prof-specialty/ Not-in-family/34\",\" Protective-serv/ Not-in-family/34\",\" Sales/ Not-in-family/34\",\" Tech-support/ Not-in-family/34\",\" Transport-moving/ Not-in-family/34\",\" Adm-clerical/ Other-relative/34\",\" Craft-repair/ Other-relative/34\",\" Exec-managerial/ Other-relative/34\",\" Handlers-cleaners/ Other-relative/34\",\" Machine-op-inspct/ Other-relative/34\",\" Other-service/ Other-relative/34\",\" Prof-specialty/ Other-relative/34\",\" Protective-serv/ Other-relative/34\",\" Sales/ Other-relative/34\",\" ?/ Own-child/34\",\" Adm-clerical/ Own-child/34\",\" Craft-repair/ Own-child/34\",\" Exec-managerial/ Own-child/34\",\" Farming-fishing/ Own-child/34\",\" Handlers-cleaners/ Own-child/34\",\" Machine-op-inspct/ Own-child/34\",\" Other-service/ Own-child/34\",\" Prof-specialty/ Own-child/34\",\" Protective-serv/ Own-child/34\",\" Sales/ Own-child/34\",\" Tech-support/ Own-child/34\",\" Transport-moving/ Own-child/34\",\" ?/ Unmarried/34\",\" Adm-clerical/ Unmarried/34\",\" Craft-repair/ Unmarried/34\",\" Exec-managerial/ Unmarried/34\",\" Farming-fishing/ Unmarried/34\",\" Handlers-cleaners/ Unmarried/34\",\" Machine-op-inspct/ Unmarried/34\",\" Other-service/ Unmarried/34\",\" Priv-house-serv/ Unmarried/34\",\" Prof-specialty/ Unmarried/34\",\" Protective-serv/ Unmarried/34\",\" Sales/ Unmarried/34\",\" Tech-support/ Unmarried/34\",\" Transport-moving/ Unmarried/34\",\" ?/ Wife/34\",\" Adm-clerical/ Wife/34\",\" Exec-managerial/ Wife/34\",\" Farming-fishing/ Wife/34\",\" Handlers-cleaners/ Wife/34\",\" Machine-op-inspct/ Wife/34\",\" Other-service/ Wife/34\",\" Prof-specialty/ Wife/34\",\" Sales/ Wife/34\",\" Tech-support/ Wife/34\",\" ?/ Husband/35\",\" Adm-clerical/ Husband/35\",\" Craft-repair/ Husband/35\",\" Exec-managerial/ Husband/35\",\" Farming-fishing/ Husband/35\",\" Handlers-cleaners/ Husband/35\",\" Machine-op-inspct/ Husband/35\",\" Other-service/ Husband/35\",\" Prof-specialty/ Husband/35\",\" Protective-serv/ Husband/35\",\" Sales/ Husband/35\",\" Tech-support/ Husband/35\",\" Transport-moving/ Husband/35\",\" ?/ Not-in-family/35\",\" Adm-clerical/ Not-in-family/35\",\" Craft-repair/ Not-in-family/35\",\" Exec-managerial/ Not-in-family/35\",\" Farming-fishing/ Not-in-family/35\",\" Handlers-cleaners/ Not-in-family/35\",\" Machine-op-inspct/ Not-in-family/35\",\" Other-service/ Not-in-family/35\",\" Prof-specialty/ Not-in-family/35\",\" Protective-serv/ Not-in-family/35\",\" Sales/ Not-in-family/35\",\" Tech-support/ Not-in-family/35\",\" Transport-moving/ Not-in-family/35\",\" ?/ Other-relative/35\",\" Adm-clerical/ Other-relative/35\",\" Craft-repair/ Other-relative/35\",\" Handlers-cleaners/ Other-relative/35\",\" Machine-op-inspct/ Other-relative/35\",\" Other-service/ Other-relative/35\",\" Prof-specialty/ Other-relative/35\",\" ?/ Own-child/35\",\" Adm-clerical/ Own-child/35\",\" Craft-repair/ Own-child/35\",\" Exec-managerial/ Own-child/35\",\" Farming-fishing/ Own-child/35\",\" Handlers-cleaners/ Own-child/35\",\" Machine-op-inspct/ Own-child/35\",\" Other-service/ Own-child/35\",\" Prof-specialty/ Own-child/35\",\" Protective-serv/ Own-child/35\",\" Sales/ Own-child/35\",\" Tech-support/ Own-child/35\",\" Transport-moving/ Own-child/35\",\" ?/ Unmarried/35\",\" Adm-clerical/ Unmarried/35\",\" Craft-repair/ Unmarried/35\",\" Exec-managerial/ Unmarried/35\",\" Farming-fishing/ Unmarried/35\",\" Handlers-cleaners/ Unmarried/35\",\" Machine-op-inspct/ Unmarried/35\",\" Other-service/ Unmarried/35\",\" Priv-house-serv/ Unmarried/35\",\" Prof-specialty/ Unmarried/35\",\" Protective-serv/ Unmarried/35\",\" Sales/ Unmarried/35\",\" Tech-support/ Unmarried/35\",\" Transport-moving/ Unmarried/35\",\" ?/ Wife/35\",\" Adm-clerical/ Wife/35\",\" Craft-repair/ Wife/35\",\" Exec-managerial/ Wife/35\",\" Handlers-cleaners/ Wife/35\",\" Machine-op-inspct/ Wife/35\",\" Other-service/ Wife/35\",\" Prof-specialty/ Wife/35\",\" Sales/ Wife/35\",\" Tech-support/ Wife/35\",\" Transport-moving/ Wife/35\",\" ?/ Husband/36\",\" Adm-clerical/ Husband/36\",\" Craft-repair/ Husband/36\",\" Exec-managerial/ Husband/36\",\" Farming-fishing/ Husband/36\",\" Handlers-cleaners/ Husband/36\",\" Machine-op-inspct/ Husband/36\",\" Other-service/ Husband/36\",\" Prof-specialty/ Husband/36\",\" Protective-serv/ Husband/36\",\" Sales/ Husband/36\",\" Tech-support/ Husband/36\",\" Transport-moving/ Husband/36\",\" ?/ Not-in-family/36\",\" Adm-clerical/ Not-in-family/36\",\" Craft-repair/ Not-in-family/36\",\" Exec-managerial/ Not-in-family/36\",\" Farming-fishing/ Not-in-family/36\",\" Handlers-cleaners/ Not-in-family/36\",\" Machine-op-inspct/ Not-in-family/36\",\" Other-service/ Not-in-family/36\",\" Prof-specialty/ Not-in-family/36\",\" Protective-serv/ Not-in-family/36\",\" Sales/ Not-in-family/36\",\" Tech-support/ Not-in-family/36\",\" Transport-moving/ Not-in-family/36\",\" Adm-clerical/ Other-relative/36\",\" Craft-repair/ Other-relative/36\",\" Exec-managerial/ Other-relative/36\",\" Other-service/ Other-relative/36\",\" Sales/ Other-relative/36\",\" Transport-moving/ Other-relative/36\",\" ?/ Own-child/36\",\" Adm-clerical/ Own-child/36\",\" Craft-repair/ Own-child/36\",\" Exec-managerial/ Own-child/36\",\" Farming-fishing/ Own-child/36\",\" Handlers-cleaners/ Own-child/36\",\" Machine-op-inspct/ Own-child/36\",\" Other-service/ Own-child/36\",\" Prof-specialty/ Own-child/36\",\" Protective-serv/ Own-child/36\",\" Sales/ Own-child/36\",\" Tech-support/ Own-child/36\",\" Transport-moving/ Own-child/36\",\" ?/ Unmarried/36\",\" Adm-clerical/ Unmarried/36\",\" Craft-repair/ Unmarried/36\",\" Exec-managerial/ Unmarried/36\",\" Farming-fishing/ Unmarried/36\",\" Handlers-cleaners/ Unmarried/36\",\" Machine-op-inspct/ Unmarried/36\",\" Other-service/ Unmarried/36\",\" Priv-house-serv/ Unmarried/36\",\" Prof-specialty/ Unmarried/36\",\" Protective-serv/ Unmarried/36\",\" Sales/ Unmarried/36\",\" Tech-support/ Unmarried/36\",\" Transport-moving/ Unmarried/36\",\" ?/ Wife/36\",\" Adm-clerical/ Wife/36\",\" Exec-managerial/ Wife/36\",\" Farming-fishing/ Wife/36\",\" Machine-op-inspct/ Wife/36\",\" Other-service/ Wife/36\",\" Prof-specialty/ Wife/36\",\" Sales/ Wife/36\",\" Transport-moving/ Wife/36\",\" ?/ Husband/37\",\" Adm-clerical/ Husband/37\",\" Craft-repair/ Husband/37\",\" Exec-managerial/ Husband/37\",\" Farming-fishing/ Husband/37\",\" Handlers-cleaners/ Husband/37\",\" Machine-op-inspct/ Husband/37\",\" Other-service/ Husband/37\",\" Prof-specialty/ Husband/37\",\" Protective-serv/ Husband/37\",\" Sales/ Husband/37\",\" Tech-support/ Husband/37\",\" Transport-moving/ Husband/37\",\" ?/ Not-in-family/37\",\" Adm-clerical/ Not-in-family/37\",\" Craft-repair/ Not-in-family/37\",\" Exec-managerial/ Not-in-family/37\",\" Farming-fishing/ Not-in-family/37\",\" Handlers-cleaners/ Not-in-family/37\",\" Machine-op-inspct/ Not-in-family/37\",\" Other-service/ Not-in-family/37\",\" Priv-house-serv/ Not-in-family/37\",\" Prof-specialty/ Not-in-family/37\",\" Protective-serv/ Not-in-family/37\",\" Sales/ Not-in-family/37\",\" Tech-support/ Not-in-family/37\",\" Transport-moving/ Not-in-family/37\",\" Adm-clerical/ Other-relative/37\",\" Craft-repair/ Other-relative/37\",\" Exec-managerial/ Other-relative/37\",\" Farming-fishing/ Other-relative/37\",\" Handlers-cleaners/ Other-relative/37\",\" Machine-op-inspct/ Other-relative/37\",\" Other-service/ Other-relative/37\",\" Prof-specialty/ Other-relative/37\",\" Tech-support/ Other-relative/37\",\" Transport-moving/ Other-relative/37\",\" Adm-clerical/ Own-child/37\",\" Craft-repair/ Own-child/37\",\" Exec-managerial/ Own-child/37\",\" Farming-fishing/ Own-child/37\",\" Handlers-cleaners/ Own-child/37\",\" Machine-op-inspct/ Own-child/37\",\" Other-service/ Own-child/37\",\" Prof-specialty/ Own-child/37\",\" Protective-serv/ Own-child/37\",\" Tech-support/ Own-child/37\",\" ?/ Unmarried/37\",\" Adm-clerical/ Unmarried/37\",\" Craft-repair/ Unmarried/37\",\" Exec-managerial/ Unmarried/37\",\" Farming-fishing/ Unmarried/37\",\" Handlers-cleaners/ Unmarried/37\",\" Machine-op-inspct/ Unmarried/37\",\" Other-service/ Unmarried/37\",\" Priv-house-serv/ Unmarried/37\",\" Prof-specialty/ Unmarried/37\",\" Protective-serv/ Unmarried/37\",\" Sales/ Unmarried/37\",\" Tech-support/ Unmarried/37\",\" Transport-moving/ Unmarried/37\",\" ?/ Wife/37\",\" Adm-clerical/ Wife/37\",\" Exec-managerial/ Wife/37\",\" Handlers-cleaners/ Wife/37\",\" Machine-op-inspct/ Wife/37\",\" Other-service/ Wife/37\",\" Prof-specialty/ Wife/37\",\" Sales/ Wife/37\",\" Tech-support/ Wife/37\",\" ?/ Husband/38\",\" Adm-clerical/ Husband/38\",\" Craft-repair/ Husband/38\",\" Exec-managerial/ Husband/38\",\" Farming-fishing/ Husband/38\",\" Handlers-cleaners/ Husband/38\",\" Machine-op-inspct/ Husband/38\",\" Other-service/ Husband/38\",\" Prof-specialty/ Husband/38\",\" Protective-serv/ Husband/38\",\" Sales/ Husband/38\",\" Tech-support/ Husband/38\",\" Transport-moving/ Husband/38\",\" ?/ Not-in-family/38\",\" Adm-clerical/ Not-in-family/38\",\" Craft-repair/ Not-in-family/38\",\" Exec-managerial/ Not-in-family/38\",\" Farming-fishing/ Not-in-family/38\",\" Handlers-cleaners/ Not-in-family/38\",\" Machine-op-inspct/ Not-in-family/38\",\" Other-service/ Not-in-family/38\",\" Prof-specialty/ Not-in-family/38\",\" Protective-serv/ Not-in-family/38\",\" Sales/ Not-in-family/38\",\" Tech-support/ Not-in-family/38\",\" Transport-moving/ Not-in-family/38\",\" Exec-managerial/ Other-relative/38\",\" Handlers-cleaners/ Other-relative/38\",\" Machine-op-inspct/ Other-relative/38\",\" Other-service/ Other-relative/38\",\" Prof-specialty/ Other-relative/38\",\" Tech-support/ Other-relative/38\",\" ?/ Own-child/38\",\" Adm-clerical/ Own-child/38\",\" Craft-repair/ Own-child/38\",\" Exec-managerial/ Own-child/38\",\" Farming-fishing/ Own-child/38\",\" Machine-op-inspct/ Own-child/38\",\" Other-service/ Own-child/38\",\" Prof-specialty/ Own-child/38\",\" Protective-serv/ Own-child/38\",\" Sales/ Own-child/38\",\" Tech-support/ Own-child/38\",\" Transport-moving/ Own-child/38\",\" ?/ Unmarried/38\",\" Adm-clerical/ Unmarried/38\",\" Craft-repair/ Unmarried/38\",\" Exec-managerial/ Unmarried/38\",\" Farming-fishing/ Unmarried/38\",\" Handlers-cleaners/ Unmarried/38\",\" Machine-op-inspct/ Unmarried/38\",\" Other-service/ Unmarried/38\",\" Priv-house-serv/ Unmarried/38\",\" Prof-specialty/ Unmarried/38\",\" Protective-serv/ Unmarried/38\",\" Sales/ Unmarried/38\",\" Tech-support/ Unmarried/38\",\" Transport-moving/ Unmarried/38\",\" ?/ Wife/38\",\" Adm-clerical/ Wife/38\",\" Craft-repair/ Wife/38\",\" Exec-managerial/ Wife/38\",\" Farming-fishing/ Wife/38\",\" Handlers-cleaners/ Wife/38\",\" Machine-op-inspct/ Wife/38\",\" Other-service/ Wife/38\",\" Prof-specialty/ Wife/38\",\" Sales/ Wife/38\",\" Tech-support/ Wife/38\",\" ?/ Husband/39\",\" Adm-clerical/ Husband/39\",\" Craft-repair/ Husband/39\",\" Exec-managerial/ Husband/39\",\" Farming-fishing/ Husband/39\",\" Handlers-cleaners/ Husband/39\",\" Machine-op-inspct/ Husband/39\",\" Other-service/ Husband/39\",\" Prof-specialty/ Husband/39\",\" Protective-serv/ Husband/39\",\" Sales/ Husband/39\",\" Tech-support/ Husband/39\",\" Transport-moving/ Husband/39\",\" ?/ Not-in-family/39\",\" Adm-clerical/ Not-in-family/39\",\" Armed-Forces/ Not-in-family/39\",\" Craft-repair/ Not-in-family/39\",\" Exec-managerial/ Not-in-family/39\",\" Farming-fishing/ Not-in-family/39\",\" Handlers-cleaners/ Not-in-family/39\",\" Machine-op-inspct/ Not-in-family/39\",\" Other-service/ Not-in-family/39\",\" Prof-specialty/ Not-in-family/39\",\" Protective-serv/ Not-in-family/39\",\" Sales/ Not-in-family/39\",\" Tech-support/ Not-in-family/39\",\" Transport-moving/ Not-in-family/39\",\" Adm-clerical/ Other-relative/39\",\" Craft-repair/ Other-relative/39\",\" Exec-managerial/ Other-relative/39\",\" Farming-fishing/ Other-relative/39\",\" Handlers-cleaners/ Other-relative/39\",\" Machine-op-inspct/ Other-relative/39\",\" Other-service/ Other-relative/39\",\" Prof-specialty/ Other-relative/39\",\" Sales/ Other-relative/39\",\" Adm-clerical/ Own-child/39\",\" Craft-repair/ Own-child/39\",\" Exec-managerial/ Own-child/39\",\" Farming-fishing/ Own-child/39\",\" Handlers-cleaners/ Own-child/39\",\" Machine-op-inspct/ Own-child/39\",\" Other-service/ Own-child/39\",\" Prof-specialty/ Own-child/39\",\" Protective-serv/ Own-child/39\",\" Sales/ Own-child/39\",\" Transport-moving/ Own-child/39\",\" ?/ Unmarried/39\",\" Adm-clerical/ Unmarried/39\",\" Craft-repair/ Unmarried/39\",\" Exec-managerial/ Unmarried/39\",\" Farming-fishing/ Unmarried/39\",\" Handlers-cleaners/ Unmarried/39\",\" Machine-op-inspct/ Unmarried/39\",\" Other-service/ Unmarried/39\",\" Priv-house-serv/ Unmarried/39\",\" Prof-specialty/ Unmarried/39\",\" Protective-serv/ Unmarried/39\",\" Sales/ Unmarried/39\",\" Tech-support/ Unmarried/39\",\" Transport-moving/ Unmarried/39\",\" ?/ Wife/39\",\" Adm-clerical/ Wife/39\",\" Craft-repair/ Wife/39\",\" Exec-managerial/ Wife/39\",\" Farming-fishing/ Wife/39\",\" Handlers-cleaners/ Wife/39\",\" Machine-op-inspct/ Wife/39\",\" Other-service/ Wife/39\",\" Prof-specialty/ Wife/39\",\" Sales/ Wife/39\",\" Tech-support/ Wife/39\",\" ?/ Husband/40\",\" Adm-clerical/ Husband/40\",\" Craft-repair/ Husband/40\",\" Exec-managerial/ Husband/40\",\" Farming-fishing/ Husband/40\",\" Handlers-cleaners/ Husband/40\",\" Machine-op-inspct/ Husband/40\",\" Other-service/ Husband/40\",\" Prof-specialty/ Husband/40\",\" Protective-serv/ Husband/40\",\" Sales/ Husband/40\",\" Tech-support/ Husband/40\",\" Transport-moving/ Husband/40\",\" ?/ Not-in-family/40\",\" Adm-clerical/ Not-in-family/40\",\" Craft-repair/ Not-in-family/40\",\" Exec-managerial/ Not-in-family/40\",\" Farming-fishing/ Not-in-family/40\",\" Handlers-cleaners/ Not-in-family/40\",\" Machine-op-inspct/ Not-in-family/40\",\" Other-service/ Not-in-family/40\",\" Prof-specialty/ Not-in-family/40\",\" Protective-serv/ Not-in-family/40\",\" Sales/ Not-in-family/40\",\" Tech-support/ Not-in-family/40\",\" Transport-moving/ Not-in-family/40\",\" Adm-clerical/ Other-relative/40\",\" Craft-repair/ Other-relative/40\",\" Exec-managerial/ Other-relative/40\",\" Other-service/ Other-relative/40\",\" Prof-specialty/ Other-relative/40\",\" Sales/ Other-relative/40\",\" ?/ Own-child/40\",\" Adm-clerical/ Own-child/40\",\" Craft-repair/ Own-child/40\",\" Exec-managerial/ Own-child/40\",\" Farming-fishing/ Own-child/40\",\" Handlers-cleaners/ Own-child/40\",\" Machine-op-inspct/ Own-child/40\",\" Other-service/ Own-child/40\",\" Prof-specialty/ Own-child/40\",\" Sales/ Own-child/40\",\" Transport-moving/ Own-child/40\",\" ?/ Unmarried/40\",\" Adm-clerical/ Unmarried/40\",\" Craft-repair/ Unmarried/40\",\" Exec-managerial/ Unmarried/40\",\" Farming-fishing/ Unmarried/40\",\" Machine-op-inspct/ Unmarried/40\",\" Other-service/ Unmarried/40\",\" Prof-specialty/ Unmarried/40\",\" Protective-serv/ Unmarried/40\",\" Sales/ Unmarried/40\",\" Tech-support/ Unmarried/40\",\" Transport-moving/ Unmarried/40\",\" ?/ Wife/40\",\" Adm-clerical/ Wife/40\",\" Craft-repair/ Wife/40\",\" Exec-managerial/ Wife/40\",\" Other-service/ Wife/40\",\" Priv-house-serv/ Wife/40\",\" Prof-specialty/ Wife/40\",\" Sales/ Wife/40\",\" Tech-support/ Wife/40\",\" ?/ Husband/41\",\" Adm-clerical/ Husband/41\",\" Craft-repair/ Husband/41\",\" Exec-managerial/ Husband/41\",\" Farming-fishing/ Husband/41\",\" Handlers-cleaners/ Husband/41\",\" Machine-op-inspct/ Husband/41\",\" Other-service/ Husband/41\",\" Prof-specialty/ Husband/41\",\" Protective-serv/ Husband/41\",\" Sales/ Husband/41\",\" Tech-support/ Husband/41\",\" Transport-moving/ Husband/41\",\" ?/ Not-in-family/41\",\" Adm-clerical/ Not-in-family/41\",\" Craft-repair/ Not-in-family/41\",\" Exec-managerial/ Not-in-family/41\",\" Farming-fishing/ Not-in-family/41\",\" Handlers-cleaners/ Not-in-family/41\",\" Machine-op-inspct/ Not-in-family/41\",\" Other-service/ Not-in-family/41\",\" Priv-house-serv/ Not-in-family/41\",\" Prof-specialty/ Not-in-family/41\",\" Protective-serv/ Not-in-family/41\",\" Sales/ Not-in-family/41\",\" Tech-support/ Not-in-family/41\",\" Transport-moving/ Not-in-family/41\",\" ?/ Other-relative/41\",\" Adm-clerical/ Other-relative/41\",\" Exec-managerial/ Other-relative/41\",\" Farming-fishing/ Other-relative/41\",\" Handlers-cleaners/ Other-relative/41\",\" Machine-op-inspct/ Other-relative/41\",\" Other-service/ Other-relative/41\",\" Priv-house-serv/ Other-relative/41\",\" Prof-specialty/ Other-relative/41\",\" Sales/ Other-relative/41\",\" ?/ Own-child/41\",\" Adm-clerical/ Own-child/41\",\" Craft-repair/ Own-child/41\",\" Exec-managerial/ Own-child/41\",\" Handlers-cleaners/ Own-child/41\",\" Machine-op-inspct/ Own-child/41\",\" Other-service/ Own-child/41\",\" Prof-specialty/ Own-child/41\",\" Protective-serv/ Own-child/41\",\" Sales/ Own-child/41\",\" Transport-moving/ Own-child/41\",\" ?/ Unmarried/41\",\" Adm-clerical/ Unmarried/41\",\" Craft-repair/ Unmarried/41\",\" Exec-managerial/ Unmarried/41\",\" Farming-fishing/ Unmarried/41\",\" Handlers-cleaners/ Unmarried/41\",\" Machine-op-inspct/ Unmarried/41\",\" Other-service/ Unmarried/41\",\" Priv-house-serv/ Unmarried/41\",\" Prof-specialty/ Unmarried/41\",\" Protective-serv/ Unmarried/41\",\" Sales/ Unmarried/41\",\" Tech-support/ Unmarried/41\",\" Transport-moving/ Unmarried/41\",\" ?/ Wife/41\",\" Adm-clerical/ Wife/41\",\" Exec-managerial/ Wife/41\",\" Farming-fishing/ Wife/41\",\" Machine-op-inspct/ Wife/41\",\" Other-service/ Wife/41\",\" Prof-specialty/ Wife/41\",\" Sales/ Wife/41\",\" Tech-support/ Wife/41\",\" Transport-moving/ Wife/41\",\" ?/ Husband/42\",\" Adm-clerical/ Husband/42\",\" Craft-repair/ Husband/42\",\" Exec-managerial/ Husband/42\",\" Farming-fishing/ Husband/42\",\" Handlers-cleaners/ Husband/42\",\" Machine-op-inspct/ Husband/42\",\" Other-service/ Husband/42\",\" Prof-specialty/ Husband/42\",\" Protective-serv/ Husband/42\",\" Sales/ Husband/42\",\" Tech-support/ Husband/42\",\" Transport-moving/ Husband/42\",\" ?/ Not-in-family/42\",\" Adm-clerical/ Not-in-family/42\",\" Craft-repair/ Not-in-family/42\",\" Exec-managerial/ Not-in-family/42\",\" Farming-fishing/ Not-in-family/42\",\" Handlers-cleaners/ Not-in-family/42\",\" Machine-op-inspct/ Not-in-family/42\",\" Other-service/ Not-in-family/42\",\" Priv-house-serv/ Not-in-family/42\",\" Prof-specialty/ Not-in-family/42\",\" Protective-serv/ Not-in-family/42\",\" Sales/ Not-in-family/42\",\" Tech-support/ Not-in-family/42\",\" Transport-moving/ Not-in-family/42\",\" ?/ Other-relative/42\",\" Adm-clerical/ Other-relative/42\",\" Craft-repair/ Other-relative/42\",\" Handlers-cleaners/ Other-relative/42\",\" Other-service/ Other-relative/42\",\" Prof-specialty/ Other-relative/42\",\" Transport-moving/ Other-relative/42\",\" ?/ Own-child/42\",\" Adm-clerical/ Own-child/42\",\" Craft-repair/ Own-child/42\",\" Exec-managerial/ Own-child/42\",\" Farming-fishing/ Own-child/42\",\" Other-service/ Own-child/42\",\" Prof-specialty/ Own-child/42\",\" Sales/ Own-child/42\",\" Tech-support/ Own-child/42\",\" Transport-moving/ Own-child/42\",\" ?/ Unmarried/42\",\" Adm-clerical/ Unmarried/42\",\" Craft-repair/ Unmarried/42\",\" Exec-managerial/ Unmarried/42\",\" Farming-fishing/ Unmarried/42\",\" Handlers-cleaners/ Unmarried/42\",\" Machine-op-inspct/ Unmarried/42\",\" Other-service/ Unmarried/42\",\" Prof-specialty/ Unmarried/42\",\" Protective-serv/ Unmarried/42\",\" Sales/ Unmarried/42\",\" Tech-support/ Unmarried/42\",\" Transport-moving/ Unmarried/42\",\" ?/ Wife/42\",\" Adm-clerical/ Wife/42\",\" Craft-repair/ Wife/42\",\" Exec-managerial/ Wife/42\",\" Farming-fishing/ Wife/42\",\" Machine-op-inspct/ Wife/42\",\" Other-service/ Wife/42\",\" Prof-specialty/ Wife/42\",\" Sales/ Wife/42\",\" Tech-support/ Wife/42\",\" ?/ Husband/43\",\" Adm-clerical/ Husband/43\",\" Craft-repair/ Husband/43\",\" Exec-managerial/ Husband/43\",\" Farming-fishing/ Husband/43\",\" Handlers-cleaners/ Husband/43\",\" Machine-op-inspct/ Husband/43\",\" Other-service/ Husband/43\",\" Prof-specialty/ Husband/43\",\" Protective-serv/ Husband/43\",\" Sales/ Husband/43\",\" Tech-support/ Husband/43\",\" Transport-moving/ Husband/43\",\" ?/ Not-in-family/43\",\" Adm-clerical/ Not-in-family/43\",\" Craft-repair/ Not-in-family/43\",\" Exec-managerial/ Not-in-family/43\",\" Farming-fishing/ Not-in-family/43\",\" Handlers-cleaners/ Not-in-family/43\",\" Machine-op-inspct/ Not-in-family/43\",\" Other-service/ Not-in-family/43\",\" Prof-specialty/ Not-in-family/43\",\" Protective-serv/ Not-in-family/43\",\" Sales/ Not-in-family/43\",\" Tech-support/ Not-in-family/43\",\" Transport-moving/ Not-in-family/43\",\" ?/ Other-relative/43\",\" Adm-clerical/ Other-relative/43\",\" Craft-repair/ Other-relative/43\",\" Exec-managerial/ Other-relative/43\",\" Machine-op-inspct/ Other-relative/43\",\" Sales/ Other-relative/43\",\" Adm-clerical/ Own-child/43\",\" Craft-repair/ Own-child/43\",\" Handlers-cleaners/ Own-child/43\",\" Machine-op-inspct/ Own-child/43\",\" Other-service/ Own-child/43\",\" Prof-specialty/ Own-child/43\",\" Sales/ Own-child/43\",\" Tech-support/ Own-child/43\",\" ?/ Unmarried/43\",\" Adm-clerical/ Unmarried/43\",\" Craft-repair/ Unmarried/43\",\" Exec-managerial/ Unmarried/43\",\" Farming-fishing/ Unmarried/43\",\" Handlers-cleaners/ Unmarried/43\",\" Machine-op-inspct/ Unmarried/43\",\" Other-service/ Unmarried/43\",\" Priv-house-serv/ Unmarried/43\",\" Prof-specialty/ Unmarried/43\",\" Protective-serv/ Unmarried/43\",\" Sales/ Unmarried/43\",\" Tech-support/ Unmarried/43\",\" Transport-moving/ Unmarried/43\",\" ?/ Wife/43\",\" Adm-clerical/ Wife/43\",\" Craft-repair/ Wife/43\",\" Exec-managerial/ Wife/43\",\" Handlers-cleaners/ Wife/43\",\" Machine-op-inspct/ Wife/43\",\" Other-service/ Wife/43\",\" Prof-specialty/ Wife/43\",\" Sales/ Wife/43\",\" Tech-support/ Wife/43\",\" ?/ Husband/44\",\" Adm-clerical/ Husband/44\",\" Craft-repair/ Husband/44\",\" Exec-managerial/ Husband/44\",\" Farming-fishing/ Husband/44\",\" Handlers-cleaners/ Husband/44\",\" Machine-op-inspct/ Husband/44\",\" Other-service/ Husband/44\",\" Prof-specialty/ Husband/44\",\" Protective-serv/ Husband/44\",\" Sales/ Husband/44\",\" Tech-support/ Husband/44\",\" Transport-moving/ Husband/44\",\" ?/ Not-in-family/44\",\" Adm-clerical/ Not-in-family/44\",\" Craft-repair/ Not-in-family/44\",\" Exec-managerial/ Not-in-family/44\",\" Farming-fishing/ Not-in-family/44\",\" Handlers-cleaners/ Not-in-family/44\",\" Machine-op-inspct/ Not-in-family/44\",\" Other-service/ Not-in-family/44\",\" Priv-house-serv/ Not-in-family/44\",\" Prof-specialty/ Not-in-family/44\",\" Protective-serv/ Not-in-family/44\",\" Sales/ Not-in-family/44\",\" Tech-support/ Not-in-family/44\",\" Transport-moving/ Not-in-family/44\",\" Adm-clerical/ Other-relative/44\",\" Craft-repair/ Other-relative/44\",\" Exec-managerial/ Other-relative/44\",\" Other-service/ Other-relative/44\",\" Protective-serv/ Other-relative/44\",\" Sales/ Other-relative/44\",\" Adm-clerical/ Own-child/44\",\" Craft-repair/ Own-child/44\",\" Exec-managerial/ Own-child/44\",\" Farming-fishing/ Own-child/44\",\" Handlers-cleaners/ Own-child/44\",\" Machine-op-inspct/ Own-child/44\",\" Other-service/ Own-child/44\",\" Prof-specialty/ Own-child/44\",\" Protective-serv/ Own-child/44\",\" Sales/ Own-child/44\",\" Transport-moving/ Own-child/44\",\" ?/ Unmarried/44\",\" Adm-clerical/ Unmarried/44\",\" Craft-repair/ Unmarried/44\",\" Exec-managerial/ Unmarried/44\",\" Farming-fishing/ Unmarried/44\",\" Handlers-cleaners/ Unmarried/44\",\" Machine-op-inspct/ Unmarried/44\",\" Other-service/ Unmarried/44\",\" Prof-specialty/ Unmarried/44\",\" Sales/ Unmarried/44\",\" Tech-support/ Unmarried/44\",\" Transport-moving/ Unmarried/44\",\" ?/ Wife/44\",\" Adm-clerical/ Wife/44\",\" Craft-repair/ Wife/44\",\" Exec-managerial/ Wife/44\",\" Handlers-cleaners/ Wife/44\",\" Machine-op-inspct/ Wife/44\",\" Other-service/ Wife/44\",\" Prof-specialty/ Wife/44\",\" Protective-serv/ Wife/44\",\" Sales/ Wife/44\",\" Tech-support/ Wife/44\",\" Transport-moving/ Wife/44\",\" ?/ Husband/45\",\" Adm-clerical/ Husband/45\",\" Craft-repair/ Husband/45\",\" Exec-managerial/ Husband/45\",\" Farming-fishing/ Husband/45\",\" Handlers-cleaners/ Husband/45\",\" Machine-op-inspct/ Husband/45\",\" Other-service/ Husband/45\",\" Prof-specialty/ Husband/45\",\" Protective-serv/ Husband/45\",\" Sales/ Husband/45\",\" Tech-support/ Husband/45\",\" Transport-moving/ Husband/45\",\" ?/ Not-in-family/45\",\" Adm-clerical/ Not-in-family/45\",\" Craft-repair/ Not-in-family/45\",\" Exec-managerial/ Not-in-family/45\",\" Farming-fishing/ Not-in-family/45\",\" Handlers-cleaners/ Not-in-family/45\",\" Machine-op-inspct/ Not-in-family/45\",\" Other-service/ Not-in-family/45\",\" Prof-specialty/ Not-in-family/45\",\" Protective-serv/ Not-in-family/45\",\" Sales/ Not-in-family/45\",\" Tech-support/ Not-in-family/45\",\" Transport-moving/ Not-in-family/45\",\" Adm-clerical/ Other-relative/45\",\" Craft-repair/ Other-relative/45\",\" Farming-fishing/ Other-relative/45\",\" Handlers-cleaners/ Other-relative/45\",\" Other-service/ Other-relative/45\",\" ?/ Own-child/45\",\" Adm-clerical/ Own-child/45\",\" Craft-repair/ Own-child/45\",\" Exec-managerial/ Own-child/45\",\" Farming-fishing/ Own-child/45\",\" Machine-op-inspct/ Own-child/45\",\" Other-service/ Own-child/45\",\" Prof-specialty/ Own-child/45\",\" Sales/ Own-child/45\",\" Tech-support/ Own-child/45\",\" Transport-moving/ Own-child/45\",\" ?/ Unmarried/45\",\" Adm-clerical/ Unmarried/45\",\" Craft-repair/ Unmarried/45\",\" Exec-managerial/ Unmarried/45\",\" Handlers-cleaners/ Unmarried/45\",\" Machine-op-inspct/ Unmarried/45\",\" Other-service/ Unmarried/45\",\" Priv-house-serv/ Unmarried/45\",\" Prof-specialty/ Unmarried/45\",\" Protective-serv/ Unmarried/45\",\" Sales/ Unmarried/45\",\" Tech-support/ Unmarried/45\",\" Transport-moving/ Unmarried/45\",\" ?/ Wife/45\",\" Adm-clerical/ Wife/45\",\" Exec-managerial/ Wife/45\",\" Machine-op-inspct/ Wife/45\",\" Other-service/ Wife/45\",\" Prof-specialty/ Wife/45\",\" Sales/ Wife/45\",\" Transport-moving/ Wife/45\",\" ?/ Husband/46\",\" Adm-clerical/ Husband/46\",\" Armed-Forces/ Husband/46\",\" Craft-repair/ Husband/46\",\" Exec-managerial/ Husband/46\",\" Farming-fishing/ Husband/46\",\" Handlers-cleaners/ Husband/46\",\" Machine-op-inspct/ Husband/46\",\" Other-service/ Husband/46\",\" Prof-specialty/ Husband/46\",\" Protective-serv/ Husband/46\",\" Sales/ Husband/46\",\" Tech-support/ Husband/46\",\" Transport-moving/ Husband/46\",\" ?/ Not-in-family/46\",\" Adm-clerical/ Not-in-family/46\",\" Craft-repair/ Not-in-family/46\",\" Exec-managerial/ Not-in-family/46\",\" Farming-fishing/ Not-in-family/46\",\" Handlers-cleaners/ Not-in-family/46\",\" Machine-op-inspct/ Not-in-family/46\",\" Other-service/ Not-in-family/46\",\" Priv-house-serv/ Not-in-family/46\",\" Prof-specialty/ Not-in-family/46\",\" Protective-serv/ Not-in-family/46\",\" Sales/ Not-in-family/46\",\" Tech-support/ Not-in-family/46\",\" Transport-moving/ Not-in-family/46\",\" Craft-repair/ Other-relative/46\",\" Handlers-cleaners/ Other-relative/46\",\" Machine-op-inspct/ Other-relative/46\",\" Other-service/ Other-relative/46\",\" Sales/ Other-relative/46\",\" Tech-support/ Other-relative/46\",\" Adm-clerical/ Own-child/46\",\" Craft-repair/ Own-child/46\",\" Exec-managerial/ Own-child/46\",\" Handlers-cleaners/ Own-child/46\",\" Machine-op-inspct/ Own-child/46\",\" Other-service/ Own-child/46\",\" Prof-specialty/ Own-child/46\",\" Sales/ Own-child/46\",\" Transport-moving/ Own-child/46\",\" ?/ Unmarried/46\",\" Adm-clerical/ Unmarried/46\",\" Craft-repair/ Unmarried/46\",\" Exec-managerial/ Unmarried/46\",\" Farming-fishing/ Unmarried/46\",\" Handlers-cleaners/ Unmarried/46\",\" Machine-op-inspct/ Unmarried/46\",\" Other-service/ Unmarried/46\",\" Priv-house-serv/ Unmarried/46\",\" Prof-specialty/ Unmarried/46\",\" Protective-serv/ Unmarried/46\",\" Sales/ Unmarried/46\",\" Tech-support/ Unmarried/46\",\" ?/ Wife/46\",\" Adm-clerical/ Wife/46\",\" Craft-repair/ Wife/46\",\" Exec-managerial/ Wife/46\",\" Farming-fishing/ Wife/46\",\" Machine-op-inspct/ Wife/46\",\" Other-service/ Wife/46\",\" Priv-house-serv/ Wife/46\",\" Prof-specialty/ Wife/46\",\" Sales/ Wife/46\",\" ?/ Husband/47\",\" Adm-clerical/ Husband/47\",\" Craft-repair/ Husband/47\",\" Exec-managerial/ Husband/47\",\" Farming-fishing/ Husband/47\",\" Handlers-cleaners/ Husband/47\",\" Machine-op-inspct/ Husband/47\",\" Other-service/ Husband/47\",\" Prof-specialty/ Husband/47\",\" Protective-serv/ Husband/47\",\" Sales/ Husband/47\",\" Tech-support/ Husband/47\",\" Transport-moving/ Husband/47\",\" ?/ Not-in-family/47\",\" Adm-clerical/ Not-in-family/47\",\" Craft-repair/ Not-in-family/47\",\" Exec-managerial/ Not-in-family/47\",\" Farming-fishing/ Not-in-family/47\",\" Handlers-cleaners/ Not-in-family/47\",\" Machine-op-inspct/ Not-in-family/47\",\" Other-service/ Not-in-family/47\",\" Priv-house-serv/ Not-in-family/47\",\" Prof-specialty/ Not-in-family/47\",\" Protective-serv/ Not-in-family/47\",\" Sales/ Not-in-family/47\",\" Tech-support/ Not-in-family/47\",\" Transport-moving/ Not-in-family/47\",\" Adm-clerical/ Other-relative/47\",\" Craft-repair/ Other-relative/47\",\" Farming-fishing/ Other-relative/47\",\" Handlers-cleaners/ Other-relative/47\",\" Machine-op-inspct/ Other-relative/47\",\" Other-service/ Other-relative/47\",\" Prof-specialty/ Other-relative/47\",\" Tech-support/ Other-relative/47\",\" Adm-clerical/ Own-child/47\",\" Craft-repair/ Own-child/47\",\" Exec-managerial/ Own-child/47\",\" Machine-op-inspct/ Own-child/47\",\" Other-service/ Own-child/47\",\" Priv-house-serv/ Own-child/47\",\" Sales/ Own-child/47\",\" ?/ Unmarried/47\",\" Adm-clerical/ Unmarried/47\",\" Craft-repair/ Unmarried/47\",\" Exec-managerial/ Unmarried/47\",\" Farming-fishing/ Unmarried/47\",\" Handlers-cleaners/ Unmarried/47\",\" Machine-op-inspct/ Unmarried/47\",\" Other-service/ Unmarried/47\",\" Priv-house-serv/ Unmarried/47\",\" Prof-specialty/ Unmarried/47\",\" Sales/ Unmarried/47\",\" Tech-support/ Unmarried/47\",\" Transport-moving/ Unmarried/47\",\" ?/ Wife/47\",\" Adm-clerical/ Wife/47\",\" Exec-managerial/ Wife/47\",\" Handlers-cleaners/ Wife/47\",\" Machine-op-inspct/ Wife/47\",\" Other-service/ Wife/47\",\" Prof-specialty/ Wife/47\",\" Protective-serv/ Wife/47\",\" Tech-support/ Wife/47\",\" ?/ Husband/48\",\" Adm-clerical/ Husband/48\",\" Craft-repair/ Husband/48\",\" Exec-managerial/ Husband/48\",\" Farming-fishing/ Husband/48\",\" Handlers-cleaners/ Husband/48\",\" Machine-op-inspct/ Husband/48\",\" Other-service/ Husband/48\",\" Prof-specialty/ Husband/48\",\" Protective-serv/ Husband/48\",\" Sales/ Husband/48\",\" Tech-support/ Husband/48\",\" Transport-moving/ Husband/48\",\" ?/ Not-in-family/48\",\" Adm-clerical/ Not-in-family/48\",\" Craft-repair/ Not-in-family/48\",\" Exec-managerial/ Not-in-family/48\",\" Farming-fishing/ Not-in-family/48\",\" Handlers-cleaners/ Not-in-family/48\",\" Machine-op-inspct/ Not-in-family/48\",\" Other-service/ Not-in-family/48\",\" Priv-house-serv/ Not-in-family/48\",\" Prof-specialty/ Not-in-family/48\",\" Protective-serv/ Not-in-family/48\",\" Sales/ Not-in-family/48\",\" Transport-moving/ Not-in-family/48\",\" Adm-clerical/ Other-relative/48\",\" Craft-repair/ Other-relative/48\",\" Exec-managerial/ Other-relative/48\",\" Handlers-cleaners/ Other-relative/48\",\" Machine-op-inspct/ Other-relative/48\",\" Other-service/ Other-relative/48\",\" Prof-specialty/ Other-relative/48\",\" ?/ Own-child/48\",\" Adm-clerical/ Own-child/48\",\" Craft-repair/ Own-child/48\",\" Exec-managerial/ Own-child/48\",\" Handlers-cleaners/ Own-child/48\",\" Machine-op-inspct/ Own-child/48\",\" Other-service/ Own-child/48\",\" Prof-specialty/ Own-child/48\",\" Sales/ Own-child/48\",\" ?/ Unmarried/48\",\" Adm-clerical/ Unmarried/48\",\" Craft-repair/ Unmarried/48\",\" Exec-managerial/ Unmarried/48\",\" Handlers-cleaners/ Unmarried/48\",\" Machine-op-inspct/ Unmarried/48\",\" Other-service/ Unmarried/48\",\" Priv-house-serv/ Unmarried/48\",\" Prof-specialty/ Unmarried/48\",\" Protective-serv/ Unmarried/48\",\" Sales/ Unmarried/48\",\" Tech-support/ Unmarried/48\",\" Transport-moving/ Unmarried/48\",\" ?/ Wife/48\",\" Adm-clerical/ Wife/48\",\" Exec-managerial/ Wife/48\",\" Handlers-cleaners/ Wife/48\",\" Machine-op-inspct/ Wife/48\",\" Other-service/ Wife/48\",\" Prof-specialty/ Wife/48\",\" Sales/ Wife/48\",\" Tech-support/ Wife/48\",\" ?/ Husband/49\",\" Adm-clerical/ Husband/49\",\" Craft-repair/ Husband/49\",\" Exec-managerial/ Husband/49\",\" Farming-fishing/ Husband/49\",\" Handlers-cleaners/ Husband/49\",\" Machine-op-inspct/ Husband/49\",\" Other-service/ Husband/49\",\" Prof-specialty/ Husband/49\",\" Protective-serv/ Husband/49\",\" Sales/ Husband/49\",\" Tech-support/ Husband/49\",\" Transport-moving/ Husband/49\",\" ?/ Not-in-family/49\",\" Adm-clerical/ Not-in-family/49\",\" Craft-repair/ Not-in-family/49\",\" Exec-managerial/ Not-in-family/49\",\" Farming-fishing/ Not-in-family/49\",\" Handlers-cleaners/ Not-in-family/49\",\" Machine-op-inspct/ Not-in-family/49\",\" Other-service/ Not-in-family/49\",\" Priv-house-serv/ Not-in-family/49\",\" Prof-specialty/ Not-in-family/49\",\" Protective-serv/ Not-in-family/49\",\" Sales/ Not-in-family/49\",\" Tech-support/ Not-in-family/49\",\" Transport-moving/ Not-in-family/49\",\" ?/ Other-relative/49\",\" Machine-op-inspct/ Other-relative/49\",\" Other-service/ Other-relative/49\",\" Priv-house-serv/ Other-relative/49\",\" Prof-specialty/ Other-relative/49\",\" Sales/ Other-relative/49\",\" Tech-support/ Other-relative/49\",\" ?/ Own-child/49\",\" Adm-clerical/ Own-child/49\",\" Craft-repair/ Own-child/49\",\" Exec-managerial/ Own-child/49\",\" Handlers-cleaners/ Own-child/49\",\" Other-service/ Own-child/49\",\" Prof-specialty/ Own-child/49\",\" Sales/ Own-child/49\",\" ?/ Unmarried/49\",\" Adm-clerical/ Unmarried/49\",\" Craft-repair/ Unmarried/49\",\" Exec-managerial/ Unmarried/49\",\" Farming-fishing/ Unmarried/49\",\" Handlers-cleaners/ Unmarried/49\",\" Machine-op-inspct/ Unmarried/49\",\" Other-service/ Unmarried/49\",\" Prof-specialty/ Unmarried/49\",\" Sales/ Unmarried/49\",\" Tech-support/ Unmarried/49\",\" Transport-moving/ Unmarried/49\",\" ?/ Wife/49\",\" Adm-clerical/ Wife/49\",\" Craft-repair/ Wife/49\",\" Exec-managerial/ Wife/49\",\" Machine-op-inspct/ Wife/49\",\" Other-service/ Wife/49\",\" Prof-specialty/ Wife/49\",\" Sales/ Wife/49\",\" ?/ Husband/50\",\" Adm-clerical/ Husband/50\",\" Craft-repair/ Husband/50\",\" Exec-managerial/ Husband/50\",\" Farming-fishing/ Husband/50\",\" Handlers-cleaners/ Husband/50\",\" Machine-op-inspct/ Husband/50\",\" Other-service/ Husband/50\",\" Prof-specialty/ Husband/50\",\" Protective-serv/ Husband/50\",\" Sales/ Husband/50\",\" Tech-support/ Husband/50\",\" Transport-moving/ Husband/50\",\" ?/ Not-in-family/50\",\" Adm-clerical/ Not-in-family/50\",\" Craft-repair/ Not-in-family/50\",\" Exec-managerial/ Not-in-family/50\",\" Farming-fishing/ Not-in-family/50\",\" Handlers-cleaners/ Not-in-family/50\",\" Machine-op-inspct/ Not-in-family/50\",\" Other-service/ Not-in-family/50\",\" Prof-specialty/ Not-in-family/50\",\" Protective-serv/ Not-in-family/50\",\" Sales/ Not-in-family/50\",\" Tech-support/ Not-in-family/50\",\" Transport-moving/ Not-in-family/50\",\" ?/ Other-relative/50\",\" Adm-clerical/ Other-relative/50\",\" Exec-managerial/ Other-relative/50\",\" Machine-op-inspct/ Other-relative/50\",\" Other-service/ Other-relative/50\",\" Prof-specialty/ Other-relative/50\",\" ?/ Own-child/50\",\" Adm-clerical/ Own-child/50\",\" Craft-repair/ Own-child/50\",\" Handlers-cleaners/ Own-child/50\",\" Other-service/ Own-child/50\",\" Prof-specialty/ Own-child/50\",\" Tech-support/ Own-child/50\",\" ?/ Unmarried/50\",\" Adm-clerical/ Unmarried/50\",\" Craft-repair/ Unmarried/50\",\" Exec-managerial/ Unmarried/50\",\" Handlers-cleaners/ Unmarried/50\",\" Machine-op-inspct/ Unmarried/50\",\" Other-service/ Unmarried/50\",\" Prof-specialty/ Unmarried/50\",\" Sales/ Unmarried/50\",\" Tech-support/ Unmarried/50\",\" Transport-moving/ Unmarried/50\",\" Adm-clerical/ Wife/50\",\" Exec-managerial/ Wife/50\",\" Machine-op-inspct/ Wife/50\",\" Other-service/ Wife/50\",\" Prof-specialty/ Wife/50\",\" Sales/ Wife/50\",\" Tech-support/ Wife/50\",\" ?/ Husband/51\",\" Adm-clerical/ Husband/51\",\" Craft-repair/ Husband/51\",\" Exec-managerial/ Husband/51\",\" Farming-fishing/ Husband/51\",\" Handlers-cleaners/ Husband/51\",\" Machine-op-inspct/ Husband/51\",\" Other-service/ Husband/51\",\" Prof-specialty/ Husband/51\",\" Protective-serv/ Husband/51\",\" Sales/ Husband/51\",\" Tech-support/ Husband/51\",\" Transport-moving/ Husband/51\",\" ?/ Not-in-family/51\",\" Adm-clerical/ Not-in-family/51\",\" Craft-repair/ Not-in-family/51\",\" Exec-managerial/ Not-in-family/51\",\" Farming-fishing/ Not-in-family/51\",\" Handlers-cleaners/ Not-in-family/51\",\" Machine-op-inspct/ Not-in-family/51\",\" Other-service/ Not-in-family/51\",\" Prof-specialty/ Not-in-family/51\",\" Protective-serv/ Not-in-family/51\",\" Sales/ Not-in-family/51\",\" Tech-support/ Not-in-family/51\",\" Transport-moving/ Not-in-family/51\",\" Adm-clerical/ Other-relative/51\",\" Craft-repair/ Other-relative/51\",\" Exec-managerial/ Other-relative/51\",\" Other-service/ Other-relative/51\",\" Sales/ Other-relative/51\",\" Transport-moving/ Other-relative/51\",\" Adm-clerical/ Own-child/51\",\" Craft-repair/ Own-child/51\",\" Farming-fishing/ Own-child/51\",\" Handlers-cleaners/ Own-child/51\",\" Machine-op-inspct/ Own-child/51\",\" Priv-house-serv/ Own-child/51\",\" Prof-specialty/ Own-child/51\",\" Transport-moving/ Own-child/51\",\" ?/ Unmarried/51\",\" Adm-clerical/ Unmarried/51\",\" Craft-repair/ Unmarried/51\",\" Exec-managerial/ Unmarried/51\",\" Farming-fishing/ Unmarried/51\",\" Handlers-cleaners/ Unmarried/51\",\" Machine-op-inspct/ Unmarried/51\",\" Other-service/ Unmarried/51\",\" Prof-specialty/ Unmarried/51\",\" Protective-serv/ Unmarried/51\",\" Sales/ Unmarried/51\",\" Tech-support/ Unmarried/51\",\" Transport-moving/ Unmarried/51\",\" Adm-clerical/ Wife/51\",\" Exec-managerial/ Wife/51\",\" Machine-op-inspct/ Wife/51\",\" Other-service/ Wife/51\",\" Prof-specialty/ Wife/51\",\" Tech-support/ Wife/51\",\" ?/ Husband/52\",\" Adm-clerical/ Husband/52\",\" Craft-repair/ Husband/52\",\" Exec-managerial/ Husband/52\",\" Farming-fishing/ Husband/52\",\" Handlers-cleaners/ Husband/52\",\" Machine-op-inspct/ Husband/52\",\" Other-service/ Husband/52\",\" Prof-specialty/ Husband/52\",\" Protective-serv/ Husband/52\",\" Sales/ Husband/52\",\" Tech-support/ Husband/52\",\" Transport-moving/ Husband/52\",\" ?/ Not-in-family/52\",\" Adm-clerical/ Not-in-family/52\",\" Craft-repair/ Not-in-family/52\",\" Exec-managerial/ Not-in-family/52\",\" Farming-fishing/ Not-in-family/52\",\" Handlers-cleaners/ Not-in-family/52\",\" Machine-op-inspct/ Not-in-family/52\",\" Other-service/ Not-in-family/52\",\" Priv-house-serv/ Not-in-family/52\",\" Prof-specialty/ Not-in-family/52\",\" Sales/ Not-in-family/52\",\" Transport-moving/ Not-in-family/52\",\" ?/ Other-relative/52\",\" Adm-clerical/ Other-relative/52\",\" Craft-repair/ Other-relative/52\",\" Farming-fishing/ Other-relative/52\",\" Machine-op-inspct/ Other-relative/52\",\" Other-service/ Other-relative/52\",\" Priv-house-serv/ Other-relative/52\",\" Sales/ Other-relative/52\",\" Craft-repair/ Own-child/52\",\" Machine-op-inspct/ Own-child/52\",\" Other-service/ Own-child/52\",\" Priv-house-serv/ Own-child/52\",\" Prof-specialty/ Own-child/52\",\" ?/ Unmarried/52\",\" Adm-clerical/ Unmarried/52\",\" Craft-repair/ Unmarried/52\",\" Exec-managerial/ Unmarried/52\",\" Farming-fishing/ Unmarried/52\",\" Handlers-cleaners/ Unmarried/52\",\" Machine-op-inspct/ Unmarried/52\",\" Other-service/ Unmarried/52\",\" Prof-specialty/ Unmarried/52\",\" Protective-serv/ Unmarried/52\",\" Sales/ Unmarried/52\",\" Tech-support/ Unmarried/52\",\" Transport-moving/ Unmarried/52\",\" ?/ Wife/52\",\" Adm-clerical/ Wife/52\",\" Exec-managerial/ Wife/52\",\" Machine-op-inspct/ Wife/52\",\" Other-service/ Wife/52\",\" Prof-specialty/ Wife/52\",\" Sales/ Wife/52\",\" Transport-moving/ Wife/52\",\" ?/ Husband/53\",\" Adm-clerical/ Husband/53\",\" Craft-repair/ Husband/53\",\" Exec-managerial/ Husband/53\",\" Farming-fishing/ Husband/53\",\" Handlers-cleaners/ Husband/53\",\" Machine-op-inspct/ Husband/53\",\" Other-service/ Husband/53\",\" Prof-specialty/ Husband/53\",\" Protective-serv/ Husband/53\",\" Sales/ Husband/53\",\" Tech-support/ Husband/53\",\" Transport-moving/ Husband/53\",\" ?/ Not-in-family/53\",\" Adm-clerical/ Not-in-family/53\",\" Craft-repair/ Not-in-family/53\",\" Exec-managerial/ Not-in-family/53\",\" Farming-fishing/ Not-in-family/53\",\" Handlers-cleaners/ Not-in-family/53\",\" Machine-op-inspct/ Not-in-family/53\",\" Other-service/ Not-in-family/53\",\" Priv-house-serv/ Not-in-family/53\",\" Prof-specialty/ Not-in-family/53\",\" Protective-serv/ Not-in-family/53\",\" Sales/ Not-in-family/53\",\" Tech-support/ Not-in-family/53\",\" Transport-moving/ Not-in-family/53\",\" ?/ Other-relative/53\",\" Adm-clerical/ Other-relative/53\",\" Craft-repair/ Other-relative/53\",\" Other-service/ Other-relative/53\",\" Priv-house-serv/ Other-relative/53\",\" Transport-moving/ Other-relative/53\",\" Adm-clerical/ Own-child/53\",\" Exec-managerial/ Own-child/53\",\" Farming-fishing/ Own-child/53\",\" Machine-op-inspct/ Own-child/53\",\" Other-service/ Own-child/53\",\" Sales/ Own-child/53\",\" ?/ Unmarried/53\",\" Adm-clerical/ Unmarried/53\",\" Craft-repair/ Unmarried/53\",\" Exec-managerial/ Unmarried/53\",\" Machine-op-inspct/ Unmarried/53\",\" Other-service/ Unmarried/53\",\" Prof-specialty/ Unmarried/53\",\" Sales/ Unmarried/53\",\" Tech-support/ Unmarried/53\",\" Transport-moving/ Unmarried/53\",\" ?/ Wife/53\",\" Adm-clerical/ Wife/53\",\" Exec-managerial/ Wife/53\",\" Machine-op-inspct/ Wife/53\",\" Other-service/ Wife/53\",\" Priv-house-serv/ Wife/53\",\" Prof-specialty/ Wife/53\",\" Sales/ Wife/53\",\" ?/ Husband/54\",\" Adm-clerical/ Husband/54\",\" Craft-repair/ Husband/54\",\" Exec-managerial/ Husband/54\",\" Farming-fishing/ Husband/54\",\" Handlers-cleaners/ Husband/54\",\" Machine-op-inspct/ Husband/54\",\" Other-service/ Husband/54\",\" Prof-specialty/ Husband/54\",\" Protective-serv/ Husband/54\",\" Sales/ Husband/54\",\" Tech-support/ Husband/54\",\" Transport-moving/ Husband/54\",\" ?/ Not-in-family/54\",\" Adm-clerical/ Not-in-family/54\",\" Craft-repair/ Not-in-family/54\",\" Exec-managerial/ Not-in-family/54\",\" Farming-fishing/ Not-in-family/54\",\" Machine-op-inspct/ Not-in-family/54\",\" Other-service/ Not-in-family/54\",\" Prof-specialty/ Not-in-family/54\",\" Sales/ Not-in-family/54\",\" Tech-support/ Not-in-family/54\",\" Transport-moving/ Not-in-family/54\",\" ?/ Other-relative/54\",\" Adm-clerical/ Other-relative/54\",\" Other-service/ Other-relative/54\",\" Priv-house-serv/ Other-relative/54\",\" Prof-specialty/ Other-relative/54\",\" Tech-support/ Other-relative/54\",\" ?/ Own-child/54\",\" Craft-repair/ Own-child/54\",\" Handlers-cleaners/ Own-child/54\",\" Other-service/ Own-child/54\",\" Adm-clerical/ Unmarried/54\",\" Craft-repair/ Unmarried/54\",\" Exec-managerial/ Unmarried/54\",\" Farming-fishing/ Unmarried/54\",\" Handlers-cleaners/ Unmarried/54\",\" Machine-op-inspct/ Unmarried/54\",\" Other-service/ Unmarried/54\",\" Priv-house-serv/ Unmarried/54\",\" Prof-specialty/ Unmarried/54\",\" Sales/ Unmarried/54\",\" Transport-moving/ Unmarried/54\",\" ?/ Wife/54\",\" Adm-clerical/ Wife/54\",\" Craft-repair/ Wife/54\",\" Exec-managerial/ Wife/54\",\" Machine-op-inspct/ Wife/54\",\" Other-service/ Wife/54\",\" Prof-specialty/ Wife/54\",\" Sales/ Wife/54\",\" ?/ Husband/55\",\" Adm-clerical/ Husband/55\",\" Craft-repair/ Husband/55\",\" Exec-managerial/ Husband/55\",\" Farming-fishing/ Husband/55\",\" Handlers-cleaners/ Husband/55\",\" Machine-op-inspct/ Husband/55\",\" Other-service/ Husband/55\",\" Prof-specialty/ Husband/55\",\" Protective-serv/ Husband/55\",\" Sales/ Husband/55\",\" Tech-support/ Husband/55\",\" Transport-moving/ Husband/55\",\" ?/ Not-in-family/55\",\" Adm-clerical/ Not-in-family/55\",\" Craft-repair/ Not-in-family/55\",\" Exec-managerial/ Not-in-family/55\",\" Farming-fishing/ Not-in-family/55\",\" Handlers-cleaners/ Not-in-family/55\",\" Machine-op-inspct/ Not-in-family/55\",\" Other-service/ Not-in-family/55\",\" Priv-house-serv/ Not-in-family/55\",\" Prof-specialty/ Not-in-family/55\",\" Protective-serv/ Not-in-family/55\",\" Sales/ Not-in-family/55\",\" Tech-support/ Not-in-family/55\",\" Transport-moving/ Not-in-family/55\",\" Adm-clerical/ Other-relative/55\",\" Craft-repair/ Other-relative/55\",\" Handlers-cleaners/ Other-relative/55\",\" Machine-op-inspct/ Other-relative/55\",\" Other-service/ Other-relative/55\",\" Prof-specialty/ Other-relative/55\",\" Tech-support/ Other-relative/55\",\" ?/ Own-child/55\",\" Adm-clerical/ Own-child/55\",\" Craft-repair/ Own-child/55\",\" Farming-fishing/ Own-child/55\",\" Machine-op-inspct/ Own-child/55\",\" Sales/ Own-child/55\",\" ?/ Unmarried/55\",\" Adm-clerical/ Unmarried/55\",\" Craft-repair/ Unmarried/55\",\" Exec-managerial/ Unmarried/55\",\" Farming-fishing/ Unmarried/55\",\" Handlers-cleaners/ Unmarried/55\",\" Machine-op-inspct/ Unmarried/55\",\" Other-service/ Unmarried/55\",\" Priv-house-serv/ Unmarried/55\",\" Prof-specialty/ Unmarried/55\",\" Sales/ Unmarried/55\",\" ?/ Wife/55\",\" Adm-clerical/ Wife/55\",\" Exec-managerial/ Wife/55\",\" Other-service/ Wife/55\",\" Priv-house-serv/ Wife/55\",\" Prof-specialty/ Wife/55\",\" Sales/ Wife/55\",\" Tech-support/ Wife/55\",\" ?/ Husband/56\",\" Adm-clerical/ Husband/56\",\" Craft-repair/ Husband/56\",\" Exec-managerial/ Husband/56\",\" Farming-fishing/ Husband/56\",\" Handlers-cleaners/ Husband/56\",\" Machine-op-inspct/ Husband/56\",\" Other-service/ Husband/56\",\" Prof-specialty/ Husband/56\",\" Sales/ Husband/56\",\" Tech-support/ Husband/56\",\" Transport-moving/ Husband/56\",\" ?/ Not-in-family/56\",\" Adm-clerical/ Not-in-family/56\",\" Craft-repair/ Not-in-family/56\",\" Exec-managerial/ Not-in-family/56\",\" Farming-fishing/ Not-in-family/56\",\" Handlers-cleaners/ Not-in-family/56\",\" Machine-op-inspct/ Not-in-family/56\",\" Other-service/ Not-in-family/56\",\" Prof-specialty/ Not-in-family/56\",\" Protective-serv/ Not-in-family/56\",\" Sales/ Not-in-family/56\",\" Tech-support/ Not-in-family/56\",\" Transport-moving/ Not-in-family/56\",\" Adm-clerical/ Other-relative/56\",\" Craft-repair/ Other-relative/56\",\" Exec-managerial/ Other-relative/56\",\" Sales/ Other-relative/56\",\" ?/ Own-child/56\",\" Handlers-cleaners/ Own-child/56\",\" Other-service/ Own-child/56\",\" Sales/ Own-child/56\",\" ?/ Unmarried/56\",\" Adm-clerical/ Unmarried/56\",\" Craft-repair/ Unmarried/56\",\" Exec-managerial/ Unmarried/56\",\" Farming-fishing/ Unmarried/56\",\" Machine-op-inspct/ Unmarried/56\",\" Other-service/ Unmarried/56\",\" Prof-specialty/ Unmarried/56\",\" Sales/ Unmarried/56\",\" Tech-support/ Unmarried/56\",\" Transport-moving/ Unmarried/56\",\" Adm-clerical/ Wife/56\",\" Exec-managerial/ Wife/56\",\" Farming-fishing/ Wife/56\",\" Machine-op-inspct/ Wife/56\",\" Other-service/ Wife/56\",\" Prof-specialty/ Wife/56\",\" Sales/ Wife/56\",\" ?/ Husband/57\",\" Adm-clerical/ Husband/57\",\" Craft-repair/ Husband/57\",\" Exec-managerial/ Husband/57\",\" Farming-fishing/ Husband/57\",\" Handlers-cleaners/ Husband/57\",\" Machine-op-inspct/ Husband/57\",\" Other-service/ Husband/57\",\" Prof-specialty/ Husband/57\",\" Protective-serv/ Husband/57\",\" Sales/ Husband/57\",\" Tech-support/ Husband/57\",\" Transport-moving/ Husband/57\",\" ?/ Not-in-family/57\",\" Adm-clerical/ Not-in-family/57\",\" Craft-repair/ Not-in-family/57\",\" Exec-managerial/ Not-in-family/57\",\" Farming-fishing/ Not-in-family/57\",\" Handlers-cleaners/ Not-in-family/57\",\" Machine-op-inspct/ Not-in-family/57\",\" Other-service/ Not-in-family/57\",\" Priv-house-serv/ Not-in-family/57\",\" Prof-specialty/ Not-in-family/57\",\" Protective-serv/ Not-in-family/57\",\" Sales/ Not-in-family/57\",\" Tech-support/ Not-in-family/57\",\" Transport-moving/ Not-in-family/57\",\" Adm-clerical/ Other-relative/57\",\" Craft-repair/ Other-relative/57\",\" Exec-managerial/ Other-relative/57\",\" Other-service/ Other-relative/57\",\" Sales/ Other-relative/57\",\" ?/ Own-child/57\",\" Adm-clerical/ Own-child/57\",\" Exec-managerial/ Own-child/57\",\" Handlers-cleaners/ Own-child/57\",\" ?/ Unmarried/57\",\" Adm-clerical/ Unmarried/57\",\" Craft-repair/ Unmarried/57\",\" Exec-managerial/ Unmarried/57\",\" Farming-fishing/ Unmarried/57\",\" Machine-op-inspct/ Unmarried/57\",\" Other-service/ Unmarried/57\",\" Prof-specialty/ Unmarried/57\",\" Sales/ Unmarried/57\",\" Transport-moving/ Unmarried/57\",\" ?/ Wife/57\",\" Adm-clerical/ Wife/57\",\" Craft-repair/ Wife/57\",\" Exec-managerial/ Wife/57\",\" Prof-specialty/ Wife/57\",\" Sales/ Wife/57\",\" ?/ Husband/58\",\" Adm-clerical/ Husband/58\",\" Craft-repair/ Husband/58\",\" Exec-managerial/ Husband/58\",\" Farming-fishing/ Husband/58\",\" Handlers-cleaners/ Husband/58\",\" Machine-op-inspct/ Husband/58\",\" Other-service/ Husband/58\",\" Prof-specialty/ Husband/58\",\" Protective-serv/ Husband/58\",\" Sales/ Husband/58\",\" Tech-support/ Husband/58\",\" Transport-moving/ Husband/58\",\" ?/ Not-in-family/58\",\" Adm-clerical/ Not-in-family/58\",\" Craft-repair/ Not-in-family/58\",\" Exec-managerial/ Not-in-family/58\",\" Farming-fishing/ Not-in-family/58\",\" Handlers-cleaners/ Not-in-family/58\",\" Machine-op-inspct/ Not-in-family/58\",\" Other-service/ Not-in-family/58\",\" Prof-specialty/ Not-in-family/58\",\" Sales/ Not-in-family/58\",\" Tech-support/ Not-in-family/58\",\" Transport-moving/ Not-in-family/58\",\" Farming-fishing/ Other-relative/58\",\" Other-service/ Other-relative/58\",\" Priv-house-serv/ Other-relative/58\",\" Sales/ Other-relative/58\",\" Transport-moving/ Other-relative/58\",\" Craft-repair/ Own-child/58\",\" Farming-fishing/ Own-child/58\",\" Handlers-cleaners/ Own-child/58\",\" Machine-op-inspct/ Own-child/58\",\" Other-service/ Own-child/58\",\" Transport-moving/ Own-child/58\",\" ?/ Unmarried/58\",\" Adm-clerical/ Unmarried/58\",\" Craft-repair/ Unmarried/58\",\" Exec-managerial/ Unmarried/58\",\" Farming-fishing/ Unmarried/58\",\" Handlers-cleaners/ Unmarried/58\",\" Other-service/ Unmarried/58\",\" Prof-specialty/ Unmarried/58\",\" Sales/ Unmarried/58\",\" ?/ Wife/58\",\" Adm-clerical/ Wife/58\",\" Craft-repair/ Wife/58\",\" Exec-managerial/ Wife/58\",\" Other-service/ Wife/58\",\" Prof-specialty/ Wife/58\",\" Sales/ Wife/58\",\" Transport-moving/ Wife/58\",\" ?/ Husband/59\",\" Adm-clerical/ Husband/59\",\" Craft-repair/ Husband/59\",\" Exec-managerial/ Husband/59\",\" Farming-fishing/ Husband/59\",\" Handlers-cleaners/ Husband/59\",\" Machine-op-inspct/ Husband/59\",\" Other-service/ Husband/59\",\" Prof-specialty/ Husband/59\",\" Protective-serv/ Husband/59\",\" Sales/ Husband/59\",\" Tech-support/ Husband/59\",\" Transport-moving/ Husband/59\",\" ?/ Not-in-family/59\",\" Adm-clerical/ Not-in-family/59\",\" Craft-repair/ Not-in-family/59\",\" Exec-managerial/ Not-in-family/59\",\" Farming-fishing/ Not-in-family/59\",\" Handlers-cleaners/ Not-in-family/59\",\" Machine-op-inspct/ Not-in-family/59\",\" Other-service/ Not-in-family/59\",\" Priv-house-serv/ Not-in-family/59\",\" Prof-specialty/ Not-in-family/59\",\" Protective-serv/ Not-in-family/59\",\" Sales/ Not-in-family/59\",\" Tech-support/ Not-in-family/59\",\" Transport-moving/ Not-in-family/59\",\" Adm-clerical/ Other-relative/59\",\" Other-service/ Other-relative/59\",\" Protective-serv/ Other-relative/59\",\" Transport-moving/ Other-relative/59\",\" Adm-clerical/ Own-child/59\",\" Exec-managerial/ Own-child/59\",\" Machine-op-inspct/ Own-child/59\",\" Other-service/ Own-child/59\",\" ?/ Unmarried/59\",\" Adm-clerical/ Unmarried/59\",\" Craft-repair/ Unmarried/59\",\" Exec-managerial/ Unmarried/59\",\" Farming-fishing/ Unmarried/59\",\" Machine-op-inspct/ Unmarried/59\",\" Other-service/ Unmarried/59\",\" Prof-specialty/ Unmarried/59\",\" Protective-serv/ Unmarried/59\",\" Sales/ Unmarried/59\",\" Tech-support/ Unmarried/59\",\" ?/ Wife/59\",\" Adm-clerical/ Wife/59\",\" Craft-repair/ Wife/59\",\" Exec-managerial/ Wife/59\",\" Machine-op-inspct/ Wife/59\",\" Other-service/ Wife/59\",\" Prof-specialty/ Wife/59\",\" Sales/ Wife/59\",\" ?/ Husband/60\",\" Adm-clerical/ Husband/60\",\" Craft-repair/ Husband/60\",\" Exec-managerial/ Husband/60\",\" Farming-fishing/ Husband/60\",\" Handlers-cleaners/ Husband/60\",\" Machine-op-inspct/ Husband/60\",\" Other-service/ Husband/60\",\" Prof-specialty/ Husband/60\",\" Protective-serv/ Husband/60\",\" Sales/ Husband/60\",\" Tech-support/ Husband/60\",\" Transport-moving/ Husband/60\",\" ?/ Not-in-family/60\",\" Adm-clerical/ Not-in-family/60\",\" Craft-repair/ Not-in-family/60\",\" Exec-managerial/ Not-in-family/60\",\" Farming-fishing/ Not-in-family/60\",\" Handlers-cleaners/ Not-in-family/60\",\" Machine-op-inspct/ Not-in-family/60\",\" Other-service/ Not-in-family/60\",\" Prof-specialty/ Not-in-family/60\",\" Protective-serv/ Not-in-family/60\",\" Sales/ Not-in-family/60\",\" Transport-moving/ Not-in-family/60\",\" Adm-clerical/ Other-relative/60\",\" Prof-specialty/ Other-relative/60\",\" Craft-repair/ Own-child/60\",\" Exec-managerial/ Own-child/60\",\" ?/ Unmarried/60\",\" Adm-clerical/ Unmarried/60\",\" Craft-repair/ Unmarried/60\",\" Exec-managerial/ Unmarried/60\",\" Farming-fishing/ Unmarried/60\",\" Machine-op-inspct/ Unmarried/60\",\" Other-service/ Unmarried/60\",\" Priv-house-serv/ Unmarried/60\",\" Prof-specialty/ Unmarried/60\",\" Sales/ Unmarried/60\",\" Tech-support/ Unmarried/60\",\" Transport-moving/ Unmarried/60\",\" Adm-clerical/ Wife/60\",\" Exec-managerial/ Wife/60\",\" Machine-op-inspct/ Wife/60\",\" Other-service/ Wife/60\",\" Prof-specialty/ Wife/60\",\" Sales/ Wife/60\",\" Tech-support/ Wife/60\",\" Transport-moving/ Wife/60\",\" ?/ Husband/61\",\" Adm-clerical/ Husband/61\",\" Craft-repair/ Husband/61\",\" Exec-managerial/ Husband/61\",\" Farming-fishing/ Husband/61\",\" Handlers-cleaners/ Husband/61\",\" Machine-op-inspct/ Husband/61\",\" Other-service/ Husband/61\",\" Prof-specialty/ Husband/61\",\" Protective-serv/ Husband/61\",\" Sales/ Husband/61\",\" Tech-support/ Husband/61\",\" Transport-moving/ Husband/61\",\" ?/ Not-in-family/61\",\" Adm-clerical/ Not-in-family/61\",\" Craft-repair/ Not-in-family/61\",\" Exec-managerial/ Not-in-family/61\",\" Farming-fishing/ Not-in-family/61\",\" Handlers-cleaners/ Not-in-family/61\",\" Machine-op-inspct/ Not-in-family/61\",\" Other-service/ Not-in-family/61\",\" Priv-house-serv/ Not-in-family/61\",\" Prof-specialty/ Not-in-family/61\",\" Sales/ Not-in-family/61\",\" Transport-moving/ Not-in-family/61\",\" Adm-clerical/ Other-relative/61\",\" Farming-fishing/ Other-relative/61\",\" Other-service/ Other-relative/61\",\" Adm-clerical/ Own-child/61\",\" Tech-support/ Own-child/61\",\" ?/ Unmarried/61\",\" Adm-clerical/ Unmarried/61\",\" Exec-managerial/ Unmarried/61\",\" Farming-fishing/ Unmarried/61\",\" Machine-op-inspct/ Unmarried/61\",\" Other-service/ Unmarried/61\",\" Prof-specialty/ Unmarried/61\",\" Sales/ Unmarried/61\",\" Transport-moving/ Unmarried/61\",\" Adm-clerical/ Wife/61\",\" Exec-managerial/ Wife/61\",\" Farming-fishing/ Wife/61\",\" Other-service/ Wife/61\",\" Tech-support/ Wife/61\",\" ?/ Husband/62\",\" Adm-clerical/ Husband/62\",\" Craft-repair/ Husband/62\",\" Exec-managerial/ Husband/62\",\" Farming-fishing/ Husband/62\",\" Handlers-cleaners/ Husband/62\",\" Machine-op-inspct/ Husband/62\",\" Other-service/ Husband/62\",\" Prof-specialty/ Husband/62\",\" Protective-serv/ Husband/62\",\" Sales/ Husband/62\",\" Tech-support/ Husband/62\",\" Transport-moving/ Husband/62\",\" ?/ Not-in-family/62\",\" Adm-clerical/ Not-in-family/62\",\" Craft-repair/ Not-in-family/62\",\" Exec-managerial/ Not-in-family/62\",\" Farming-fishing/ Not-in-family/62\",\" Handlers-cleaners/ Not-in-family/62\",\" Machine-op-inspct/ Not-in-family/62\",\" Other-service/ Not-in-family/62\",\" Priv-house-serv/ Not-in-family/62\",\" Prof-specialty/ Not-in-family/62\",\" Protective-serv/ Not-in-family/62\",\" Sales/ Not-in-family/62\",\" Adm-clerical/ Other-relative/62\",\" Farming-fishing/ Other-relative/62\",\" Handlers-cleaners/ Other-relative/62\",\" Other-service/ Other-relative/62\",\" Transport-moving/ Other-relative/62\",\" Craft-repair/ Own-child/62\",\" Other-service/ Own-child/62\",\" ?/ Unmarried/62\",\" Adm-clerical/ Unmarried/62\",\" Craft-repair/ Unmarried/62\",\" Exec-managerial/ Unmarried/62\",\" Farming-fishing/ Unmarried/62\",\" Other-service/ Unmarried/62\",\" Priv-house-serv/ Unmarried/62\",\" Prof-specialty/ Unmarried/62\",\" Sales/ Unmarried/62\",\" Tech-support/ Unmarried/62\",\" ?/ Wife/62\",\" Adm-clerical/ Wife/62\",\" Exec-managerial/ Wife/62\",\" Prof-specialty/ Wife/62\",\" Sales/ Wife/62\",\" ?/ Husband/63\",\" Adm-clerical/ Husband/63\",\" Craft-repair/ Husband/63\",\" Exec-managerial/ Husband/63\",\" Farming-fishing/ Husband/63\",\" Handlers-cleaners/ Husband/63\",\" Machine-op-inspct/ Husband/63\",\" Other-service/ Husband/63\",\" Prof-specialty/ Husband/63\",\" Protective-serv/ Husband/63\",\" Sales/ Husband/63\",\" Tech-support/ Husband/63\",\" Transport-moving/ Husband/63\",\" ?/ Not-in-family/63\",\" Adm-clerical/ Not-in-family/63\",\" Craft-repair/ Not-in-family/63\",\" Exec-managerial/ Not-in-family/63\",\" Farming-fishing/ Not-in-family/63\",\" Handlers-cleaners/ Not-in-family/63\",\" Machine-op-inspct/ Not-in-family/63\",\" Other-service/ Not-in-family/63\",\" Prof-specialty/ Not-in-family/63\",\" Protective-serv/ Not-in-family/63\",\" Sales/ Not-in-family/63\",\" Tech-support/ Not-in-family/63\",\" Transport-moving/ Not-in-family/63\",\" Adm-clerical/ Other-relative/63\",\" Machine-op-inspct/ Other-relative/63\",\" Other-service/ Other-relative/63\",\" Exec-managerial/ Own-child/63\",\" Adm-clerical/ Unmarried/63\",\" Craft-repair/ Unmarried/63\",\" Exec-managerial/ Unmarried/63\",\" Farming-fishing/ Unmarried/63\",\" Machine-op-inspct/ Unmarried/63\",\" Other-service/ Unmarried/63\",\" Sales/ Unmarried/63\",\" Transport-moving/ Unmarried/63\",\" ?/ Wife/63\",\" Adm-clerical/ Wife/63\",\" Exec-managerial/ Wife/63\",\" Prof-specialty/ Wife/63\",\" Sales/ Wife/63\",\" Transport-moving/ Wife/63\",\" ?/ Husband/64\",\" Adm-clerical/ Husband/64\",\" Craft-repair/ Husband/64\",\" Exec-managerial/ Husband/64\",\" Farming-fishing/ Husband/64\",\" Handlers-cleaners/ Husband/64\",\" Machine-op-inspct/ Husband/64\",\" Other-service/ Husband/64\",\" Prof-specialty/ Husband/64\",\" Protective-serv/ Husband/64\",\" Sales/ Husband/64\",\" Tech-support/ Husband/64\",\" Transport-moving/ Husband/64\",\" ?/ Not-in-family/64\",\" Adm-clerical/ Not-in-family/64\",\" Craft-repair/ Not-in-family/64\",\" Exec-managerial/ Not-in-family/64\",\" Machine-op-inspct/ Not-in-family/64\",\" Other-service/ Not-in-family/64\",\" Priv-house-serv/ Not-in-family/64\",\" Prof-specialty/ Not-in-family/64\",\" Sales/ Not-in-family/64\",\" Tech-support/ Not-in-family/64\",\" Transport-moving/ Not-in-family/64\",\" Adm-clerical/ Other-relative/64\",\" Other-service/ Other-relative/64\",\" Prof-specialty/ Other-relative/64\",\" ?/ Unmarried/64\",\" Adm-clerical/ Unmarried/64\",\" Craft-repair/ Unmarried/64\",\" Exec-managerial/ Unmarried/64\",\" Farming-fishing/ Unmarried/64\",\" Other-service/ Unmarried/64\",\" Sales/ Unmarried/64\",\" Tech-support/ Unmarried/64\",\" Transport-moving/ Unmarried/64\",\" ?/ Wife/64\",\" Adm-clerical/ Wife/64\",\" Exec-managerial/ Wife/64\",\" Other-service/ Wife/64\",\" Prof-specialty/ Wife/64\",\" Sales/ Wife/64\",\" ?/ Husband/65\",\" Adm-clerical/ Husband/65\",\" Craft-repair/ Husband/65\",\" Exec-managerial/ Husband/65\",\" Farming-fishing/ Husband/65\",\" Handlers-cleaners/ Husband/65\",\" Machine-op-inspct/ Husband/65\",\" Other-service/ Husband/65\",\" Prof-specialty/ Husband/65\",\" Protective-serv/ Husband/65\",\" Sales/ Husband/65\",\" Tech-support/ Husband/65\",\" Transport-moving/ Husband/65\",\" ?/ Not-in-family/65\",\" Adm-clerical/ Not-in-family/65\",\" Craft-repair/ Not-in-family/65\",\" Exec-managerial/ Not-in-family/65\",\" Handlers-cleaners/ Not-in-family/65\",\" Machine-op-inspct/ Not-in-family/65\",\" Other-service/ Not-in-family/65\",\" Prof-specialty/ Not-in-family/65\",\" Protective-serv/ Not-in-family/65\",\" Sales/ Not-in-family/65\",\" ?/ Other-relative/65\",\" Craft-repair/ Other-relative/65\",\" Exec-managerial/ Other-relative/65\",\" Machine-op-inspct/ Other-relative/65\",\" Other-service/ Other-relative/65\",\" Sales/ Other-relative/65\",\" ?/ Unmarried/65\",\" Adm-clerical/ Unmarried/65\",\" Craft-repair/ Unmarried/65\",\" Exec-managerial/ Unmarried/65\",\" Farming-fishing/ Unmarried/65\",\" Other-service/ Unmarried/65\",\" Priv-house-serv/ Unmarried/65\",\" Sales/ Unmarried/65\",\" ?/ Wife/65\",\" Adm-clerical/ Wife/65\",\" Exec-managerial/ Wife/65\",\" ?/ Husband/66\",\" Adm-clerical/ Husband/66\",\" Craft-repair/ Husband/66\",\" Exec-managerial/ Husband/66\",\" Farming-fishing/ Husband/66\",\" Handlers-cleaners/ Husband/66\",\" Machine-op-inspct/ Husband/66\",\" Other-service/ Husband/66\",\" Prof-specialty/ Husband/66\",\" Protective-serv/ Husband/66\",\" Sales/ Husband/66\",\" Tech-support/ Husband/66\",\" Transport-moving/ Husband/66\",\" ?/ Not-in-family/66\",\" Adm-clerical/ Not-in-family/66\",\" Craft-repair/ Not-in-family/66\",\" Exec-managerial/ Not-in-family/66\",\" Machine-op-inspct/ Not-in-family/66\",\" Other-service/ Not-in-family/66\",\" Priv-house-serv/ Not-in-family/66\",\" Prof-specialty/ Not-in-family/66\",\" Sales/ Not-in-family/66\",\" Tech-support/ Not-in-family/66\",\" Transport-moving/ Not-in-family/66\",\" ?/ Other-relative/66\",\" Other-service/ Other-relative/66\",\" Priv-house-serv/ Other-relative/66\",\" Sales/ Other-relative/66\",\" ?/ Unmarried/66\",\" Adm-clerical/ Unmarried/66\",\" Farming-fishing/ Unmarried/66\",\" Handlers-cleaners/ Unmarried/66\",\" Other-service/ Unmarried/66\",\" Prof-specialty/ Unmarried/66\",\" Sales/ Unmarried/66\",\" ?/ Wife/66\",\" Adm-clerical/ Wife/66\",\" ?/ Husband/67\",\" Adm-clerical/ Husband/67\",\" Craft-repair/ Husband/67\",\" Exec-managerial/ Husband/67\",\" Farming-fishing/ Husband/67\",\" Handlers-cleaners/ Husband/67\",\" Prof-specialty/ Husband/67\",\" Protective-serv/ Husband/67\",\" Sales/ Husband/67\",\" Tech-support/ Husband/67\",\" Transport-moving/ Husband/67\",\" ?/ Not-in-family/67\",\" Adm-clerical/ Not-in-family/67\",\" Exec-managerial/ Not-in-family/67\",\" Farming-fishing/ Not-in-family/67\",\" Machine-op-inspct/ Not-in-family/67\",\" Other-service/ Not-in-family/67\",\" Prof-specialty/ Not-in-family/67\",\" Protective-serv/ Not-in-family/67\",\" Sales/ Not-in-family/67\",\" Transport-moving/ Not-in-family/67\",\" ?/ Other-relative/67\",\" Exec-managerial/ Other-relative/67\",\" Handlers-cleaners/ Other-relative/67\",\" Machine-op-inspct/ Other-relative/67\",\" ?/ Own-child/67\",\" ?/ Unmarried/67\",\" Adm-clerical/ Unmarried/67\",\" Exec-managerial/ Unmarried/67\",\" Other-service/ Unmarried/67\",\" Prof-specialty/ Unmarried/67\",\" ?/ Wife/67\",\" Adm-clerical/ Wife/67\",\" Exec-managerial/ Wife/67\",\" Priv-house-serv/ Wife/67\",\" Prof-specialty/ Wife/67\",\" ?/ Husband/68\",\" Adm-clerical/ Husband/68\",\" Craft-repair/ Husband/68\",\" Exec-managerial/ Husband/68\",\" Farming-fishing/ Husband/68\",\" Handlers-cleaners/ Husband/68\",\" Other-service/ Husband/68\",\" Prof-specialty/ Husband/68\",\" Protective-serv/ Husband/68\",\" Sales/ Husband/68\",\" Transport-moving/ Husband/68\",\" ?/ Not-in-family/68\",\" Adm-clerical/ Not-in-family/68\",\" Exec-managerial/ Not-in-family/68\",\" Farming-fishing/ Not-in-family/68\",\" Machine-op-inspct/ Not-in-family/68\",\" Other-service/ Not-in-family/68\",\" Prof-specialty/ Not-in-family/68\",\" Protective-serv/ Not-in-family/68\",\" Sales/ Not-in-family/68\",\" Transport-moving/ Not-in-family/68\",\" Adm-clerical/ Other-relative/68\",\" Priv-house-serv/ Other-relative/68\",\" ?/ Unmarried/68\",\" Adm-clerical/ Unmarried/68\",\" Farming-fishing/ Unmarried/68\",\" Other-service/ Unmarried/68\",\" Prof-specialty/ Unmarried/68\",\" ?/ Wife/68\",\" ?/ Husband/69\",\" Adm-clerical/ Husband/69\",\" Craft-repair/ Husband/69\",\" Exec-managerial/ Husband/69\",\" Farming-fishing/ Husband/69\",\" Handlers-cleaners/ Husband/69\",\" Machine-op-inspct/ Husband/69\",\" Other-service/ Husband/69\",\" Prof-specialty/ Husband/69\",\" Protective-serv/ Husband/69\",\" Sales/ Husband/69\",\" Tech-support/ Husband/69\",\" Transport-moving/ Husband/69\",\" ?/ Not-in-family/69\",\" Adm-clerical/ Not-in-family/69\",\" Exec-managerial/ Not-in-family/69\",\" Farming-fishing/ Not-in-family/69\",\" Handlers-cleaners/ Not-in-family/69\",\" Machine-op-inspct/ Not-in-family/69\",\" Other-service/ Not-in-family/69\",\" Priv-house-serv/ Not-in-family/69\",\" Prof-specialty/ Not-in-family/69\",\" Sales/ Not-in-family/69\",\" Transport-moving/ Not-in-family/69\",\" Craft-repair/ Other-relative/69\",\" Farming-fishing/ Other-relative/69\",\" ?/ Unmarried/69\",\" Adm-clerical/ Unmarried/69\",\" Machine-op-inspct/ Unmarried/69\",\" Transport-moving/ Unmarried/69\",\" ?/ Wife/69\",\" Other-service/ Wife/69\",\" Sales/ Wife/69\",\" ?/ Husband/70\",\" Adm-clerical/ Husband/70\",\" Craft-repair/ Husband/70\",\" Exec-managerial/ Husband/70\",\" Farming-fishing/ Husband/70\",\" Handlers-cleaners/ Husband/70\",\" Machine-op-inspct/ Husband/70\",\" Other-service/ Husband/70\",\" Prof-specialty/ Husband/70\",\" Sales/ Husband/70\",\" Tech-support/ Husband/70\",\" Transport-moving/ Husband/70\",\" ?/ Not-in-family/70\",\" Adm-clerical/ Not-in-family/70\",\" Exec-managerial/ Not-in-family/70\",\" Farming-fishing/ Not-in-family/70\",\" Other-service/ Not-in-family/70\",\" Protective-serv/ Not-in-family/70\",\" Sales/ Not-in-family/70\",\" Machine-op-inspct/ Other-relative/70\",\" Other-service/ Other-relative/70\",\" Tech-support/ Other-relative/70\",\" ?/ Unmarried/70\",\" Adm-clerical/ Unmarried/70\",\" Craft-repair/ Unmarried/70\",\" Exec-managerial/ Unmarried/70\",\" Other-service/ Unmarried/70\",\" Prof-specialty/ Unmarried/70\",\" Adm-clerical/ Wife/70\",\" Machine-op-inspct/ Wife/70\",\" ?/ Husband/71\",\" Craft-repair/ Husband/71\",\" Exec-managerial/ Husband/71\",\" Farming-fishing/ Husband/71\",\" Machine-op-inspct/ Husband/71\",\" Other-service/ Husband/71\",\" Prof-specialty/ Husband/71\",\" Protective-serv/ Husband/71\",\" Sales/ Husband/71\",\" Transport-moving/ Husband/71\",\" ?/ Not-in-family/71\",\" Adm-clerical/ Not-in-family/71\",\" Craft-repair/ Not-in-family/71\",\" Exec-managerial/ Not-in-family/71\",\" Handlers-cleaners/ Not-in-family/71\",\" Other-service/ Not-in-family/71\",\" Priv-house-serv/ Not-in-family/71\",\" Prof-specialty/ Not-in-family/71\",\" Sales/ Not-in-family/71\",\" Transport-moving/ Not-in-family/71\",\" ?/ Other-relative/71\",\" Exec-managerial/ Other-relative/71\",\" Sales/ Other-relative/71\",\" Tech-support/ Own-child/71\",\" ?/ Unmarried/71\",\" Craft-repair/ Unmarried/71\",\" Prof-specialty/ Unmarried/71\",\" Sales/ Unmarried/71\",\" Adm-clerical/ Wife/71\",\" ?/ Husband/72\",\" Adm-clerical/ Husband/72\",\" Craft-repair/ Husband/72\",\" Exec-managerial/ Husband/72\",\" Farming-fishing/ Husband/72\",\" Handlers-cleaners/ Husband/72\",\" Other-service/ Husband/72\",\" Prof-specialty/ Husband/72\",\" Protective-serv/ Husband/72\",\" Sales/ Husband/72\",\" ?/ Not-in-family/72\",\" Adm-clerical/ Not-in-family/72\",\" Other-service/ Not-in-family/72\",\" Prof-specialty/ Not-in-family/72\",\" Sales/ Not-in-family/72\",\" Tech-support/ Not-in-family/72\",\" ?/ Unmarried/72\",\" Adm-clerical/ Unmarried/72\",\" Machine-op-inspct/ Unmarried/72\",\" Other-service/ Unmarried/72\",\" Priv-house-serv/ Unmarried/72\",\" ?/ Wife/72\",\" Exec-managerial/ Wife/72\",\" ?/ Husband/73\",\" Exec-managerial/ Husband/73\",\" Farming-fishing/ Husband/73\",\" Handlers-cleaners/ Husband/73\",\" Machine-op-inspct/ Husband/73\",\" Other-service/ Husband/73\",\" Prof-specialty/ Husband/73\",\" Protective-serv/ Husband/73\",\" Sales/ Husband/73\",\" Transport-moving/ Husband/73\",\" ?/ Not-in-family/73\",\" Adm-clerical/ Not-in-family/73\",\" Craft-repair/ Not-in-family/73\",\" Other-service/ Not-in-family/73\",\" Prof-specialty/ Not-in-family/73\",\" Tech-support/ Not-in-family/73\",\" Other-service/ Other-relative/73\",\" Prof-specialty/ Other-relative/73\",\" Sales/ Other-relative/73\",\" Other-service/ Unmarried/73\",\" Priv-house-serv/ Unmarried/73\",\" Sales/ Unmarried/73\",\" Adm-clerical/ Wife/73\",\" Sales/ Wife/73\",\" ?/ Husband/74\",\" Adm-clerical/ Husband/74\",\" Exec-managerial/ Husband/74\",\" Other-service/ Husband/74\",\" Prof-specialty/ Husband/74\",\" Sales/ Husband/74\",\" Transport-moving/ Husband/74\",\" ?/ Not-in-family/74\",\" Adm-clerical/ Not-in-family/74\",\" Craft-repair/ Not-in-family/74\",\" Farming-fishing/ Not-in-family/74\",\" Handlers-cleaners/ Not-in-family/74\",\" Other-service/ Not-in-family/74\",\" Priv-house-serv/ Not-in-family/74\",\" Prof-specialty/ Not-in-family/74\",\" Sales/ Not-in-family/74\",\" Transport-moving/ Not-in-family/74\",\" Prof-specialty/ Other-relative/74\",\" Exec-managerial/ Unmarried/74\",\" ?/ Husband/75\",\" Adm-clerical/ Husband/75\",\" Craft-repair/ Husband/75\",\" Exec-managerial/ Husband/75\",\" Farming-fishing/ Husband/75\",\" Prof-specialty/ Husband/75\",\" Sales/ Husband/75\",\" Transport-moving/ Husband/75\",\" ?/ Not-in-family/75\",\" Adm-clerical/ Not-in-family/75\",\" Craft-repair/ Not-in-family/75\",\" Exec-managerial/ Not-in-family/75\",\" Priv-house-serv/ Not-in-family/75\",\" Prof-specialty/ Not-in-family/75\",\" Protective-serv/ Not-in-family/75\",\" Sales/ Not-in-family/75\",\" ?/ Other-relative/75\",\" Other-service/ Other-relative/75\",\" Sales/ Other-relative/75\",\" Other-service/ Unmarried/75\",\" Prof-specialty/ Unmarried/75\",\" ?/ Wife/75\",\" ?/ Husband/76\",\" Adm-clerical/ Husband/76\",\" Craft-repair/ Husband/76\",\" Exec-managerial/ Husband/76\",\" Other-service/ Husband/76\",\" Prof-specialty/ Husband/76\",\" Protective-serv/ Husband/76\",\" Sales/ Husband/76\",\" ?/ Not-in-family/76\",\" Adm-clerical/ Not-in-family/76\",\" Farming-fishing/ Not-in-family/76\",\" Handlers-cleaners/ Not-in-family/76\",\" Other-service/ Not-in-family/76\",\" Priv-house-serv/ Not-in-family/76\",\" Prof-specialty/ Not-in-family/76\",\" Protective-serv/ Not-in-family/76\",\" Sales/ Not-in-family/76\",\" Transport-moving/ Not-in-family/76\",\" ?/ Other-relative/76\",\" ?/ Unmarried/76\",\" Other-service/ Unmarried/76\",\" Sales/ Unmarried/76\",\" ?/ Husband/77\",\" Adm-clerical/ Husband/77\",\" Exec-managerial/ Husband/77\",\" Farming-fishing/ Husband/77\",\" Machine-op-inspct/ Husband/77\",\" Other-service/ Husband/77\",\" Sales/ Husband/77\",\" ?/ Not-in-family/77\",\" Adm-clerical/ Not-in-family/77\",\" Craft-repair/ Not-in-family/77\",\" Machine-op-inspct/ Not-in-family/77\",\" Priv-house-serv/ Not-in-family/77\",\" Prof-specialty/ Not-in-family/77\",\" Priv-house-serv/ Unmarried/77\",\" Priv-house-serv/ Wife/77\",\" ?/ Husband/78\",\" Craft-repair/ Husband/78\",\" Exec-managerial/ Husband/78\",\" Farming-fishing/ Husband/78\",\" Handlers-cleaners/ Husband/78\",\" Transport-moving/ Husband/78\",\" ?/ Not-in-family/78\",\" Exec-managerial/ Not-in-family/78\",\" Machine-op-inspct/ Not-in-family/78\",\" Other-service/ Not-in-family/78\",\" Sales/ Not-in-family/78\",\" Craft-repair/ Unmarried/78\",\" Sales/ Unmarried/78\",\" ?/ Husband/79\",\" Adm-clerical/ Husband/79\",\" Exec-managerial/ Husband/79\",\" Farming-fishing/ Husband/79\",\" Prof-specialty/ Husband/79\",\" Sales/ Husband/79\",\" ?/ Not-in-family/79\",\" Exec-managerial/ Not-in-family/79\",\" Other-service/ Not-in-family/79\",\" Priv-house-serv/ Not-in-family/79\",\" Prof-specialty/ Not-in-family/79\",\" Sales/ Not-in-family/79\",\" Prof-specialty/ Other-relative/79\",\" Prof-specialty/ Unmarried/79\",\" ?/ Wife/79\",\" ?/ Husband/80\",\" Craft-repair/ Husband/80\",\" Exec-managerial/ Husband/80\",\" Farming-fishing/ Husband/80\",\" Other-service/ Husband/80\",\" Prof-specialty/ Husband/80\",\" ?/ Not-in-family/80\",\" Adm-clerical/ Not-in-family/80\",\" Exec-managerial/ Not-in-family/80\",\" Farming-fishing/ Not-in-family/80\",\" Other-service/ Not-in-family/80\",\" Prof-specialty/ Not-in-family/80\",\" Farming-fishing/ Unmarried/80\",\" Other-service/ Unmarried/80\",\" ?/ Husband/81\",\" Exec-managerial/ Husband/81\",\" Prof-specialty/ Husband/81\",\" Sales/ Husband/81\",\" Transport-moving/ Husband/81\",\" ?/ Not-in-family/81\",\" Adm-clerical/ Not-in-family/81\",\" Other-service/ Not-in-family/81\",\" Priv-house-serv/ Not-in-family/81\",\" Prof-specialty/ Not-in-family/81\",\" Sales/ Not-in-family/81\",\" Sales/ Other-relative/81\",\" ?/ Unmarried/81\",\" Prof-specialty/ Unmarried/81\",\" Exec-managerial/ Wife/81\",\" Craft-repair/ Husband/82\",\" Farming-fishing/ Husband/82\",\" Handlers-cleaners/ Husband/82\",\" ?/ Not-in-family/82\",\" Exec-managerial/ Not-in-family/82\",\" Sales/ Not-in-family/82\",\" Other-service/ Unmarried/82\",\" Exec-managerial/ Husband/83\",\" Farming-fishing/ Husband/83\",\" ?/ Not-in-family/83\",\" Exec-managerial/ Not-in-family/83\",\" Protective-serv/ Not-in-family/83\",\" Sales/ Not-in-family/83\",\" ?/ Husband/84\",\" Farming-fishing/ Husband/84\",\" Prof-specialty/ Husband/84\",\" Sales/ Husband/84\",\" ?/ Not-in-family/84\",\" Adm-clerical/ Not-in-family/84\",\" Exec-managerial/ Not-in-family/84\",\" Other-service/ Not-in-family/84\",\" Prof-specialty/ Not-in-family/84\",\" Exec-managerial/ Husband/85\",\" Sales/ Not-in-family/85\",\" Sales/ Unmarried/85\",\" Adm-clerical/ Not-in-family/86\",\" ?/ Not-in-family/87\",\" Exec-managerial/ Husband/88\",\" Prof-specialty/ Husband/88\",\" Adm-clerical/ Unmarried/88\",\" ?/ Husband/90\",\" Adm-clerical/ Husband/90\",\" Craft-repair/ Husband/90\",\" Exec-managerial/ Husband/90\",\" Farming-fishing/ Husband/90\",\" Machine-op-inspct/ Husband/90\",\" Other-service/ Husband/90\",\" Prof-specialty/ Husband/90\",\" Protective-serv/ Husband/90\",\" Sales/ Husband/90\",\" ?/ Not-in-family/90\",\" Adm-clerical/ Not-in-family/90\",\" Exec-managerial/ Not-in-family/90\",\" Other-service/ Not-in-family/90\",\" Prof-specialty/ Not-in-family/90\",\" ?/ Other-relative/90\",\" ?/ Own-child/90\",\" Adm-clerical/ Own-child/90\",\" Exec-managerial/ Own-child/90\",\" Handlers-cleaners/ Own-child/90\",\" Other-service/ Own-child/90\",\" Prof-specialty/ Own-child/90\",\" Adm-clerical/ Unmarried/90\",\" Sales/ Unmarried/90\",\" Transport-moving/ Unmarried/90\",\" Exec-managerial/ Wife/90\",\" Prof-specialty/ Wife/90\",\" ?/ Husband\",\" Adm-clerical/ Husband\",\" Armed-Forces/ Husband\",\" Craft-repair/ Husband\",\" Exec-managerial/ Husband\",\" Farming-fishing/ Husband\",\" Handlers-cleaners/ Husband\",\" Machine-op-inspct/ Husband\",\" Other-service/ Husband\",\" Prof-specialty/ Husband\",\" Protective-serv/ Husband\",\" Sales/ Husband\",\" Tech-support/ Husband\",\" Transport-moving/ Husband\",\" ?/ Not-in-family\",\" Adm-clerical/ Not-in-family\",\" Armed-Forces/ Not-in-family\",\" Craft-repair/ Not-in-family\",\" Exec-managerial/ Not-in-family\",\" Farming-fishing/ Not-in-family\",\" Handlers-cleaners/ Not-in-family\",\" Machine-op-inspct/ Not-in-family\",\" Other-service/ Not-in-family\",\" Priv-house-serv/ Not-in-family\",\" Prof-specialty/ Not-in-family\",\" Protective-serv/ Not-in-family\",\" Sales/ Not-in-family\",\" Tech-support/ Not-in-family\",\" Transport-moving/ Not-in-family\",\" ?/ Other-relative\",\" Adm-clerical/ Other-relative\",\" Armed-Forces/ Other-relative\",\" Craft-repair/ Other-relative\",\" Exec-managerial/ Other-relative\",\" Farming-fishing/ Other-relative\",\" Handlers-cleaners/ Other-relative\",\" Machine-op-inspct/ Other-relative\",\" Other-service/ Other-relative\",\" Priv-house-serv/ Other-relative\",\" Prof-specialty/ Other-relative\",\" Protective-serv/ Other-relative\",\" Sales/ Other-relative\",\" Tech-support/ Other-relative\",\" Transport-moving/ Other-relative\",\" ?/ Own-child\",\" Adm-clerical/ Own-child\",\" Armed-Forces/ Own-child\",\" Craft-repair/ Own-child\",\" Exec-managerial/ Own-child\",\" Farming-fishing/ Own-child\",\" Handlers-cleaners/ Own-child\",\" Machine-op-inspct/ Own-child\",\" Other-service/ Own-child\",\" Priv-house-serv/ Own-child\",\" Prof-specialty/ Own-child\",\" Protective-serv/ Own-child\",\" Sales/ Own-child\",\" Tech-support/ Own-child\",\" Transport-moving/ Own-child\",\" ?/ Unmarried\",\" Adm-clerical/ Unmarried\",\" Craft-repair/ Unmarried\",\" Exec-managerial/ Unmarried\",\" Farming-fishing/ Unmarried\",\" Handlers-cleaners/ Unmarried\",\" Machine-op-inspct/ Unmarried\",\" Other-service/ Unmarried\",\" Priv-house-serv/ Unmarried\",\" Prof-specialty/ Unmarried\",\" Protective-serv/ Unmarried\",\" Sales/ Unmarried\",\" Tech-support/ Unmarried\",\" Transport-moving/ Unmarried\",\" ?/ Wife\",\" Adm-clerical/ Wife\",\" Craft-repair/ Wife\",\" Exec-managerial/ Wife\",\" Farming-fishing/ Wife\",\" Handlers-cleaners/ Wife\",\" Machine-op-inspct/ Wife\",\" Other-service/ Wife\",\" Priv-house-serv/ Wife\",\" Prof-specialty/ Wife\",\" Protective-serv/ Wife\",\" Sales/ Wife\",\" Tech-support/ Wife\",\" Transport-moving/ Wife\",\" ?\",\" Adm-clerical\",\" Armed-Forces\",\" Craft-repair\",\" Exec-managerial\",\" Farming-fishing\",\" Handlers-cleaners\",\" Machine-op-inspct\",\" Other-service\",\" Priv-house-serv\",\" Prof-specialty\",\" Protective-serv\",\" Sales\",\" Tech-support\",\" Transport-moving\"],\"labels\":[\"17\",\"17\",\"17\",\"17\",\"17\",\"17\",\"17\",\"17\",\"17\",\"17\",\"17\",\"17\",\"17\",\"17\",\"17\",\"17\",\"17\",\"17\",\"17\",\"17\",\"17\",\"17\",\"17\",\"17\",\"17\",\"17\",\"17\",\"17\",\"17\",\"17\",\"17\",\"18\",\"18\",\"18\",\"18\",\"18\",\"18\",\"18\",\"18\",\"18\",\"18\",\"18\",\"18\",\"18\",\"18\",\"18\",\"18\",\"18\",\"18\",\"18\",\"18\",\"18\",\"18\",\"18\",\"18\",\"18\",\"18\",\"18\",\"18\",\"18\",\"18\",\"18\",\"18\",\"18\",\"18\",\"18\",\"18\",\"18\",\"18\",\"18\",\"18\",\"18\",\"19\",\"19\",\"19\",\"19\",\"19\",\"19\",\"19\",\"19\",\"19\",\"19\",\"19\",\"19\",\"19\",\"19\",\"19\",\"19\",\"19\",\"19\",\"19\",\"19\",\"19\",\"19\",\"19\",\"19\",\"19\",\"19\",\"19\",\"19\",\"19\",\"19\",\"19\",\"19\",\"19\",\"19\",\"19\",\"19\",\"19\",\"19\",\"19\",\"19\",\"19\",\"19\",\"19\",\"19\",\"19\",\"19\",\"19\",\"19\",\"19\",\"19\",\"20\",\"20\",\"20\",\"20\",\"20\",\"20\",\"20\",\"20\",\"20\",\"20\",\"20\",\"20\",\"20\",\"20\",\"20\",\"20\",\"20\",\"20\",\"20\",\"20\",\"20\",\"20\",\"20\",\"20\",\"20\",\"20\",\"20\",\"20\",\"20\",\"20\",\"20\",\"20\",\"20\",\"20\",\"20\",\"20\",\"20\",\"20\",\"20\",\"20\",\"20\",\"20\",\"20\",\"20\",\"20\",\"20\",\"20\",\"20\",\"20\",\"20\",\"20\",\"20\",\"20\",\"20\",\"20\",\"20\",\"20\",\"20\",\"21\",\"21\",\"21\",\"21\",\"21\",\"21\",\"21\",\"21\",\"21\",\"21\",\"21\",\"21\",\"21\",\"21\",\"21\",\"21\",\"21\",\"21\",\"21\",\"21\",\"21\",\"21\",\"21\",\"21\",\"21\",\"21\",\"21\",\"21\",\"21\",\"21\",\"21\",\"21\",\"21\",\"21\",\"21\",\"21\",\"21\",\"21\",\"21\",\"21\",\"21\",\"21\",\"21\",\"21\",\"21\",\"21\",\"21\",\"21\",\"21\",\"21\",\"21\",\"21\",\"21\",\"21\",\"21\",\"21\",\"21\",\"21\",\"21\",\"21\",\"22\",\"22\",\"22\",\"22\",\"22\",\"22\",\"22\",\"22\",\"22\",\"22\",\"22\",\"22\",\"22\",\"22\",\"22\",\"22\",\"22\",\"22\",\"22\",\"22\",\"22\",\"22\",\"22\",\"22\",\"22\",\"22\",\"22\",\"22\",\"22\",\"22\",\"22\",\"22\",\"22\",\"22\",\"22\",\"22\",\"22\",\"22\",\"22\",\"22\",\"22\",\"22\",\"22\",\"22\",\"22\",\"22\",\"22\",\"22\",\"22\",\"22\",\"22\",\"22\",\"22\",\"22\",\"22\",\"22\",\"22\",\"22\",\"22\",\"22\",\"22\",\"22\",\"22\",\"22\",\"22\",\"22\",\"22\",\"22\",\"22\",\"22\",\"22\",\"22\",\"23\",\"23\",\"23\",\"23\",\"23\",\"23\",\"23\",\"23\",\"23\",\"23\",\"23\",\"23\",\"23\",\"23\",\"23\",\"23\",\"23\",\"23\",\"23\",\"23\",\"23\",\"23\",\"23\",\"23\",\"23\",\"23\",\"23\",\"23\",\"23\",\"23\",\"23\",\"23\",\"23\",\"23\",\"23\",\"23\",\"23\",\"23\",\"23\",\"23\",\"23\",\"23\",\"23\",\"23\",\"23\",\"23\",\"23\",\"23\",\"23\",\"23\",\"23\",\"23\",\"23\",\"23\",\"23\",\"23\",\"23\",\"23\",\"23\",\"23\",\"23\",\"23\",\"23\",\"23\",\"23\",\"23\",\"23\",\"23\",\"23\",\"23\",\"23\",\"24\",\"24\",\"24\",\"24\",\"24\",\"24\",\"24\",\"24\",\"24\",\"24\",\"24\",\"24\",\"24\",\"24\",\"24\",\"24\",\"24\",\"24\",\"24\",\"24\",\"24\",\"24\",\"24\",\"24\",\"24\",\"24\",\"24\",\"24\",\"24\",\"24\",\"24\",\"24\",\"24\",\"24\",\"24\",\"24\",\"24\",\"24\",\"24\",\"24\",\"24\",\"24\",\"24\",\"24\",\"24\",\"24\",\"24\",\"24\",\"24\",\"24\",\"24\",\"24\",\"24\",\"24\",\"24\",\"24\",\"24\",\"24\",\"24\",\"24\",\"24\",\"24\",\"24\",\"24\",\"24\",\"24\",\"24\",\"24\",\"24\",\"24\",\"24\",\"24\",\"24\",\"24\",\"24\",\"24\",\"25\",\"25\",\"25\",\"25\",\"25\",\"25\",\"25\",\"25\",\"25\",\"25\",\"25\",\"25\",\"25\",\"25\",\"25\",\"25\",\"25\",\"25\",\"25\",\"25\",\"25\",\"25\",\"25\",\"25\",\"25\",\"25\",\"25\",\"25\",\"25\",\"25\",\"25\",\"25\",\"25\",\"25\",\"25\",\"25\",\"25\",\"25\",\"25\",\"25\",\"25\",\"25\",\"25\",\"25\",\"25\",\"25\",\"25\",\"25\",\"25\",\"25\",\"25\",\"25\",\"25\",\"25\",\"25\",\"25\",\"25\",\"25\",\"25\",\"25\",\"25\",\"25\",\"25\",\"25\",\"25\",\"25\",\"25\",\"25\",\"25\",\"25\",\"25\",\"25\",\"25\",\"25\",\"26\",\"26\",\"26\",\"26\",\"26\",\"26\",\"26\",\"26\",\"26\",\"26\",\"26\",\"26\",\"26\",\"26\",\"26\",\"26\",\"26\",\"26\",\"26\",\"26\",\"26\",\"26\",\"26\",\"26\",\"26\",\"26\",\"26\",\"26\",\"26\",\"26\",\"26\",\"26\",\"26\",\"26\",\"26\",\"26\",\"26\",\"26\",\"26\",\"26\",\"26\",\"26\",\"26\",\"26\",\"26\",\"26\",\"26\",\"26\",\"26\",\"26\",\"26\",\"26\",\"26\",\"26\",\"26\",\"26\",\"26\",\"26\",\"26\",\"26\",\"26\",\"26\",\"26\",\"26\",\"26\",\"26\",\"26\",\"26\",\"26\",\"26\",\"26\",\"27\",\"27\",\"27\",\"27\",\"27\",\"27\",\"27\",\"27\",\"27\",\"27\",\"27\",\"27\",\"27\",\"27\",\"27\",\"27\",\"27\",\"27\",\"27\",\"27\",\"27\",\"27\",\"27\",\"27\",\"27\",\"27\",\"27\",\"27\",\"27\",\"27\",\"27\",\"27\",\"27\",\"27\",\"27\",\"27\",\"27\",\"27\",\"27\",\"27\",\"27\",\"27\",\"27\",\"27\",\"27\",\"27\",\"27\",\"27\",\"27\",\"27\",\"27\",\"27\",\"27\",\"27\",\"27\",\"27\",\"27\",\"27\",\"27\",\"27\",\"27\",\"27\",\"27\",\"27\",\"27\",\"27\",\"27\",\"27\",\"27\",\"27\",\"27\",\"27\",\"27\",\"27\",\"27\",\"27\",\"28\",\"28\",\"28\",\"28\",\"28\",\"28\",\"28\",\"28\",\"28\",\"28\",\"28\",\"28\",\"28\",\"28\",\"28\",\"28\",\"28\",\"28\",\"28\",\"28\",\"28\",\"28\",\"28\",\"28\",\"28\",\"28\",\"28\",\"28\",\"28\",\"28\",\"28\",\"28\",\"28\",\"28\",\"28\",\"28\",\"28\",\"28\",\"28\",\"28\",\"28\",\"28\",\"28\",\"28\",\"28\",\"28\",\"28\",\"28\",\"28\",\"28\",\"28\",\"28\",\"28\",\"28\",\"28\",\"28\",\"28\",\"28\",\"28\",\"28\",\"28\",\"28\",\"28\",\"28\",\"28\",\"28\",\"28\",\"28\",\"28\",\"28\",\"28\",\"28\",\"29\",\"29\",\"29\",\"29\",\"29\",\"29\",\"29\",\"29\",\"29\",\"29\",\"29\",\"29\",\"29\",\"29\",\"29\",\"29\",\"29\",\"29\",\"29\",\"29\",\"29\",\"29\",\"29\",\"29\",\"29\",\"29\",\"29\",\"29\",\"29\",\"29\",\"29\",\"29\",\"29\",\"29\",\"29\",\"29\",\"29\",\"29\",\"29\",\"29\",\"29\",\"29\",\"29\",\"29\",\"29\",\"29\",\"29\",\"29\",\"29\",\"29\",\"29\",\"29\",\"29\",\"29\",\"29\",\"29\",\"29\",\"29\",\"29\",\"29\",\"29\",\"29\",\"29\",\"29\",\"29\",\"29\",\"29\",\"29\",\"29\",\"29\",\"29\",\"29\",\"29\",\"29\",\"29\",\"30\",\"30\",\"30\",\"30\",\"30\",\"30\",\"30\",\"30\",\"30\",\"30\",\"30\",\"30\",\"30\",\"30\",\"30\",\"30\",\"30\",\"30\",\"30\",\"30\",\"30\",\"30\",\"30\",\"30\",\"30\",\"30\",\"30\",\"30\",\"30\",\"30\",\"30\",\"30\",\"30\",\"30\",\"30\",\"30\",\"30\",\"30\",\"30\",\"30\",\"30\",\"30\",\"30\",\"30\",\"30\",\"30\",\"30\",\"30\",\"30\",\"30\",\"30\",\"30\",\"30\",\"30\",\"30\",\"30\",\"30\",\"30\",\"30\",\"30\",\"30\",\"30\",\"30\",\"30\",\"30\",\"30\",\"30\",\"30\",\"30\",\"30\",\"30\",\"30\",\"30\",\"31\",\"31\",\"31\",\"31\",\"31\",\"31\",\"31\",\"31\",\"31\",\"31\",\"31\",\"31\",\"31\",\"31\",\"31\",\"31\",\"31\",\"31\",\"31\",\"31\",\"31\",\"31\",\"31\",\"31\",\"31\",\"31\",\"31\",\"31\",\"31\",\"31\",\"31\",\"31\",\"31\",\"31\",\"31\",\"31\",\"31\",\"31\",\"31\",\"31\",\"31\",\"31\",\"31\",\"31\",\"31\",\"31\",\"31\",\"31\",\"31\",\"31\",\"31\",\"31\",\"31\",\"31\",\"31\",\"31\",\"31\",\"31\",\"31\",\"31\",\"31\",\"31\",\"31\",\"31\",\"31\",\"31\",\"31\",\"31\",\"31\",\"31\",\"31\",\"31\",\"31\",\"32\",\"32\",\"32\",\"32\",\"32\",\"32\",\"32\",\"32\",\"32\",\"32\",\"32\",\"32\",\"32\",\"32\",\"32\",\"32\",\"32\",\"32\",\"32\",\"32\",\"32\",\"32\",\"32\",\"32\",\"32\",\"32\",\"32\",\"32\",\"32\",\"32\",\"32\",\"32\",\"32\",\"32\",\"32\",\"32\",\"32\",\"32\",\"32\",\"32\",\"32\",\"32\",\"32\",\"32\",\"32\",\"32\",\"32\",\"32\",\"32\",\"32\",\"32\",\"32\",\"32\",\"32\",\"32\",\"32\",\"32\",\"32\",\"32\",\"32\",\"32\",\"32\",\"32\",\"32\",\"32\",\"32\",\"32\",\"32\",\"32\",\"32\",\"32\",\"32\",\"32\",\"32\",\"33\",\"33\",\"33\",\"33\",\"33\",\"33\",\"33\",\"33\",\"33\",\"33\",\"33\",\"33\",\"33\",\"33\",\"33\",\"33\",\"33\",\"33\",\"33\",\"33\",\"33\",\"33\",\"33\",\"33\",\"33\",\"33\",\"33\",\"33\",\"33\",\"33\",\"33\",\"33\",\"33\",\"33\",\"33\",\"33\",\"33\",\"33\",\"33\",\"33\",\"33\",\"33\",\"33\",\"33\",\"33\",\"33\",\"33\",\"33\",\"33\",\"33\",\"33\",\"33\",\"33\",\"33\",\"33\",\"33\",\"33\",\"33\",\"33\",\"33\",\"33\",\"33\",\"33\",\"33\",\"33\",\"33\",\"33\",\"34\",\"34\",\"34\",\"34\",\"34\",\"34\",\"34\",\"34\",\"34\",\"34\",\"34\",\"34\",\"34\",\"34\",\"34\",\"34\",\"34\",\"34\",\"34\",\"34\",\"34\",\"34\",\"34\",\"34\",\"34\",\"34\",\"34\",\"34\",\"34\",\"34\",\"34\",\"34\",\"34\",\"34\",\"34\",\"34\",\"34\",\"34\",\"34\",\"34\",\"34\",\"34\",\"34\",\"34\",\"34\",\"34\",\"34\",\"34\",\"34\",\"34\",\"34\",\"34\",\"34\",\"34\",\"34\",\"34\",\"34\",\"34\",\"34\",\"34\",\"34\",\"34\",\"34\",\"34\",\"34\",\"34\",\"34\",\"34\",\"34\",\"34\",\"34\",\"34\",\"34\",\"34\",\"35\",\"35\",\"35\",\"35\",\"35\",\"35\",\"35\",\"35\",\"35\",\"35\",\"35\",\"35\",\"35\",\"35\",\"35\",\"35\",\"35\",\"35\",\"35\",\"35\",\"35\",\"35\",\"35\",\"35\",\"35\",\"35\",\"35\",\"35\",\"35\",\"35\",\"35\",\"35\",\"35\",\"35\",\"35\",\"35\",\"35\",\"35\",\"35\",\"35\",\"35\",\"35\",\"35\",\"35\",\"35\",\"35\",\"35\",\"35\",\"35\",\"35\",\"35\",\"35\",\"35\",\"35\",\"35\",\"35\",\"35\",\"35\",\"35\",\"35\",\"35\",\"35\",\"35\",\"35\",\"35\",\"35\",\"35\",\"35\",\"35\",\"35\",\"35\",\"36\",\"36\",\"36\",\"36\",\"36\",\"36\",\"36\",\"36\",\"36\",\"36\",\"36\",\"36\",\"36\",\"36\",\"36\",\"36\",\"36\",\"36\",\"36\",\"36\",\"36\",\"36\",\"36\",\"36\",\"36\",\"36\",\"36\",\"36\",\"36\",\"36\",\"36\",\"36\",\"36\",\"36\",\"36\",\"36\",\"36\",\"36\",\"36\",\"36\",\"36\",\"36\",\"36\",\"36\",\"36\",\"36\",\"36\",\"36\",\"36\",\"36\",\"36\",\"36\",\"36\",\"36\",\"36\",\"36\",\"36\",\"36\",\"36\",\"36\",\"36\",\"36\",\"36\",\"36\",\"36\",\"36\",\"36\",\"36\",\"37\",\"37\",\"37\",\"37\",\"37\",\"37\",\"37\",\"37\",\"37\",\"37\",\"37\",\"37\",\"37\",\"37\",\"37\",\"37\",\"37\",\"37\",\"37\",\"37\",\"37\",\"37\",\"37\",\"37\",\"37\",\"37\",\"37\",\"37\",\"37\",\"37\",\"37\",\"37\",\"37\",\"37\",\"37\",\"37\",\"37\",\"37\",\"37\",\"37\",\"37\",\"37\",\"37\",\"37\",\"37\",\"37\",\"37\",\"37\",\"37\",\"37\",\"37\",\"37\",\"37\",\"37\",\"37\",\"37\",\"37\",\"37\",\"37\",\"37\",\"37\",\"37\",\"37\",\"37\",\"37\",\"37\",\"37\",\"37\",\"37\",\"37\",\"38\",\"38\",\"38\",\"38\",\"38\",\"38\",\"38\",\"38\",\"38\",\"38\",\"38\",\"38\",\"38\",\"38\",\"38\",\"38\",\"38\",\"38\",\"38\",\"38\",\"38\",\"38\",\"38\",\"38\",\"38\",\"38\",\"38\",\"38\",\"38\",\"38\",\"38\",\"38\",\"38\",\"38\",\"38\",\"38\",\"38\",\"38\",\"38\",\"38\",\"38\",\"38\",\"38\",\"38\",\"38\",\"38\",\"38\",\"38\",\"38\",\"38\",\"38\",\"38\",\"38\",\"38\",\"38\",\"38\",\"38\",\"38\",\"38\",\"38\",\"38\",\"38\",\"38\",\"38\",\"38\",\"38\",\"38\",\"38\",\"38\",\"39\",\"39\",\"39\",\"39\",\"39\",\"39\",\"39\",\"39\",\"39\",\"39\",\"39\",\"39\",\"39\",\"39\",\"39\",\"39\",\"39\",\"39\",\"39\",\"39\",\"39\",\"39\",\"39\",\"39\",\"39\",\"39\",\"39\",\"39\",\"39\",\"39\",\"39\",\"39\",\"39\",\"39\",\"39\",\"39\",\"39\",\"39\",\"39\",\"39\",\"39\",\"39\",\"39\",\"39\",\"39\",\"39\",\"39\",\"39\",\"39\",\"39\",\"39\",\"39\",\"39\",\"39\",\"39\",\"39\",\"39\",\"39\",\"39\",\"39\",\"39\",\"39\",\"39\",\"39\",\"39\",\"39\",\"39\",\"39\",\"39\",\"39\",\"39\",\"39\",\"40\",\"40\",\"40\",\"40\",\"40\",\"40\",\"40\",\"40\",\"40\",\"40\",\"40\",\"40\",\"40\",\"40\",\"40\",\"40\",\"40\",\"40\",\"40\",\"40\",\"40\",\"40\",\"40\",\"40\",\"40\",\"40\",\"40\",\"40\",\"40\",\"40\",\"40\",\"40\",\"40\",\"40\",\"40\",\"40\",\"40\",\"40\",\"40\",\"40\",\"40\",\"40\",\"40\",\"40\",\"40\",\"40\",\"40\",\"40\",\"40\",\"40\",\"40\",\"40\",\"40\",\"40\",\"40\",\"40\",\"40\",\"40\",\"40\",\"40\",\"40\",\"40\",\"40\",\"40\",\"41\",\"41\",\"41\",\"41\",\"41\",\"41\",\"41\",\"41\",\"41\",\"41\",\"41\",\"41\",\"41\",\"41\",\"41\",\"41\",\"41\",\"41\",\"41\",\"41\",\"41\",\"41\",\"41\",\"41\",\"41\",\"41\",\"41\",\"41\",\"41\",\"41\",\"41\",\"41\",\"41\",\"41\",\"41\",\"41\",\"41\",\"41\",\"41\",\"41\",\"41\",\"41\",\"41\",\"41\",\"41\",\"41\",\"41\",\"41\",\"41\",\"41\",\"41\",\"41\",\"41\",\"41\",\"41\",\"41\",\"41\",\"41\",\"41\",\"41\",\"41\",\"41\",\"41\",\"41\",\"41\",\"41\",\"41\",\"41\",\"41\",\"41\",\"41\",\"41\",\"42\",\"42\",\"42\",\"42\",\"42\",\"42\",\"42\",\"42\",\"42\",\"42\",\"42\",\"42\",\"42\",\"42\",\"42\",\"42\",\"42\",\"42\",\"42\",\"42\",\"42\",\"42\",\"42\",\"42\",\"42\",\"42\",\"42\",\"42\",\"42\",\"42\",\"42\",\"42\",\"42\",\"42\",\"42\",\"42\",\"42\",\"42\",\"42\",\"42\",\"42\",\"42\",\"42\",\"42\",\"42\",\"42\",\"42\",\"42\",\"42\",\"42\",\"42\",\"42\",\"42\",\"42\",\"42\",\"42\",\"42\",\"42\",\"42\",\"42\",\"42\",\"42\",\"42\",\"42\",\"42\",\"42\",\"42\",\"43\",\"43\",\"43\",\"43\",\"43\",\"43\",\"43\",\"43\",\"43\",\"43\",\"43\",\"43\",\"43\",\"43\",\"43\",\"43\",\"43\",\"43\",\"43\",\"43\",\"43\",\"43\",\"43\",\"43\",\"43\",\"43\",\"43\",\"43\",\"43\",\"43\",\"43\",\"43\",\"43\",\"43\",\"43\",\"43\",\"43\",\"43\",\"43\",\"43\",\"43\",\"43\",\"43\",\"43\",\"43\",\"43\",\"43\",\"43\",\"43\",\"43\",\"43\",\"43\",\"43\",\"43\",\"43\",\"43\",\"43\",\"43\",\"43\",\"43\",\"43\",\"43\",\"43\",\"43\",\"44\",\"44\",\"44\",\"44\",\"44\",\"44\",\"44\",\"44\",\"44\",\"44\",\"44\",\"44\",\"44\",\"44\",\"44\",\"44\",\"44\",\"44\",\"44\",\"44\",\"44\",\"44\",\"44\",\"44\",\"44\",\"44\",\"44\",\"44\",\"44\",\"44\",\"44\",\"44\",\"44\",\"44\",\"44\",\"44\",\"44\",\"44\",\"44\",\"44\",\"44\",\"44\",\"44\",\"44\",\"44\",\"44\",\"44\",\"44\",\"44\",\"44\",\"44\",\"44\",\"44\",\"44\",\"44\",\"44\",\"44\",\"44\",\"44\",\"44\",\"44\",\"44\",\"44\",\"44\",\"44\",\"44\",\"44\",\"44\",\"45\",\"45\",\"45\",\"45\",\"45\",\"45\",\"45\",\"45\",\"45\",\"45\",\"45\",\"45\",\"45\",\"45\",\"45\",\"45\",\"45\",\"45\",\"45\",\"45\",\"45\",\"45\",\"45\",\"45\",\"45\",\"45\",\"45\",\"45\",\"45\",\"45\",\"45\",\"45\",\"45\",\"45\",\"45\",\"45\",\"45\",\"45\",\"45\",\"45\",\"45\",\"45\",\"45\",\"45\",\"45\",\"45\",\"45\",\"45\",\"45\",\"45\",\"45\",\"45\",\"45\",\"45\",\"45\",\"45\",\"45\",\"45\",\"45\",\"45\",\"45\",\"45\",\"45\",\"46\",\"46\",\"46\",\"46\",\"46\",\"46\",\"46\",\"46\",\"46\",\"46\",\"46\",\"46\",\"46\",\"46\",\"46\",\"46\",\"46\",\"46\",\"46\",\"46\",\"46\",\"46\",\"46\",\"46\",\"46\",\"46\",\"46\",\"46\",\"46\",\"46\",\"46\",\"46\",\"46\",\"46\",\"46\",\"46\",\"46\",\"46\",\"46\",\"46\",\"46\",\"46\",\"46\",\"46\",\"46\",\"46\",\"46\",\"46\",\"46\",\"46\",\"46\",\"46\",\"46\",\"46\",\"46\",\"46\",\"46\",\"46\",\"46\",\"46\",\"46\",\"46\",\"46\",\"46\",\"46\",\"46\",\"47\",\"47\",\"47\",\"47\",\"47\",\"47\",\"47\",\"47\",\"47\",\"47\",\"47\",\"47\",\"47\",\"47\",\"47\",\"47\",\"47\",\"47\",\"47\",\"47\",\"47\",\"47\",\"47\",\"47\",\"47\",\"47\",\"47\",\"47\",\"47\",\"47\",\"47\",\"47\",\"47\",\"47\",\"47\",\"47\",\"47\",\"47\",\"47\",\"47\",\"47\",\"47\",\"47\",\"47\",\"47\",\"47\",\"47\",\"47\",\"47\",\"47\",\"47\",\"47\",\"47\",\"47\",\"47\",\"47\",\"47\",\"47\",\"47\",\"47\",\"47\",\"47\",\"47\",\"47\",\"48\",\"48\",\"48\",\"48\",\"48\",\"48\",\"48\",\"48\",\"48\",\"48\",\"48\",\"48\",\"48\",\"48\",\"48\",\"48\",\"48\",\"48\",\"48\",\"48\",\"48\",\"48\",\"48\",\"48\",\"48\",\"48\",\"48\",\"48\",\"48\",\"48\",\"48\",\"48\",\"48\",\"48\",\"48\",\"48\",\"48\",\"48\",\"48\",\"48\",\"48\",\"48\",\"48\",\"48\",\"48\",\"48\",\"48\",\"48\",\"48\",\"48\",\"48\",\"48\",\"48\",\"48\",\"48\",\"48\",\"48\",\"48\",\"48\",\"48\",\"48\",\"48\",\"48\",\"48\",\"49\",\"49\",\"49\",\"49\",\"49\",\"49\",\"49\",\"49\",\"49\",\"49\",\"49\",\"49\",\"49\",\"49\",\"49\",\"49\",\"49\",\"49\",\"49\",\"49\",\"49\",\"49\",\"49\",\"49\",\"49\",\"49\",\"49\",\"49\",\"49\",\"49\",\"49\",\"49\",\"49\",\"49\",\"49\",\"49\",\"49\",\"49\",\"49\",\"49\",\"49\",\"49\",\"49\",\"49\",\"49\",\"49\",\"49\",\"49\",\"49\",\"49\",\"49\",\"49\",\"49\",\"49\",\"49\",\"49\",\"49\",\"49\",\"49\",\"49\",\"49\",\"49\",\"50\",\"50\",\"50\",\"50\",\"50\",\"50\",\"50\",\"50\",\"50\",\"50\",\"50\",\"50\",\"50\",\"50\",\"50\",\"50\",\"50\",\"50\",\"50\",\"50\",\"50\",\"50\",\"50\",\"50\",\"50\",\"50\",\"50\",\"50\",\"50\",\"50\",\"50\",\"50\",\"50\",\"50\",\"50\",\"50\",\"50\",\"50\",\"50\",\"50\",\"50\",\"50\",\"50\",\"50\",\"50\",\"50\",\"50\",\"50\",\"50\",\"50\",\"50\",\"50\",\"50\",\"50\",\"50\",\"50\",\"50\",\"51\",\"51\",\"51\",\"51\",\"51\",\"51\",\"51\",\"51\",\"51\",\"51\",\"51\",\"51\",\"51\",\"51\",\"51\",\"51\",\"51\",\"51\",\"51\",\"51\",\"51\",\"51\",\"51\",\"51\",\"51\",\"51\",\"51\",\"51\",\"51\",\"51\",\"51\",\"51\",\"51\",\"51\",\"51\",\"51\",\"51\",\"51\",\"51\",\"51\",\"51\",\"51\",\"51\",\"51\",\"51\",\"51\",\"51\",\"51\",\"51\",\"51\",\"51\",\"51\",\"51\",\"51\",\"51\",\"51\",\"51\",\"51\",\"51\",\"52\",\"52\",\"52\",\"52\",\"52\",\"52\",\"52\",\"52\",\"52\",\"52\",\"52\",\"52\",\"52\",\"52\",\"52\",\"52\",\"52\",\"52\",\"52\",\"52\",\"52\",\"52\",\"52\",\"52\",\"52\",\"52\",\"52\",\"52\",\"52\",\"52\",\"52\",\"52\",\"52\",\"52\",\"52\",\"52\",\"52\",\"52\",\"52\",\"52\",\"52\",\"52\",\"52\",\"52\",\"52\",\"52\",\"52\",\"52\",\"52\",\"52\",\"52\",\"52\",\"52\",\"52\",\"52\",\"52\",\"52\",\"52\",\"52\",\"53\",\"53\",\"53\",\"53\",\"53\",\"53\",\"53\",\"53\",\"53\",\"53\",\"53\",\"53\",\"53\",\"53\",\"53\",\"53\",\"53\",\"53\",\"53\",\"53\",\"53\",\"53\",\"53\",\"53\",\"53\",\"53\",\"53\",\"53\",\"53\",\"53\",\"53\",\"53\",\"53\",\"53\",\"53\",\"53\",\"53\",\"53\",\"53\",\"53\",\"53\",\"53\",\"53\",\"53\",\"53\",\"53\",\"53\",\"53\",\"53\",\"53\",\"53\",\"53\",\"53\",\"53\",\"53\",\"53\",\"53\",\"54\",\"54\",\"54\",\"54\",\"54\",\"54\",\"54\",\"54\",\"54\",\"54\",\"54\",\"54\",\"54\",\"54\",\"54\",\"54\",\"54\",\"54\",\"54\",\"54\",\"54\",\"54\",\"54\",\"54\",\"54\",\"54\",\"54\",\"54\",\"54\",\"54\",\"54\",\"54\",\"54\",\"54\",\"54\",\"54\",\"54\",\"54\",\"54\",\"54\",\"54\",\"54\",\"54\",\"54\",\"54\",\"54\",\"54\",\"54\",\"54\",\"54\",\"54\",\"54\",\"54\",\"55\",\"55\",\"55\",\"55\",\"55\",\"55\",\"55\",\"55\",\"55\",\"55\",\"55\",\"55\",\"55\",\"55\",\"55\",\"55\",\"55\",\"55\",\"55\",\"55\",\"55\",\"55\",\"55\",\"55\",\"55\",\"55\",\"55\",\"55\",\"55\",\"55\",\"55\",\"55\",\"55\",\"55\",\"55\",\"55\",\"55\",\"55\",\"55\",\"55\",\"55\",\"55\",\"55\",\"55\",\"55\",\"55\",\"55\",\"55\",\"55\",\"55\",\"55\",\"55\",\"55\",\"55\",\"55\",\"55\",\"55\",\"55\",\"55\",\"56\",\"56\",\"56\",\"56\",\"56\",\"56\",\"56\",\"56\",\"56\",\"56\",\"56\",\"56\",\"56\",\"56\",\"56\",\"56\",\"56\",\"56\",\"56\",\"56\",\"56\",\"56\",\"56\",\"56\",\"56\",\"56\",\"56\",\"56\",\"56\",\"56\",\"56\",\"56\",\"56\",\"56\",\"56\",\"56\",\"56\",\"56\",\"56\",\"56\",\"56\",\"56\",\"56\",\"56\",\"56\",\"56\",\"56\",\"56\",\"56\",\"56\",\"56\",\"57\",\"57\",\"57\",\"57\",\"57\",\"57\",\"57\",\"57\",\"57\",\"57\",\"57\",\"57\",\"57\",\"57\",\"57\",\"57\",\"57\",\"57\",\"57\",\"57\",\"57\",\"57\",\"57\",\"57\",\"57\",\"57\",\"57\",\"57\",\"57\",\"57\",\"57\",\"57\",\"57\",\"57\",\"57\",\"57\",\"57\",\"57\",\"57\",\"57\",\"57\",\"57\",\"57\",\"57\",\"57\",\"57\",\"57\",\"57\",\"57\",\"57\",\"57\",\"57\",\"58\",\"58\",\"58\",\"58\",\"58\",\"58\",\"58\",\"58\",\"58\",\"58\",\"58\",\"58\",\"58\",\"58\",\"58\",\"58\",\"58\",\"58\",\"58\",\"58\",\"58\",\"58\",\"58\",\"58\",\"58\",\"58\",\"58\",\"58\",\"58\",\"58\",\"58\",\"58\",\"58\",\"58\",\"58\",\"58\",\"58\",\"58\",\"58\",\"58\",\"58\",\"58\",\"58\",\"58\",\"58\",\"58\",\"58\",\"58\",\"58\",\"58\",\"58\",\"58\",\"58\",\"59\",\"59\",\"59\",\"59\",\"59\",\"59\",\"59\",\"59\",\"59\",\"59\",\"59\",\"59\",\"59\",\"59\",\"59\",\"59\",\"59\",\"59\",\"59\",\"59\",\"59\",\"59\",\"59\",\"59\",\"59\",\"59\",\"59\",\"59\",\"59\",\"59\",\"59\",\"59\",\"59\",\"59\",\"59\",\"59\",\"59\",\"59\",\"59\",\"59\",\"59\",\"59\",\"59\",\"59\",\"59\",\"59\",\"59\",\"59\",\"59\",\"59\",\"59\",\"59\",\"59\",\"59\",\"60\",\"60\",\"60\",\"60\",\"60\",\"60\",\"60\",\"60\",\"60\",\"60\",\"60\",\"60\",\"60\",\"60\",\"60\",\"60\",\"60\",\"60\",\"60\",\"60\",\"60\",\"60\",\"60\",\"60\",\"60\",\"60\",\"60\",\"60\",\"60\",\"60\",\"60\",\"60\",\"60\",\"60\",\"60\",\"60\",\"60\",\"60\",\"60\",\"60\",\"60\",\"60\",\"60\",\"60\",\"60\",\"60\",\"60\",\"60\",\"60\",\"61\",\"61\",\"61\",\"61\",\"61\",\"61\",\"61\",\"61\",\"61\",\"61\",\"61\",\"61\",\"61\",\"61\",\"61\",\"61\",\"61\",\"61\",\"61\",\"61\",\"61\",\"61\",\"61\",\"61\",\"61\",\"61\",\"61\",\"61\",\"61\",\"61\",\"61\",\"61\",\"61\",\"61\",\"61\",\"61\",\"61\",\"61\",\"61\",\"61\",\"61\",\"61\",\"61\",\"61\",\"62\",\"62\",\"62\",\"62\",\"62\",\"62\",\"62\",\"62\",\"62\",\"62\",\"62\",\"62\",\"62\",\"62\",\"62\",\"62\",\"62\",\"62\",\"62\",\"62\",\"62\",\"62\",\"62\",\"62\",\"62\",\"62\",\"62\",\"62\",\"62\",\"62\",\"62\",\"62\",\"62\",\"62\",\"62\",\"62\",\"62\",\"62\",\"62\",\"62\",\"62\",\"62\",\"62\",\"62\",\"62\",\"62\",\"62\",\"63\",\"63\",\"63\",\"63\",\"63\",\"63\",\"63\",\"63\",\"63\",\"63\",\"63\",\"63\",\"63\",\"63\",\"63\",\"63\",\"63\",\"63\",\"63\",\"63\",\"63\",\"63\",\"63\",\"63\",\"63\",\"63\",\"63\",\"63\",\"63\",\"63\",\"63\",\"63\",\"63\",\"63\",\"63\",\"63\",\"63\",\"63\",\"63\",\"63\",\"63\",\"63\",\"63\",\"63\",\"64\",\"64\",\"64\",\"64\",\"64\",\"64\",\"64\",\"64\",\"64\",\"64\",\"64\",\"64\",\"64\",\"64\",\"64\",\"64\",\"64\",\"64\",\"64\",\"64\",\"64\",\"64\",\"64\",\"64\",\"64\",\"64\",\"64\",\"64\",\"64\",\"64\",\"64\",\"64\",\"64\",\"64\",\"64\",\"64\",\"64\",\"64\",\"64\",\"64\",\"64\",\"64\",\"65\",\"65\",\"65\",\"65\",\"65\",\"65\",\"65\",\"65\",\"65\",\"65\",\"65\",\"65\",\"65\",\"65\",\"65\",\"65\",\"65\",\"65\",\"65\",\"65\",\"65\",\"65\",\"65\",\"65\",\"65\",\"65\",\"65\",\"65\",\"65\",\"65\",\"65\",\"65\",\"65\",\"65\",\"65\",\"65\",\"65\",\"65\",\"65\",\"65\",\"66\",\"66\",\"66\",\"66\",\"66\",\"66\",\"66\",\"66\",\"66\",\"66\",\"66\",\"66\",\"66\",\"66\",\"66\",\"66\",\"66\",\"66\",\"66\",\"66\",\"66\",\"66\",\"66\",\"66\",\"66\",\"66\",\"66\",\"66\",\"66\",\"66\",\"66\",\"66\",\"66\",\"66\",\"66\",\"66\",\"66\",\"67\",\"67\",\"67\",\"67\",\"67\",\"67\",\"67\",\"67\",\"67\",\"67\",\"67\",\"67\",\"67\",\"67\",\"67\",\"67\",\"67\",\"67\",\"67\",\"67\",\"67\",\"67\",\"67\",\"67\",\"67\",\"67\",\"67\",\"67\",\"67\",\"67\",\"67\",\"67\",\"67\",\"67\",\"67\",\"67\",\"68\",\"68\",\"68\",\"68\",\"68\",\"68\",\"68\",\"68\",\"68\",\"68\",\"68\",\"68\",\"68\",\"68\",\"68\",\"68\",\"68\",\"68\",\"68\",\"68\",\"68\",\"68\",\"68\",\"68\",\"68\",\"68\",\"68\",\"68\",\"68\",\"69\",\"69\",\"69\",\"69\",\"69\",\"69\",\"69\",\"69\",\"69\",\"69\",\"69\",\"69\",\"69\",\"69\",\"69\",\"69\",\"69\",\"69\",\"69\",\"69\",\"69\",\"69\",\"69\",\"69\",\"69\",\"69\",\"69\",\"69\",\"69\",\"69\",\"69\",\"69\",\"69\",\"70\",\"70\",\"70\",\"70\",\"70\",\"70\",\"70\",\"70\",\"70\",\"70\",\"70\",\"70\",\"70\",\"70\",\"70\",\"70\",\"70\",\"70\",\"70\",\"70\",\"70\",\"70\",\"70\",\"70\",\"70\",\"70\",\"70\",\"70\",\"70\",\"70\",\"71\",\"71\",\"71\",\"71\",\"71\",\"71\",\"71\",\"71\",\"71\",\"71\",\"71\",\"71\",\"71\",\"71\",\"71\",\"71\",\"71\",\"71\",\"71\",\"71\",\"71\",\"71\",\"71\",\"71\",\"71\",\"71\",\"71\",\"71\",\"71\",\"72\",\"72\",\"72\",\"72\",\"72\",\"72\",\"72\",\"72\",\"72\",\"72\",\"72\",\"72\",\"72\",\"72\",\"72\",\"72\",\"72\",\"72\",\"72\",\"72\",\"72\",\"72\",\"72\",\"73\",\"73\",\"73\",\"73\",\"73\",\"73\",\"73\",\"73\",\"73\",\"73\",\"73\",\"73\",\"73\",\"73\",\"73\",\"73\",\"73\",\"73\",\"73\",\"73\",\"73\",\"73\",\"73\",\"73\",\"74\",\"74\",\"74\",\"74\",\"74\",\"74\",\"74\",\"74\",\"74\",\"74\",\"74\",\"74\",\"74\",\"74\",\"74\",\"74\",\"74\",\"74\",\"74\",\"75\",\"75\",\"75\",\"75\",\"75\",\"75\",\"75\",\"75\",\"75\",\"75\",\"75\",\"75\",\"75\",\"75\",\"75\",\"75\",\"75\",\"75\",\"75\",\"75\",\"75\",\"75\",\"76\",\"76\",\"76\",\"76\",\"76\",\"76\",\"76\",\"76\",\"76\",\"76\",\"76\",\"76\",\"76\",\"76\",\"76\",\"76\",\"76\",\"76\",\"76\",\"76\",\"76\",\"76\",\"77\",\"77\",\"77\",\"77\",\"77\",\"77\",\"77\",\"77\",\"77\",\"77\",\"77\",\"77\",\"77\",\"77\",\"77\",\"78\",\"78\",\"78\",\"78\",\"78\",\"78\",\"78\",\"78\",\"78\",\"78\",\"78\",\"78\",\"78\",\"79\",\"79\",\"79\",\"79\",\"79\",\"79\",\"79\",\"79\",\"79\",\"79\",\"79\",\"79\",\"79\",\"79\",\"79\",\"80\",\"80\",\"80\",\"80\",\"80\",\"80\",\"80\",\"80\",\"80\",\"80\",\"80\",\"80\",\"80\",\"80\",\"81\",\"81\",\"81\",\"81\",\"81\",\"81\",\"81\",\"81\",\"81\",\"81\",\"81\",\"81\",\"81\",\"81\",\"81\",\"82\",\"82\",\"82\",\"82\",\"82\",\"82\",\"82\",\"83\",\"83\",\"83\",\"83\",\"83\",\"83\",\"84\",\"84\",\"84\",\"84\",\"84\",\"84\",\"84\",\"84\",\"84\",\"85\",\"85\",\"85\",\"86\",\"87\",\"88\",\"88\",\"88\",\"90\",\"90\",\"90\",\"90\",\"90\",\"90\",\"90\",\"90\",\"90\",\"90\",\"90\",\"90\",\"90\",\"90\",\"90\",\"90\",\"90\",\"90\",\"90\",\"90\",\"90\",\"90\",\"90\",\"90\",\"90\",\"90\",\"90\",\" Husband\",\" Husband\",\" Husband\",\" Husband\",\" Husband\",\" Husband\",\" Husband\",\" Husband\",\" Husband\",\" Husband\",\" Husband\",\" Husband\",\" Husband\",\" Husband\",\" Not-in-family\",\" Not-in-family\",\" Not-in-family\",\" Not-in-family\",\" Not-in-family\",\" Not-in-family\",\" Not-in-family\",\" Not-in-family\",\" Not-in-family\",\" Not-in-family\",\" Not-in-family\",\" Not-in-family\",\" Not-in-family\",\" Not-in-family\",\" Not-in-family\",\" Other-relative\",\" Other-relative\",\" Other-relative\",\" Other-relative\",\" Other-relative\",\" Other-relative\",\" Other-relative\",\" Other-relative\",\" Other-relative\",\" Other-relative\",\" Other-relative\",\" Other-relative\",\" Other-relative\",\" Other-relative\",\" Other-relative\",\" Own-child\",\" Own-child\",\" Own-child\",\" Own-child\",\" Own-child\",\" Own-child\",\" Own-child\",\" Own-child\",\" Own-child\",\" Own-child\",\" Own-child\",\" Own-child\",\" Own-child\",\" Own-child\",\" Own-child\",\" Unmarried\",\" Unmarried\",\" Unmarried\",\" Unmarried\",\" Unmarried\",\" Unmarried\",\" Unmarried\",\" Unmarried\",\" Unmarried\",\" Unmarried\",\" Unmarried\",\" Unmarried\",\" Unmarried\",\" Unmarried\",\" Wife\",\" Wife\",\" Wife\",\" Wife\",\" Wife\",\" Wife\",\" Wife\",\" Wife\",\" Wife\",\" Wife\",\" Wife\",\" Wife\",\" Wife\",\" Wife\",\" ?\",\" Adm-clerical\",\" Armed-Forces\",\" Craft-repair\",\" Exec-managerial\",\" Farming-fishing\",\" Handlers-cleaners\",\" Machine-op-inspct\",\" Other-service\",\" Priv-house-serv\",\" Prof-specialty\",\" Protective-serv\",\" Sales\",\" Tech-support\",\" Transport-moving\"],\"name\":\"\",\"parents\":[\" Other-service/ Husband\",\" ?/ Not-in-family\",\" Adm-clerical/ Not-in-family\",\" Craft-repair/ Not-in-family\",\" Handlers-cleaners/ Not-in-family\",\" Other-service/ Not-in-family\",\" Sales/ Not-in-family\",\" Transport-moving/ Not-in-family\",\" ?/ Other-relative\",\" Adm-clerical/ Other-relative\",\" Farming-fishing/ Other-relative\",\" Handlers-cleaners/ Other-relative\",\" Other-service/ Other-relative\",\" Priv-house-serv/ Other-relative\",\" Sales/ Other-relative\",\" ?/ Own-child\",\" Adm-clerical/ Own-child\",\" Craft-repair/ Own-child\",\" Exec-managerial/ Own-child\",\" Farming-fishing/ Own-child\",\" Handlers-cleaners/ Own-child\",\" Machine-op-inspct/ Own-child\",\" Other-service/ Own-child\",\" Priv-house-serv/ Own-child\",\" Prof-specialty/ Own-child\",\" Protective-serv/ Own-child\",\" Sales/ Own-child\",\" Tech-support/ Own-child\",\" Transport-moving/ Own-child\",\" Other-service/ Unmarried\",\" Sales/ Unmarried\",\" Craft-repair/ Husband\",\" ?/ Not-in-family\",\" Adm-clerical/ Not-in-family\",\" Craft-repair/ Not-in-family\",\" Exec-managerial/ Not-in-family\",\" Handlers-cleaners/ Not-in-family\",\" Machine-op-inspct/ Not-in-family\",\" Other-service/ Not-in-family\",\" Priv-house-serv/ Not-in-family\",\" Prof-specialty/ Not-in-family\",\" Sales/ Not-in-family\",\" Transport-moving/ Not-in-family\",\" ?/ Other-relative\",\" Adm-clerical/ Other-relative\",\" Farming-fishing/ Other-relative\",\" Handlers-cleaners/ Other-relative\",\" Machine-op-inspct/ Other-relative\",\" Other-service/ Other-relative\",\" Priv-house-serv/ Other-relative\",\" Prof-specialty/ Other-relative\",\" Sales/ Other-relative\",\" ?/ Own-child\",\" Adm-clerical/ Own-child\",\" Craft-repair/ Own-child\",\" Exec-managerial/ Own-child\",\" Farming-fishing/ Own-child\",\" Handlers-cleaners/ Own-child\",\" Machine-op-inspct/ Own-child\",\" Other-service/ Own-child\",\" Priv-house-serv/ Own-child\",\" Prof-specialty/ Own-child\",\" Protective-serv/ Own-child\",\" Sales/ Own-child\",\" Tech-support/ Own-child\",\" Transport-moving/ Own-child\",\" ?/ Unmarried\",\" Other-service/ Unmarried\",\" Sales/ Unmarried\",\" Adm-clerical/ Wife\",\" Exec-managerial/ Wife\",\" Other-service/ Wife\",\" Craft-repair/ Husband\",\" Handlers-cleaners/ Husband\",\" ?/ Not-in-family\",\" Adm-clerical/ Not-in-family\",\" Craft-repair/ Not-in-family\",\" Exec-managerial/ Not-in-family\",\" Farming-fishing/ Not-in-family\",\" Handlers-cleaners/ Not-in-family\",\" Machine-op-inspct/ Not-in-family\",\" Other-service/ Not-in-family\",\" Priv-house-serv/ Not-in-family\",\" Prof-specialty/ Not-in-family\",\" Protective-serv/ Not-in-family\",\" Sales/ Not-in-family\",\" Tech-support/ Not-in-family\",\" Transport-moving/ Not-in-family\",\" ?/ Other-relative\",\" Adm-clerical/ Other-relative\",\" Craft-repair/ Other-relative\",\" Farming-fishing/ Other-relative\",\" Handlers-cleaners/ Other-relative\",\" Machine-op-inspct/ Other-relative\",\" Other-service/ Other-relative\",\" Sales/ Other-relative\",\" Tech-support/ Other-relative\",\" Transport-moving/ Other-relative\",\" ?/ Own-child\",\" Adm-clerical/ Own-child\",\" Craft-repair/ Own-child\",\" Exec-managerial/ Own-child\",\" Farming-fishing/ Own-child\",\" Handlers-cleaners/ Own-child\",\" Machine-op-inspct/ Own-child\",\" Other-service/ Own-child\",\" Prof-specialty/ Own-child\",\" Protective-serv/ Own-child\",\" Sales/ Own-child\",\" Tech-support/ Own-child\",\" Transport-moving/ Own-child\",\" ?/ Unmarried\",\" Adm-clerical/ Unmarried\",\" Machine-op-inspct/ Unmarried\",\" Other-service/ Unmarried\",\" Sales/ Unmarried\",\" Transport-moving/ Unmarried\",\" ?/ Wife\",\" Adm-clerical/ Wife\",\" Craft-repair/ Wife\",\" Other-service/ Wife\",\" Sales/ Wife\",\" Adm-clerical/ Husband\",\" Craft-repair/ Husband\",\" Handlers-cleaners/ Husband\",\" Machine-op-inspct/ Husband\",\" Other-service/ Husband\",\" Protective-serv/ Husband\",\" Sales/ Husband\",\" ?/ Not-in-family\",\" Adm-clerical/ Not-in-family\",\" Craft-repair/ Not-in-family\",\" Exec-managerial/ Not-in-family\",\" Farming-fishing/ Not-in-family\",\" Handlers-cleaners/ Not-in-family\",\" Machine-op-inspct/ Not-in-family\",\" Other-service/ Not-in-family\",\" Priv-house-serv/ Not-in-family\",\" Prof-specialty/ Not-in-family\",\" Sales/ Not-in-family\",\" Tech-support/ Not-in-family\",\" Transport-moving/ Not-in-family\",\" ?/ Other-relative\",\" Adm-clerical/ Other-relative\",\" Craft-repair/ Other-relative\",\" Exec-managerial/ Other-relative\",\" Farming-fishing/ Other-relative\",\" Handlers-cleaners/ Other-relative\",\" Machine-op-inspct/ Other-relative\",\" Other-service/ Other-relative\",\" Prof-specialty/ Other-relative\",\" Sales/ Other-relative\",\" Tech-support/ Other-relative\",\" Transport-moving/ Other-relative\",\" ?/ Own-child\",\" Adm-clerical/ Own-child\",\" Craft-repair/ Own-child\",\" Exec-managerial/ Own-child\",\" Farming-fishing/ Own-child\",\" Handlers-cleaners/ Own-child\",\" Machine-op-inspct/ Own-child\",\" Other-service/ Own-child\",\" Priv-house-serv/ Own-child\",\" Prof-specialty/ Own-child\",\" Protective-serv/ Own-child\",\" Sales/ Own-child\",\" Tech-support/ Own-child\",\" Transport-moving/ Own-child\",\" ?/ Unmarried\",\" Adm-clerical/ Unmarried\",\" Craft-repair/ Unmarried\",\" Exec-managerial/ Unmarried\",\" Handlers-cleaners/ Unmarried\",\" Machine-op-inspct/ Unmarried\",\" Other-service/ Unmarried\",\" Prof-specialty/ Unmarried\",\" Sales/ Unmarried\",\" ?/ Wife\",\" Adm-clerical/ Wife\",\" Other-service/ Wife\",\" ?/ Husband\",\" Adm-clerical/ Husband\",\" Craft-repair/ Husband\",\" Exec-managerial/ Husband\",\" Farming-fishing/ Husband\",\" Handlers-cleaners/ Husband\",\" Machine-op-inspct/ Husband\",\" Other-service/ Husband\",\" Sales/ Husband\",\" ?/ Not-in-family\",\" Adm-clerical/ Not-in-family\",\" Craft-repair/ Not-in-family\",\" Exec-managerial/ Not-in-family\",\" Farming-fishing/ Not-in-family\",\" Handlers-cleaners/ Not-in-family\",\" Machine-op-inspct/ Not-in-family\",\" Other-service/ Not-in-family\",\" Priv-house-serv/ Not-in-family\",\" Prof-specialty/ Not-in-family\",\" Protective-serv/ Not-in-family\",\" Sales/ Not-in-family\",\" Tech-support/ Not-in-family\",\" Transport-moving/ Not-in-family\",\" ?/ Other-relative\",\" Adm-clerical/ Other-relative\",\" Craft-repair/ Other-relative\",\" Exec-managerial/ Other-relative\",\" Farming-fishing/ Other-relative\",\" Handlers-cleaners/ Other-relative\",\" Machine-op-inspct/ Other-relative\",\" Other-service/ Other-relative\",\" Priv-house-serv/ Other-relative\",\" Prof-specialty/ Other-relative\",\" Sales/ Other-relative\",\" ?/ Own-child\",\" Adm-clerical/ Own-child\",\" Craft-repair/ Own-child\",\" Exec-managerial/ Own-child\",\" Farming-fishing/ Own-child\",\" Handlers-cleaners/ Own-child\",\" Machine-op-inspct/ Own-child\",\" Other-service/ Own-child\",\" Priv-house-serv/ Own-child\",\" Prof-specialty/ Own-child\",\" Protective-serv/ Own-child\",\" Sales/ Own-child\",\" Tech-support/ Own-child\",\" Transport-moving/ Own-child\",\" ?/ Unmarried\",\" Adm-clerical/ Unmarried\",\" Craft-repair/ Unmarried\",\" Farming-fishing/ Unmarried\",\" Handlers-cleaners/ Unmarried\",\" Machine-op-inspct/ Unmarried\",\" Other-service/ Unmarried\",\" Prof-specialty/ Unmarried\",\" Sales/ Unmarried\",\" ?/ Wife\",\" Adm-clerical/ Wife\",\" Sales/ Wife\",\" ?/ Husband\",\" Craft-repair/ Husband\",\" Exec-managerial/ Husband\",\" Farming-fishing/ Husband\",\" Handlers-cleaners/ Husband\",\" Machine-op-inspct/ Husband\",\" Other-service/ Husband\",\" Sales/ Husband\",\" Tech-support/ Husband\",\" Transport-moving/ Husband\",\" ?/ Not-in-family\",\" Adm-clerical/ Not-in-family\",\" Craft-repair/ Not-in-family\",\" Exec-managerial/ Not-in-family\",\" Farming-fishing/ Not-in-family\",\" Handlers-cleaners/ Not-in-family\",\" Machine-op-inspct/ Not-in-family\",\" Other-service/ Not-in-family\",\" Priv-house-serv/ Not-in-family\",\" Prof-specialty/ Not-in-family\",\" Protective-serv/ Not-in-family\",\" Sales/ Not-in-family\",\" Tech-support/ Not-in-family\",\" Transport-moving/ Not-in-family\",\" ?/ Other-relative\",\" Adm-clerical/ Other-relative\",\" Craft-repair/ Other-relative\",\" Exec-managerial/ Other-relative\",\" Farming-fishing/ Other-relative\",\" Handlers-cleaners/ Other-relative\",\" Machine-op-inspct/ Other-relative\",\" Other-service/ Other-relative\",\" Priv-house-serv/ Other-relative\",\" Prof-specialty/ Other-relative\",\" Protective-serv/ Other-relative\",\" Sales/ Other-relative\",\" Tech-support/ Other-relative\",\" Transport-moving/ Other-relative\",\" ?/ Own-child\",\" Adm-clerical/ Own-child\",\" Craft-repair/ Own-child\",\" Exec-managerial/ Own-child\",\" Farming-fishing/ Own-child\",\" Handlers-cleaners/ Own-child\",\" Machine-op-inspct/ Own-child\",\" Other-service/ Own-child\",\" Priv-house-serv/ Own-child\",\" Prof-specialty/ Own-child\",\" Protective-serv/ Own-child\",\" Sales/ Own-child\",\" Tech-support/ Own-child\",\" Transport-moving/ Own-child\",\" ?/ Unmarried\",\" Adm-clerical/ Unmarried\",\" Craft-repair/ Unmarried\",\" Exec-managerial/ Unmarried\",\" Handlers-cleaners/ Unmarried\",\" Machine-op-inspct/ Unmarried\",\" Other-service/ Unmarried\",\" Prof-specialty/ Unmarried\",\" Protective-serv/ Unmarried\",\" Sales/ Unmarried\",\" Tech-support/ Unmarried\",\" Transport-moving/ Unmarried\",\" ?/ Wife\",\" Adm-clerical/ Wife\",\" Exec-managerial/ Wife\",\" Machine-op-inspct/ Wife\",\" Other-service/ Wife\",\" Priv-house-serv/ Wife\",\" Prof-specialty/ Wife\",\" Sales/ Wife\",\" ?/ Husband\",\" Adm-clerical/ Husband\",\" Craft-repair/ Husband\",\" Exec-managerial/ Husband\",\" Handlers-cleaners/ Husband\",\" Machine-op-inspct/ Husband\",\" Other-service/ Husband\",\" Prof-specialty/ Husband\",\" Protective-serv/ Husband\",\" Sales/ Husband\",\" Tech-support/ Husband\",\" Transport-moving/ Husband\",\" ?/ Not-in-family\",\" Adm-clerical/ Not-in-family\",\" Armed-Forces/ Not-in-family\",\" Craft-repair/ Not-in-family\",\" Exec-managerial/ Not-in-family\",\" Farming-fishing/ Not-in-family\",\" Handlers-cleaners/ Not-in-family\",\" Machine-op-inspct/ Not-in-family\",\" Other-service/ Not-in-family\",\" Priv-house-serv/ Not-in-family\",\" Prof-specialty/ Not-in-family\",\" Protective-serv/ Not-in-family\",\" Sales/ Not-in-family\",\" Tech-support/ Not-in-family\",\" Transport-moving/ Not-in-family\",\" ?/ Other-relative\",\" Adm-clerical/ Other-relative\",\" Armed-Forces/ Other-relative\",\" Craft-repair/ Other-relative\",\" Exec-managerial/ Other-relative\",\" Farming-fishing/ Other-relative\",\" Handlers-cleaners/ Other-relative\",\" Machine-op-inspct/ Other-relative\",\" Other-service/ Other-relative\",\" Prof-specialty/ Other-relative\",\" Sales/ Other-relative\",\" Tech-support/ Other-relative\",\" Transport-moving/ Other-relative\",\" ?/ Own-child\",\" Adm-clerical/ Own-child\",\" Craft-repair/ Own-child\",\" Exec-managerial/ Own-child\",\" Farming-fishing/ Own-child\",\" Handlers-cleaners/ Own-child\",\" Machine-op-inspct/ Own-child\",\" Other-service/ Own-child\",\" Priv-house-serv/ Own-child\",\" Prof-specialty/ Own-child\",\" Protective-serv/ Own-child\",\" Sales/ Own-child\",\" Tech-support/ Own-child\",\" Transport-moving/ Own-child\",\" ?/ Unmarried\",\" Adm-clerical/ Unmarried\",\" Craft-repair/ Unmarried\",\" Exec-managerial/ Unmarried\",\" Farming-fishing/ Unmarried\",\" Handlers-cleaners/ Unmarried\",\" Machine-op-inspct/ Unmarried\",\" Other-service/ Unmarried\",\" Priv-house-serv/ Unmarried\",\" Sales/ Unmarried\",\" Transport-moving/ Unmarried\",\" Adm-clerical/ Wife\",\" Exec-managerial/ Wife\",\" Machine-op-inspct/ Wife\",\" Other-service/ Wife\",\" Prof-specialty/ Wife\",\" Sales/ Wife\",\" ?/ Husband\",\" Adm-clerical/ Husband\",\" Craft-repair/ Husband\",\" Exec-managerial/ Husband\",\" Farming-fishing/ Husband\",\" Handlers-cleaners/ Husband\",\" Machine-op-inspct/ Husband\",\" Other-service/ Husband\",\" Prof-specialty/ Husband\",\" Protective-serv/ Husband\",\" Sales/ Husband\",\" Tech-support/ Husband\",\" Transport-moving/ Husband\",\" ?/ Not-in-family\",\" Adm-clerical/ Not-in-family\",\" Armed-Forces/ Not-in-family\",\" Craft-repair/ Not-in-family\",\" Exec-managerial/ Not-in-family\",\" Farming-fishing/ Not-in-family\",\" Handlers-cleaners/ Not-in-family\",\" Machine-op-inspct/ Not-in-family\",\" Other-service/ Not-in-family\",\" Priv-house-serv/ Not-in-family\",\" Prof-specialty/ Not-in-family\",\" Protective-serv/ Not-in-family\",\" Sales/ Not-in-family\",\" Tech-support/ Not-in-family\",\" Transport-moving/ Not-in-family\",\" ?/ Other-relative\",\" Adm-clerical/ Other-relative\",\" Craft-repair/ Other-relative\",\" Exec-managerial/ Other-relative\",\" Farming-fishing/ Other-relative\",\" Handlers-cleaners/ Other-relative\",\" Machine-op-inspct/ Other-relative\",\" Other-service/ Other-relative\",\" Prof-specialty/ Other-relative\",\" Protective-serv/ Other-relative\",\" Sales/ Other-relative\",\" ?/ Own-child\",\" Adm-clerical/ Own-child\",\" Armed-Forces/ Own-child\",\" Craft-repair/ Own-child\",\" Exec-managerial/ Own-child\",\" Farming-fishing/ Own-child\",\" Handlers-cleaners/ Own-child\",\" Machine-op-inspct/ Own-child\",\" Other-service/ Own-child\",\" Priv-house-serv/ Own-child\",\" Prof-specialty/ Own-child\",\" Protective-serv/ Own-child\",\" Sales/ Own-child\",\" Tech-support/ Own-child\",\" Transport-moving/ Own-child\",\" ?/ Unmarried\",\" Adm-clerical/ Unmarried\",\" Craft-repair/ Unmarried\",\" Exec-managerial/ Unmarried\",\" Farming-fishing/ Unmarried\",\" Handlers-cleaners/ Unmarried\",\" Machine-op-inspct/ Unmarried\",\" Other-service/ Unmarried\",\" Prof-specialty/ Unmarried\",\" Protective-serv/ Unmarried\",\" Sales/ Unmarried\",\" Tech-support/ Unmarried\",\" Transport-moving/ Unmarried\",\" ?/ Wife\",\" Adm-clerical/ Wife\",\" Craft-repair/ Wife\",\" Exec-managerial/ Wife\",\" Machine-op-inspct/ Wife\",\" Other-service/ Wife\",\" Priv-house-serv/ Wife\",\" Prof-specialty/ Wife\",\" Sales/ Wife\",\" ?/ Husband\",\" Adm-clerical/ Husband\",\" Craft-repair/ Husband\",\" Exec-managerial/ Husband\",\" Farming-fishing/ Husband\",\" Handlers-cleaners/ Husband\",\" Machine-op-inspct/ Husband\",\" Other-service/ Husband\",\" Prof-specialty/ Husband\",\" Protective-serv/ Husband\",\" Sales/ Husband\",\" Tech-support/ Husband\",\" Transport-moving/ Husband\",\" ?/ Not-in-family\",\" Adm-clerical/ Not-in-family\",\" Craft-repair/ Not-in-family\",\" Exec-managerial/ Not-in-family\",\" Farming-fishing/ Not-in-family\",\" Handlers-cleaners/ Not-in-family\",\" Machine-op-inspct/ Not-in-family\",\" Other-service/ Not-in-family\",\" Priv-house-serv/ Not-in-family\",\" Prof-specialty/ Not-in-family\",\" Protective-serv/ Not-in-family\",\" Sales/ Not-in-family\",\" Tech-support/ Not-in-family\",\" Transport-moving/ Not-in-family\",\" ?/ Other-relative\",\" Adm-clerical/ Other-relative\",\" Craft-repair/ Other-relative\",\" Exec-managerial/ Other-relative\",\" Farming-fishing/ Other-relative\",\" Handlers-cleaners/ Other-relative\",\" Machine-op-inspct/ Other-relative\",\" Other-service/ Other-relative\",\" Priv-house-serv/ Other-relative\",\" Prof-specialty/ Other-relative\",\" Protective-serv/ Other-relative\",\" Sales/ Other-relative\",\" Tech-support/ Other-relative\",\" Transport-moving/ Other-relative\",\" ?/ Own-child\",\" Adm-clerical/ Own-child\",\" Craft-repair/ Own-child\",\" Exec-managerial/ Own-child\",\" Farming-fishing/ Own-child\",\" Handlers-cleaners/ Own-child\",\" Machine-op-inspct/ Own-child\",\" Other-service/ Own-child\",\" Priv-house-serv/ Own-child\",\" Prof-specialty/ Own-child\",\" Protective-serv/ Own-child\",\" Sales/ Own-child\",\" Tech-support/ Own-child\",\" Transport-moving/ Own-child\",\" ?/ Unmarried\",\" Adm-clerical/ Unmarried\",\" Craft-repair/ Unmarried\",\" Exec-managerial/ Unmarried\",\" Farming-fishing/ Unmarried\",\" Handlers-cleaners/ Unmarried\",\" Machine-op-inspct/ Unmarried\",\" Other-service/ Unmarried\",\" Prof-specialty/ Unmarried\",\" Sales/ Unmarried\",\" Tech-support/ Unmarried\",\" Transport-moving/ Unmarried\",\" ?/ Wife\",\" Adm-clerical/ Wife\",\" Exec-managerial/ Wife\",\" Other-service/ Wife\",\" Prof-specialty/ Wife\",\" Protective-serv/ Wife\",\" Sales/ Wife\",\" ?/ Husband\",\" Adm-clerical/ Husband\",\" Craft-repair/ Husband\",\" Exec-managerial/ Husband\",\" Farming-fishing/ Husband\",\" Handlers-cleaners/ Husband\",\" Machine-op-inspct/ Husband\",\" Other-service/ Husband\",\" Prof-specialty/ Husband\",\" Protective-serv/ Husband\",\" Sales/ Husband\",\" Tech-support/ Husband\",\" Transport-moving/ Husband\",\" ?/ Not-in-family\",\" Adm-clerical/ Not-in-family\",\" Craft-repair/ Not-in-family\",\" Exec-managerial/ Not-in-family\",\" Farming-fishing/ Not-in-family\",\" Handlers-cleaners/ Not-in-family\",\" Machine-op-inspct/ Not-in-family\",\" Other-service/ Not-in-family\",\" Priv-house-serv/ Not-in-family\",\" Prof-specialty/ Not-in-family\",\" Protective-serv/ Not-in-family\",\" Sales/ Not-in-family\",\" Tech-support/ Not-in-family\",\" Transport-moving/ Not-in-family\",\" ?/ Other-relative\",\" Adm-clerical/ Other-relative\",\" Craft-repair/ Other-relative\",\" Farming-fishing/ Other-relative\",\" Handlers-cleaners/ Other-relative\",\" Machine-op-inspct/ Other-relative\",\" Other-service/ Other-relative\",\" Priv-house-serv/ Other-relative\",\" Sales/ Other-relative\",\" Tech-support/ Other-relative\",\" ?/ Own-child\",\" Adm-clerical/ Own-child\",\" Craft-repair/ Own-child\",\" Exec-managerial/ Own-child\",\" Farming-fishing/ Own-child\",\" Handlers-cleaners/ Own-child\",\" Machine-op-inspct/ Own-child\",\" Other-service/ Own-child\",\" Prof-specialty/ Own-child\",\" Protective-serv/ Own-child\",\" Sales/ Own-child\",\" Tech-support/ Own-child\",\" Transport-moving/ Own-child\",\" ?/ Unmarried\",\" Adm-clerical/ Unmarried\",\" Craft-repair/ Unmarried\",\" Exec-managerial/ Unmarried\",\" Farming-fishing/ Unmarried\",\" Handlers-cleaners/ Unmarried\",\" Machine-op-inspct/ Unmarried\",\" Other-service/ Unmarried\",\" Prof-specialty/ Unmarried\",\" Protective-serv/ Unmarried\",\" Sales/ Unmarried\",\" Transport-moving/ Unmarried\",\" ?/ Wife\",\" Adm-clerical/ Wife\",\" Exec-managerial/ Wife\",\" Handlers-cleaners/ Wife\",\" Machine-op-inspct/ Wife\",\" Other-service/ Wife\",\" Priv-house-serv/ Wife\",\" Prof-specialty/ Wife\",\" Sales/ Wife\",\" ?/ Husband\",\" Adm-clerical/ Husband\",\" Craft-repair/ Husband\",\" Exec-managerial/ Husband\",\" Farming-fishing/ Husband\",\" Handlers-cleaners/ Husband\",\" Machine-op-inspct/ Husband\",\" Other-service/ Husband\",\" Prof-specialty/ Husband\",\" Protective-serv/ Husband\",\" Sales/ Husband\",\" Tech-support/ Husband\",\" Transport-moving/ Husband\",\" ?/ Not-in-family\",\" Adm-clerical/ Not-in-family\",\" Craft-repair/ Not-in-family\",\" Exec-managerial/ Not-in-family\",\" Farming-fishing/ Not-in-family\",\" Handlers-cleaners/ Not-in-family\",\" Machine-op-inspct/ Not-in-family\",\" Other-service/ Not-in-family\",\" Priv-house-serv/ Not-in-family\",\" Prof-specialty/ Not-in-family\",\" Protective-serv/ Not-in-family\",\" Sales/ Not-in-family\",\" Tech-support/ Not-in-family\",\" Transport-moving/ Not-in-family\",\" ?/ Other-relative\",\" Adm-clerical/ Other-relative\",\" Craft-repair/ Other-relative\",\" Exec-managerial/ Other-relative\",\" Farming-fishing/ Other-relative\",\" Handlers-cleaners/ Other-relative\",\" Machine-op-inspct/ Other-relative\",\" Other-service/ Other-relative\",\" Priv-house-serv/ Other-relative\",\" Prof-specialty/ Other-relative\",\" Sales/ Other-relative\",\" Tech-support/ Other-relative\",\" Transport-moving/ Other-relative\",\" ?/ Own-child\",\" Adm-clerical/ Own-child\",\" Craft-repair/ Own-child\",\" Exec-managerial/ Own-child\",\" Farming-fishing/ Own-child\",\" Handlers-cleaners/ Own-child\",\" Machine-op-inspct/ Own-child\",\" Other-service/ Own-child\",\" Prof-specialty/ Own-child\",\" Protective-serv/ Own-child\",\" Sales/ Own-child\",\" Tech-support/ Own-child\",\" Transport-moving/ Own-child\",\" ?/ Unmarried\",\" Adm-clerical/ Unmarried\",\" Craft-repair/ Unmarried\",\" Exec-managerial/ Unmarried\",\" Farming-fishing/ Unmarried\",\" Handlers-cleaners/ Unmarried\",\" Machine-op-inspct/ Unmarried\",\" Other-service/ Unmarried\",\" Priv-house-serv/ Unmarried\",\" Prof-specialty/ Unmarried\",\" Protective-serv/ Unmarried\",\" Sales/ Unmarried\",\" Tech-support/ Unmarried\",\" ?/ Wife\",\" Adm-clerical/ Wife\",\" Exec-managerial/ Wife\",\" Handlers-cleaners/ Wife\",\" Machine-op-inspct/ Wife\",\" Other-service/ Wife\",\" Prof-specialty/ Wife\",\" Protective-serv/ Wife\",\" Sales/ Wife\",\" Tech-support/ Wife\",\" Adm-clerical/ Husband\",\" Craft-repair/ Husband\",\" Exec-managerial/ Husband\",\" Farming-fishing/ Husband\",\" Handlers-cleaners/ Husband\",\" Machine-op-inspct/ Husband\",\" Other-service/ Husband\",\" Prof-specialty/ Husband\",\" Protective-serv/ Husband\",\" Sales/ Husband\",\" Tech-support/ Husband\",\" Transport-moving/ Husband\",\" ?/ Not-in-family\",\" Adm-clerical/ Not-in-family\",\" Craft-repair/ Not-in-family\",\" Exec-managerial/ Not-in-family\",\" Farming-fishing/ Not-in-family\",\" Handlers-cleaners/ Not-in-family\",\" Machine-op-inspct/ Not-in-family\",\" Other-service/ Not-in-family\",\" Priv-house-serv/ Not-in-family\",\" Prof-specialty/ Not-in-family\",\" Protective-serv/ Not-in-family\",\" Sales/ Not-in-family\",\" Tech-support/ Not-in-family\",\" Transport-moving/ Not-in-family\",\" ?/ Other-relative\",\" Adm-clerical/ Other-relative\",\" Craft-repair/ Other-relative\",\" Farming-fishing/ Other-relative\",\" Handlers-cleaners/ Other-relative\",\" Machine-op-inspct/ Other-relative\",\" Other-service/ Other-relative\",\" Prof-specialty/ Other-relative\",\" Protective-serv/ Other-relative\",\" Sales/ Other-relative\",\" ?/ Own-child\",\" Adm-clerical/ Own-child\",\" Craft-repair/ Own-child\",\" Exec-managerial/ Own-child\",\" Handlers-cleaners/ Own-child\",\" Machine-op-inspct/ Own-child\",\" Other-service/ Own-child\",\" Prof-specialty/ Own-child\",\" Protective-serv/ Own-child\",\" Sales/ Own-child\",\" Tech-support/ Own-child\",\" Transport-moving/ Own-child\",\" ?/ Unmarried\",\" Adm-clerical/ Unmarried\",\" Craft-repair/ Unmarried\",\" Exec-managerial/ Unmarried\",\" Farming-fishing/ Unmarried\",\" Handlers-cleaners/ Unmarried\",\" Machine-op-inspct/ Unmarried\",\" Other-service/ Unmarried\",\" Prof-specialty/ Unmarried\",\" Protective-serv/ Unmarried\",\" Sales/ Unmarried\",\" Tech-support/ Unmarried\",\" Transport-moving/ Unmarried\",\" ?/ Wife\",\" Adm-clerical/ Wife\",\" Craft-repair/ Wife\",\" Exec-managerial/ Wife\",\" Handlers-cleaners/ Wife\",\" Machine-op-inspct/ Wife\",\" Other-service/ Wife\",\" Prof-specialty/ Wife\",\" Protective-serv/ Wife\",\" Sales/ Wife\",\" Tech-support/ Wife\",\" ?/ Husband\",\" Adm-clerical/ Husband\",\" Craft-repair/ Husband\",\" Exec-managerial/ Husband\",\" Farming-fishing/ Husband\",\" Handlers-cleaners/ Husband\",\" Machine-op-inspct/ Husband\",\" Other-service/ Husband\",\" Prof-specialty/ Husband\",\" Protective-serv/ Husband\",\" Sales/ Husband\",\" Tech-support/ Husband\",\" Transport-moving/ Husband\",\" ?/ Not-in-family\",\" Adm-clerical/ Not-in-family\",\" Armed-Forces/ Not-in-family\",\" Craft-repair/ Not-in-family\",\" Exec-managerial/ Not-in-family\",\" Farming-fishing/ Not-in-family\",\" Handlers-cleaners/ Not-in-family\",\" Machine-op-inspct/ Not-in-family\",\" Other-service/ Not-in-family\",\" Priv-house-serv/ Not-in-family\",\" Prof-specialty/ Not-in-family\",\" Protective-serv/ Not-in-family\",\" Sales/ Not-in-family\",\" Tech-support/ Not-in-family\",\" Transport-moving/ Not-in-family\",\" Adm-clerical/ Other-relative\",\" Craft-repair/ Other-relative\",\" Exec-managerial/ Other-relative\",\" Handlers-cleaners/ Other-relative\",\" Machine-op-inspct/ Other-relative\",\" Other-service/ Other-relative\",\" Prof-specialty/ Other-relative\",\" Protective-serv/ Other-relative\",\" Sales/ Other-relative\",\" Transport-moving/ Other-relative\",\" ?/ Own-child\",\" Adm-clerical/ Own-child\",\" Craft-repair/ Own-child\",\" Exec-managerial/ Own-child\",\" Farming-fishing/ Own-child\",\" Handlers-cleaners/ Own-child\",\" Machine-op-inspct/ Own-child\",\" Other-service/ Own-child\",\" Priv-house-serv/ Own-child\",\" Prof-specialty/ Own-child\",\" Protective-serv/ Own-child\",\" Sales/ Own-child\",\" Tech-support/ Own-child\",\" Transport-moving/ Own-child\",\" ?/ Unmarried\",\" Adm-clerical/ Unmarried\",\" Craft-repair/ Unmarried\",\" Exec-managerial/ Unmarried\",\" Farming-fishing/ Unmarried\",\" Handlers-cleaners/ Unmarried\",\" Machine-op-inspct/ Unmarried\",\" Other-service/ Unmarried\",\" Prof-specialty/ Unmarried\",\" Protective-serv/ Unmarried\",\" Sales/ Unmarried\",\" Tech-support/ Unmarried\",\" Transport-moving/ Unmarried\",\" ?/ Wife\",\" Adm-clerical/ Wife\",\" Exec-managerial/ Wife\",\" Farming-fishing/ Wife\",\" Handlers-cleaners/ Wife\",\" Machine-op-inspct/ Wife\",\" Other-service/ Wife\",\" Prof-specialty/ Wife\",\" Sales/ Wife\",\" Tech-support/ Wife\",\" ?/ Husband\",\" Adm-clerical/ Husband\",\" Craft-repair/ Husband\",\" Exec-managerial/ Husband\",\" Farming-fishing/ Husband\",\" Handlers-cleaners/ Husband\",\" Machine-op-inspct/ Husband\",\" Other-service/ Husband\",\" Prof-specialty/ Husband\",\" Protective-serv/ Husband\",\" Sales/ Husband\",\" Tech-support/ Husband\",\" Transport-moving/ Husband\",\" ?/ Not-in-family\",\" Adm-clerical/ Not-in-family\",\" Craft-repair/ Not-in-family\",\" Exec-managerial/ Not-in-family\",\" Farming-fishing/ Not-in-family\",\" Handlers-cleaners/ Not-in-family\",\" Machine-op-inspct/ Not-in-family\",\" Other-service/ Not-in-family\",\" Prof-specialty/ Not-in-family\",\" Protective-serv/ Not-in-family\",\" Sales/ Not-in-family\",\" Tech-support/ Not-in-family\",\" Transport-moving/ Not-in-family\",\" Adm-clerical/ Other-relative\",\" Armed-Forces/ Other-relative\",\" Craft-repair/ Other-relative\",\" Exec-managerial/ Other-relative\",\" Farming-fishing/ Other-relative\",\" Handlers-cleaners/ Other-relative\",\" Machine-op-inspct/ Other-relative\",\" Other-service/ Other-relative\",\" Prof-specialty/ Other-relative\",\" Sales/ Other-relative\",\" Tech-support/ Other-relative\",\" ?/ Own-child\",\" Adm-clerical/ Own-child\",\" Craft-repair/ Own-child\",\" Exec-managerial/ Own-child\",\" Farming-fishing/ Own-child\",\" Handlers-cleaners/ Own-child\",\" Machine-op-inspct/ Own-child\",\" Other-service/ Own-child\",\" Priv-house-serv/ Own-child\",\" Prof-specialty/ Own-child\",\" Protective-serv/ Own-child\",\" Sales/ Own-child\",\" Tech-support/ Own-child\",\" Transport-moving/ Own-child\",\" ?/ Unmarried\",\" Adm-clerical/ Unmarried\",\" Craft-repair/ Unmarried\",\" Exec-managerial/ Unmarried\",\" Farming-fishing/ Unmarried\",\" Handlers-cleaners/ Unmarried\",\" Machine-op-inspct/ Unmarried\",\" Other-service/ Unmarried\",\" Prof-specialty/ Unmarried\",\" Protective-serv/ Unmarried\",\" Sales/ Unmarried\",\" Tech-support/ Unmarried\",\" Transport-moving/ Unmarried\",\" ?/ Wife\",\" Adm-clerical/ Wife\",\" Exec-managerial/ Wife\",\" Machine-op-inspct/ Wife\",\" Other-service/ Wife\",\" Prof-specialty/ Wife\",\" Sales/ Wife\",\" Tech-support/ Wife\",\" Transport-moving/ Wife\",\" ?/ Husband\",\" Adm-clerical/ Husband\",\" Craft-repair/ Husband\",\" Exec-managerial/ Husband\",\" Farming-fishing/ Husband\",\" Handlers-cleaners/ Husband\",\" Machine-op-inspct/ Husband\",\" Other-service/ Husband\",\" Prof-specialty/ Husband\",\" Protective-serv/ Husband\",\" Sales/ Husband\",\" Tech-support/ Husband\",\" Transport-moving/ Husband\",\" ?/ Not-in-family\",\" Adm-clerical/ Not-in-family\",\" Craft-repair/ Not-in-family\",\" Exec-managerial/ Not-in-family\",\" Farming-fishing/ Not-in-family\",\" Handlers-cleaners/ Not-in-family\",\" Machine-op-inspct/ Not-in-family\",\" Other-service/ Not-in-family\",\" Prof-specialty/ Not-in-family\",\" Protective-serv/ Not-in-family\",\" Sales/ Not-in-family\",\" Tech-support/ Not-in-family\",\" Transport-moving/ Not-in-family\",\" Adm-clerical/ Other-relative\",\" Craft-repair/ Other-relative\",\" Handlers-cleaners/ Other-relative\",\" Machine-op-inspct/ Other-relative\",\" Other-service/ Other-relative\",\" Priv-house-serv/ Other-relative\",\" Prof-specialty/ Other-relative\",\" Protective-serv/ Other-relative\",\" Sales/ Other-relative\",\" Transport-moving/ Other-relative\",\" ?/ Own-child\",\" Adm-clerical/ Own-child\",\" Craft-repair/ Own-child\",\" Exec-managerial/ Own-child\",\" Farming-fishing/ Own-child\",\" Handlers-cleaners/ Own-child\",\" Machine-op-inspct/ Own-child\",\" Other-service/ Own-child\",\" Prof-specialty/ Own-child\",\" Protective-serv/ Own-child\",\" Sales/ Own-child\",\" Tech-support/ Own-child\",\" Transport-moving/ Own-child\",\" ?/ Unmarried\",\" Adm-clerical/ Unmarried\",\" Craft-repair/ Unmarried\",\" Exec-managerial/ Unmarried\",\" Farming-fishing/ Unmarried\",\" Handlers-cleaners/ Unmarried\",\" Machine-op-inspct/ Unmarried\",\" Other-service/ Unmarried\",\" Prof-specialty/ Unmarried\",\" Protective-serv/ Unmarried\",\" Sales/ Unmarried\",\" Tech-support/ Unmarried\",\" Transport-moving/ Unmarried\",\" ?/ Wife\",\" Adm-clerical/ Wife\",\" Craft-repair/ Wife\",\" Exec-managerial/ Wife\",\" Farming-fishing/ Wife\",\" Machine-op-inspct/ Wife\",\" Other-service/ Wife\",\" Prof-specialty/ Wife\",\" Sales/ Wife\",\" Tech-support/ Wife\",\" Transport-moving/ Wife\",\" ?/ Husband\",\" Adm-clerical/ Husband\",\" Craft-repair/ Husband\",\" Exec-managerial/ Husband\",\" Farming-fishing/ Husband\",\" Handlers-cleaners/ Husband\",\" Machine-op-inspct/ Husband\",\" Other-service/ Husband\",\" Prof-specialty/ Husband\",\" Protective-serv/ Husband\",\" Sales/ Husband\",\" Tech-support/ Husband\",\" Transport-moving/ Husband\",\" ?/ Not-in-family\",\" Adm-clerical/ Not-in-family\",\" Craft-repair/ Not-in-family\",\" Exec-managerial/ Not-in-family\",\" Farming-fishing/ Not-in-family\",\" Handlers-cleaners/ Not-in-family\",\" Machine-op-inspct/ Not-in-family\",\" Other-service/ Not-in-family\",\" Priv-house-serv/ Not-in-family\",\" Prof-specialty/ Not-in-family\",\" Protective-serv/ Not-in-family\",\" Sales/ Not-in-family\",\" Tech-support/ Not-in-family\",\" Transport-moving/ Not-in-family\",\" Adm-clerical/ Other-relative\",\" Craft-repair/ Other-relative\",\" Exec-managerial/ Other-relative\",\" Farming-fishing/ Other-relative\",\" Handlers-cleaners/ Other-relative\",\" Machine-op-inspct/ Other-relative\",\" Other-service/ Other-relative\",\" Prof-specialty/ Other-relative\",\" Sales/ Other-relative\",\" ?/ Own-child\",\" Adm-clerical/ Own-child\",\" Craft-repair/ Own-child\",\" Exec-managerial/ Own-child\",\" Farming-fishing/ Own-child\",\" Handlers-cleaners/ Own-child\",\" Machine-op-inspct/ Own-child\",\" Other-service/ Own-child\",\" Prof-specialty/ Own-child\",\" Protective-serv/ Own-child\",\" Sales/ Own-child\",\" Tech-support/ Own-child\",\" Transport-moving/ Own-child\",\" ?/ Unmarried\",\" Adm-clerical/ Unmarried\",\" Craft-repair/ Unmarried\",\" Exec-managerial/ Unmarried\",\" Handlers-cleaners/ Unmarried\",\" Machine-op-inspct/ Unmarried\",\" Other-service/ Unmarried\",\" Priv-house-serv/ Unmarried\",\" Prof-specialty/ Unmarried\",\" Protective-serv/ Unmarried\",\" Sales/ Unmarried\",\" Tech-support/ Unmarried\",\" Transport-moving/ Unmarried\",\" ?/ Wife\",\" Adm-clerical/ Wife\",\" Exec-managerial/ Wife\",\" Farming-fishing/ Wife\",\" Handlers-cleaners/ Wife\",\" Machine-op-inspct/ Wife\",\" Other-service/ Wife\",\" Prof-specialty/ Wife\",\" Protective-serv/ Wife\",\" Sales/ Wife\",\" Tech-support/ Wife\",\" Transport-moving/ Wife\",\" Adm-clerical/ Husband\",\" Craft-repair/ Husband\",\" Exec-managerial/ Husband\",\" Farming-fishing/ Husband\",\" Handlers-cleaners/ Husband\",\" Machine-op-inspct/ Husband\",\" Other-service/ Husband\",\" Prof-specialty/ Husband\",\" Protective-serv/ Husband\",\" Sales/ Husband\",\" Tech-support/ Husband\",\" Transport-moving/ Husband\",\" ?/ Not-in-family\",\" Adm-clerical/ Not-in-family\",\" Craft-repair/ Not-in-family\",\" Exec-managerial/ Not-in-family\",\" Farming-fishing/ Not-in-family\",\" Handlers-cleaners/ Not-in-family\",\" Machine-op-inspct/ Not-in-family\",\" Other-service/ Not-in-family\",\" Priv-house-serv/ Not-in-family\",\" Prof-specialty/ Not-in-family\",\" Protective-serv/ Not-in-family\",\" Sales/ Not-in-family\",\" Tech-support/ Not-in-family\",\" Transport-moving/ Not-in-family\",\" ?/ Other-relative\",\" Adm-clerical/ Other-relative\",\" Craft-repair/ Other-relative\",\" Exec-managerial/ Other-relative\",\" Machine-op-inspct/ Other-relative\",\" Other-service/ Other-relative\",\" Prof-specialty/ Other-relative\",\" Transport-moving/ Other-relative\",\" ?/ Own-child\",\" Adm-clerical/ Own-child\",\" Craft-repair/ Own-child\",\" Exec-managerial/ Own-child\",\" Farming-fishing/ Own-child\",\" Handlers-cleaners/ Own-child\",\" Machine-op-inspct/ Own-child\",\" Other-service/ Own-child\",\" Prof-specialty/ Own-child\",\" Protective-serv/ Own-child\",\" Sales/ Own-child\",\" Tech-support/ Own-child\",\" ?/ Unmarried\",\" Adm-clerical/ Unmarried\",\" Craft-repair/ Unmarried\",\" Exec-managerial/ Unmarried\",\" Handlers-cleaners/ Unmarried\",\" Machine-op-inspct/ Unmarried\",\" Other-service/ Unmarried\",\" Prof-specialty/ Unmarried\",\" Protective-serv/ Unmarried\",\" Sales/ Unmarried\",\" Tech-support/ Unmarried\",\" Transport-moving/ Unmarried\",\" ?/ Wife\",\" Adm-clerical/ Wife\",\" Craft-repair/ Wife\",\" Exec-managerial/ Wife\",\" Machine-op-inspct/ Wife\",\" Other-service/ Wife\",\" Prof-specialty/ Wife\",\" Sales/ Wife\",\" Tech-support/ Wife\",\" ?/ Husband\",\" Adm-clerical/ Husband\",\" Armed-Forces/ Husband\",\" Craft-repair/ Husband\",\" Exec-managerial/ Husband\",\" Farming-fishing/ Husband\",\" Handlers-cleaners/ Husband\",\" Machine-op-inspct/ Husband\",\" Other-service/ Husband\",\" Prof-specialty/ Husband\",\" Protective-serv/ Husband\",\" Sales/ Husband\",\" Tech-support/ Husband\",\" Transport-moving/ Husband\",\" ?/ Not-in-family\",\" Adm-clerical/ Not-in-family\",\" Craft-repair/ Not-in-family\",\" Exec-managerial/ Not-in-family\",\" Farming-fishing/ Not-in-family\",\" Handlers-cleaners/ Not-in-family\",\" Machine-op-inspct/ Not-in-family\",\" Other-service/ Not-in-family\",\" Priv-house-serv/ Not-in-family\",\" Prof-specialty/ Not-in-family\",\" Protective-serv/ Not-in-family\",\" Sales/ Not-in-family\",\" Tech-support/ Not-in-family\",\" Transport-moving/ Not-in-family\",\" Adm-clerical/ Other-relative\",\" Craft-repair/ Other-relative\",\" Exec-managerial/ Other-relative\",\" Handlers-cleaners/ Other-relative\",\" Machine-op-inspct/ Other-relative\",\" Other-service/ Other-relative\",\" Prof-specialty/ Other-relative\",\" Protective-serv/ Other-relative\",\" Sales/ Other-relative\",\" ?/ Own-child\",\" Adm-clerical/ Own-child\",\" Craft-repair/ Own-child\",\" Exec-managerial/ Own-child\",\" Farming-fishing/ Own-child\",\" Handlers-cleaners/ Own-child\",\" Machine-op-inspct/ Own-child\",\" Other-service/ Own-child\",\" Prof-specialty/ Own-child\",\" Protective-serv/ Own-child\",\" Sales/ Own-child\",\" Tech-support/ Own-child\",\" Transport-moving/ Own-child\",\" ?/ Unmarried\",\" Adm-clerical/ Unmarried\",\" Craft-repair/ Unmarried\",\" Exec-managerial/ Unmarried\",\" Farming-fishing/ Unmarried\",\" Handlers-cleaners/ Unmarried\",\" Machine-op-inspct/ Unmarried\",\" Other-service/ Unmarried\",\" Priv-house-serv/ Unmarried\",\" Prof-specialty/ Unmarried\",\" Protective-serv/ Unmarried\",\" Sales/ Unmarried\",\" Tech-support/ Unmarried\",\" Transport-moving/ Unmarried\",\" ?/ Wife\",\" Adm-clerical/ Wife\",\" Exec-managerial/ Wife\",\" Farming-fishing/ Wife\",\" Handlers-cleaners/ Wife\",\" Machine-op-inspct/ Wife\",\" Other-service/ Wife\",\" Prof-specialty/ Wife\",\" Sales/ Wife\",\" Tech-support/ Wife\",\" ?/ Husband\",\" Adm-clerical/ Husband\",\" Craft-repair/ Husband\",\" Exec-managerial/ Husband\",\" Farming-fishing/ Husband\",\" Handlers-cleaners/ Husband\",\" Machine-op-inspct/ Husband\",\" Other-service/ Husband\",\" Prof-specialty/ Husband\",\" Protective-serv/ Husband\",\" Sales/ Husband\",\" Tech-support/ Husband\",\" Transport-moving/ Husband\",\" ?/ Not-in-family\",\" Adm-clerical/ Not-in-family\",\" Craft-repair/ Not-in-family\",\" Exec-managerial/ Not-in-family\",\" Farming-fishing/ Not-in-family\",\" Handlers-cleaners/ Not-in-family\",\" Machine-op-inspct/ Not-in-family\",\" Other-service/ Not-in-family\",\" Prof-specialty/ Not-in-family\",\" Protective-serv/ Not-in-family\",\" Sales/ Not-in-family\",\" Tech-support/ Not-in-family\",\" Transport-moving/ Not-in-family\",\" ?/ Other-relative\",\" Adm-clerical/ Other-relative\",\" Craft-repair/ Other-relative\",\" Handlers-cleaners/ Other-relative\",\" Machine-op-inspct/ Other-relative\",\" Other-service/ Other-relative\",\" Prof-specialty/ Other-relative\",\" ?/ Own-child\",\" Adm-clerical/ Own-child\",\" Craft-repair/ Own-child\",\" Exec-managerial/ Own-child\",\" Farming-fishing/ Own-child\",\" Handlers-cleaners/ Own-child\",\" Machine-op-inspct/ Own-child\",\" Other-service/ Own-child\",\" Prof-specialty/ Own-child\",\" Protective-serv/ Own-child\",\" Sales/ Own-child\",\" Tech-support/ Own-child\",\" Transport-moving/ Own-child\",\" ?/ Unmarried\",\" Adm-clerical/ Unmarried\",\" Craft-repair/ Unmarried\",\" Exec-managerial/ Unmarried\",\" Farming-fishing/ Unmarried\",\" Handlers-cleaners/ Unmarried\",\" Machine-op-inspct/ Unmarried\",\" Other-service/ Unmarried\",\" Priv-house-serv/ Unmarried\",\" Prof-specialty/ Unmarried\",\" Protective-serv/ Unmarried\",\" Sales/ Unmarried\",\" Tech-support/ Unmarried\",\" Transport-moving/ Unmarried\",\" ?/ Wife\",\" Adm-clerical/ Wife\",\" Craft-repair/ Wife\",\" Exec-managerial/ Wife\",\" Handlers-cleaners/ Wife\",\" Machine-op-inspct/ Wife\",\" Other-service/ Wife\",\" Prof-specialty/ Wife\",\" Sales/ Wife\",\" Tech-support/ Wife\",\" Transport-moving/ Wife\",\" ?/ Husband\",\" Adm-clerical/ Husband\",\" Craft-repair/ Husband\",\" Exec-managerial/ Husband\",\" Farming-fishing/ Husband\",\" Handlers-cleaners/ Husband\",\" Machine-op-inspct/ Husband\",\" Other-service/ Husband\",\" Prof-specialty/ Husband\",\" Protective-serv/ Husband\",\" Sales/ Husband\",\" Tech-support/ Husband\",\" Transport-moving/ Husband\",\" ?/ Not-in-family\",\" Adm-clerical/ Not-in-family\",\" Craft-repair/ Not-in-family\",\" Exec-managerial/ Not-in-family\",\" Farming-fishing/ Not-in-family\",\" Handlers-cleaners/ Not-in-family\",\" Machine-op-inspct/ Not-in-family\",\" Other-service/ Not-in-family\",\" Prof-specialty/ Not-in-family\",\" Protective-serv/ Not-in-family\",\" Sales/ Not-in-family\",\" Tech-support/ Not-in-family\",\" Transport-moving/ Not-in-family\",\" Adm-clerical/ Other-relative\",\" Craft-repair/ Other-relative\",\" Exec-managerial/ Other-relative\",\" Other-service/ Other-relative\",\" Sales/ Other-relative\",\" Transport-moving/ Other-relative\",\" ?/ Own-child\",\" Adm-clerical/ Own-child\",\" Craft-repair/ Own-child\",\" Exec-managerial/ Own-child\",\" Farming-fishing/ Own-child\",\" Handlers-cleaners/ Own-child\",\" Machine-op-inspct/ Own-child\",\" Other-service/ Own-child\",\" Prof-specialty/ Own-child\",\" Protective-serv/ Own-child\",\" Sales/ Own-child\",\" Tech-support/ Own-child\",\" Transport-moving/ Own-child\",\" ?/ Unmarried\",\" Adm-clerical/ Unmarried\",\" Craft-repair/ Unmarried\",\" Exec-managerial/ Unmarried\",\" Farming-fishing/ Unmarried\",\" Handlers-cleaners/ Unmarried\",\" Machine-op-inspct/ Unmarried\",\" Other-service/ Unmarried\",\" Priv-house-serv/ Unmarried\",\" Prof-specialty/ Unmarried\",\" Protective-serv/ Unmarried\",\" Sales/ Unmarried\",\" Tech-support/ Unmarried\",\" Transport-moving/ Unmarried\",\" ?/ Wife\",\" Adm-clerical/ Wife\",\" Exec-managerial/ Wife\",\" Farming-fishing/ Wife\",\" Machine-op-inspct/ Wife\",\" Other-service/ Wife\",\" Prof-specialty/ Wife\",\" Sales/ Wife\",\" Transport-moving/ Wife\",\" ?/ Husband\",\" Adm-clerical/ Husband\",\" Craft-repair/ Husband\",\" Exec-managerial/ Husband\",\" Farming-fishing/ Husband\",\" Handlers-cleaners/ Husband\",\" Machine-op-inspct/ Husband\",\" Other-service/ Husband\",\" Prof-specialty/ Husband\",\" Protective-serv/ Husband\",\" Sales/ Husband\",\" Tech-support/ Husband\",\" Transport-moving/ Husband\",\" ?/ Not-in-family\",\" Adm-clerical/ Not-in-family\",\" Craft-repair/ Not-in-family\",\" Exec-managerial/ Not-in-family\",\" Farming-fishing/ Not-in-family\",\" Handlers-cleaners/ Not-in-family\",\" Machine-op-inspct/ Not-in-family\",\" Other-service/ Not-in-family\",\" Priv-house-serv/ Not-in-family\",\" Prof-specialty/ Not-in-family\",\" Protective-serv/ Not-in-family\",\" Sales/ Not-in-family\",\" Tech-support/ Not-in-family\",\" Transport-moving/ Not-in-family\",\" Adm-clerical/ Other-relative\",\" Craft-repair/ Other-relative\",\" Exec-managerial/ Other-relative\",\" Farming-fishing/ Other-relative\",\" Handlers-cleaners/ Other-relative\",\" Machine-op-inspct/ Other-relative\",\" Other-service/ Other-relative\",\" Prof-specialty/ Other-relative\",\" Tech-support/ Other-relative\",\" Transport-moving/ Other-relative\",\" Adm-clerical/ Own-child\",\" Craft-repair/ Own-child\",\" Exec-managerial/ Own-child\",\" Farming-fishing/ Own-child\",\" Handlers-cleaners/ Own-child\",\" Machine-op-inspct/ Own-child\",\" Other-service/ Own-child\",\" Prof-specialty/ Own-child\",\" Protective-serv/ Own-child\",\" Tech-support/ Own-child\",\" ?/ Unmarried\",\" Adm-clerical/ Unmarried\",\" Craft-repair/ Unmarried\",\" Exec-managerial/ Unmarried\",\" Farming-fishing/ Unmarried\",\" Handlers-cleaners/ Unmarried\",\" Machine-op-inspct/ Unmarried\",\" Other-service/ Unmarried\",\" Priv-house-serv/ Unmarried\",\" Prof-specialty/ Unmarried\",\" Protective-serv/ Unmarried\",\" Sales/ Unmarried\",\" Tech-support/ Unmarried\",\" Transport-moving/ Unmarried\",\" ?/ Wife\",\" Adm-clerical/ Wife\",\" Exec-managerial/ Wife\",\" Handlers-cleaners/ Wife\",\" Machine-op-inspct/ Wife\",\" Other-service/ Wife\",\" Prof-specialty/ Wife\",\" Sales/ Wife\",\" Tech-support/ Wife\",\" ?/ Husband\",\" Adm-clerical/ Husband\",\" Craft-repair/ Husband\",\" Exec-managerial/ Husband\",\" Farming-fishing/ Husband\",\" Handlers-cleaners/ Husband\",\" Machine-op-inspct/ Husband\",\" Other-service/ Husband\",\" Prof-specialty/ Husband\",\" Protective-serv/ Husband\",\" Sales/ Husband\",\" Tech-support/ Husband\",\" Transport-moving/ Husband\",\" ?/ Not-in-family\",\" Adm-clerical/ Not-in-family\",\" Craft-repair/ Not-in-family\",\" Exec-managerial/ Not-in-family\",\" Farming-fishing/ Not-in-family\",\" Handlers-cleaners/ Not-in-family\",\" Machine-op-inspct/ Not-in-family\",\" Other-service/ Not-in-family\",\" Prof-specialty/ Not-in-family\",\" Protective-serv/ Not-in-family\",\" Sales/ Not-in-family\",\" Tech-support/ Not-in-family\",\" Transport-moving/ Not-in-family\",\" Exec-managerial/ Other-relative\",\" Handlers-cleaners/ Other-relative\",\" Machine-op-inspct/ Other-relative\",\" Other-service/ Other-relative\",\" Prof-specialty/ Other-relative\",\" Tech-support/ Other-relative\",\" ?/ Own-child\",\" Adm-clerical/ Own-child\",\" Craft-repair/ Own-child\",\" Exec-managerial/ Own-child\",\" Farming-fishing/ Own-child\",\" Machine-op-inspct/ Own-child\",\" Other-service/ Own-child\",\" Prof-specialty/ Own-child\",\" Protective-serv/ Own-child\",\" Sales/ Own-child\",\" Tech-support/ Own-child\",\" Transport-moving/ Own-child\",\" ?/ Unmarried\",\" Adm-clerical/ Unmarried\",\" Craft-repair/ Unmarried\",\" Exec-managerial/ Unmarried\",\" Farming-fishing/ Unmarried\",\" Handlers-cleaners/ Unmarried\",\" Machine-op-inspct/ Unmarried\",\" Other-service/ Unmarried\",\" Priv-house-serv/ Unmarried\",\" Prof-specialty/ Unmarried\",\" Protective-serv/ Unmarried\",\" Sales/ Unmarried\",\" Tech-support/ Unmarried\",\" Transport-moving/ Unmarried\",\" ?/ Wife\",\" Adm-clerical/ Wife\",\" Craft-repair/ Wife\",\" Exec-managerial/ Wife\",\" Farming-fishing/ Wife\",\" Handlers-cleaners/ Wife\",\" Machine-op-inspct/ Wife\",\" Other-service/ Wife\",\" Prof-specialty/ Wife\",\" Sales/ Wife\",\" Tech-support/ Wife\",\" ?/ Husband\",\" Adm-clerical/ Husband\",\" Craft-repair/ Husband\",\" Exec-managerial/ Husband\",\" Farming-fishing/ Husband\",\" Handlers-cleaners/ Husband\",\" Machine-op-inspct/ Husband\",\" Other-service/ Husband\",\" Prof-specialty/ Husband\",\" Protective-serv/ Husband\",\" Sales/ Husband\",\" Tech-support/ Husband\",\" Transport-moving/ Husband\",\" ?/ Not-in-family\",\" Adm-clerical/ Not-in-family\",\" Armed-Forces/ Not-in-family\",\" Craft-repair/ Not-in-family\",\" Exec-managerial/ Not-in-family\",\" Farming-fishing/ Not-in-family\",\" Handlers-cleaners/ Not-in-family\",\" Machine-op-inspct/ Not-in-family\",\" Other-service/ Not-in-family\",\" Prof-specialty/ Not-in-family\",\" Protective-serv/ Not-in-family\",\" Sales/ Not-in-family\",\" Tech-support/ Not-in-family\",\" Transport-moving/ Not-in-family\",\" Adm-clerical/ Other-relative\",\" Craft-repair/ Other-relative\",\" Exec-managerial/ Other-relative\",\" Farming-fishing/ Other-relative\",\" Handlers-cleaners/ Other-relative\",\" Machine-op-inspct/ Other-relative\",\" Other-service/ Other-relative\",\" Prof-specialty/ Other-relative\",\" Sales/ Other-relative\",\" Adm-clerical/ Own-child\",\" Craft-repair/ Own-child\",\" Exec-managerial/ Own-child\",\" Farming-fishing/ Own-child\",\" Handlers-cleaners/ Own-child\",\" Machine-op-inspct/ Own-child\",\" Other-service/ Own-child\",\" Prof-specialty/ Own-child\",\" Protective-serv/ Own-child\",\" Sales/ Own-child\",\" Transport-moving/ Own-child\",\" ?/ Unmarried\",\" Adm-clerical/ Unmarried\",\" Craft-repair/ Unmarried\",\" Exec-managerial/ Unmarried\",\" Farming-fishing/ Unmarried\",\" Handlers-cleaners/ Unmarried\",\" Machine-op-inspct/ Unmarried\",\" Other-service/ Unmarried\",\" Priv-house-serv/ Unmarried\",\" Prof-specialty/ Unmarried\",\" Protective-serv/ Unmarried\",\" Sales/ Unmarried\",\" Tech-support/ Unmarried\",\" Transport-moving/ Unmarried\",\" ?/ Wife\",\" Adm-clerical/ Wife\",\" Craft-repair/ Wife\",\" Exec-managerial/ Wife\",\" Farming-fishing/ Wife\",\" Handlers-cleaners/ Wife\",\" Machine-op-inspct/ Wife\",\" Other-service/ Wife\",\" Prof-specialty/ Wife\",\" Sales/ Wife\",\" Tech-support/ Wife\",\" ?/ Husband\",\" Adm-clerical/ Husband\",\" Craft-repair/ Husband\",\" Exec-managerial/ Husband\",\" Farming-fishing/ Husband\",\" Handlers-cleaners/ Husband\",\" Machine-op-inspct/ Husband\",\" Other-service/ Husband\",\" Prof-specialty/ Husband\",\" Protective-serv/ Husband\",\" Sales/ Husband\",\" Tech-support/ Husband\",\" Transport-moving/ Husband\",\" ?/ Not-in-family\",\" Adm-clerical/ Not-in-family\",\" Craft-repair/ Not-in-family\",\" Exec-managerial/ Not-in-family\",\" Farming-fishing/ Not-in-family\",\" Handlers-cleaners/ Not-in-family\",\" Machine-op-inspct/ Not-in-family\",\" Other-service/ Not-in-family\",\" Prof-specialty/ Not-in-family\",\" Protective-serv/ Not-in-family\",\" Sales/ Not-in-family\",\" Tech-support/ Not-in-family\",\" Transport-moving/ Not-in-family\",\" Adm-clerical/ Other-relative\",\" Craft-repair/ Other-relative\",\" Exec-managerial/ Other-relative\",\" Other-service/ Other-relative\",\" Prof-specialty/ Other-relative\",\" Sales/ Other-relative\",\" ?/ Own-child\",\" Adm-clerical/ Own-child\",\" Craft-repair/ Own-child\",\" Exec-managerial/ Own-child\",\" Farming-fishing/ Own-child\",\" Handlers-cleaners/ Own-child\",\" Machine-op-inspct/ Own-child\",\" Other-service/ Own-child\",\" Prof-specialty/ Own-child\",\" Sales/ Own-child\",\" Transport-moving/ Own-child\",\" ?/ Unmarried\",\" Adm-clerical/ Unmarried\",\" Craft-repair/ Unmarried\",\" Exec-managerial/ Unmarried\",\" Farming-fishing/ Unmarried\",\" Machine-op-inspct/ Unmarried\",\" Other-service/ Unmarried\",\" Prof-specialty/ Unmarried\",\" Protective-serv/ Unmarried\",\" Sales/ Unmarried\",\" Tech-support/ Unmarried\",\" Transport-moving/ Unmarried\",\" ?/ Wife\",\" Adm-clerical/ Wife\",\" Craft-repair/ Wife\",\" Exec-managerial/ Wife\",\" Other-service/ Wife\",\" Priv-house-serv/ Wife\",\" Prof-specialty/ Wife\",\" Sales/ Wife\",\" Tech-support/ Wife\",\" ?/ Husband\",\" Adm-clerical/ Husband\",\" Craft-repair/ Husband\",\" Exec-managerial/ Husband\",\" Farming-fishing/ Husband\",\" Handlers-cleaners/ Husband\",\" Machine-op-inspct/ Husband\",\" Other-service/ Husband\",\" Prof-specialty/ Husband\",\" Protective-serv/ Husband\",\" Sales/ Husband\",\" Tech-support/ Husband\",\" Transport-moving/ Husband\",\" ?/ Not-in-family\",\" Adm-clerical/ Not-in-family\",\" Craft-repair/ Not-in-family\",\" Exec-managerial/ Not-in-family\",\" Farming-fishing/ Not-in-family\",\" Handlers-cleaners/ Not-in-family\",\" Machine-op-inspct/ Not-in-family\",\" Other-service/ Not-in-family\",\" Priv-house-serv/ Not-in-family\",\" Prof-specialty/ Not-in-family\",\" Protective-serv/ Not-in-family\",\" Sales/ Not-in-family\",\" Tech-support/ Not-in-family\",\" Transport-moving/ Not-in-family\",\" ?/ Other-relative\",\" Adm-clerical/ Other-relative\",\" Exec-managerial/ Other-relative\",\" Farming-fishing/ Other-relative\",\" Handlers-cleaners/ Other-relative\",\" Machine-op-inspct/ Other-relative\",\" Other-service/ Other-relative\",\" Priv-house-serv/ Other-relative\",\" Prof-specialty/ Other-relative\",\" Sales/ Other-relative\",\" ?/ Own-child\",\" Adm-clerical/ Own-child\",\" Craft-repair/ Own-child\",\" Exec-managerial/ Own-child\",\" Handlers-cleaners/ Own-child\",\" Machine-op-inspct/ Own-child\",\" Other-service/ Own-child\",\" Prof-specialty/ Own-child\",\" Protective-serv/ Own-child\",\" Sales/ Own-child\",\" Transport-moving/ Own-child\",\" ?/ Unmarried\",\" Adm-clerical/ Unmarried\",\" Craft-repair/ Unmarried\",\" Exec-managerial/ Unmarried\",\" Farming-fishing/ Unmarried\",\" Handlers-cleaners/ Unmarried\",\" Machine-op-inspct/ Unmarried\",\" Other-service/ Unmarried\",\" Priv-house-serv/ Unmarried\",\" Prof-specialty/ Unmarried\",\" Protective-serv/ Unmarried\",\" Sales/ Unmarried\",\" Tech-support/ Unmarried\",\" Transport-moving/ Unmarried\",\" ?/ Wife\",\" Adm-clerical/ Wife\",\" Exec-managerial/ Wife\",\" Farming-fishing/ Wife\",\" Machine-op-inspct/ Wife\",\" Other-service/ Wife\",\" Prof-specialty/ Wife\",\" Sales/ Wife\",\" Tech-support/ Wife\",\" Transport-moving/ Wife\",\" ?/ Husband\",\" Adm-clerical/ Husband\",\" Craft-repair/ Husband\",\" Exec-managerial/ Husband\",\" Farming-fishing/ Husband\",\" Handlers-cleaners/ Husband\",\" Machine-op-inspct/ Husband\",\" Other-service/ Husband\",\" Prof-specialty/ Husband\",\" Protective-serv/ Husband\",\" Sales/ Husband\",\" Tech-support/ Husband\",\" Transport-moving/ Husband\",\" ?/ Not-in-family\",\" Adm-clerical/ Not-in-family\",\" Craft-repair/ Not-in-family\",\" Exec-managerial/ Not-in-family\",\" Farming-fishing/ Not-in-family\",\" Handlers-cleaners/ Not-in-family\",\" Machine-op-inspct/ Not-in-family\",\" Other-service/ Not-in-family\",\" Priv-house-serv/ Not-in-family\",\" Prof-specialty/ Not-in-family\",\" Protective-serv/ Not-in-family\",\" Sales/ Not-in-family\",\" Tech-support/ Not-in-family\",\" Transport-moving/ Not-in-family\",\" ?/ Other-relative\",\" Adm-clerical/ Other-relative\",\" Craft-repair/ Other-relative\",\" Handlers-cleaners/ Other-relative\",\" Other-service/ Other-relative\",\" Prof-specialty/ Other-relative\",\" Transport-moving/ Other-relative\",\" ?/ Own-child\",\" Adm-clerical/ Own-child\",\" Craft-repair/ Own-child\",\" Exec-managerial/ Own-child\",\" Farming-fishing/ Own-child\",\" Other-service/ Own-child\",\" Prof-specialty/ Own-child\",\" Sales/ Own-child\",\" Tech-support/ Own-child\",\" Transport-moving/ Own-child\",\" ?/ Unmarried\",\" Adm-clerical/ Unmarried\",\" Craft-repair/ Unmarried\",\" Exec-managerial/ Unmarried\",\" Farming-fishing/ Unmarried\",\" Handlers-cleaners/ Unmarried\",\" Machine-op-inspct/ Unmarried\",\" Other-service/ Unmarried\",\" Prof-specialty/ Unmarried\",\" Protective-serv/ Unmarried\",\" Sales/ Unmarried\",\" Tech-support/ Unmarried\",\" Transport-moving/ Unmarried\",\" ?/ Wife\",\" Adm-clerical/ Wife\",\" Craft-repair/ Wife\",\" Exec-managerial/ Wife\",\" Farming-fishing/ Wife\",\" Machine-op-inspct/ Wife\",\" Other-service/ Wife\",\" Prof-specialty/ Wife\",\" Sales/ Wife\",\" Tech-support/ Wife\",\" ?/ Husband\",\" Adm-clerical/ Husband\",\" Craft-repair/ Husband\",\" Exec-managerial/ Husband\",\" Farming-fishing/ Husband\",\" Handlers-cleaners/ Husband\",\" Machine-op-inspct/ Husband\",\" Other-service/ Husband\",\" Prof-specialty/ Husband\",\" Protective-serv/ Husband\",\" Sales/ Husband\",\" Tech-support/ Husband\",\" Transport-moving/ Husband\",\" ?/ Not-in-family\",\" Adm-clerical/ Not-in-family\",\" Craft-repair/ Not-in-family\",\" Exec-managerial/ Not-in-family\",\" Farming-fishing/ Not-in-family\",\" Handlers-cleaners/ Not-in-family\",\" Machine-op-inspct/ Not-in-family\",\" Other-service/ Not-in-family\",\" Prof-specialty/ Not-in-family\",\" Protective-serv/ Not-in-family\",\" Sales/ Not-in-family\",\" Tech-support/ Not-in-family\",\" Transport-moving/ Not-in-family\",\" ?/ Other-relative\",\" Adm-clerical/ Other-relative\",\" Craft-repair/ Other-relative\",\" Exec-managerial/ Other-relative\",\" Machine-op-inspct/ Other-relative\",\" Sales/ Other-relative\",\" Adm-clerical/ Own-child\",\" Craft-repair/ Own-child\",\" Handlers-cleaners/ Own-child\",\" Machine-op-inspct/ Own-child\",\" Other-service/ Own-child\",\" Prof-specialty/ Own-child\",\" Sales/ Own-child\",\" Tech-support/ Own-child\",\" ?/ Unmarried\",\" Adm-clerical/ Unmarried\",\" Craft-repair/ Unmarried\",\" Exec-managerial/ Unmarried\",\" Farming-fishing/ Unmarried\",\" Handlers-cleaners/ Unmarried\",\" Machine-op-inspct/ Unmarried\",\" Other-service/ Unmarried\",\" Priv-house-serv/ Unmarried\",\" Prof-specialty/ Unmarried\",\" Protective-serv/ Unmarried\",\" Sales/ Unmarried\",\" Tech-support/ Unmarried\",\" Transport-moving/ Unmarried\",\" ?/ Wife\",\" Adm-clerical/ Wife\",\" Craft-repair/ Wife\",\" Exec-managerial/ Wife\",\" Handlers-cleaners/ Wife\",\" Machine-op-inspct/ Wife\",\" Other-service/ Wife\",\" Prof-specialty/ Wife\",\" Sales/ Wife\",\" Tech-support/ Wife\",\" ?/ Husband\",\" Adm-clerical/ Husband\",\" Craft-repair/ Husband\",\" Exec-managerial/ Husband\",\" Farming-fishing/ Husband\",\" Handlers-cleaners/ Husband\",\" Machine-op-inspct/ Husband\",\" Other-service/ Husband\",\" Prof-specialty/ Husband\",\" Protective-serv/ Husband\",\" Sales/ Husband\",\" Tech-support/ Husband\",\" Transport-moving/ Husband\",\" ?/ Not-in-family\",\" Adm-clerical/ Not-in-family\",\" Craft-repair/ Not-in-family\",\" Exec-managerial/ Not-in-family\",\" Farming-fishing/ Not-in-family\",\" Handlers-cleaners/ Not-in-family\",\" Machine-op-inspct/ Not-in-family\",\" Other-service/ Not-in-family\",\" Priv-house-serv/ Not-in-family\",\" Prof-specialty/ Not-in-family\",\" Protective-serv/ Not-in-family\",\" Sales/ Not-in-family\",\" Tech-support/ Not-in-family\",\" Transport-moving/ Not-in-family\",\" Adm-clerical/ Other-relative\",\" Craft-repair/ Other-relative\",\" Exec-managerial/ Other-relative\",\" Other-service/ Other-relative\",\" Protective-serv/ Other-relative\",\" Sales/ Other-relative\",\" Adm-clerical/ Own-child\",\" Craft-repair/ Own-child\",\" Exec-managerial/ Own-child\",\" Farming-fishing/ Own-child\",\" Handlers-cleaners/ Own-child\",\" Machine-op-inspct/ Own-child\",\" Other-service/ Own-child\",\" Prof-specialty/ Own-child\",\" Protective-serv/ Own-child\",\" Sales/ Own-child\",\" Transport-moving/ Own-child\",\" ?/ Unmarried\",\" Adm-clerical/ Unmarried\",\" Craft-repair/ Unmarried\",\" Exec-managerial/ Unmarried\",\" Farming-fishing/ Unmarried\",\" Handlers-cleaners/ Unmarried\",\" Machine-op-inspct/ Unmarried\",\" Other-service/ Unmarried\",\" Prof-specialty/ Unmarried\",\" Sales/ Unmarried\",\" Tech-support/ Unmarried\",\" Transport-moving/ Unmarried\",\" ?/ Wife\",\" Adm-clerical/ Wife\",\" Craft-repair/ Wife\",\" Exec-managerial/ Wife\",\" Handlers-cleaners/ Wife\",\" Machine-op-inspct/ Wife\",\" Other-service/ Wife\",\" Prof-specialty/ Wife\",\" Protective-serv/ Wife\",\" Sales/ Wife\",\" Tech-support/ Wife\",\" Transport-moving/ Wife\",\" ?/ Husband\",\" Adm-clerical/ Husband\",\" Craft-repair/ Husband\",\" Exec-managerial/ Husband\",\" Farming-fishing/ Husband\",\" Handlers-cleaners/ Husband\",\" Machine-op-inspct/ Husband\",\" Other-service/ Husband\",\" Prof-specialty/ Husband\",\" Protective-serv/ Husband\",\" Sales/ Husband\",\" Tech-support/ Husband\",\" Transport-moving/ Husband\",\" ?/ Not-in-family\",\" Adm-clerical/ Not-in-family\",\" Craft-repair/ Not-in-family\",\" Exec-managerial/ Not-in-family\",\" Farming-fishing/ Not-in-family\",\" Handlers-cleaners/ Not-in-family\",\" Machine-op-inspct/ Not-in-family\",\" Other-service/ Not-in-family\",\" Prof-specialty/ Not-in-family\",\" Protective-serv/ Not-in-family\",\" Sales/ Not-in-family\",\" Tech-support/ Not-in-family\",\" Transport-moving/ Not-in-family\",\" Adm-clerical/ Other-relative\",\" Craft-repair/ Other-relative\",\" Farming-fishing/ Other-relative\",\" Handlers-cleaners/ Other-relative\",\" Other-service/ Other-relative\",\" ?/ Own-child\",\" Adm-clerical/ Own-child\",\" Craft-repair/ Own-child\",\" Exec-managerial/ Own-child\",\" Farming-fishing/ Own-child\",\" Machine-op-inspct/ Own-child\",\" Other-service/ Own-child\",\" Prof-specialty/ Own-child\",\" Sales/ Own-child\",\" Tech-support/ Own-child\",\" Transport-moving/ Own-child\",\" ?/ Unmarried\",\" Adm-clerical/ Unmarried\",\" Craft-repair/ Unmarried\",\" Exec-managerial/ Unmarried\",\" Handlers-cleaners/ Unmarried\",\" Machine-op-inspct/ Unmarried\",\" Other-service/ Unmarried\",\" Priv-house-serv/ Unmarried\",\" Prof-specialty/ Unmarried\",\" Protective-serv/ Unmarried\",\" Sales/ Unmarried\",\" Tech-support/ Unmarried\",\" Transport-moving/ Unmarried\",\" ?/ Wife\",\" Adm-clerical/ Wife\",\" Exec-managerial/ Wife\",\" Machine-op-inspct/ Wife\",\" Other-service/ Wife\",\" Prof-specialty/ Wife\",\" Sales/ Wife\",\" Transport-moving/ Wife\",\" ?/ Husband\",\" Adm-clerical/ Husband\",\" Armed-Forces/ Husband\",\" Craft-repair/ Husband\",\" Exec-managerial/ Husband\",\" Farming-fishing/ Husband\",\" Handlers-cleaners/ Husband\",\" Machine-op-inspct/ Husband\",\" Other-service/ Husband\",\" Prof-specialty/ Husband\",\" Protective-serv/ Husband\",\" Sales/ Husband\",\" Tech-support/ Husband\",\" Transport-moving/ Husband\",\" ?/ Not-in-family\",\" Adm-clerical/ Not-in-family\",\" Craft-repair/ Not-in-family\",\" Exec-managerial/ Not-in-family\",\" Farming-fishing/ Not-in-family\",\" Handlers-cleaners/ Not-in-family\",\" Machine-op-inspct/ Not-in-family\",\" Other-service/ Not-in-family\",\" Priv-house-serv/ Not-in-family\",\" Prof-specialty/ Not-in-family\",\" Protective-serv/ Not-in-family\",\" Sales/ Not-in-family\",\" Tech-support/ Not-in-family\",\" Transport-moving/ Not-in-family\",\" Craft-repair/ Other-relative\",\" Handlers-cleaners/ Other-relative\",\" Machine-op-inspct/ Other-relative\",\" Other-service/ Other-relative\",\" Sales/ Other-relative\",\" Tech-support/ Other-relative\",\" Adm-clerical/ Own-child\",\" Craft-repair/ Own-child\",\" Exec-managerial/ Own-child\",\" Handlers-cleaners/ Own-child\",\" Machine-op-inspct/ Own-child\",\" Other-service/ Own-child\",\" Prof-specialty/ Own-child\",\" Sales/ Own-child\",\" Transport-moving/ Own-child\",\" ?/ Unmarried\",\" Adm-clerical/ Unmarried\",\" Craft-repair/ Unmarried\",\" Exec-managerial/ Unmarried\",\" Farming-fishing/ Unmarried\",\" Handlers-cleaners/ Unmarried\",\" Machine-op-inspct/ Unmarried\",\" Other-service/ Unmarried\",\" Priv-house-serv/ Unmarried\",\" Prof-specialty/ Unmarried\",\" Protective-serv/ Unmarried\",\" Sales/ Unmarried\",\" Tech-support/ Unmarried\",\" ?/ Wife\",\" Adm-clerical/ Wife\",\" Craft-repair/ Wife\",\" Exec-managerial/ Wife\",\" Farming-fishing/ Wife\",\" Machine-op-inspct/ Wife\",\" Other-service/ Wife\",\" Priv-house-serv/ Wife\",\" Prof-specialty/ Wife\",\" Sales/ Wife\",\" ?/ Husband\",\" Adm-clerical/ Husband\",\" Craft-repair/ Husband\",\" Exec-managerial/ Husband\",\" Farming-fishing/ Husband\",\" Handlers-cleaners/ Husband\",\" Machine-op-inspct/ Husband\",\" Other-service/ Husband\",\" Prof-specialty/ Husband\",\" Protective-serv/ Husband\",\" Sales/ Husband\",\" Tech-support/ Husband\",\" Transport-moving/ Husband\",\" ?/ Not-in-family\",\" Adm-clerical/ Not-in-family\",\" Craft-repair/ Not-in-family\",\" Exec-managerial/ Not-in-family\",\" Farming-fishing/ Not-in-family\",\" Handlers-cleaners/ Not-in-family\",\" Machine-op-inspct/ Not-in-family\",\" Other-service/ Not-in-family\",\" Priv-house-serv/ Not-in-family\",\" Prof-specialty/ Not-in-family\",\" Protective-serv/ Not-in-family\",\" Sales/ Not-in-family\",\" Tech-support/ Not-in-family\",\" Transport-moving/ Not-in-family\",\" Adm-clerical/ Other-relative\",\" Craft-repair/ Other-relative\",\" Farming-fishing/ Other-relative\",\" Handlers-cleaners/ Other-relative\",\" Machine-op-inspct/ Other-relative\",\" Other-service/ Other-relative\",\" Prof-specialty/ Other-relative\",\" Tech-support/ Other-relative\",\" Adm-clerical/ Own-child\",\" Craft-repair/ Own-child\",\" Exec-managerial/ Own-child\",\" Machine-op-inspct/ Own-child\",\" Other-service/ Own-child\",\" Priv-house-serv/ Own-child\",\" Sales/ Own-child\",\" ?/ Unmarried\",\" Adm-clerical/ Unmarried\",\" Craft-repair/ Unmarried\",\" Exec-managerial/ Unmarried\",\" Farming-fishing/ Unmarried\",\" Handlers-cleaners/ Unmarried\",\" Machine-op-inspct/ Unmarried\",\" Other-service/ Unmarried\",\" Priv-house-serv/ Unmarried\",\" Prof-specialty/ Unmarried\",\" Sales/ Unmarried\",\" Tech-support/ Unmarried\",\" Transport-moving/ Unmarried\",\" ?/ Wife\",\" Adm-clerical/ Wife\",\" Exec-managerial/ Wife\",\" Handlers-cleaners/ Wife\",\" Machine-op-inspct/ Wife\",\" Other-service/ Wife\",\" Prof-specialty/ Wife\",\" Protective-serv/ Wife\",\" Tech-support/ Wife\",\" ?/ Husband\",\" Adm-clerical/ Husband\",\" Craft-repair/ Husband\",\" Exec-managerial/ Husband\",\" Farming-fishing/ Husband\",\" Handlers-cleaners/ Husband\",\" Machine-op-inspct/ Husband\",\" Other-service/ Husband\",\" Prof-specialty/ Husband\",\" Protective-serv/ Husband\",\" Sales/ Husband\",\" Tech-support/ Husband\",\" Transport-moving/ Husband\",\" ?/ Not-in-family\",\" Adm-clerical/ Not-in-family\",\" Craft-repair/ Not-in-family\",\" Exec-managerial/ Not-in-family\",\" Farming-fishing/ Not-in-family\",\" Handlers-cleaners/ Not-in-family\",\" Machine-op-inspct/ Not-in-family\",\" Other-service/ Not-in-family\",\" Priv-house-serv/ Not-in-family\",\" Prof-specialty/ Not-in-family\",\" Protective-serv/ Not-in-family\",\" Sales/ Not-in-family\",\" Transport-moving/ Not-in-family\",\" Adm-clerical/ Other-relative\",\" Craft-repair/ Other-relative\",\" Exec-managerial/ Other-relative\",\" Handlers-cleaners/ Other-relative\",\" Machine-op-inspct/ Other-relative\",\" Other-service/ Other-relative\",\" Prof-specialty/ Other-relative\",\" ?/ Own-child\",\" Adm-clerical/ Own-child\",\" Craft-repair/ Own-child\",\" Exec-managerial/ Own-child\",\" Handlers-cleaners/ Own-child\",\" Machine-op-inspct/ Own-child\",\" Other-service/ Own-child\",\" Prof-specialty/ Own-child\",\" Sales/ Own-child\",\" ?/ Unmarried\",\" Adm-clerical/ Unmarried\",\" Craft-repair/ Unmarried\",\" Exec-managerial/ Unmarried\",\" Handlers-cleaners/ Unmarried\",\" Machine-op-inspct/ Unmarried\",\" Other-service/ Unmarried\",\" Priv-house-serv/ Unmarried\",\" Prof-specialty/ Unmarried\",\" Protective-serv/ Unmarried\",\" Sales/ Unmarried\",\" Tech-support/ Unmarried\",\" Transport-moving/ Unmarried\",\" ?/ Wife\",\" Adm-clerical/ Wife\",\" Exec-managerial/ Wife\",\" Handlers-cleaners/ Wife\",\" Machine-op-inspct/ Wife\",\" Other-service/ Wife\",\" Prof-specialty/ Wife\",\" Sales/ Wife\",\" Tech-support/ Wife\",\" ?/ Husband\",\" Adm-clerical/ Husband\",\" Craft-repair/ Husband\",\" Exec-managerial/ Husband\",\" Farming-fishing/ Husband\",\" Handlers-cleaners/ Husband\",\" Machine-op-inspct/ Husband\",\" Other-service/ Husband\",\" Prof-specialty/ Husband\",\" Protective-serv/ Husband\",\" Sales/ Husband\",\" Tech-support/ Husband\",\" Transport-moving/ Husband\",\" ?/ Not-in-family\",\" Adm-clerical/ Not-in-family\",\" Craft-repair/ Not-in-family\",\" Exec-managerial/ Not-in-family\",\" Farming-fishing/ Not-in-family\",\" Handlers-cleaners/ Not-in-family\",\" Machine-op-inspct/ Not-in-family\",\" Other-service/ Not-in-family\",\" Priv-house-serv/ Not-in-family\",\" Prof-specialty/ Not-in-family\",\" Protective-serv/ Not-in-family\",\" Sales/ Not-in-family\",\" Tech-support/ Not-in-family\",\" Transport-moving/ Not-in-family\",\" ?/ Other-relative\",\" Machine-op-inspct/ Other-relative\",\" Other-service/ Other-relative\",\" Priv-house-serv/ Other-relative\",\" Prof-specialty/ Other-relative\",\" Sales/ Other-relative\",\" Tech-support/ Other-relative\",\" ?/ Own-child\",\" Adm-clerical/ Own-child\",\" Craft-repair/ Own-child\",\" Exec-managerial/ Own-child\",\" Handlers-cleaners/ Own-child\",\" Other-service/ Own-child\",\" Prof-specialty/ Own-child\",\" Sales/ Own-child\",\" ?/ Unmarried\",\" Adm-clerical/ Unmarried\",\" Craft-repair/ Unmarried\",\" Exec-managerial/ Unmarried\",\" Farming-fishing/ Unmarried\",\" Handlers-cleaners/ Unmarried\",\" Machine-op-inspct/ Unmarried\",\" Other-service/ Unmarried\",\" Prof-specialty/ Unmarried\",\" Sales/ Unmarried\",\" Tech-support/ Unmarried\",\" Transport-moving/ Unmarried\",\" ?/ Wife\",\" Adm-clerical/ Wife\",\" Craft-repair/ Wife\",\" Exec-managerial/ Wife\",\" Machine-op-inspct/ Wife\",\" Other-service/ Wife\",\" Prof-specialty/ Wife\",\" Sales/ Wife\",\" ?/ Husband\",\" Adm-clerical/ Husband\",\" Craft-repair/ Husband\",\" Exec-managerial/ Husband\",\" Farming-fishing/ Husband\",\" Handlers-cleaners/ Husband\",\" Machine-op-inspct/ Husband\",\" Other-service/ Husband\",\" Prof-specialty/ Husband\",\" Protective-serv/ Husband\",\" Sales/ Husband\",\" Tech-support/ Husband\",\" Transport-moving/ Husband\",\" ?/ Not-in-family\",\" Adm-clerical/ Not-in-family\",\" Craft-repair/ Not-in-family\",\" Exec-managerial/ Not-in-family\",\" Farming-fishing/ Not-in-family\",\" Handlers-cleaners/ Not-in-family\",\" Machine-op-inspct/ Not-in-family\",\" Other-service/ Not-in-family\",\" Prof-specialty/ Not-in-family\",\" Protective-serv/ Not-in-family\",\" Sales/ Not-in-family\",\" Tech-support/ Not-in-family\",\" Transport-moving/ Not-in-family\",\" ?/ Other-relative\",\" Adm-clerical/ Other-relative\",\" Exec-managerial/ Other-relative\",\" Machine-op-inspct/ Other-relative\",\" Other-service/ Other-relative\",\" Prof-specialty/ Other-relative\",\" ?/ Own-child\",\" Adm-clerical/ Own-child\",\" Craft-repair/ Own-child\",\" Handlers-cleaners/ Own-child\",\" Other-service/ Own-child\",\" Prof-specialty/ Own-child\",\" Tech-support/ Own-child\",\" ?/ Unmarried\",\" Adm-clerical/ Unmarried\",\" Craft-repair/ Unmarried\",\" Exec-managerial/ Unmarried\",\" Handlers-cleaners/ Unmarried\",\" Machine-op-inspct/ Unmarried\",\" Other-service/ Unmarried\",\" Prof-specialty/ Unmarried\",\" Sales/ Unmarried\",\" Tech-support/ Unmarried\",\" Transport-moving/ Unmarried\",\" Adm-clerical/ Wife\",\" Exec-managerial/ Wife\",\" Machine-op-inspct/ Wife\",\" Other-service/ Wife\",\" Prof-specialty/ Wife\",\" Sales/ Wife\",\" Tech-support/ Wife\",\" ?/ Husband\",\" Adm-clerical/ Husband\",\" Craft-repair/ Husband\",\" Exec-managerial/ Husband\",\" Farming-fishing/ Husband\",\" Handlers-cleaners/ Husband\",\" Machine-op-inspct/ Husband\",\" Other-service/ Husband\",\" Prof-specialty/ Husband\",\" Protective-serv/ Husband\",\" Sales/ Husband\",\" Tech-support/ Husband\",\" Transport-moving/ Husband\",\" ?/ Not-in-family\",\" Adm-clerical/ Not-in-family\",\" Craft-repair/ Not-in-family\",\" Exec-managerial/ Not-in-family\",\" Farming-fishing/ Not-in-family\",\" Handlers-cleaners/ Not-in-family\",\" Machine-op-inspct/ Not-in-family\",\" Other-service/ Not-in-family\",\" Prof-specialty/ Not-in-family\",\" Protective-serv/ Not-in-family\",\" Sales/ Not-in-family\",\" Tech-support/ Not-in-family\",\" Transport-moving/ Not-in-family\",\" Adm-clerical/ Other-relative\",\" Craft-repair/ Other-relative\",\" Exec-managerial/ Other-relative\",\" Other-service/ Other-relative\",\" Sales/ Other-relative\",\" Transport-moving/ Other-relative\",\" Adm-clerical/ Own-child\",\" Craft-repair/ Own-child\",\" Farming-fishing/ Own-child\",\" Handlers-cleaners/ Own-child\",\" Machine-op-inspct/ Own-child\",\" Priv-house-serv/ Own-child\",\" Prof-specialty/ Own-child\",\" Transport-moving/ Own-child\",\" ?/ Unmarried\",\" Adm-clerical/ Unmarried\",\" Craft-repair/ Unmarried\",\" Exec-managerial/ Unmarried\",\" Farming-fishing/ Unmarried\",\" Handlers-cleaners/ Unmarried\",\" Machine-op-inspct/ Unmarried\",\" Other-service/ Unmarried\",\" Prof-specialty/ Unmarried\",\" Protective-serv/ Unmarried\",\" Sales/ Unmarried\",\" Tech-support/ Unmarried\",\" Transport-moving/ Unmarried\",\" Adm-clerical/ Wife\",\" Exec-managerial/ Wife\",\" Machine-op-inspct/ Wife\",\" Other-service/ Wife\",\" Prof-specialty/ Wife\",\" Tech-support/ Wife\",\" ?/ Husband\",\" Adm-clerical/ Husband\",\" Craft-repair/ Husband\",\" Exec-managerial/ Husband\",\" Farming-fishing/ Husband\",\" Handlers-cleaners/ Husband\",\" Machine-op-inspct/ Husband\",\" Other-service/ Husband\",\" Prof-specialty/ Husband\",\" Protective-serv/ Husband\",\" Sales/ Husband\",\" Tech-support/ Husband\",\" Transport-moving/ Husband\",\" ?/ Not-in-family\",\" Adm-clerical/ Not-in-family\",\" Craft-repair/ Not-in-family\",\" Exec-managerial/ Not-in-family\",\" Farming-fishing/ Not-in-family\",\" Handlers-cleaners/ Not-in-family\",\" Machine-op-inspct/ Not-in-family\",\" Other-service/ Not-in-family\",\" Priv-house-serv/ Not-in-family\",\" Prof-specialty/ Not-in-family\",\" Sales/ Not-in-family\",\" Transport-moving/ Not-in-family\",\" ?/ Other-relative\",\" Adm-clerical/ Other-relative\",\" Craft-repair/ Other-relative\",\" Farming-fishing/ Other-relative\",\" Machine-op-inspct/ Other-relative\",\" Other-service/ Other-relative\",\" Priv-house-serv/ Other-relative\",\" Sales/ Other-relative\",\" Craft-repair/ Own-child\",\" Machine-op-inspct/ Own-child\",\" Other-service/ Own-child\",\" Priv-house-serv/ Own-child\",\" Prof-specialty/ Own-child\",\" ?/ Unmarried\",\" Adm-clerical/ Unmarried\",\" Craft-repair/ Unmarried\",\" Exec-managerial/ Unmarried\",\" Farming-fishing/ Unmarried\",\" Handlers-cleaners/ Unmarried\",\" Machine-op-inspct/ Unmarried\",\" Other-service/ Unmarried\",\" Prof-specialty/ Unmarried\",\" Protective-serv/ Unmarried\",\" Sales/ Unmarried\",\" Tech-support/ Unmarried\",\" Transport-moving/ Unmarried\",\" ?/ Wife\",\" Adm-clerical/ Wife\",\" Exec-managerial/ Wife\",\" Machine-op-inspct/ Wife\",\" Other-service/ Wife\",\" Prof-specialty/ Wife\",\" Sales/ Wife\",\" Transport-moving/ Wife\",\" ?/ Husband\",\" Adm-clerical/ Husband\",\" Craft-repair/ Husband\",\" Exec-managerial/ Husband\",\" Farming-fishing/ Husband\",\" Handlers-cleaners/ Husband\",\" Machine-op-inspct/ Husband\",\" Other-service/ Husband\",\" Prof-specialty/ Husband\",\" Protective-serv/ Husband\",\" Sales/ Husband\",\" Tech-support/ Husband\",\" Transport-moving/ Husband\",\" ?/ Not-in-family\",\" Adm-clerical/ Not-in-family\",\" Craft-repair/ Not-in-family\",\" Exec-managerial/ Not-in-family\",\" Farming-fishing/ Not-in-family\",\" Handlers-cleaners/ Not-in-family\",\" Machine-op-inspct/ Not-in-family\",\" Other-service/ Not-in-family\",\" Priv-house-serv/ Not-in-family\",\" Prof-specialty/ Not-in-family\",\" Protective-serv/ Not-in-family\",\" Sales/ Not-in-family\",\" Tech-support/ Not-in-family\",\" Transport-moving/ Not-in-family\",\" ?/ Other-relative\",\" Adm-clerical/ Other-relative\",\" Craft-repair/ Other-relative\",\" Other-service/ Other-relative\",\" Priv-house-serv/ Other-relative\",\" Transport-moving/ Other-relative\",\" Adm-clerical/ Own-child\",\" Exec-managerial/ Own-child\",\" Farming-fishing/ Own-child\",\" Machine-op-inspct/ Own-child\",\" Other-service/ Own-child\",\" Sales/ Own-child\",\" ?/ Unmarried\",\" Adm-clerical/ Unmarried\",\" Craft-repair/ Unmarried\",\" Exec-managerial/ Unmarried\",\" Machine-op-inspct/ Unmarried\",\" Other-service/ Unmarried\",\" Prof-specialty/ Unmarried\",\" Sales/ Unmarried\",\" Tech-support/ Unmarried\",\" Transport-moving/ Unmarried\",\" ?/ Wife\",\" Adm-clerical/ Wife\",\" Exec-managerial/ Wife\",\" Machine-op-inspct/ Wife\",\" Other-service/ Wife\",\" Priv-house-serv/ Wife\",\" Prof-specialty/ Wife\",\" Sales/ Wife\",\" ?/ Husband\",\" Adm-clerical/ Husband\",\" Craft-repair/ Husband\",\" Exec-managerial/ Husband\",\" Farming-fishing/ Husband\",\" Handlers-cleaners/ Husband\",\" Machine-op-inspct/ Husband\",\" Other-service/ Husband\",\" Prof-specialty/ Husband\",\" Protective-serv/ Husband\",\" Sales/ Husband\",\" Tech-support/ Husband\",\" Transport-moving/ Husband\",\" ?/ Not-in-family\",\" Adm-clerical/ Not-in-family\",\" Craft-repair/ Not-in-family\",\" Exec-managerial/ Not-in-family\",\" Farming-fishing/ Not-in-family\",\" Machine-op-inspct/ Not-in-family\",\" Other-service/ Not-in-family\",\" Prof-specialty/ Not-in-family\",\" Sales/ Not-in-family\",\" Tech-support/ Not-in-family\",\" Transport-moving/ Not-in-family\",\" ?/ Other-relative\",\" Adm-clerical/ Other-relative\",\" Other-service/ Other-relative\",\" Priv-house-serv/ Other-relative\",\" Prof-specialty/ Other-relative\",\" Tech-support/ Other-relative\",\" ?/ Own-child\",\" Craft-repair/ Own-child\",\" Handlers-cleaners/ Own-child\",\" Other-service/ Own-child\",\" Adm-clerical/ Unmarried\",\" Craft-repair/ Unmarried\",\" Exec-managerial/ Unmarried\",\" Farming-fishing/ Unmarried\",\" Handlers-cleaners/ Unmarried\",\" Machine-op-inspct/ Unmarried\",\" Other-service/ Unmarried\",\" Priv-house-serv/ Unmarried\",\" Prof-specialty/ Unmarried\",\" Sales/ Unmarried\",\" Transport-moving/ Unmarried\",\" ?/ Wife\",\" Adm-clerical/ Wife\",\" Craft-repair/ Wife\",\" Exec-managerial/ Wife\",\" Machine-op-inspct/ Wife\",\" Other-service/ Wife\",\" Prof-specialty/ Wife\",\" Sales/ Wife\",\" ?/ Husband\",\" Adm-clerical/ Husband\",\" Craft-repair/ Husband\",\" Exec-managerial/ Husband\",\" Farming-fishing/ Husband\",\" Handlers-cleaners/ Husband\",\" Machine-op-inspct/ Husband\",\" Other-service/ Husband\",\" Prof-specialty/ Husband\",\" Protective-serv/ Husband\",\" Sales/ Husband\",\" Tech-support/ Husband\",\" Transport-moving/ Husband\",\" ?/ Not-in-family\",\" Adm-clerical/ Not-in-family\",\" Craft-repair/ Not-in-family\",\" Exec-managerial/ Not-in-family\",\" Farming-fishing/ Not-in-family\",\" Handlers-cleaners/ Not-in-family\",\" Machine-op-inspct/ Not-in-family\",\" Other-service/ Not-in-family\",\" Priv-house-serv/ Not-in-family\",\" Prof-specialty/ Not-in-family\",\" Protective-serv/ Not-in-family\",\" Sales/ Not-in-family\",\" Tech-support/ Not-in-family\",\" Transport-moving/ Not-in-family\",\" Adm-clerical/ Other-relative\",\" Craft-repair/ Other-relative\",\" Handlers-cleaners/ Other-relative\",\" Machine-op-inspct/ Other-relative\",\" Other-service/ Other-relative\",\" Prof-specialty/ Other-relative\",\" Tech-support/ Other-relative\",\" ?/ Own-child\",\" Adm-clerical/ Own-child\",\" Craft-repair/ Own-child\",\" Farming-fishing/ Own-child\",\" Machine-op-inspct/ Own-child\",\" Sales/ Own-child\",\" ?/ Unmarried\",\" Adm-clerical/ Unmarried\",\" Craft-repair/ Unmarried\",\" Exec-managerial/ Unmarried\",\" Farming-fishing/ Unmarried\",\" Handlers-cleaners/ Unmarried\",\" Machine-op-inspct/ Unmarried\",\" Other-service/ Unmarried\",\" Priv-house-serv/ Unmarried\",\" Prof-specialty/ Unmarried\",\" Sales/ Unmarried\",\" ?/ Wife\",\" Adm-clerical/ Wife\",\" Exec-managerial/ Wife\",\" Other-service/ Wife\",\" Priv-house-serv/ Wife\",\" Prof-specialty/ Wife\",\" Sales/ Wife\",\" Tech-support/ Wife\",\" ?/ Husband\",\" Adm-clerical/ Husband\",\" Craft-repair/ Husband\",\" Exec-managerial/ Husband\",\" Farming-fishing/ Husband\",\" Handlers-cleaners/ Husband\",\" Machine-op-inspct/ Husband\",\" Other-service/ Husband\",\" Prof-specialty/ Husband\",\" Sales/ Husband\",\" Tech-support/ Husband\",\" Transport-moving/ Husband\",\" ?/ Not-in-family\",\" Adm-clerical/ Not-in-family\",\" Craft-repair/ Not-in-family\",\" Exec-managerial/ Not-in-family\",\" Farming-fishing/ Not-in-family\",\" Handlers-cleaners/ Not-in-family\",\" Machine-op-inspct/ Not-in-family\",\" Other-service/ Not-in-family\",\" Prof-specialty/ Not-in-family\",\" Protective-serv/ Not-in-family\",\" Sales/ Not-in-family\",\" Tech-support/ Not-in-family\",\" Transport-moving/ Not-in-family\",\" Adm-clerical/ Other-relative\",\" Craft-repair/ Other-relative\",\" Exec-managerial/ Other-relative\",\" Sales/ Other-relative\",\" ?/ Own-child\",\" Handlers-cleaners/ Own-child\",\" Other-service/ Own-child\",\" Sales/ Own-child\",\" ?/ Unmarried\",\" Adm-clerical/ Unmarried\",\" Craft-repair/ Unmarried\",\" Exec-managerial/ Unmarried\",\" Farming-fishing/ Unmarried\",\" Machine-op-inspct/ Unmarried\",\" Other-service/ Unmarried\",\" Prof-specialty/ Unmarried\",\" Sales/ Unmarried\",\" Tech-support/ Unmarried\",\" Transport-moving/ Unmarried\",\" Adm-clerical/ Wife\",\" Exec-managerial/ Wife\",\" Farming-fishing/ Wife\",\" Machine-op-inspct/ Wife\",\" Other-service/ Wife\",\" Prof-specialty/ Wife\",\" Sales/ Wife\",\" ?/ Husband\",\" Adm-clerical/ Husband\",\" Craft-repair/ Husband\",\" Exec-managerial/ Husband\",\" Farming-fishing/ Husband\",\" Handlers-cleaners/ Husband\",\" Machine-op-inspct/ Husband\",\" Other-service/ Husband\",\" Prof-specialty/ Husband\",\" Protective-serv/ Husband\",\" Sales/ Husband\",\" Tech-support/ Husband\",\" Transport-moving/ Husband\",\" ?/ Not-in-family\",\" Adm-clerical/ Not-in-family\",\" Craft-repair/ Not-in-family\",\" Exec-managerial/ Not-in-family\",\" Farming-fishing/ Not-in-family\",\" Handlers-cleaners/ Not-in-family\",\" Machine-op-inspct/ Not-in-family\",\" Other-service/ Not-in-family\",\" Priv-house-serv/ Not-in-family\",\" Prof-specialty/ Not-in-family\",\" Protective-serv/ Not-in-family\",\" Sales/ Not-in-family\",\" Tech-support/ Not-in-family\",\" Transport-moving/ Not-in-family\",\" Adm-clerical/ Other-relative\",\" Craft-repair/ Other-relative\",\" Exec-managerial/ Other-relative\",\" Other-service/ Other-relative\",\" Sales/ Other-relative\",\" ?/ Own-child\",\" Adm-clerical/ Own-child\",\" Exec-managerial/ Own-child\",\" Handlers-cleaners/ Own-child\",\" ?/ Unmarried\",\" Adm-clerical/ Unmarried\",\" Craft-repair/ Unmarried\",\" Exec-managerial/ Unmarried\",\" Farming-fishing/ Unmarried\",\" Machine-op-inspct/ Unmarried\",\" Other-service/ Unmarried\",\" Prof-specialty/ Unmarried\",\" Sales/ Unmarried\",\" Transport-moving/ Unmarried\",\" ?/ Wife\",\" Adm-clerical/ Wife\",\" Craft-repair/ Wife\",\" Exec-managerial/ Wife\",\" Prof-specialty/ Wife\",\" Sales/ Wife\",\" ?/ Husband\",\" Adm-clerical/ Husband\",\" Craft-repair/ Husband\",\" Exec-managerial/ Husband\",\" Farming-fishing/ Husband\",\" Handlers-cleaners/ Husband\",\" Machine-op-inspct/ Husband\",\" Other-service/ Husband\",\" Prof-specialty/ Husband\",\" Protective-serv/ Husband\",\" Sales/ Husband\",\" Tech-support/ Husband\",\" Transport-moving/ Husband\",\" ?/ Not-in-family\",\" Adm-clerical/ Not-in-family\",\" Craft-repair/ Not-in-family\",\" Exec-managerial/ Not-in-family\",\" Farming-fishing/ Not-in-family\",\" Handlers-cleaners/ Not-in-family\",\" Machine-op-inspct/ Not-in-family\",\" Other-service/ Not-in-family\",\" Prof-specialty/ Not-in-family\",\" Sales/ Not-in-family\",\" Tech-support/ Not-in-family\",\" Transport-moving/ Not-in-family\",\" Farming-fishing/ Other-relative\",\" Other-service/ Other-relative\",\" Priv-house-serv/ Other-relative\",\" Sales/ Other-relative\",\" Transport-moving/ Other-relative\",\" Craft-repair/ Own-child\",\" Farming-fishing/ Own-child\",\" Handlers-cleaners/ Own-child\",\" Machine-op-inspct/ Own-child\",\" Other-service/ Own-child\",\" Transport-moving/ Own-child\",\" ?/ Unmarried\",\" Adm-clerical/ Unmarried\",\" Craft-repair/ Unmarried\",\" Exec-managerial/ Unmarried\",\" Farming-fishing/ Unmarried\",\" Handlers-cleaners/ Unmarried\",\" Other-service/ Unmarried\",\" Prof-specialty/ Unmarried\",\" Sales/ Unmarried\",\" ?/ Wife\",\" Adm-clerical/ Wife\",\" Craft-repair/ Wife\",\" Exec-managerial/ Wife\",\" Other-service/ Wife\",\" Prof-specialty/ Wife\",\" Sales/ Wife\",\" Transport-moving/ Wife\",\" ?/ Husband\",\" Adm-clerical/ Husband\",\" Craft-repair/ Husband\",\" Exec-managerial/ Husband\",\" Farming-fishing/ Husband\",\" Handlers-cleaners/ Husband\",\" Machine-op-inspct/ Husband\",\" Other-service/ Husband\",\" Prof-specialty/ Husband\",\" Protective-serv/ Husband\",\" Sales/ Husband\",\" Tech-support/ Husband\",\" Transport-moving/ Husband\",\" ?/ Not-in-family\",\" Adm-clerical/ Not-in-family\",\" Craft-repair/ Not-in-family\",\" Exec-managerial/ Not-in-family\",\" Farming-fishing/ Not-in-family\",\" Handlers-cleaners/ Not-in-family\",\" Machine-op-inspct/ Not-in-family\",\" Other-service/ Not-in-family\",\" Priv-house-serv/ Not-in-family\",\" Prof-specialty/ Not-in-family\",\" Protective-serv/ Not-in-family\",\" Sales/ Not-in-family\",\" Tech-support/ Not-in-family\",\" Transport-moving/ Not-in-family\",\" Adm-clerical/ Other-relative\",\" Other-service/ Other-relative\",\" Protective-serv/ Other-relative\",\" Transport-moving/ Other-relative\",\" Adm-clerical/ Own-child\",\" Exec-managerial/ Own-child\",\" Machine-op-inspct/ Own-child\",\" Other-service/ Own-child\",\" ?/ Unmarried\",\" Adm-clerical/ Unmarried\",\" Craft-repair/ Unmarried\",\" Exec-managerial/ Unmarried\",\" Farming-fishing/ Unmarried\",\" Machine-op-inspct/ Unmarried\",\" Other-service/ Unmarried\",\" Prof-specialty/ Unmarried\",\" Protective-serv/ Unmarried\",\" Sales/ Unmarried\",\" Tech-support/ Unmarried\",\" ?/ Wife\",\" Adm-clerical/ Wife\",\" Craft-repair/ Wife\",\" Exec-managerial/ Wife\",\" Machine-op-inspct/ Wife\",\" Other-service/ Wife\",\" Prof-specialty/ Wife\",\" Sales/ Wife\",\" ?/ Husband\",\" Adm-clerical/ Husband\",\" Craft-repair/ Husband\",\" Exec-managerial/ Husband\",\" Farming-fishing/ Husband\",\" Handlers-cleaners/ Husband\",\" Machine-op-inspct/ Husband\",\" Other-service/ Husband\",\" Prof-specialty/ Husband\",\" Protective-serv/ Husband\",\" Sales/ Husband\",\" Tech-support/ Husband\",\" Transport-moving/ Husband\",\" ?/ Not-in-family\",\" Adm-clerical/ Not-in-family\",\" Craft-repair/ Not-in-family\",\" Exec-managerial/ Not-in-family\",\" Farming-fishing/ Not-in-family\",\" Handlers-cleaners/ Not-in-family\",\" Machine-op-inspct/ Not-in-family\",\" Other-service/ Not-in-family\",\" Prof-specialty/ Not-in-family\",\" Protective-serv/ Not-in-family\",\" Sales/ Not-in-family\",\" Transport-moving/ Not-in-family\",\" Adm-clerical/ Other-relative\",\" Prof-specialty/ Other-relative\",\" Craft-repair/ Own-child\",\" Exec-managerial/ Own-child\",\" ?/ Unmarried\",\" Adm-clerical/ Unmarried\",\" Craft-repair/ Unmarried\",\" Exec-managerial/ Unmarried\",\" Farming-fishing/ Unmarried\",\" Machine-op-inspct/ Unmarried\",\" Other-service/ Unmarried\",\" Priv-house-serv/ Unmarried\",\" Prof-specialty/ Unmarried\",\" Sales/ Unmarried\",\" Tech-support/ Unmarried\",\" Transport-moving/ Unmarried\",\" Adm-clerical/ Wife\",\" Exec-managerial/ Wife\",\" Machine-op-inspct/ Wife\",\" Other-service/ Wife\",\" Prof-specialty/ Wife\",\" Sales/ Wife\",\" Tech-support/ Wife\",\" Transport-moving/ Wife\",\" ?/ Husband\",\" Adm-clerical/ Husband\",\" Craft-repair/ Husband\",\" Exec-managerial/ Husband\",\" Farming-fishing/ Husband\",\" Handlers-cleaners/ Husband\",\" Machine-op-inspct/ Husband\",\" Other-service/ Husband\",\" Prof-specialty/ Husband\",\" Protective-serv/ Husband\",\" Sales/ Husband\",\" Tech-support/ Husband\",\" Transport-moving/ Husband\",\" ?/ Not-in-family\",\" Adm-clerical/ Not-in-family\",\" Craft-repair/ Not-in-family\",\" Exec-managerial/ Not-in-family\",\" Farming-fishing/ Not-in-family\",\" Handlers-cleaners/ Not-in-family\",\" Machine-op-inspct/ Not-in-family\",\" Other-service/ Not-in-family\",\" Priv-house-serv/ Not-in-family\",\" Prof-specialty/ Not-in-family\",\" Sales/ Not-in-family\",\" Transport-moving/ Not-in-family\",\" Adm-clerical/ Other-relative\",\" Farming-fishing/ Other-relative\",\" Other-service/ Other-relative\",\" Adm-clerical/ Own-child\",\" Tech-support/ Own-child\",\" ?/ Unmarried\",\" Adm-clerical/ Unmarried\",\" Exec-managerial/ Unmarried\",\" Farming-fishing/ Unmarried\",\" Machine-op-inspct/ Unmarried\",\" Other-service/ Unmarried\",\" Prof-specialty/ Unmarried\",\" Sales/ Unmarried\",\" Transport-moving/ Unmarried\",\" Adm-clerical/ Wife\",\" Exec-managerial/ Wife\",\" Farming-fishing/ Wife\",\" Other-service/ Wife\",\" Tech-support/ Wife\",\" ?/ Husband\",\" Adm-clerical/ Husband\",\" Craft-repair/ Husband\",\" Exec-managerial/ Husband\",\" Farming-fishing/ Husband\",\" Handlers-cleaners/ Husband\",\" Machine-op-inspct/ Husband\",\" Other-service/ Husband\",\" Prof-specialty/ Husband\",\" Protective-serv/ Husband\",\" Sales/ Husband\",\" Tech-support/ Husband\",\" Transport-moving/ Husband\",\" ?/ Not-in-family\",\" Adm-clerical/ Not-in-family\",\" Craft-repair/ Not-in-family\",\" Exec-managerial/ Not-in-family\",\" Farming-fishing/ Not-in-family\",\" Handlers-cleaners/ Not-in-family\",\" Machine-op-inspct/ Not-in-family\",\" Other-service/ Not-in-family\",\" Priv-house-serv/ Not-in-family\",\" Prof-specialty/ Not-in-family\",\" Protective-serv/ Not-in-family\",\" Sales/ Not-in-family\",\" Adm-clerical/ Other-relative\",\" Farming-fishing/ Other-relative\",\" Handlers-cleaners/ Other-relative\",\" Other-service/ Other-relative\",\" Transport-moving/ Other-relative\",\" Craft-repair/ Own-child\",\" Other-service/ Own-child\",\" ?/ Unmarried\",\" Adm-clerical/ Unmarried\",\" Craft-repair/ Unmarried\",\" Exec-managerial/ Unmarried\",\" Farming-fishing/ Unmarried\",\" Other-service/ Unmarried\",\" Priv-house-serv/ Unmarried\",\" Prof-specialty/ Unmarried\",\" Sales/ Unmarried\",\" Tech-support/ Unmarried\",\" ?/ Wife\",\" Adm-clerical/ Wife\",\" Exec-managerial/ Wife\",\" Prof-specialty/ Wife\",\" Sales/ Wife\",\" ?/ Husband\",\" Adm-clerical/ Husband\",\" Craft-repair/ Husband\",\" Exec-managerial/ Husband\",\" Farming-fishing/ Husband\",\" Handlers-cleaners/ Husband\",\" Machine-op-inspct/ Husband\",\" Other-service/ Husband\",\" Prof-specialty/ Husband\",\" Protective-serv/ Husband\",\" Sales/ Husband\",\" Tech-support/ Husband\",\" Transport-moving/ Husband\",\" ?/ Not-in-family\",\" Adm-clerical/ Not-in-family\",\" Craft-repair/ Not-in-family\",\" Exec-managerial/ Not-in-family\",\" Farming-fishing/ Not-in-family\",\" Handlers-cleaners/ Not-in-family\",\" Machine-op-inspct/ Not-in-family\",\" Other-service/ Not-in-family\",\" Prof-specialty/ Not-in-family\",\" Protective-serv/ Not-in-family\",\" Sales/ Not-in-family\",\" Tech-support/ Not-in-family\",\" Transport-moving/ Not-in-family\",\" Adm-clerical/ Other-relative\",\" Machine-op-inspct/ Other-relative\",\" Other-service/ Other-relative\",\" Exec-managerial/ Own-child\",\" Adm-clerical/ Unmarried\",\" Craft-repair/ Unmarried\",\" Exec-managerial/ Unmarried\",\" Farming-fishing/ Unmarried\",\" Machine-op-inspct/ Unmarried\",\" Other-service/ Unmarried\",\" Sales/ Unmarried\",\" Transport-moving/ Unmarried\",\" ?/ Wife\",\" Adm-clerical/ Wife\",\" Exec-managerial/ Wife\",\" Prof-specialty/ Wife\",\" Sales/ Wife\",\" Transport-moving/ Wife\",\" ?/ Husband\",\" Adm-clerical/ Husband\",\" Craft-repair/ Husband\",\" Exec-managerial/ Husband\",\" Farming-fishing/ Husband\",\" Handlers-cleaners/ Husband\",\" Machine-op-inspct/ Husband\",\" Other-service/ Husband\",\" Prof-specialty/ Husband\",\" Protective-serv/ Husband\",\" Sales/ Husband\",\" Tech-support/ Husband\",\" Transport-moving/ Husband\",\" ?/ Not-in-family\",\" Adm-clerical/ Not-in-family\",\" Craft-repair/ Not-in-family\",\" Exec-managerial/ Not-in-family\",\" Machine-op-inspct/ Not-in-family\",\" Other-service/ Not-in-family\",\" Priv-house-serv/ Not-in-family\",\" Prof-specialty/ Not-in-family\",\" Sales/ Not-in-family\",\" Tech-support/ Not-in-family\",\" Transport-moving/ Not-in-family\",\" Adm-clerical/ Other-relative\",\" Other-service/ Other-relative\",\" Prof-specialty/ Other-relative\",\" ?/ Unmarried\",\" Adm-clerical/ Unmarried\",\" Craft-repair/ Unmarried\",\" Exec-managerial/ Unmarried\",\" Farming-fishing/ Unmarried\",\" Other-service/ Unmarried\",\" Sales/ Unmarried\",\" Tech-support/ Unmarried\",\" Transport-moving/ Unmarried\",\" ?/ Wife\",\" Adm-clerical/ Wife\",\" Exec-managerial/ Wife\",\" Other-service/ Wife\",\" Prof-specialty/ Wife\",\" Sales/ Wife\",\" ?/ Husband\",\" Adm-clerical/ Husband\",\" Craft-repair/ Husband\",\" Exec-managerial/ Husband\",\" Farming-fishing/ Husband\",\" Handlers-cleaners/ Husband\",\" Machine-op-inspct/ Husband\",\" Other-service/ Husband\",\" Prof-specialty/ Husband\",\" Protective-serv/ Husband\",\" Sales/ Husband\",\" Tech-support/ Husband\",\" Transport-moving/ Husband\",\" ?/ Not-in-family\",\" Adm-clerical/ Not-in-family\",\" Craft-repair/ Not-in-family\",\" Exec-managerial/ Not-in-family\",\" Handlers-cleaners/ Not-in-family\",\" Machine-op-inspct/ Not-in-family\",\" Other-service/ Not-in-family\",\" Prof-specialty/ Not-in-family\",\" Protective-serv/ Not-in-family\",\" Sales/ Not-in-family\",\" ?/ Other-relative\",\" Craft-repair/ Other-relative\",\" Exec-managerial/ Other-relative\",\" Machine-op-inspct/ Other-relative\",\" Other-service/ Other-relative\",\" Sales/ Other-relative\",\" ?/ Unmarried\",\" Adm-clerical/ Unmarried\",\" Craft-repair/ Unmarried\",\" Exec-managerial/ Unmarried\",\" Farming-fishing/ Unmarried\",\" Other-service/ Unmarried\",\" Priv-house-serv/ Unmarried\",\" Sales/ Unmarried\",\" ?/ Wife\",\" Adm-clerical/ Wife\",\" Exec-managerial/ Wife\",\" ?/ Husband\",\" Adm-clerical/ Husband\",\" Craft-repair/ Husband\",\" Exec-managerial/ Husband\",\" Farming-fishing/ Husband\",\" Handlers-cleaners/ Husband\",\" Machine-op-inspct/ Husband\",\" Other-service/ Husband\",\" Prof-specialty/ Husband\",\" Protective-serv/ Husband\",\" Sales/ Husband\",\" Tech-support/ Husband\",\" Transport-moving/ Husband\",\" ?/ Not-in-family\",\" Adm-clerical/ Not-in-family\",\" Craft-repair/ Not-in-family\",\" Exec-managerial/ Not-in-family\",\" Machine-op-inspct/ Not-in-family\",\" Other-service/ Not-in-family\",\" Priv-house-serv/ Not-in-family\",\" Prof-specialty/ Not-in-family\",\" Sales/ Not-in-family\",\" Tech-support/ Not-in-family\",\" Transport-moving/ Not-in-family\",\" ?/ Other-relative\",\" Other-service/ Other-relative\",\" Priv-house-serv/ Other-relative\",\" Sales/ Other-relative\",\" ?/ Unmarried\",\" Adm-clerical/ Unmarried\",\" Farming-fishing/ Unmarried\",\" Handlers-cleaners/ Unmarried\",\" Other-service/ Unmarried\",\" Prof-specialty/ Unmarried\",\" Sales/ Unmarried\",\" ?/ Wife\",\" Adm-clerical/ Wife\",\" ?/ Husband\",\" Adm-clerical/ Husband\",\" Craft-repair/ Husband\",\" Exec-managerial/ Husband\",\" Farming-fishing/ Husband\",\" Handlers-cleaners/ Husband\",\" Prof-specialty/ Husband\",\" Protective-serv/ Husband\",\" Sales/ Husband\",\" Tech-support/ Husband\",\" Transport-moving/ Husband\",\" ?/ Not-in-family\",\" Adm-clerical/ Not-in-family\",\" Exec-managerial/ Not-in-family\",\" Farming-fishing/ Not-in-family\",\" Machine-op-inspct/ Not-in-family\",\" Other-service/ Not-in-family\",\" Prof-specialty/ Not-in-family\",\" Protective-serv/ Not-in-family\",\" Sales/ Not-in-family\",\" Transport-moving/ Not-in-family\",\" ?/ Other-relative\",\" Exec-managerial/ Other-relative\",\" Handlers-cleaners/ Other-relative\",\" Machine-op-inspct/ Other-relative\",\" ?/ Own-child\",\" ?/ Unmarried\",\" Adm-clerical/ Unmarried\",\" Exec-managerial/ Unmarried\",\" Other-service/ Unmarried\",\" Prof-specialty/ Unmarried\",\" ?/ Wife\",\" Adm-clerical/ Wife\",\" Exec-managerial/ Wife\",\" Priv-house-serv/ Wife\",\" Prof-specialty/ Wife\",\" ?/ Husband\",\" Adm-clerical/ Husband\",\" Craft-repair/ Husband\",\" Exec-managerial/ Husband\",\" Farming-fishing/ Husband\",\" Handlers-cleaners/ Husband\",\" Other-service/ Husband\",\" Prof-specialty/ Husband\",\" Protective-serv/ Husband\",\" Sales/ Husband\",\" Transport-moving/ Husband\",\" ?/ Not-in-family\",\" Adm-clerical/ Not-in-family\",\" Exec-managerial/ Not-in-family\",\" Farming-fishing/ Not-in-family\",\" Machine-op-inspct/ Not-in-family\",\" Other-service/ Not-in-family\",\" Prof-specialty/ Not-in-family\",\" Protective-serv/ Not-in-family\",\" Sales/ Not-in-family\",\" Transport-moving/ Not-in-family\",\" Adm-clerical/ Other-relative\",\" Priv-house-serv/ Other-relative\",\" ?/ Unmarried\",\" Adm-clerical/ Unmarried\",\" Farming-fishing/ Unmarried\",\" Other-service/ Unmarried\",\" Prof-specialty/ Unmarried\",\" ?/ Wife\",\" ?/ Husband\",\" Adm-clerical/ Husband\",\" Craft-repair/ Husband\",\" Exec-managerial/ Husband\",\" Farming-fishing/ Husband\",\" Handlers-cleaners/ Husband\",\" Machine-op-inspct/ Husband\",\" Other-service/ Husband\",\" Prof-specialty/ Husband\",\" Protective-serv/ Husband\",\" Sales/ Husband\",\" Tech-support/ Husband\",\" Transport-moving/ Husband\",\" ?/ Not-in-family\",\" Adm-clerical/ Not-in-family\",\" Exec-managerial/ Not-in-family\",\" Farming-fishing/ Not-in-family\",\" Handlers-cleaners/ Not-in-family\",\" Machine-op-inspct/ Not-in-family\",\" Other-service/ Not-in-family\",\" Priv-house-serv/ Not-in-family\",\" Prof-specialty/ Not-in-family\",\" Sales/ Not-in-family\",\" Transport-moving/ Not-in-family\",\" Craft-repair/ Other-relative\",\" Farming-fishing/ Other-relative\",\" ?/ Unmarried\",\" Adm-clerical/ Unmarried\",\" Machine-op-inspct/ Unmarried\",\" Transport-moving/ Unmarried\",\" ?/ Wife\",\" Other-service/ Wife\",\" Sales/ Wife\",\" ?/ Husband\",\" Adm-clerical/ Husband\",\" Craft-repair/ Husband\",\" Exec-managerial/ Husband\",\" Farming-fishing/ Husband\",\" Handlers-cleaners/ Husband\",\" Machine-op-inspct/ Husband\",\" Other-service/ Husband\",\" Prof-specialty/ Husband\",\" Sales/ Husband\",\" Tech-support/ Husband\",\" Transport-moving/ Husband\",\" ?/ Not-in-family\",\" Adm-clerical/ Not-in-family\",\" Exec-managerial/ Not-in-family\",\" Farming-fishing/ Not-in-family\",\" Other-service/ Not-in-family\",\" Protective-serv/ Not-in-family\",\" Sales/ Not-in-family\",\" Machine-op-inspct/ Other-relative\",\" Other-service/ Other-relative\",\" Tech-support/ Other-relative\",\" ?/ Unmarried\",\" Adm-clerical/ Unmarried\",\" Craft-repair/ Unmarried\",\" Exec-managerial/ Unmarried\",\" Other-service/ Unmarried\",\" Prof-specialty/ Unmarried\",\" Adm-clerical/ Wife\",\" Machine-op-inspct/ Wife\",\" ?/ Husband\",\" Craft-repair/ Husband\",\" Exec-managerial/ Husband\",\" Farming-fishing/ Husband\",\" Machine-op-inspct/ Husband\",\" Other-service/ Husband\",\" Prof-specialty/ Husband\",\" Protective-serv/ Husband\",\" Sales/ Husband\",\" Transport-moving/ Husband\",\" ?/ Not-in-family\",\" Adm-clerical/ Not-in-family\",\" Craft-repair/ Not-in-family\",\" Exec-managerial/ Not-in-family\",\" Handlers-cleaners/ Not-in-family\",\" Other-service/ Not-in-family\",\" Priv-house-serv/ Not-in-family\",\" Prof-specialty/ Not-in-family\",\" Sales/ Not-in-family\",\" Transport-moving/ Not-in-family\",\" ?/ Other-relative\",\" Exec-managerial/ Other-relative\",\" Sales/ Other-relative\",\" Tech-support/ Own-child\",\" ?/ Unmarried\",\" Craft-repair/ Unmarried\",\" Prof-specialty/ Unmarried\",\" Sales/ Unmarried\",\" Adm-clerical/ Wife\",\" ?/ Husband\",\" Adm-clerical/ Husband\",\" Craft-repair/ Husband\",\" Exec-managerial/ Husband\",\" Farming-fishing/ Husband\",\" Handlers-cleaners/ Husband\",\" Other-service/ Husband\",\" Prof-specialty/ Husband\",\" Protective-serv/ Husband\",\" Sales/ Husband\",\" ?/ Not-in-family\",\" Adm-clerical/ Not-in-family\",\" Other-service/ Not-in-family\",\" Prof-specialty/ Not-in-family\",\" Sales/ Not-in-family\",\" Tech-support/ Not-in-family\",\" ?/ Unmarried\",\" Adm-clerical/ Unmarried\",\" Machine-op-inspct/ Unmarried\",\" Other-service/ Unmarried\",\" Priv-house-serv/ Unmarried\",\" ?/ Wife\",\" Exec-managerial/ Wife\",\" ?/ Husband\",\" Exec-managerial/ Husband\",\" Farming-fishing/ Husband\",\" Handlers-cleaners/ Husband\",\" Machine-op-inspct/ Husband\",\" Other-service/ Husband\",\" Prof-specialty/ Husband\",\" Protective-serv/ Husband\",\" Sales/ Husband\",\" Transport-moving/ Husband\",\" ?/ Not-in-family\",\" Adm-clerical/ Not-in-family\",\" Craft-repair/ Not-in-family\",\" Other-service/ Not-in-family\",\" Prof-specialty/ Not-in-family\",\" Tech-support/ Not-in-family\",\" Other-service/ Other-relative\",\" Prof-specialty/ Other-relative\",\" Sales/ Other-relative\",\" Other-service/ Unmarried\",\" Priv-house-serv/ Unmarried\",\" Sales/ Unmarried\",\" Adm-clerical/ Wife\",\" Sales/ Wife\",\" ?/ Husband\",\" Adm-clerical/ Husband\",\" Exec-managerial/ Husband\",\" Other-service/ Husband\",\" Prof-specialty/ Husband\",\" Sales/ Husband\",\" Transport-moving/ Husband\",\" ?/ Not-in-family\",\" Adm-clerical/ Not-in-family\",\" Craft-repair/ Not-in-family\",\" Farming-fishing/ Not-in-family\",\" Handlers-cleaners/ Not-in-family\",\" Other-service/ Not-in-family\",\" Priv-house-serv/ Not-in-family\",\" Prof-specialty/ Not-in-family\",\" Sales/ Not-in-family\",\" Transport-moving/ Not-in-family\",\" Prof-specialty/ Other-relative\",\" Exec-managerial/ Unmarried\",\" ?/ Husband\",\" Adm-clerical/ Husband\",\" Craft-repair/ Husband\",\" Exec-managerial/ Husband\",\" Farming-fishing/ Husband\",\" Prof-specialty/ Husband\",\" Sales/ Husband\",\" Transport-moving/ Husband\",\" ?/ Not-in-family\",\" Adm-clerical/ Not-in-family\",\" Craft-repair/ Not-in-family\",\" Exec-managerial/ Not-in-family\",\" Priv-house-serv/ Not-in-family\",\" Prof-specialty/ Not-in-family\",\" Protective-serv/ Not-in-family\",\" Sales/ Not-in-family\",\" ?/ Other-relative\",\" Other-service/ Other-relative\",\" Sales/ Other-relative\",\" Other-service/ Unmarried\",\" Prof-specialty/ Unmarried\",\" ?/ Wife\",\" ?/ Husband\",\" Adm-clerical/ Husband\",\" Craft-repair/ Husband\",\" Exec-managerial/ Husband\",\" Other-service/ Husband\",\" Prof-specialty/ Husband\",\" Protective-serv/ Husband\",\" Sales/ Husband\",\" ?/ Not-in-family\",\" Adm-clerical/ Not-in-family\",\" Farming-fishing/ Not-in-family\",\" Handlers-cleaners/ Not-in-family\",\" Other-service/ Not-in-family\",\" Priv-house-serv/ Not-in-family\",\" Prof-specialty/ Not-in-family\",\" Protective-serv/ Not-in-family\",\" Sales/ Not-in-family\",\" Transport-moving/ Not-in-family\",\" ?/ Other-relative\",\" ?/ Unmarried\",\" Other-service/ Unmarried\",\" Sales/ Unmarried\",\" ?/ Husband\",\" Adm-clerical/ Husband\",\" Exec-managerial/ Husband\",\" Farming-fishing/ Husband\",\" Machine-op-inspct/ Husband\",\" Other-service/ Husband\",\" Sales/ Husband\",\" ?/ Not-in-family\",\" Adm-clerical/ Not-in-family\",\" Craft-repair/ Not-in-family\",\" Machine-op-inspct/ Not-in-family\",\" Priv-house-serv/ Not-in-family\",\" Prof-specialty/ Not-in-family\",\" Priv-house-serv/ Unmarried\",\" Priv-house-serv/ Wife\",\" ?/ Husband\",\" Craft-repair/ Husband\",\" Exec-managerial/ Husband\",\" Farming-fishing/ Husband\",\" Handlers-cleaners/ Husband\",\" Transport-moving/ Husband\",\" ?/ Not-in-family\",\" Exec-managerial/ Not-in-family\",\" Machine-op-inspct/ Not-in-family\",\" Other-service/ Not-in-family\",\" Sales/ Not-in-family\",\" Craft-repair/ Unmarried\",\" Sales/ Unmarried\",\" ?/ Husband\",\" Adm-clerical/ Husband\",\" Exec-managerial/ Husband\",\" Farming-fishing/ Husband\",\" Prof-specialty/ Husband\",\" Sales/ Husband\",\" ?/ Not-in-family\",\" Exec-managerial/ Not-in-family\",\" Other-service/ Not-in-family\",\" Priv-house-serv/ Not-in-family\",\" Prof-specialty/ Not-in-family\",\" Sales/ Not-in-family\",\" Prof-specialty/ Other-relative\",\" Prof-specialty/ Unmarried\",\" ?/ Wife\",\" ?/ Husband\",\" Craft-repair/ Husband\",\" Exec-managerial/ Husband\",\" Farming-fishing/ Husband\",\" Other-service/ Husband\",\" Prof-specialty/ Husband\",\" ?/ Not-in-family\",\" Adm-clerical/ Not-in-family\",\" Exec-managerial/ Not-in-family\",\" Farming-fishing/ Not-in-family\",\" Other-service/ Not-in-family\",\" Prof-specialty/ Not-in-family\",\" Farming-fishing/ Unmarried\",\" Other-service/ Unmarried\",\" ?/ Husband\",\" Exec-managerial/ Husband\",\" Prof-specialty/ Husband\",\" Sales/ Husband\",\" Transport-moving/ Husband\",\" ?/ Not-in-family\",\" Adm-clerical/ Not-in-family\",\" Other-service/ Not-in-family\",\" Priv-house-serv/ Not-in-family\",\" Prof-specialty/ Not-in-family\",\" Sales/ Not-in-family\",\" Sales/ Other-relative\",\" ?/ Unmarried\",\" Prof-specialty/ Unmarried\",\" Exec-managerial/ Wife\",\" Craft-repair/ Husband\",\" Farming-fishing/ Husband\",\" Handlers-cleaners/ Husband\",\" ?/ Not-in-family\",\" Exec-managerial/ Not-in-family\",\" Sales/ Not-in-family\",\" Other-service/ Unmarried\",\" Exec-managerial/ Husband\",\" Farming-fishing/ Husband\",\" ?/ Not-in-family\",\" Exec-managerial/ Not-in-family\",\" Protective-serv/ Not-in-family\",\" Sales/ Not-in-family\",\" ?/ Husband\",\" Farming-fishing/ Husband\",\" Prof-specialty/ Husband\",\" Sales/ Husband\",\" ?/ Not-in-family\",\" Adm-clerical/ Not-in-family\",\" Exec-managerial/ Not-in-family\",\" Other-service/ Not-in-family\",\" Prof-specialty/ Not-in-family\",\" Exec-managerial/ Husband\",\" Sales/ Not-in-family\",\" Sales/ Unmarried\",\" Adm-clerical/ Not-in-family\",\" ?/ Not-in-family\",\" Exec-managerial/ Husband\",\" Prof-specialty/ Husband\",\" Adm-clerical/ Unmarried\",\" ?/ Husband\",\" Adm-clerical/ Husband\",\" Craft-repair/ Husband\",\" Exec-managerial/ Husband\",\" Farming-fishing/ Husband\",\" Machine-op-inspct/ Husband\",\" Other-service/ Husband\",\" Prof-specialty/ Husband\",\" Protective-serv/ Husband\",\" Sales/ Husband\",\" ?/ Not-in-family\",\" Adm-clerical/ Not-in-family\",\" Exec-managerial/ Not-in-family\",\" Other-service/ Not-in-family\",\" Prof-specialty/ Not-in-family\",\" ?/ Other-relative\",\" ?/ Own-child\",\" Adm-clerical/ Own-child\",\" Exec-managerial/ Own-child\",\" Handlers-cleaners/ Own-child\",\" Other-service/ Own-child\",\" Prof-specialty/ Own-child\",\" Adm-clerical/ Unmarried\",\" Sales/ Unmarried\",\" Transport-moving/ Unmarried\",\" Exec-managerial/ Wife\",\" Prof-specialty/ Wife\",\" ?\",\" Adm-clerical\",\" Armed-Forces\",\" Craft-repair\",\" Exec-managerial\",\" Farming-fishing\",\" Handlers-cleaners\",\" Machine-op-inspct\",\" Other-service\",\" Prof-specialty\",\" Protective-serv\",\" Sales\",\" Tech-support\",\" Transport-moving\",\" ?\",\" Adm-clerical\",\" Armed-Forces\",\" Craft-repair\",\" Exec-managerial\",\" Farming-fishing\",\" Handlers-cleaners\",\" Machine-op-inspct\",\" Other-service\",\" Priv-house-serv\",\" Prof-specialty\",\" Protective-serv\",\" Sales\",\" Tech-support\",\" Transport-moving\",\" ?\",\" Adm-clerical\",\" Armed-Forces\",\" Craft-repair\",\" Exec-managerial\",\" Farming-fishing\",\" Handlers-cleaners\",\" Machine-op-inspct\",\" Other-service\",\" Priv-house-serv\",\" Prof-specialty\",\" Protective-serv\",\" Sales\",\" Tech-support\",\" Transport-moving\",\" ?\",\" Adm-clerical\",\" Armed-Forces\",\" Craft-repair\",\" Exec-managerial\",\" Farming-fishing\",\" Handlers-cleaners\",\" Machine-op-inspct\",\" Other-service\",\" Priv-house-serv\",\" Prof-specialty\",\" Protective-serv\",\" Sales\",\" Tech-support\",\" Transport-moving\",\" ?\",\" Adm-clerical\",\" Craft-repair\",\" Exec-managerial\",\" Farming-fishing\",\" Handlers-cleaners\",\" Machine-op-inspct\",\" Other-service\",\" Priv-house-serv\",\" Prof-specialty\",\" Protective-serv\",\" Sales\",\" Tech-support\",\" Transport-moving\",\" ?\",\" Adm-clerical\",\" Craft-repair\",\" Exec-managerial\",\" Farming-fishing\",\" Handlers-cleaners\",\" Machine-op-inspct\",\" Other-service\",\" Priv-house-serv\",\" Prof-specialty\",\" Protective-serv\",\" Sales\",\" Tech-support\",\" Transport-moving\",\"\",\"\",\"\",\"\",\"\",\"\",\"\",\"\",\"\",\"\",\"\",\"\",\"\",\"\",\"\"],\"values\":[1,1,1,2,1,4,1,1,3,1,1,1,7,1,4,61,21,12,1,8,38,2,115,7,10,3,78,1,2,2,4,2,1,6,2,2,4,5,7,2,1,10,2,6,4,1,3,1,12,1,1,4,86,44,13,3,13,43,11,130,1,8,5,100,2,6,2,2,1,1,1,1,4,1,10,19,12,4,5,12,5,30,3,4,1,17,1,1,8,6,7,2,8,6,14,5,1,1,88,73,16,8,17,44,18,119,14,2,83,6,13,4,3,1,2,6,1,3,1,1,1,1,2,5,5,3,3,1,4,18,16,10,4,5,15,9,31,1,8,34,5,3,7,7,2,1,1,5,6,9,3,9,2,4,87,85,16,9,17,54,21,90,2,16,8,58,7,17,3,5,2,1,2,2,5,1,3,1,2,1,1,3,10,1,4,5,9,5,1,13,35,20,5,6,13,8,30,2,9,4,11,3,1,7,6,1,2,1,4,4,12,1,1,8,57,66,26,10,12,27,27,90,1,18,3,68,13,13,6,8,2,2,2,3,5,2,4,5,3,1,1,15,4,1,2,7,9,4,3,5,16,39,19,12,6,8,8,32,1,24,2,34,7,12,3,7,4,3,1,6,3,10,1,1,1,7,2,2,48,75,28,17,9,36,11,42,1,23,7,46,10,16,8,9,3,4,2,3,12,4,1,9,2,1,3,4,2,1,1,1,1,3,2,3,11,5,14,11,11,3,1,9,3,9,19,50,1,31,24,7,14,9,39,1,41,3,41,16,7,2,8,1,6,1,2,7,5,3,1,4,1,1,21,66,25,27,4,33,29,53,3,34,7,51,10,12,3,8,8,7,3,5,3,16,3,4,2,2,2,3,1,1,4,2,5,36,3,5,12,12,6,10,7,13,4,10,14,42,1,19,25,6,15,22,32,3,40,5,36,13,5,1,5,2,1,1,6,4,4,1,1,8,9,40,1,25,25,7,18,23,31,1,21,3,42,8,8,3,6,6,2,3,4,7,10,1,2,11,2,4,5,9,1,5,6,4,1,6,1,3,6,31,16,5,12,17,4,14,5,19,6,18,8,42,24,27,6,16,15,33,4,44,4,31,18,9,1,5,6,3,1,7,5,8,1,1,2,2,1,2,11,42,29,23,7,18,15,26,1,30,4,24,12,6,7,19,4,4,2,6,2,12,3,8,5,4,2,14,6,6,5,1,1,1,13,46,21,6,7,20,6,18,9,28,3,15,5,46,28,40,6,10,12,26,1,59,6,32,7,13,1,3,10,2,2,3,12,1,6,3,5,38,17,9,5,14,4,17,20,3,14,9,8,5,13,5,2,1,2,7,9,4,1,7,1,5,8,7,1,2,3,1,5,6,4,10,50,25,10,19,21,10,13,4,24,8,18,10,45,30,27,2,9,14,34,2,55,7,40,15,14,1,3,8,1,3,7,2,3,1,3,3,3,3,6,23,13,16,9,12,11,15,14,6,23,8,8,5,20,7,4,2,4,9,4,1,4,1,5,2,7,11,5,1,2,4,3,2,3,4,14,56,37,8,18,24,8,28,13,30,8,20,13,39,25,35,3,14,16,31,2,53,3,30,13,12,4,6,1,1,6,3,8,2,2,4,10,21,17,13,15,13,17,10,3,11,6,7,9,15,7,4,2,2,7,15,6,1,7,2,5,5,8,1,12,1,3,3,11,1,6,1,3,11,69,24,16,10,31,12,37,11,23,9,25,9,28,1,33,29,5,11,13,25,2,57,7,28,17,2,3,3,2,1,1,4,6,2,1,4,5,20,8,6,5,7,4,14,1,12,2,10,5,4,8,9,6,3,2,3,8,19,5,2,13,2,3,3,11,6,2,2,2,8,10,6,2,6,20,62,41,5,21,28,9,47,17,39,9,26,7,37,38,25,2,9,17,21,41,6,28,10,12,5,1,4,3,2,3,3,2,2,3,1,5,14,15,7,3,9,4,8,1,14,4,13,2,3,5,26,6,5,1,6,7,16,6,1,10,3,2,6,14,4,1,10,9,4,4,1,3,22,81,45,13,12,35,21,46,9,37,10,20,3,35,35,29,10,8,11,34,40,5,22,16,10,2,1,5,1,4,1,2,2,4,1,4,10,14,9,3,4,2,16,6,4,15,1,4,3,25,10,10,1,3,6,21,5,1,10,3,6,6,17,1,7,1,4,7,9,3,1,1,4,12,75,52,8,17,31,11,44,16,50,11,30,7,28,25,33,4,9,11,17,1,40,3,18,8,3,4,6,5,1,2,3,4,3,3,3,8,14,3,2,4,7,10,7,1,6,1,7,8,16,15,12,3,11,20,2,5,2,6,6,1,3,9,10,1,1,3,4,8,1,3,5,1,13,77,52,12,16,26,16,62,19,41,7,30,8,34,28,24,7,12,15,24,1,48,5,31,11,15,1,2,2,1,1,1,3,2,6,16,8,6,1,8,1,11,3,2,7,1,6,22,9,10,4,7,34,5,2,5,2,2,5,9,3,9,3,5,9,3,4,7,21,1,88,73,15,13,26,17,67,11,38,11,31,6,29,30,23,7,12,14,22,1,40,4,26,7,9,1,2,2,1,1,2,1,1,2,2,15,6,8,1,4,4,8,4,4,5,2,5,6,25,7,9,1,5,11,17,1,14,1,8,3,5,5,8,8,1,1,1,6,9,3,1,5,14,94,60,20,18,23,18,48,13,65,11,23,8,21,28,38,9,6,10,29,24,2,33,6,15,1,1,1,3,2,3,2,5,8,6,1,5,3,8,9,6,1,8,2,5,6,20,9,14,1,4,9,21,1,11,1,7,6,2,7,6,3,5,1,2,10,4,3,1,1,6,16,90,61,16,10,40,9,61,13,45,12,30,6,25,27,30,5,9,12,20,38,5,19,10,15,3,3,1,3,2,2,3,7,10,3,2,2,4,6,11,1,5,1,3,5,33,8,13,1,2,8,22,2,16,3,12,6,3,3,12,12,1,1,7,19,5,2,4,29,107,73,18,14,29,23,52,9,36,12,39,2,17,29,30,8,7,19,20,1,25,4,13,7,10,2,2,2,1,1,1,4,1,1,2,6,7,4,3,2,4,7,1,2,4,2,24,9,12,4,2,6,20,2,16,2,8,6,1,1,9,7,1,1,8,14,4,5,4,17,102,87,9,13,25,16,68,11,52,12,22,3,15,28,27,6,6,13,19,25,4,12,5,9,3,1,2,2,1,1,3,8,5,6,1,1,7,3,1,5,1,1,3,28,11,13,1,1,3,19,2,7,1,12,3,3,4,12,1,12,1,1,3,5,12,5,2,2,21,72,71,18,13,32,12,59,10,39,8,25,5,27,1,18,33,3,8,10,15,39,3,18,5,6,2,1,2,1,2,1,2,1,3,10,10,2,1,3,5,8,3,1,3,5,2,28,6,20,2,1,11,15,2,13,1,12,4,1,3,14,3,7,2,1,1,5,17,5,1,3,21,60,59,14,13,29,17,75,4,38,15,23,7,22,27,31,3,9,12,27,31,4,18,8,9,1,5,3,5,3,1,2,9,7,1,2,2,4,4,4,3,4,1,32,7,14,1,9,7,10,1,5,4,7,4,13,2,8,8,1,15,5,1,4,18,71,79,24,9,24,15,70,9,47,18,28,7,22,37,25,3,5,11,17,2,30,3,16,4,10,1,1,1,1,1,1,1,1,1,1,1,6,4,2,1,3,2,3,2,5,2,2,16,10,13,1,6,5,14,2,19,2,12,4,2,3,14,6,2,1,2,12,3,4,4,6,18,68,70,18,11,17,10,72,10,49,15,34,3,20,15,29,5,3,16,14,1,36,2,11,8,7,1,4,1,1,5,1,1,1,8,4,4,3,3,2,4,1,1,3,26,11,15,1,3,4,11,21,1,13,4,7,1,10,1,8,1,5,5,12,3,1,5,17,82,77,14,18,29,12,58,10,47,7,28,4,29,15,29,5,5,11,18,25,1,12,12,8,1,4,1,1,2,2,3,1,2,3,1,1,4,2,2,21,7,22,3,3,5,7,1,27,2,7,2,3,1,13,1,5,1,6,5,17,1,2,5,16,61,88,18,8,23,5,73,8,39,11,30,2,21,19,22,1,4,11,11,1,27,3,12,8,8,4,2,1,2,1,2,4,4,1,3,1,3,5,4,1,3,2,2,29,5,12,2,1,8,18,12,9,2,5,1,8,1,7,1,2,6,8,1,4,1,1,2,24,77,86,11,11,27,14,59,11,37,4,24,3,23,18,25,2,5,6,12,34,7,18,6,9,1,2,2,1,3,2,3,2,2,1,4,5,2,3,2,1,2,31,4,13,1,10,13,2,20,1,7,4,3,2,5,5,2,7,7,3,1,2,21,1,58,77,8,8,30,13,60,17,47,16,32,4,20,16,28,2,6,10,16,1,32,2,15,9,10,3,1,1,1,1,2,5,4,1,2,7,3,2,1,2,2,24,7,11,1,2,7,6,3,20,2,10,4,3,10,1,7,1,4,5,1,7,2,7,21,77,68,12,7,22,20,71,8,47,9,31,3,24,11,24,3,2,4,18,2,23,2,13,3,5,4,1,1,1,1,1,2,1,1,2,2,2,5,1,5,2,25,5,12,1,1,6,14,1,13,10,1,2,2,12,8,1,7,8,8,1,1,6,10,57,58,12,5,19,10,50,5,23,8,26,3,23,9,21,2,6,8,13,1,10,1,12,5,2,2,1,2,3,1,1,1,2,1,1,2,1,2,1,3,4,19,4,10,3,7,13,1,11,1,10,1,1,2,6,6,2,1,2,7,1,2,6,20,71,57,10,6,23,14,41,10,40,2,15,5,21,10,27,2,1,11,18,1,20,3,8,1,3,1,1,1,1,2,2,1,2,2,1,1,2,1,2,1,3,11,5,17,1,4,3,11,16,5,4,2,1,5,1,2,4,3,9,3,9,15,78,64,15,12,21,6,47,13,45,14,28,1,14,16,19,2,1,5,12,18,3,21,2,2,1,3,1,3,1,2,2,2,1,1,1,2,1,1,10,4,12,2,2,10,16,6,1,1,5,6,3,3,11,4,1,10,11,65,67,13,13,19,8,51,11,40,13,29,4,19,12,17,2,2,8,12,26,3,16,2,1,2,2,1,3,1,1,1,1,1,2,2,1,1,1,3,13,2,9,2,3,3,10,9,2,4,3,4,14,7,1,1,10,1,7,10,49,63,7,5,22,7,37,11,34,9,13,1,16,8,15,4,2,9,12,1,12,13,5,2,1,2,1,1,7,1,1,3,1,1,1,3,1,16,4,8,1,2,1,10,4,1,5,1,1,3,6,3,1,5,4,3,1,4,13,55,60,13,3,18,14,33,5,20,7,19,5,14,14,16,2,3,9,12,1,19,1,13,3,7,1,3,1,1,1,1,1,1,1,1,1,1,1,10,3,8,4,4,7,4,1,2,1,8,5,1,1,1,5,1,6,13,44,46,10,2,14,8,23,8,51,7,25,6,9,5,15,1,2,11,14,7,3,7,1,1,1,2,1,1,2,1,1,2,12,4,10,1,1,3,9,1,3,6,1,1,1,1,2,1,5,1,2,10,9,42,51,10,3,9,9,31,4,22,9,22,8,21,6,8,1,3,7,8,1,14,2,9,3,4,1,1,1,1,4,2,1,1,3,1,1,1,1,1,16,5,3,1,2,3,8,1,8,5,2,3,3,2,1,6,2,2,4,16,42,35,5,6,12,12,26,22,4,21,7,17,8,16,1,2,6,11,16,1,5,1,6,1,1,1,1,1,1,1,1,1,9,5,1,1,4,10,2,5,1,1,1,4,1,1,2,1,6,8,5,36,35,9,6,8,14,39,3,29,7,15,4,13,8,9,2,1,5,12,1,14,2,6,3,2,5,1,2,1,1,1,2,1,1,1,8,2,3,1,2,7,3,3,4,2,1,1,4,1,4,11,9,32,46,19,5,14,6,19,2,22,3,16,5,18,6,4,4,2,5,8,19,15,1,3,1,2,2,2,1,1,1,1,1,1,1,3,10,3,5,1,1,9,3,1,1,6,1,2,3,3,4,2,11,7,45,30,15,4,11,7,23,5,26,6,19,6,9,7,12,2,1,9,13,2,14,2,3,1,1,2,2,1,1,2,1,1,2,1,9,1,4,2,3,4,5,1,3,2,2,5,1,2,1,2,2,2,20,8,36,27,10,4,7,12,22,8,25,4,17,8,6,6,6,1,2,8,10,9,3,7,2,1,1,1,1,3,1,1,1,1,2,4,1,8,1,2,1,3,1,3,3,1,1,1,1,22,12,23,24,10,4,11,9,22,3,26,4,21,13,5,1,7,2,5,3,14,2,8,8,1,2,1,1,1,1,1,7,1,1,3,4,3,2,1,4,2,1,3,1,30,6,15,20,10,1,9,7,18,2,15,3,10,7,13,3,5,1,3,2,15,2,10,2,6,1,1,1,1,1,1,1,1,3,2,1,2,3,2,5,1,2,4,5,1,2,2,27,5,19,13,12,3,3,7,16,5,19,2,5,11,4,5,11,4,1,2,9,6,1,9,1,2,1,1,2,1,3,1,2,2,1,3,1,1,1,2,1,3,1,1,16,6,22,18,8,2,2,7,16,2,10,1,7,9,14,3,6,1,7,3,8,4,2,1,1,2,2,3,2,1,3,1,3,1,2,2,3,3,1,1,1,1,27,5,7,21,8,3,3,4,4,2,12,1,6,6,13,1,4,1,2,3,8,2,5,1,1,1,1,2,2,4,3,1,1,1,5,1,2,1,1,2,20,2,7,13,5,2,1,2,10,2,19,1,2,12,4,2,2,2,7,3,5,3,1,3,2,2,2,1,2,3,1,1,1,2,1,1,1,22,2,4,13,9,2,8,3,9,1,10,12,8,6,1,1,9,6,1,4,1,1,1,1,1,1,2,2,1,3,1,1,1,1,1,1,16,3,4,10,5,1,2,11,1,9,2,7,3,5,1,3,3,3,1,10,3,1,1,1,1,3,4,2,4,15,5,3,7,1,1,2,6,8,1,7,1,5,11,8,3,2,2,2,2,1,1,1,1,2,1,1,2,2,1,1,1,1,14,1,3,13,3,3,2,1,5,4,1,1,6,4,3,1,4,1,2,1,2,1,4,2,1,1,1,2,1,1,11,3,5,4,1,2,2,3,3,1,4,3,2,4,1,4,3,2,1,1,1,1,1,1,2,1,1,3,1,12,1,1,3,2,1,2,4,2,5,10,5,4,2,1,1,2,1,1,3,1,1,2,8,2,8,1,3,1,7,2,5,2,7,1,1,5,1,1,2,1,1,1,1,1,1,1,6,1,7,2,2,4,2,6,3,2,1,2,5,1,1,2,1,2,1,5,1,2,3,3,4,2,1,4,3,1,2,2,2,1,3,1,1,1,1,1,1,9,1,3,2,1,2,2,1,4,4,1,1,3,1,2,2,1,1,1,2,1,1,6,1,4,1,1,1,2,3,4,1,1,1,1,1,1,5,1,4,1,1,1,4,1,1,1,1,1,1,5,1,2,1,1,3,1,1,1,1,1,1,1,1,1,5,1,1,2,1,2,1,2,1,1,1,2,1,1,2,2,1,1,1,2,2,1,1,1,1,1,2,1,1,1,2,1,5,1,1,1,1,1,1,1,1,1,1,1,1,1,1,1,1,1,2,1,1,1,1,1,1,1,1,1,1,3,3,1,3,1,2,1,2,4,1,3,4,1,1,1,1,1,1,1,1,1,1,1,1,1,489,608,2,2511,2187,554,437,889,516,1804,372,1506,350,968,440,1163,4,836,991,183,309,461,963,64,1271,140,881,284,315,63,133,2,100,48,31,91,76,190,19,58,13,104,23,30,543,772,1,380,237,148,418,263,891,22,316,80,710,120,167,175,741,247,363,63,99,229,552,35,384,37,319,102,100,133,353,25,240,15,16,84,183,9,307,7,130,49,17,1843,3770,9,4099,4066,994,1370,2002,3295,149,4140,649,3650,928,1597],\"type\":\"treemap\"}],                        {\"template\":{\"data\":{\"bar\":[{\"error_x\":{\"color\":\"#2a3f5f\"},\"error_y\":{\"color\":\"#2a3f5f\"},\"marker\":{\"line\":{\"color\":\"#E5ECF6\",\"width\":0.5},\"pattern\":{\"fillmode\":\"overlay\",\"size\":10,\"solidity\":0.2}},\"type\":\"bar\"}],\"barpolar\":[{\"marker\":{\"line\":{\"color\":\"#E5ECF6\",\"width\":0.5},\"pattern\":{\"fillmode\":\"overlay\",\"size\":10,\"solidity\":0.2}},\"type\":\"barpolar\"}],\"carpet\":[{\"aaxis\":{\"endlinecolor\":\"#2a3f5f\",\"gridcolor\":\"white\",\"linecolor\":\"white\",\"minorgridcolor\":\"white\",\"startlinecolor\":\"#2a3f5f\"},\"baxis\":{\"endlinecolor\":\"#2a3f5f\",\"gridcolor\":\"white\",\"linecolor\":\"white\",\"minorgridcolor\":\"white\",\"startlinecolor\":\"#2a3f5f\"},\"type\":\"carpet\"}],\"choropleth\":[{\"colorbar\":{\"outlinewidth\":0,\"ticks\":\"\"},\"type\":\"choropleth\"}],\"contour\":[{\"colorbar\":{\"outlinewidth\":0,\"ticks\":\"\"},\"colorscale\":[[0.0,\"#0d0887\"],[0.1111111111111111,\"#46039f\"],[0.2222222222222222,\"#7201a8\"],[0.3333333333333333,\"#9c179e\"],[0.4444444444444444,\"#bd3786\"],[0.5555555555555556,\"#d8576b\"],[0.6666666666666666,\"#ed7953\"],[0.7777777777777778,\"#fb9f3a\"],[0.8888888888888888,\"#fdca26\"],[1.0,\"#f0f921\"]],\"type\":\"contour\"}],\"contourcarpet\":[{\"colorbar\":{\"outlinewidth\":0,\"ticks\":\"\"},\"type\":\"contourcarpet\"}],\"heatmap\":[{\"colorbar\":{\"outlinewidth\":0,\"ticks\":\"\"},\"colorscale\":[[0.0,\"#0d0887\"],[0.1111111111111111,\"#46039f\"],[0.2222222222222222,\"#7201a8\"],[0.3333333333333333,\"#9c179e\"],[0.4444444444444444,\"#bd3786\"],[0.5555555555555556,\"#d8576b\"],[0.6666666666666666,\"#ed7953\"],[0.7777777777777778,\"#fb9f3a\"],[0.8888888888888888,\"#fdca26\"],[1.0,\"#f0f921\"]],\"type\":\"heatmap\"}],\"heatmapgl\":[{\"colorbar\":{\"outlinewidth\":0,\"ticks\":\"\"},\"colorscale\":[[0.0,\"#0d0887\"],[0.1111111111111111,\"#46039f\"],[0.2222222222222222,\"#7201a8\"],[0.3333333333333333,\"#9c179e\"],[0.4444444444444444,\"#bd3786\"],[0.5555555555555556,\"#d8576b\"],[0.6666666666666666,\"#ed7953\"],[0.7777777777777778,\"#fb9f3a\"],[0.8888888888888888,\"#fdca26\"],[1.0,\"#f0f921\"]],\"type\":\"heatmapgl\"}],\"histogram\":[{\"marker\":{\"pattern\":{\"fillmode\":\"overlay\",\"size\":10,\"solidity\":0.2}},\"type\":\"histogram\"}],\"histogram2d\":[{\"colorbar\":{\"outlinewidth\":0,\"ticks\":\"\"},\"colorscale\":[[0.0,\"#0d0887\"],[0.1111111111111111,\"#46039f\"],[0.2222222222222222,\"#7201a8\"],[0.3333333333333333,\"#9c179e\"],[0.4444444444444444,\"#bd3786\"],[0.5555555555555556,\"#d8576b\"],[0.6666666666666666,\"#ed7953\"],[0.7777777777777778,\"#fb9f3a\"],[0.8888888888888888,\"#fdca26\"],[1.0,\"#f0f921\"]],\"type\":\"histogram2d\"}],\"histogram2dcontour\":[{\"colorbar\":{\"outlinewidth\":0,\"ticks\":\"\"},\"colorscale\":[[0.0,\"#0d0887\"],[0.1111111111111111,\"#46039f\"],[0.2222222222222222,\"#7201a8\"],[0.3333333333333333,\"#9c179e\"],[0.4444444444444444,\"#bd3786\"],[0.5555555555555556,\"#d8576b\"],[0.6666666666666666,\"#ed7953\"],[0.7777777777777778,\"#fb9f3a\"],[0.8888888888888888,\"#fdca26\"],[1.0,\"#f0f921\"]],\"type\":\"histogram2dcontour\"}],\"mesh3d\":[{\"colorbar\":{\"outlinewidth\":0,\"ticks\":\"\"},\"type\":\"mesh3d\"}],\"parcoords\":[{\"line\":{\"colorbar\":{\"outlinewidth\":0,\"ticks\":\"\"}},\"type\":\"parcoords\"}],\"pie\":[{\"automargin\":true,\"type\":\"pie\"}],\"scatter\":[{\"marker\":{\"colorbar\":{\"outlinewidth\":0,\"ticks\":\"\"}},\"type\":\"scatter\"}],\"scatter3d\":[{\"line\":{\"colorbar\":{\"outlinewidth\":0,\"ticks\":\"\"}},\"marker\":{\"colorbar\":{\"outlinewidth\":0,\"ticks\":\"\"}},\"type\":\"scatter3d\"}],\"scattercarpet\":[{\"marker\":{\"colorbar\":{\"outlinewidth\":0,\"ticks\":\"\"}},\"type\":\"scattercarpet\"}],\"scattergeo\":[{\"marker\":{\"colorbar\":{\"outlinewidth\":0,\"ticks\":\"\"}},\"type\":\"scattergeo\"}],\"scattergl\":[{\"marker\":{\"colorbar\":{\"outlinewidth\":0,\"ticks\":\"\"}},\"type\":\"scattergl\"}],\"scattermapbox\":[{\"marker\":{\"colorbar\":{\"outlinewidth\":0,\"ticks\":\"\"}},\"type\":\"scattermapbox\"}],\"scatterpolar\":[{\"marker\":{\"colorbar\":{\"outlinewidth\":0,\"ticks\":\"\"}},\"type\":\"scatterpolar\"}],\"scatterpolargl\":[{\"marker\":{\"colorbar\":{\"outlinewidth\":0,\"ticks\":\"\"}},\"type\":\"scatterpolargl\"}],\"scatterternary\":[{\"marker\":{\"colorbar\":{\"outlinewidth\":0,\"ticks\":\"\"}},\"type\":\"scatterternary\"}],\"surface\":[{\"colorbar\":{\"outlinewidth\":0,\"ticks\":\"\"},\"colorscale\":[[0.0,\"#0d0887\"],[0.1111111111111111,\"#46039f\"],[0.2222222222222222,\"#7201a8\"],[0.3333333333333333,\"#9c179e\"],[0.4444444444444444,\"#bd3786\"],[0.5555555555555556,\"#d8576b\"],[0.6666666666666666,\"#ed7953\"],[0.7777777777777778,\"#fb9f3a\"],[0.8888888888888888,\"#fdca26\"],[1.0,\"#f0f921\"]],\"type\":\"surface\"}],\"table\":[{\"cells\":{\"fill\":{\"color\":\"#EBF0F8\"},\"line\":{\"color\":\"white\"}},\"header\":{\"fill\":{\"color\":\"#C8D4E3\"},\"line\":{\"color\":\"white\"}},\"type\":\"table\"}]},\"layout\":{\"annotationdefaults\":{\"arrowcolor\":\"#2a3f5f\",\"arrowhead\":0,\"arrowwidth\":1},\"autotypenumbers\":\"strict\",\"coloraxis\":{\"colorbar\":{\"outlinewidth\":0,\"ticks\":\"\"}},\"colorscale\":{\"diverging\":[[0,\"#8e0152\"],[0.1,\"#c51b7d\"],[0.2,\"#de77ae\"],[0.3,\"#f1b6da\"],[0.4,\"#fde0ef\"],[0.5,\"#f7f7f7\"],[0.6,\"#e6f5d0\"],[0.7,\"#b8e186\"],[0.8,\"#7fbc41\"],[0.9,\"#4d9221\"],[1,\"#276419\"]],\"sequential\":[[0.0,\"#0d0887\"],[0.1111111111111111,\"#46039f\"],[0.2222222222222222,\"#7201a8\"],[0.3333333333333333,\"#9c179e\"],[0.4444444444444444,\"#bd3786\"],[0.5555555555555556,\"#d8576b\"],[0.6666666666666666,\"#ed7953\"],[0.7777777777777778,\"#fb9f3a\"],[0.8888888888888888,\"#fdca26\"],[1.0,\"#f0f921\"]],\"sequentialminus\":[[0.0,\"#0d0887\"],[0.1111111111111111,\"#46039f\"],[0.2222222222222222,\"#7201a8\"],[0.3333333333333333,\"#9c179e\"],[0.4444444444444444,\"#bd3786\"],[0.5555555555555556,\"#d8576b\"],[0.6666666666666666,\"#ed7953\"],[0.7777777777777778,\"#fb9f3a\"],[0.8888888888888888,\"#fdca26\"],[1.0,\"#f0f921\"]]},\"colorway\":[\"#636efa\",\"#EF553B\",\"#00cc96\",\"#ab63fa\",\"#FFA15A\",\"#19d3f3\",\"#FF6692\",\"#B6E880\",\"#FF97FF\",\"#FECB52\"],\"font\":{\"color\":\"#2a3f5f\"},\"geo\":{\"bgcolor\":\"white\",\"lakecolor\":\"white\",\"landcolor\":\"#E5ECF6\",\"showlakes\":true,\"showland\":true,\"subunitcolor\":\"white\"},\"hoverlabel\":{\"align\":\"left\"},\"hovermode\":\"closest\",\"mapbox\":{\"style\":\"light\"},\"paper_bgcolor\":\"white\",\"plot_bgcolor\":\"#E5ECF6\",\"polar\":{\"angularaxis\":{\"gridcolor\":\"white\",\"linecolor\":\"white\",\"ticks\":\"\"},\"bgcolor\":\"#E5ECF6\",\"radialaxis\":{\"gridcolor\":\"white\",\"linecolor\":\"white\",\"ticks\":\"\"}},\"scene\":{\"xaxis\":{\"backgroundcolor\":\"#E5ECF6\",\"gridcolor\":\"white\",\"gridwidth\":2,\"linecolor\":\"white\",\"showbackground\":true,\"ticks\":\"\",\"zerolinecolor\":\"white\"},\"yaxis\":{\"backgroundcolor\":\"#E5ECF6\",\"gridcolor\":\"white\",\"gridwidth\":2,\"linecolor\":\"white\",\"showbackground\":true,\"ticks\":\"\",\"zerolinecolor\":\"white\"},\"zaxis\":{\"backgroundcolor\":\"#E5ECF6\",\"gridcolor\":\"white\",\"gridwidth\":2,\"linecolor\":\"white\",\"showbackground\":true,\"ticks\":\"\",\"zerolinecolor\":\"white\"}},\"shapedefaults\":{\"line\":{\"color\":\"#2a3f5f\"}},\"ternary\":{\"aaxis\":{\"gridcolor\":\"white\",\"linecolor\":\"white\",\"ticks\":\"\"},\"baxis\":{\"gridcolor\":\"white\",\"linecolor\":\"white\",\"ticks\":\"\"},\"bgcolor\":\"#E5ECF6\",\"caxis\":{\"gridcolor\":\"white\",\"linecolor\":\"white\",\"ticks\":\"\"}},\"title\":{\"x\":0.05},\"xaxis\":{\"automargin\":true,\"gridcolor\":\"white\",\"linecolor\":\"white\",\"ticks\":\"\",\"title\":{\"standoff\":15},\"zerolinecolor\":\"white\",\"zerolinewidth\":2},\"yaxis\":{\"automargin\":true,\"gridcolor\":\"white\",\"linecolor\":\"white\",\"ticks\":\"\",\"title\":{\"standoff\":15},\"zerolinecolor\":\"white\",\"zerolinewidth\":2}}},\"legend\":{\"tracegroupgap\":0},\"margin\":{\"t\":60}},                        {\"responsive\": true}                    ).then(function(){\n",
              "                            \n",
              "var gd = document.getElementById('d649b495-f499-4027-ac01-0d7efdf219b6');\n",
              "var x = new MutationObserver(function (mutations, observer) {{\n",
              "        var display = window.getComputedStyle(gd).display;\n",
              "        if (!display || display === 'none') {{\n",
              "            console.log([gd, 'removed!']);\n",
              "            Plotly.purge(gd);\n",
              "            observer.disconnect();\n",
              "        }}\n",
              "}});\n",
              "\n",
              "// Listen for the removal of the full notebook cells\n",
              "var notebookContainer = gd.closest('#notebook-container');\n",
              "if (notebookContainer) {{\n",
              "    x.observe(notebookContainer, {childList: true});\n",
              "}}\n",
              "\n",
              "// Listen for the clearing of the current output cell\n",
              "var outputEl = gd.closest('.output');\n",
              "if (outputEl) {{\n",
              "    x.observe(outputEl, {childList: true});\n",
              "}}\n",
              "\n",
              "                        })                };                            </script>        </div>\n",
              "</body>\n",
              "</html>"
            ]
          },
          "metadata": {}
        }
      ]
    },
    {
      "cell_type": "markdown",
      "source": [
        "Variaveis dependentes X Independentes\n"
      ],
      "metadata": {
        "id": "SwKWmZ5YUGiC"
      }
    },
    {
      "cell_type": "code",
      "source": [
        "X_censu=censu.iloc[:,1:len(censu.columns)-1].values\n",
        "Y_censu=censu.iloc[:,-1].values"
      ],
      "metadata": {
        "id": "kVJOd7TxUGD2"
      },
      "execution_count": null,
      "outputs": []
    },
    {
      "cell_type": "code",
      "source": [
        "X_censu"
      ],
      "metadata": {
        "colab": {
          "base_uri": "https://localhost:8080/"
        },
        "id": "gcXem0wkUGCc",
        "outputId": "6140ac1d-487b-41dc-a838-1edd727ea6eb"
      },
      "execution_count": null,
      "outputs": [
        {
          "output_type": "execute_result",
          "data": {
            "text/plain": [
              "array([[' State-gov', 77516, ' Bachelors', ..., 0, 40, ' United-States'],\n",
              "       [' Self-emp-not-inc', 83311, ' Bachelors', ..., 0, 13,\n",
              "        ' United-States'],\n",
              "       [' Private', 215646, ' HS-grad', ..., 0, 40, ' United-States'],\n",
              "       ...,\n",
              "       [' Private', 151910, ' HS-grad', ..., 0, 40, ' United-States'],\n",
              "       [' Private', 201490, ' HS-grad', ..., 0, 20, ' United-States'],\n",
              "       [' Self-emp-inc', 287927, ' HS-grad', ..., 0, 40,\n",
              "        ' United-States']], dtype=object)"
            ]
          },
          "metadata": {},
          "execution_count": 227
        }
      ]
    },
    {
      "cell_type": "markdown",
      "source": [
        "Tratando atributos categoricos\n"
      ],
      "metadata": {
        "id": "JqyEZnNmVAaZ"
      }
    },
    {
      "cell_type": "code",
      "source": [
        "from sklearn import preprocessing"
      ],
      "metadata": {
        "id": "NA-6As-_mG4G"
      },
      "execution_count": null,
      "outputs": []
    },
    {
      "cell_type": "code",
      "source": [
        "labe_encoder_workclass=preprocessing.LabelEncoder()\n",
        "labe_encoder_education=preprocessing.LabelEncoder()\n",
        "labe_encoder_marital_status=preprocessing.LabelEncoder()\n",
        "labe_encoder_occupation=preprocessing.LabelEncoder()\n",
        "labe_encoder_relationship=preprocessing.LabelEncoder()\n",
        "labe_encoder_race=preprocessing.LabelEncoder()\n",
        "labe_encoder_sex=preprocessing.LabelEncoder()\n",
        "labe_encoder_native_country=preprocessing.LabelEncoder()\n",
        "\n",
        "\n",
        "X_censu[:,0]=labe_encoder_workclass.fit_transform(X_censu[:,0])\n",
        "X_censu[:,2]=labe_encoder_education.fit_transform(X_censu[:,2])\n",
        "X_censu[:,4]=labe_encoder_marital_status.fit_transform(X_censu[:,4])\n",
        "X_censu[:,5]=labe_encoder_occupation.fit_transform(X_censu[:,5])\n",
        "X_censu[:,6]=labe_encoder_relationship.fit_transform(X_censu[:,6])\n",
        "X_censu[:,7]=labe_encoder_race.fit_transform(X_censu[:,7])\n",
        "X_censu[:,8]=labe_encoder_sex.fit_transform(X_censu[:,8])\n",
        "X_censu[:,12]=labe_encoder_native_country.fit_transform(X_censu[:,12])"
      ],
      "metadata": {
        "id": "3mNAppU4VxEA"
      },
      "execution_count": null,
      "outputs": []
    },
    {
      "cell_type": "code",
      "source": [
        "X_censu"
      ],
      "metadata": {
        "colab": {
          "base_uri": "https://localhost:8080/"
        },
        "id": "RNwv1xj1V-13",
        "outputId": "a3db8e88-c7a2-4b23-b24a-935e4936bb8f"
      },
      "execution_count": null,
      "outputs": [
        {
          "output_type": "execute_result",
          "data": {
            "text/plain": [
              "array([[7, 77516, 9, ..., 0, 40, 39],\n",
              "       [6, 83311, 9, ..., 0, 13, 39],\n",
              "       [4, 215646, 11, ..., 0, 40, 39],\n",
              "       ...,\n",
              "       [4, 151910, 11, ..., 0, 40, 39],\n",
              "       [4, 201490, 11, ..., 0, 20, 39],\n",
              "       [5, 287927, 11, ..., 0, 40, 39]], dtype=object)"
            ]
          },
          "metadata": {},
          "execution_count": 230
        }
      ]
    },
    {
      "cell_type": "markdown",
      "source": [
        "OneHotEncoder\n"
      ],
      "metadata": {
        "id": "Uw7ImurGZ7jK"
      }
    },
    {
      "cell_type": "code",
      "source": [
        "from sklearn.preprocessing import OneHotEncoder\n",
        "from sklearn.compose import ColumnTransformer\n",
        "OneHotEncodeSensus=ColumnTransformer(transformers=[('OneHot',OneHotEncoder(),[0,2,4,5,6,7,8,12])],remainder='passthrough')\n",
        "X_censu=OneHotEncodeSensus.fit_transform(X_censu).toarray()"
      ],
      "metadata": {
        "id": "iSdLRb6VYg9R"
      },
      "execution_count": null,
      "outputs": []
    },
    {
      "cell_type": "code",
      "source": [
        "X_censu.shape"
      ],
      "metadata": {
        "id": "4AcYaVqubNvq",
        "colab": {
          "base_uri": "https://localhost:8080/"
        },
        "outputId": "879627d9-17f9-4228-ef89-0420224f3702"
      },
      "execution_count": null,
      "outputs": [
        {
          "output_type": "execute_result",
          "data": {
            "text/plain": [
              "(32561, 107)"
            ]
          },
          "metadata": {},
          "execution_count": 232
        }
      ]
    },
    {
      "cell_type": "code",
      "source": [
        ""
      ],
      "metadata": {
        "id": "bQCtg53j2xP0"
      },
      "execution_count": null,
      "outputs": []
    },
    {
      "cell_type": "code",
      "source": [
        "X_censu"
      ],
      "metadata": {
        "colab": {
          "base_uri": "https://localhost:8080/"
        },
        "id": "IKERRLNm2-V5",
        "outputId": "e339b030-cf91-4989-afb1-549c7181b450"
      },
      "execution_count": null,
      "outputs": [
        {
          "output_type": "execute_result",
          "data": {
            "text/plain": [
              "array([[0.0000e+00, 0.0000e+00, 0.0000e+00, ..., 2.1740e+03, 0.0000e+00,\n",
              "        4.0000e+01],\n",
              "       [0.0000e+00, 0.0000e+00, 0.0000e+00, ..., 0.0000e+00, 0.0000e+00,\n",
              "        1.3000e+01],\n",
              "       [0.0000e+00, 0.0000e+00, 0.0000e+00, ..., 0.0000e+00, 0.0000e+00,\n",
              "        4.0000e+01],\n",
              "       ...,\n",
              "       [0.0000e+00, 0.0000e+00, 0.0000e+00, ..., 0.0000e+00, 0.0000e+00,\n",
              "        4.0000e+01],\n",
              "       [0.0000e+00, 0.0000e+00, 0.0000e+00, ..., 0.0000e+00, 0.0000e+00,\n",
              "        2.0000e+01],\n",
              "       [0.0000e+00, 0.0000e+00, 0.0000e+00, ..., 1.5024e+04, 0.0000e+00,\n",
              "        4.0000e+01]])"
            ]
          },
          "metadata": {},
          "execution_count": 233
        }
      ]
    },
    {
      "cell_type": "code",
      "source": [
        "from sklearn.preprocessing import StandardScaler"
      ],
      "metadata": {
        "id": "Q_AwTaDH3AAL"
      },
      "execution_count": null,
      "outputs": []
    },
    {
      "cell_type": "code",
      "source": [
        "escalador2=StandardScaler()\n",
        "X_censu=escalador2.fit_transform(X_censu)"
      ],
      "metadata": {
        "id": "0rAO5sjC3_hM"
      },
      "execution_count": null,
      "outputs": []
    },
    {
      "cell_type": "code",
      "source": [
        "X_censu[0]"
      ],
      "metadata": {
        "colab": {
          "base_uri": "https://localhost:8080/"
        },
        "id": "B5-Co0QE4M6m",
        "outputId": "148bd6f3-72fd-4c5c-bd98-1a5c46fea608"
      },
      "execution_count": null,
      "outputs": [
        {
          "output_type": "execute_result",
          "data": {
            "text/plain": [
              "array([-0.2444502 , -0.17429511, -0.26209736, -0.01466381, -1.5167923 ,\n",
              "       -0.18838933, -0.29093568,  4.90769968, -0.02073999, -0.17175325,\n",
              "       -0.19348662, -0.11609195, -0.07201601, -0.10164955, -0.1422718 ,\n",
              "       -0.12664495, -0.18406376, -0.21053433,  2.25399324, -0.11334387,\n",
              "       -0.68994199, -0.23637391, -0.03960742, -0.13419553, -0.53714425,\n",
              "       -0.39750806, -0.02658695, -0.92284068, -0.11403678,  1.43105786,\n",
              "       -0.1802846 , -0.17735813, -0.24494366,  2.76348874, -0.01662771,\n",
              "       -0.37949517, -0.37774555, -0.17745022, -0.20957797, -0.25595432,\n",
              "       -0.33554133, -0.06780164, -0.38166338, -0.14260848, -0.35531609,\n",
              "       -0.17127887, -0.22710355, -0.82533335,  1.70899099, -0.17624972,\n",
              "       -0.42934582, -0.34403232, -0.22492681, -0.09820087, -0.18155194,\n",
              "       -0.32576824, -0.09161163,  0.4130197 , -0.70307135,  0.70307135,\n",
              "       -0.13502327, -0.02416321, -0.06107342, -0.0480488 , -0.04260602,\n",
              "       -0.05409379, -0.04641598, -0.02933708, -0.05714946, -0.05264698,\n",
              "       -0.02985682, -0.06500204, -0.02985682, -0.04437806, -0.03678503,\n",
              "       -0.00554189, -0.01998525, -0.02479131, -0.01998525, -0.05550333,\n",
              "       -0.03636406, -0.02715919, -0.04740236, -0.04993839, -0.04367781,\n",
              "       -0.02351838, -0.1419344 , -0.03233087, -0.02073999, -0.03087016,\n",
              "       -0.07821827, -0.04296623, -0.03372864, -0.05927412, -0.01920091,\n",
              "       -0.0496284 , -0.03960742, -0.02351838, -0.02416321,  0.34095391,\n",
              "       -0.04540836, -0.02217266, -1.06361075,  1.13473876,  0.1484529 ,\n",
              "       -0.21665953, -0.03542945])"
            ]
          },
          "metadata": {},
          "execution_count": 236
        }
      ]
    },
    {
      "cell_type": "code",
      "source": [
        "from sklearn.model_selection import train_test_split"
      ],
      "metadata": {
        "id": "dw-y7Hdu4N8s"
      },
      "execution_count": null,
      "outputs": []
    },
    {
      "cell_type": "code",
      "source": [
        "label_encoder_income=preprocessing.LabelEncoder()\n",
        "Y_censu=label_encoder_income.fit_transform(Y_censu)"
      ],
      "metadata": {
        "id": "_Hn8QPVH5iuE"
      },
      "execution_count": null,
      "outputs": []
    },
    {
      "cell_type": "code",
      "source": [
        "\n",
        "X_train,X_test,Y_train,Y_test=train_test_split(X_censu,Y_censu,test_size=0.15,random_state=0)"
      ],
      "metadata": {
        "id": "MW5bUBCM5uo_"
      },
      "execution_count": null,
      "outputs": []
    },
    {
      "cell_type": "code",
      "source": [
        "Y_test.shape"
      ],
      "metadata": {
        "colab": {
          "base_uri": "https://localhost:8080/"
        },
        "id": "scxQr21m5vgY",
        "outputId": "a5a58c8a-31a8-40b9-d846-dd12f38252f3"
      },
      "execution_count": null,
      "outputs": [
        {
          "output_type": "execute_result",
          "data": {
            "text/plain": [
              "(4885,)"
            ]
          },
          "metadata": {},
          "execution_count": 240
        }
      ]
    },
    {
      "cell_type": "markdown",
      "source": [
        "SALVANDO OS DADOS...\n"
      ],
      "metadata": {
        "id": "4xKKdOP96093"
      }
    },
    {
      "cell_type": "code",
      "source": [
        "import pickle"
      ],
      "metadata": {
        "id": "WRbj6Stl6Imc"
      },
      "execution_count": null,
      "outputs": []
    },
    {
      "cell_type": "markdown",
      "source": [
        "NaiveBayes\n"
      ],
      "metadata": {
        "id": "eXOGPAp5Ny2p"
      }
    },
    {
      "cell_type": "code",
      "source": [
        "data_credit=pd.read_csv('/content/drive/MyDrive/DadosML/risco_credito.csv')\n",
        "\n",
        "\n",
        "X_risk_credit=data_credit.iloc[:,0:-1]\n",
        "Y_risk_credit=data_credit.iloc[:,-1]\n",
        "\n",
        "\n",
        "data_credit.head()"
      ],
      "metadata": {
        "colab": {
          "base_uri": "https://localhost:8080/",
          "height": 206
        },
        "id": "qCzZmXizZeRD",
        "outputId": "d48a29c3-e8d8-4378-fe48-194b20851b29"
      },
      "execution_count": null,
      "outputs": [
        {
          "output_type": "execute_result",
          "data": {
            "text/plain": [
              "       historia divida garantias     renda     risco\n",
              "0          ruim   alta   nenhuma      0_15      alto\n",
              "1  desconhecida   alta   nenhuma     15_35      alto\n",
              "2  desconhecida  baixa   nenhuma     15_35  moderado\n",
              "3  desconhecida  baixa   nenhuma  acima_35      alto\n",
              "4  desconhecida  baixa   nenhuma  acima_35     baixo"
            ],
            "text/html": [
              "\n",
              "  <div id=\"df-56384c42-ff7a-4c01-9c8c-2074d138b9ab\">\n",
              "    <div class=\"colab-df-container\">\n",
              "      <div>\n",
              "<style scoped>\n",
              "    .dataframe tbody tr th:only-of-type {\n",
              "        vertical-align: middle;\n",
              "    }\n",
              "\n",
              "    .dataframe tbody tr th {\n",
              "        vertical-align: top;\n",
              "    }\n",
              "\n",
              "    .dataframe thead th {\n",
              "        text-align: right;\n",
              "    }\n",
              "</style>\n",
              "<table border=\"1\" class=\"dataframe\">\n",
              "  <thead>\n",
              "    <tr style=\"text-align: right;\">\n",
              "      <th></th>\n",
              "      <th>historia</th>\n",
              "      <th>divida</th>\n",
              "      <th>garantias</th>\n",
              "      <th>renda</th>\n",
              "      <th>risco</th>\n",
              "    </tr>\n",
              "  </thead>\n",
              "  <tbody>\n",
              "    <tr>\n",
              "      <th>0</th>\n",
              "      <td>ruim</td>\n",
              "      <td>alta</td>\n",
              "      <td>nenhuma</td>\n",
              "      <td>0_15</td>\n",
              "      <td>alto</td>\n",
              "    </tr>\n",
              "    <tr>\n",
              "      <th>1</th>\n",
              "      <td>desconhecida</td>\n",
              "      <td>alta</td>\n",
              "      <td>nenhuma</td>\n",
              "      <td>15_35</td>\n",
              "      <td>alto</td>\n",
              "    </tr>\n",
              "    <tr>\n",
              "      <th>2</th>\n",
              "      <td>desconhecida</td>\n",
              "      <td>baixa</td>\n",
              "      <td>nenhuma</td>\n",
              "      <td>15_35</td>\n",
              "      <td>moderado</td>\n",
              "    </tr>\n",
              "    <tr>\n",
              "      <th>3</th>\n",
              "      <td>desconhecida</td>\n",
              "      <td>baixa</td>\n",
              "      <td>nenhuma</td>\n",
              "      <td>acima_35</td>\n",
              "      <td>alto</td>\n",
              "    </tr>\n",
              "    <tr>\n",
              "      <th>4</th>\n",
              "      <td>desconhecida</td>\n",
              "      <td>baixa</td>\n",
              "      <td>nenhuma</td>\n",
              "      <td>acima_35</td>\n",
              "      <td>baixo</td>\n",
              "    </tr>\n",
              "  </tbody>\n",
              "</table>\n",
              "</div>\n",
              "      <button class=\"colab-df-convert\" onclick=\"convertToInteractive('df-56384c42-ff7a-4c01-9c8c-2074d138b9ab')\"\n",
              "              title=\"Convert this dataframe to an interactive table.\"\n",
              "              style=\"display:none;\">\n",
              "        \n",
              "  <svg xmlns=\"http://www.w3.org/2000/svg\" height=\"24px\"viewBox=\"0 0 24 24\"\n",
              "       width=\"24px\">\n",
              "    <path d=\"M0 0h24v24H0V0z\" fill=\"none\"/>\n",
              "    <path d=\"M18.56 5.44l.94 2.06.94-2.06 2.06-.94-2.06-.94-.94-2.06-.94 2.06-2.06.94zm-11 1L8.5 8.5l.94-2.06 2.06-.94-2.06-.94L8.5 2.5l-.94 2.06-2.06.94zm10 10l.94 2.06.94-2.06 2.06-.94-2.06-.94-.94-2.06-.94 2.06-2.06.94z\"/><path d=\"M17.41 7.96l-1.37-1.37c-.4-.4-.92-.59-1.43-.59-.52 0-1.04.2-1.43.59L10.3 9.45l-7.72 7.72c-.78.78-.78 2.05 0 2.83L4 21.41c.39.39.9.59 1.41.59.51 0 1.02-.2 1.41-.59l7.78-7.78 2.81-2.81c.8-.78.8-2.07 0-2.86zM5.41 20L4 18.59l7.72-7.72 1.47 1.35L5.41 20z\"/>\n",
              "  </svg>\n",
              "      </button>\n",
              "      \n",
              "  <style>\n",
              "    .colab-df-container {\n",
              "      display:flex;\n",
              "      flex-wrap:wrap;\n",
              "      gap: 12px;\n",
              "    }\n",
              "\n",
              "    .colab-df-convert {\n",
              "      background-color: #E8F0FE;\n",
              "      border: none;\n",
              "      border-radius: 50%;\n",
              "      cursor: pointer;\n",
              "      display: none;\n",
              "      fill: #1967D2;\n",
              "      height: 32px;\n",
              "      padding: 0 0 0 0;\n",
              "      width: 32px;\n",
              "    }\n",
              "\n",
              "    .colab-df-convert:hover {\n",
              "      background-color: #E2EBFA;\n",
              "      box-shadow: 0px 1px 2px rgba(60, 64, 67, 0.3), 0px 1px 3px 1px rgba(60, 64, 67, 0.15);\n",
              "      fill: #174EA6;\n",
              "    }\n",
              "\n",
              "    [theme=dark] .colab-df-convert {\n",
              "      background-color: #3B4455;\n",
              "      fill: #D2E3FC;\n",
              "    }\n",
              "\n",
              "    [theme=dark] .colab-df-convert:hover {\n",
              "      background-color: #434B5C;\n",
              "      box-shadow: 0px 1px 3px 1px rgba(0, 0, 0, 0.15);\n",
              "      filter: drop-shadow(0px 1px 2px rgba(0, 0, 0, 0.3));\n",
              "      fill: #FFFFFF;\n",
              "    }\n",
              "  </style>\n",
              "\n",
              "      <script>\n",
              "        const buttonEl =\n",
              "          document.querySelector('#df-56384c42-ff7a-4c01-9c8c-2074d138b9ab button.colab-df-convert');\n",
              "        buttonEl.style.display =\n",
              "          google.colab.kernel.accessAllowed ? 'block' : 'none';\n",
              "\n",
              "        async function convertToInteractive(key) {\n",
              "          const element = document.querySelector('#df-56384c42-ff7a-4c01-9c8c-2074d138b9ab');\n",
              "          const dataTable =\n",
              "            await google.colab.kernel.invokeFunction('convertToInteractive',\n",
              "                                                     [key], {});\n",
              "          if (!dataTable) return;\n",
              "\n",
              "          const docLinkHtml = 'Like what you see? Visit the ' +\n",
              "            '<a target=\"_blank\" href=https://colab.research.google.com/notebooks/data_table.ipynb>data table notebook</a>'\n",
              "            + ' to learn more about interactive tables.';\n",
              "          element.innerHTML = '';\n",
              "          dataTable['output_type'] = 'display_data';\n",
              "          await google.colab.output.renderOutput(dataTable, element);\n",
              "          const docLink = document.createElement('div');\n",
              "          docLink.innerHTML = docLinkHtml;\n",
              "          element.appendChild(docLink);\n",
              "        }\n",
              "      </script>\n",
              "    </div>\n",
              "  </div>\n",
              "  "
            ]
          },
          "metadata": {},
          "execution_count": 242
        }
      ]
    },
    {
      "cell_type": "code",
      "source": [
        "scaler_risk=preprocessing.LabelEncoder()\n",
        "\n",
        "Y_risk_credit=scaler_risk.fit_transform(Y_risk_credit)\n",
        "\n",
        "scaler_historia=preprocessing.LabelEncoder()\n",
        "scaler_divida=preprocessing.LabelEncoder()\n",
        "scaler_garantias=preprocessing.LabelEncoder()\n",
        "scaler_renda=preprocessing.LabelEncoder()\n",
        "\n",
        "X_risk_credit.iloc[:,0]=scaler_risk.fit_transform(X_risk_credit.iloc[:,0])\n",
        "X_risk_credit.iloc[:,1]=scaler_risk.fit_transform(X_risk_credit.iloc[:,1])\n",
        "X_risk_credit.iloc[:,2]=scaler_risk.fit_transform(X_risk_credit.iloc[:,2])\n",
        "X_risk_credit.iloc[:,3]=scaler_risk.fit_transform(X_risk_credit.iloc[:,3])\n",
        "\n"
      ],
      "metadata": {
        "colab": {
          "base_uri": "https://localhost:8080/"
        },
        "id": "V-uudJMaZzrT",
        "outputId": "e5c5f92e-2f3b-4360-de8c-ecf2ab3f6728"
      },
      "execution_count": null,
      "outputs": [
        {
          "output_type": "stream",
          "name": "stderr",
          "text": [
            "/usr/local/lib/python3.7/dist-packages/pandas/core/indexing.py:1951: SettingWithCopyWarning:\n",
            "\n",
            "\n",
            "A value is trying to be set on a copy of a slice from a DataFrame.\n",
            "Try using .loc[row_indexer,col_indexer] = value instead\n",
            "\n",
            "See the caveats in the documentation: https://pandas.pydata.org/pandas-docs/stable/user_guide/indexing.html#returning-a-view-versus-a-copy\n",
            "\n",
            "/usr/local/lib/python3.7/dist-packages/pandas/core/indexing.py:1773: SettingWithCopyWarning:\n",
            "\n",
            "\n",
            "A value is trying to be set on a copy of a slice from a DataFrame.\n",
            "Try using .loc[row_indexer,col_indexer] = value instead\n",
            "\n",
            "See the caveats in the documentation: https://pandas.pydata.org/pandas-docs/stable/user_guide/indexing.html#returning-a-view-versus-a-copy\n",
            "\n"
          ]
        }
      ]
    },
    {
      "cell_type": "code",
      "source": [
        "X_risk_credit"
      ],
      "metadata": {
        "colab": {
          "base_uri": "https://localhost:8080/",
          "height": 488
        },
        "id": "AXMSvzbddcBT",
        "outputId": "c2289437-9698-4574-e8d8-2a5c1ada2d30"
      },
      "execution_count": null,
      "outputs": [
        {
          "output_type": "execute_result",
          "data": {
            "text/plain": [
              "    historia  divida  garantias  renda\n",
              "0          2       0          1      0\n",
              "1          1       0          1      1\n",
              "2          1       1          1      1\n",
              "3          1       1          1      2\n",
              "4          1       1          1      2\n",
              "5          1       1          0      2\n",
              "6          2       1          1      0\n",
              "7          2       1          0      2\n",
              "8          0       1          1      2\n",
              "9          0       0          0      2\n",
              "10         0       0          1      0\n",
              "11         0       0          1      1\n",
              "12         0       0          1      2\n",
              "13         2       0          1      1"
            ],
            "text/html": [
              "\n",
              "  <div id=\"df-60040b0b-0fe9-4367-8e23-9f09a4509ec3\">\n",
              "    <div class=\"colab-df-container\">\n",
              "      <div>\n",
              "<style scoped>\n",
              "    .dataframe tbody tr th:only-of-type {\n",
              "        vertical-align: middle;\n",
              "    }\n",
              "\n",
              "    .dataframe tbody tr th {\n",
              "        vertical-align: top;\n",
              "    }\n",
              "\n",
              "    .dataframe thead th {\n",
              "        text-align: right;\n",
              "    }\n",
              "</style>\n",
              "<table border=\"1\" class=\"dataframe\">\n",
              "  <thead>\n",
              "    <tr style=\"text-align: right;\">\n",
              "      <th></th>\n",
              "      <th>historia</th>\n",
              "      <th>divida</th>\n",
              "      <th>garantias</th>\n",
              "      <th>renda</th>\n",
              "    </tr>\n",
              "  </thead>\n",
              "  <tbody>\n",
              "    <tr>\n",
              "      <th>0</th>\n",
              "      <td>2</td>\n",
              "      <td>0</td>\n",
              "      <td>1</td>\n",
              "      <td>0</td>\n",
              "    </tr>\n",
              "    <tr>\n",
              "      <th>1</th>\n",
              "      <td>1</td>\n",
              "      <td>0</td>\n",
              "      <td>1</td>\n",
              "      <td>1</td>\n",
              "    </tr>\n",
              "    <tr>\n",
              "      <th>2</th>\n",
              "      <td>1</td>\n",
              "      <td>1</td>\n",
              "      <td>1</td>\n",
              "      <td>1</td>\n",
              "    </tr>\n",
              "    <tr>\n",
              "      <th>3</th>\n",
              "      <td>1</td>\n",
              "      <td>1</td>\n",
              "      <td>1</td>\n",
              "      <td>2</td>\n",
              "    </tr>\n",
              "    <tr>\n",
              "      <th>4</th>\n",
              "      <td>1</td>\n",
              "      <td>1</td>\n",
              "      <td>1</td>\n",
              "      <td>2</td>\n",
              "    </tr>\n",
              "    <tr>\n",
              "      <th>5</th>\n",
              "      <td>1</td>\n",
              "      <td>1</td>\n",
              "      <td>0</td>\n",
              "      <td>2</td>\n",
              "    </tr>\n",
              "    <tr>\n",
              "      <th>6</th>\n",
              "      <td>2</td>\n",
              "      <td>1</td>\n",
              "      <td>1</td>\n",
              "      <td>0</td>\n",
              "    </tr>\n",
              "    <tr>\n",
              "      <th>7</th>\n",
              "      <td>2</td>\n",
              "      <td>1</td>\n",
              "      <td>0</td>\n",
              "      <td>2</td>\n",
              "    </tr>\n",
              "    <tr>\n",
              "      <th>8</th>\n",
              "      <td>0</td>\n",
              "      <td>1</td>\n",
              "      <td>1</td>\n",
              "      <td>2</td>\n",
              "    </tr>\n",
              "    <tr>\n",
              "      <th>9</th>\n",
              "      <td>0</td>\n",
              "      <td>0</td>\n",
              "      <td>0</td>\n",
              "      <td>2</td>\n",
              "    </tr>\n",
              "    <tr>\n",
              "      <th>10</th>\n",
              "      <td>0</td>\n",
              "      <td>0</td>\n",
              "      <td>1</td>\n",
              "      <td>0</td>\n",
              "    </tr>\n",
              "    <tr>\n",
              "      <th>11</th>\n",
              "      <td>0</td>\n",
              "      <td>0</td>\n",
              "      <td>1</td>\n",
              "      <td>1</td>\n",
              "    </tr>\n",
              "    <tr>\n",
              "      <th>12</th>\n",
              "      <td>0</td>\n",
              "      <td>0</td>\n",
              "      <td>1</td>\n",
              "      <td>2</td>\n",
              "    </tr>\n",
              "    <tr>\n",
              "      <th>13</th>\n",
              "      <td>2</td>\n",
              "      <td>0</td>\n",
              "      <td>1</td>\n",
              "      <td>1</td>\n",
              "    </tr>\n",
              "  </tbody>\n",
              "</table>\n",
              "</div>\n",
              "      <button class=\"colab-df-convert\" onclick=\"convertToInteractive('df-60040b0b-0fe9-4367-8e23-9f09a4509ec3')\"\n",
              "              title=\"Convert this dataframe to an interactive table.\"\n",
              "              style=\"display:none;\">\n",
              "        \n",
              "  <svg xmlns=\"http://www.w3.org/2000/svg\" height=\"24px\"viewBox=\"0 0 24 24\"\n",
              "       width=\"24px\">\n",
              "    <path d=\"M0 0h24v24H0V0z\" fill=\"none\"/>\n",
              "    <path d=\"M18.56 5.44l.94 2.06.94-2.06 2.06-.94-2.06-.94-.94-2.06-.94 2.06-2.06.94zm-11 1L8.5 8.5l.94-2.06 2.06-.94-2.06-.94L8.5 2.5l-.94 2.06-2.06.94zm10 10l.94 2.06.94-2.06 2.06-.94-2.06-.94-.94-2.06-.94 2.06-2.06.94z\"/><path d=\"M17.41 7.96l-1.37-1.37c-.4-.4-.92-.59-1.43-.59-.52 0-1.04.2-1.43.59L10.3 9.45l-7.72 7.72c-.78.78-.78 2.05 0 2.83L4 21.41c.39.39.9.59 1.41.59.51 0 1.02-.2 1.41-.59l7.78-7.78 2.81-2.81c.8-.78.8-2.07 0-2.86zM5.41 20L4 18.59l7.72-7.72 1.47 1.35L5.41 20z\"/>\n",
              "  </svg>\n",
              "      </button>\n",
              "      \n",
              "  <style>\n",
              "    .colab-df-container {\n",
              "      display:flex;\n",
              "      flex-wrap:wrap;\n",
              "      gap: 12px;\n",
              "    }\n",
              "\n",
              "    .colab-df-convert {\n",
              "      background-color: #E8F0FE;\n",
              "      border: none;\n",
              "      border-radius: 50%;\n",
              "      cursor: pointer;\n",
              "      display: none;\n",
              "      fill: #1967D2;\n",
              "      height: 32px;\n",
              "      padding: 0 0 0 0;\n",
              "      width: 32px;\n",
              "    }\n",
              "\n",
              "    .colab-df-convert:hover {\n",
              "      background-color: #E2EBFA;\n",
              "      box-shadow: 0px 1px 2px rgba(60, 64, 67, 0.3), 0px 1px 3px 1px rgba(60, 64, 67, 0.15);\n",
              "      fill: #174EA6;\n",
              "    }\n",
              "\n",
              "    [theme=dark] .colab-df-convert {\n",
              "      background-color: #3B4455;\n",
              "      fill: #D2E3FC;\n",
              "    }\n",
              "\n",
              "    [theme=dark] .colab-df-convert:hover {\n",
              "      background-color: #434B5C;\n",
              "      box-shadow: 0px 1px 3px 1px rgba(0, 0, 0, 0.15);\n",
              "      filter: drop-shadow(0px 1px 2px rgba(0, 0, 0, 0.3));\n",
              "      fill: #FFFFFF;\n",
              "    }\n",
              "  </style>\n",
              "\n",
              "      <script>\n",
              "        const buttonEl =\n",
              "          document.querySelector('#df-60040b0b-0fe9-4367-8e23-9f09a4509ec3 button.colab-df-convert');\n",
              "        buttonEl.style.display =\n",
              "          google.colab.kernel.accessAllowed ? 'block' : 'none';\n",
              "\n",
              "        async function convertToInteractive(key) {\n",
              "          const element = document.querySelector('#df-60040b0b-0fe9-4367-8e23-9f09a4509ec3');\n",
              "          const dataTable =\n",
              "            await google.colab.kernel.invokeFunction('convertToInteractive',\n",
              "                                                     [key], {});\n",
              "          if (!dataTable) return;\n",
              "\n",
              "          const docLinkHtml = 'Like what you see? Visit the ' +\n",
              "            '<a target=\"_blank\" href=https://colab.research.google.com/notebooks/data_table.ipynb>data table notebook</a>'\n",
              "            + ' to learn more about interactive tables.';\n",
              "          element.innerHTML = '';\n",
              "          dataTable['output_type'] = 'display_data';\n",
              "          await google.colab.output.renderOutput(dataTable, element);\n",
              "          const docLink = document.createElement('div');\n",
              "          docLink.innerHTML = docLinkHtml;\n",
              "          element.appendChild(docLink);\n",
              "        }\n",
              "      </script>\n",
              "    </div>\n",
              "  </div>\n",
              "  "
            ]
          },
          "metadata": {},
          "execution_count": 244
        }
      ]
    },
    {
      "cell_type": "code",
      "source": [
        "\n",
        "from sklearn.naive_bayes import GaussianNB\n",
        "clf=GaussianNB()\n",
        "clf.fit(X_risk_credit,Y_risk_credit)\n",
        "pred=clf.predict([[0,0,1,2]])\n",
        "print(pred)\n",
        "print(Y_risk_credit)"
      ],
      "metadata": {
        "colab": {
          "base_uri": "https://localhost:8080/"
        },
        "id": "DnTA8TJraYvt",
        "outputId": "1c3d60d1-aced-4c1f-fb30-9932cbce91fe"
      },
      "execution_count": null,
      "outputs": [
        {
          "output_type": "stream",
          "name": "stdout",
          "text": [
            "[1]\n",
            "[0 0 2 0 1 1 0 2 1 1 0 2 1 0]\n"
          ]
        },
        {
          "output_type": "stream",
          "name": "stderr",
          "text": [
            "/usr/local/lib/python3.7/dist-packages/sklearn/base.py:451: UserWarning:\n",
            "\n",
            "X does not have valid feature names, but GaussianNB was fitted with feature names\n",
            "\n"
          ]
        }
      ]
    },
    {
      "cell_type": "code",
      "source": [
        "print(clf.classes_)\n",
        "print(clf.class_count_)\n",
        "print(clf.class_prior_)"
      ],
      "metadata": {
        "colab": {
          "base_uri": "https://localhost:8080/"
        },
        "id": "O2XUs87Ycodk",
        "outputId": "81225c67-bad4-46d8-b0e2-09f1b6c68ce9"
      },
      "execution_count": null,
      "outputs": [
        {
          "output_type": "stream",
          "name": "stdout",
          "text": [
            "[0 1 2]\n",
            "[6. 5. 3.]\n",
            "[0.42857143 0.35714286 0.21428571]\n"
          ]
        }
      ]
    },
    {
      "cell_type": "markdown",
      "source": [
        "Base_credito\n"
      ],
      "metadata": {
        "id": "iTU2dq2bfQD0"
      }
    },
    {
      "cell_type": "code",
      "source": [
        "\n",
        "X_train_C,X_test_C,Y_train_C,Y_test_C=train_test_split(X,Y,test_size=0.10,random_state=0)"
      ],
      "metadata": {
        "id": "r50_ixM_64KY"
      },
      "execution_count": null,
      "outputs": []
    },
    {
      "cell_type": "code",
      "source": [
        "clf2=GaussianNB()\n",
        "clf2.fit(X_train_C,Y_train_C)\n",
        "pred2=clf2.predict(X_test_C)\n",
        "print(pred2)\n",
        "print(Y_test_C)\n"
      ],
      "metadata": {
        "colab": {
          "base_uri": "https://localhost:8080/"
        },
        "id": "jqPbnfjOONzk",
        "outputId": "6dffc932-c399-4531-ea85-c6a58558b42e"
      },
      "execution_count": null,
      "outputs": [
        {
          "output_type": "stream",
          "name": "stdout",
          "text": [
            "[1 0 0 0 0 0 0 0 0 0 0 0 0 0 0 0 1 0 0 1 0 0 0 0 0 0 0 0 0 0 0 0 0 0 0 1 1\n",
            " 0 0 0 0 0 0 0 0 1 1 0 1 0 0 0 0 0 0 0 0 0 0 1 0 0 0 1 0 0 0 0 0 1 0 0 1 0\n",
            " 0 1 0 0 0 0 0 0 0 0 0 0 0 0 0 0 0 0 0 0 0 0 0 0 0 0 0 0 0 1 0 0 0 0 0 0 0\n",
            " 0 1 0 0 0 0 0 0 0 1 1 0 0 0 0 0 0 0 0 0 0 0 0 0 0 0 0 0 0 0 0 0 0 1 0 1 0\n",
            " 0 0 0 0 1 0 0 0 0 0 0 1 0 0 0 0 0 0 0 0 0 0 0 0 0 0 0 0 0 1 0 0 0 0 0 1 0\n",
            " 0 0 0 1 0 0 0 1 0 0 0 0 0 0 0]\n",
            "[1 0 0 0 0 0 0 0 0 0 0 0 0 0 0 0 1 0 0 1 0 0 0 0 0 0 0 0 0 0 0 0 0 0 0 1 1\n",
            " 0 0 0 0 0 0 0 0 1 1 0 1 0 0 0 0 0 0 0 0 0 0 1 0 0 0 1 0 0 0 0 0 1 0 0 1 0\n",
            " 0 1 0 0 1 0 0 0 0 0 0 0 1 0 0 0 0 0 0 0 0 0 0 0 0 0 0 0 0 1 0 0 0 0 0 1 0\n",
            " 0 1 0 0 0 0 0 0 0 0 0 0 0 0 0 0 0 0 0 0 1 0 0 0 0 0 0 0 0 0 0 0 0 1 0 0 0\n",
            " 0 0 0 0 1 0 0 0 0 0 0 0 0 0 0 0 0 1 0 0 0 1 0 0 0 0 0 0 0 1 0 0 0 0 0 1 0\n",
            " 0 0 1 1 0 0 0 1 0 0 0 0 0 0 0]\n"
          ]
        }
      ]
    },
    {
      "cell_type": "markdown",
      "source": [
        "Classification report"
      ],
      "metadata": {
        "id": "iLF0wP_UhlnE"
      }
    },
    {
      "cell_type": "code",
      "source": [
        "from sklearn.metrics import classification_report\n",
        "print(classification_report(Y_test_C,pred2))"
      ],
      "metadata": {
        "colab": {
          "base_uri": "https://localhost:8080/"
        },
        "id": "mUTYg2jkf-hu",
        "outputId": "6204a3a2-f850-4a31-8452-20bb0c502023"
      },
      "execution_count": null,
      "outputs": [
        {
          "output_type": "stream",
          "name": "stdout",
          "text": [
            "              precision    recall  f1-score   support\n",
            "\n",
            "           0       0.96      0.98      0.97       172\n",
            "           1       0.84      0.75      0.79        28\n",
            "\n",
            "    accuracy                           0.94       200\n",
            "   macro avg       0.90      0.86      0.88       200\n",
            "weighted avg       0.94      0.94      0.94       200\n",
            "\n"
          ]
        }
      ]
    },
    {
      "cell_type": "code",
      "source": [
        ""
      ],
      "metadata": {
        "id": "0jdTswhehyQF"
      },
      "execution_count": null,
      "outputs": []
    }
  ]
}